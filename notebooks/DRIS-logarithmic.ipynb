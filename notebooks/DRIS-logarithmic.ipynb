{
 "cells": [
  {
   "cell_type": "markdown",
   "metadata": {},
   "source": [
    "# Logarithmic-DRIS Analysis"
   ]
  },
  {
   "cell_type": "markdown",
   "metadata": {},
   "source": [
    "Diagnosis and Recommendation Integrated System (DRIS) implemented according to \"Establishment of DRIS and CND Standards for Fertigated ‘Prata’\n",
    "Banana in the Northeast, Brazil\" Antonio João de Lima Neto\" et al."
   ]
  },
  {
   "cell_type": "code",
   "execution_count": 1,
   "metadata": {},
   "outputs": [],
   "source": [
    "import numpy as np\n",
    "import pandas as pd\n",
    "import matplotlib.pyplot as plt\n",
    "import seaborn as sns\n",
    "from itertools import combinations"
   ]
  },
  {
   "cell_type": "code",
   "execution_count": 2,
   "metadata": {},
   "outputs": [],
   "source": [
    "data_diagnosed_dict = {\n",
    "    'P': [12,11,10, 9],\n",
    "    'Mg': [2,2,3,3],\n",
    "    'N': [1,2,1,2],\n",
    "    'Ca': [3,4,3,3],\n",
    "    'Mn': [4,5,4,2]\n",
    "}\n",
    "\n",
    "data_optimum_dict = {\n",
    "    'p': [12,11,10],\n",
    "    'mg': [2,1,3],\n",
    "    'n': [2,1,1],\n",
    "    'ca': [4,4,3],\n",
    "    'mn': [5,4,4],\n",
    "}\n",
    "\n",
    "df_diagnosed = pd.DataFrame(data_diagnosed_dict)\n",
    "df_optimum = pd.DataFrame(data_optimum_dict)"
   ]
  },
  {
   "cell_type": "markdown",
   "metadata": {},
   "source": [
    "## Nutrient functions $f(\\frac{A}{B})$\n",
    "\n",
    "The nutrient function is defined as\n",
    "\n",
    "\\begin{align}\n",
    "f\\biggl(\\frac{A}{B}\\biggr) = \\biggl[\\biggl(\\frac{A}{B} - \\frac{a}{b}\\biggr)\\biggr] \\cdot \\frac{c}{s}\n",
    "\\end{align}\n",
    "\n",
    "where\n",
    "- $\\frac{A}{B}$ is the (average) of the logarithm of the ratio between the nutrient $A$ and $B$ in the sample\n",
    "- $\\frac{a}{b}$ is the average of the logarithm ratio between the nutrient $a$ and $b$ in the population of high yield\n",
    "- $s$ ist the standard deviation of the ratio between $a$ and $b$ of the nutrients in the population of high yield\n",
    "- c is the sensitivity coefficients (=1)\n",
    "\n",
    "\n",
    "**Comments:**\n",
    "1. $A/B = \\mathrm{avg}(\\ln(c_A/c_B))$ where $c_{A}/c_{B}$ is the nutrient content, A and B are the nutrient types. (Similar $a/b = \\mathrm{avg}(\\ln(c_a/c_b))$)\n",
    "2. $s$ is as shorthhand for  $\\sigma(\\ln(a/b))$\n",
    "3. In the publication only for a/b it is writen that it is the average. However this is probalby because only a single sample plant is considered. For a sample population we (most certanly) should take the average. \n",
    "4. Because of the log-transformation we do not have to consider different cases for the nutrient function $f$ as for the original DRIS approach\n"
   ]
  },
  {
   "cell_type": "markdown",
   "metadata": {},
   "source": [
    "First we calculate the average of the log of the ratios of the nutrient content.\n",
    "It is important that we keep the ordering (ration then log then mean)"
   ]
  },
  {
   "cell_type": "code",
   "execution_count": 3,
   "metadata": {},
   "outputs": [],
   "source": [
    "def calculate_log_ratios(df):\n",
    "    \"\"\"calculates the natural logarithm of the ratios between all combinations\"\"\"\n",
    "    ratios = {}\n",
    "    for col1, col2 in combinations(df.columns, 2):\n",
    "        ratio_name1 = f\"{col1}/{col2}\"\n",
    "        ratios[ratio_name1] = np.log(df[col1] / df[col2]) # first ratio then log\n",
    "    return pd.DataFrame(ratios)"
   ]
  },
  {
   "cell_type": "code",
   "execution_count": 4,
   "metadata": {},
   "outputs": [
    {
     "name": "stdout",
     "output_type": "stream",
     "text": [
      "=====================================================================================\n",
      "Average of the logarithm of the ratios between nutrient contents of target population\n"
     ]
    },
    {
     "data": {
      "text/html": [
       "<div>\n",
       "<style scoped>\n",
       "    .dataframe tbody tr th:only-of-type {\n",
       "        vertical-align: middle;\n",
       "    }\n",
       "\n",
       "    .dataframe tbody tr th {\n",
       "        vertical-align: top;\n",
       "    }\n",
       "\n",
       "    .dataframe thead th {\n",
       "        text-align: right;\n",
       "    }\n",
       "</style>\n",
       "<table border=\"1\" class=\"dataframe\">\n",
       "  <thead>\n",
       "    <tr style=\"text-align: right;\">\n",
       "      <th></th>\n",
       "      <th>p/mg</th>\n",
       "      <th>p/n</th>\n",
       "      <th>p/ca</th>\n",
       "      <th>p/mn</th>\n",
       "      <th>mg/n</th>\n",
       "      <th>mg/ca</th>\n",
       "      <th>mg/mn</th>\n",
       "      <th>n/ca</th>\n",
       "      <th>n/mn</th>\n",
       "      <th>ca/mn</th>\n",
       "    </tr>\n",
       "  </thead>\n",
       "  <tbody>\n",
       "    <tr>\n",
       "      <th>0</th>\n",
       "      <td>1.797876</td>\n",
       "      <td>2.16408</td>\n",
       "      <td>1.104729</td>\n",
       "      <td>0.934453</td>\n",
       "      <td>0.366204</td>\n",
       "      <td>-0.693147</td>\n",
       "      <td>-0.863422</td>\n",
       "      <td>-1.059351</td>\n",
       "      <td>-1.229626</td>\n",
       "      <td>-0.170275</td>\n",
       "    </tr>\n",
       "  </tbody>\n",
       "</table>\n",
       "</div>"
      ],
      "text/plain": [
       "       p/mg      p/n      p/ca      p/mn      mg/n     mg/ca     mg/mn  \\\n",
       "0  1.797876  2.16408  1.104729  0.934453  0.366204 -0.693147 -0.863422   \n",
       "\n",
       "       n/ca      n/mn     ca/mn  \n",
       "0 -1.059351 -1.229626 -0.170275  "
      ]
     },
     "execution_count": 4,
     "metadata": {},
     "output_type": "execute_result"
    }
   ],
   "source": [
    "df_optimum_log_ratios = calculate_log_ratios(df_optimum)\n",
    "df_optimum_log_ratios_mean = pd.DataFrame(df_optimum_log_ratios.mean()).T # take the mean after log-transformation \n",
    "\n",
    "print(\"=====================================================================================\")\n",
    "print(\"Average of the logarithm of the ratios between nutrient contents of target population\")\n",
    "df_optimum_log_ratios_mean.head()"
   ]
  },
  {
   "cell_type": "code",
   "execution_count": 5,
   "metadata": {},
   "outputs": [
    {
     "name": "stdout",
     "output_type": "stream",
     "text": [
      "========================================================================================\n",
      "Average of the logarithm of the ratios between nutrient contents of diagnosed population\n"
     ]
    },
    {
     "data": {
      "text/html": [
       "<div>\n",
       "<style scoped>\n",
       "    .dataframe tbody tr th:only-of-type {\n",
       "        vertical-align: middle;\n",
       "    }\n",
       "\n",
       "    .dataframe tbody tr th {\n",
       "        vertical-align: top;\n",
       "    }\n",
       "\n",
       "    .dataframe thead th {\n",
       "        text-align: right;\n",
       "    }\n",
       "</style>\n",
       "<table border=\"1\" class=\"dataframe\">\n",
       "  <thead>\n",
       "    <tr style=\"text-align: right;\">\n",
       "      <th></th>\n",
       "      <th>P/Mg</th>\n",
       "      <th>P/N</th>\n",
       "      <th>P/Ca</th>\n",
       "      <th>P/Mn</th>\n",
       "      <th>Mg/N</th>\n",
       "      <th>Mg/Ca</th>\n",
       "      <th>Mg/Mn</th>\n",
       "      <th>N/Ca</th>\n",
       "      <th>N/Mn</th>\n",
       "      <th>Ca/Mn</th>\n",
       "    </tr>\n",
       "  </thead>\n",
       "  <tbody>\n",
       "    <tr>\n",
       "      <th>0</th>\n",
       "      <td>1.449773</td>\n",
       "      <td>1.999079</td>\n",
       "      <td>1.17512</td>\n",
       "      <td>1.076859</td>\n",
       "      <td>0.549306</td>\n",
       "      <td>-0.274653</td>\n",
       "      <td>-0.372914</td>\n",
       "      <td>-0.823959</td>\n",
       "      <td>-0.92222</td>\n",
       "      <td>-0.098261</td>\n",
       "    </tr>\n",
       "  </tbody>\n",
       "</table>\n",
       "</div>"
      ],
      "text/plain": [
       "       P/Mg       P/N     P/Ca      P/Mn      Mg/N     Mg/Ca     Mg/Mn  \\\n",
       "0  1.449773  1.999079  1.17512  1.076859  0.549306 -0.274653 -0.372914   \n",
       "\n",
       "       N/Ca     N/Mn     Ca/Mn  \n",
       "0 -0.823959 -0.92222 -0.098261  "
      ]
     },
     "execution_count": 5,
     "metadata": {},
     "output_type": "execute_result"
    }
   ],
   "source": [
    "df_diagnosed_log_ratios = calculate_log_ratios(df_diagnosed)\n",
    "df_diagnosed_log_ratios_mean = pd.DataFrame(df_diagnosed_log_ratios.mean()).T\n",
    "\n",
    "print(\"========================================================================================\")\n",
    "print(\"Average of the logarithm of the ratios between nutrient contents of diagnosed population\")\n",
    "df_diagnosed_log_ratios_mean.head()"
   ]
  },
  {
   "cell_type": "code",
   "execution_count": 6,
   "metadata": {},
   "outputs": [
    {
     "data": {
      "text/html": [
       "<div>\n",
       "<style scoped>\n",
       "    .dataframe tbody tr th:only-of-type {\n",
       "        vertical-align: middle;\n",
       "    }\n",
       "\n",
       "    .dataframe tbody tr th {\n",
       "        vertical-align: top;\n",
       "    }\n",
       "\n",
       "    .dataframe thead th {\n",
       "        text-align: right;\n",
       "    }\n",
       "</style>\n",
       "<table border=\"1\" class=\"dataframe\">\n",
       "  <thead>\n",
       "    <tr style=\"text-align: right;\">\n",
       "      <th></th>\n",
       "      <th>f(P/Mg)</th>\n",
       "      <th>f(P/N)</th>\n",
       "      <th>f(P/Ca)</th>\n",
       "      <th>f(P/Mn)</th>\n",
       "      <th>f(Mg/N)</th>\n",
       "      <th>f(Mg/Ca)</th>\n",
       "      <th>f(Mg/Mn)</th>\n",
       "      <th>f(N/Ca)</th>\n",
       "      <th>f(N/Mn)</th>\n",
       "      <th>f(Ca/Mn)</th>\n",
       "    </tr>\n",
       "  </thead>\n",
       "  <tbody>\n",
       "    <tr>\n",
       "      <th>0</th>\n",
       "      <td>-0.422534</td>\n",
       "      <td>-0.200281</td>\n",
       "      <td>0.085442</td>\n",
       "      <td>0.172855</td>\n",
       "      <td>0.222253</td>\n",
       "      <td>0.507976</td>\n",
       "      <td>0.595389</td>\n",
       "      <td>0.285723</td>\n",
       "      <td>0.373136</td>\n",
       "      <td>0.087413</td>\n",
       "    </tr>\n",
       "  </tbody>\n",
       "</table>\n",
       "</div>"
      ],
      "text/plain": [
       "    f(P/Mg)    f(P/N)   f(P/Ca)   f(P/Mn)   f(Mg/N)  f(Mg/Ca)  f(Mg/Mn)  \\\n",
       "0 -0.422534 -0.200281  0.085442  0.172855  0.222253  0.507976  0.595389   \n",
       "\n",
       "    f(N/Ca)   f(N/Mn)  f(Ca/Mn)  \n",
       "0  0.285723  0.373136  0.087413  "
      ]
     },
     "execution_count": 6,
     "metadata": {},
     "output_type": "execute_result"
    }
   ],
   "source": [
    "def f(df_diagnosed_log_ratios, df_optimium_log_ratios, sensitivity=1):\n",
    "    \"\"\"Calculate the nutrient function from the mean-log ratios for all combinations.\"\"\"\n",
    "    \n",
    "    names = df_diagnosed_log_ratios.columns\n",
    "    df_diagnosed_log_ratios = df_diagnosed_log_ratios.to_numpy()\n",
    "    df_optimium_log_ratios = df_optimium_log_ratios.to_numpy()\n",
    "\n",
    "    normalization_factor = sensitivity / df_optimium_log_ratios.std()\n",
    "\n",
    "    def f_single(diagnosed_mean, optimum_mean):\n",
    "        return (diagnosed_mean - optimum_mean) / normalization_factor\n",
    "\n",
    "    # Calculate mean for each column\n",
    "    df_diagnosed_log_ratios_mean = df_diagnosed_log_ratios.mean(axis=0)\n",
    "    df_optimium_log_ratios_mean = df_optimium_log_ratios.mean(axis=0)\n",
    "\n",
    "    f_dict = {}\n",
    "    for i in range(len(names)):\n",
    "        f_dict[f\"f({names[i]})\"] = f_single(df_diagnosed_log_ratios_mean[i], df_optimium_log_ratios_mean[i])\n",
    "        \n",
    "    return pd.DataFrame([f_dict])  # Return a DataFrame with one row for consistency\n",
    "\n",
    "# Example usage\n",
    "# Assuming df_diagnosed_log_ratios and df_optimium_log_ratios are defined with similar columns and structure\n",
    "df_f = f(df_diagnosed_log_ratios, df_optimum_log_ratios, sensitivity=1)\n",
    "df_f.head()"
   ]
  },
  {
   "cell_type": "markdown",
   "metadata": {},
   "source": [
    "## Dris Index \n",
    "\n",
    "The DRIS index is defined for each nutrient as\n",
    "\n",
    "$I_A = \\frac{\\sum f(\\frac{A}{B}) -  \\sum (\\frac{B}{A})}{n+m}$\n",
    "\n",
    "- n is the number of DRIS functions in their direct form (A/B)\n",
    "- m is the number of DRIS functions in their inverse form (B/A)"
   ]
  },
  {
   "cell_type": "code",
   "execution_count": 7,
   "metadata": {},
   "outputs": [
    {
     "data": {
      "text/html": [
       "<div>\n",
       "<style scoped>\n",
       "    .dataframe tbody tr th:only-of-type {\n",
       "        vertical-align: middle;\n",
       "    }\n",
       "\n",
       "    .dataframe tbody tr th {\n",
       "        vertical-align: top;\n",
       "    }\n",
       "\n",
       "    .dataframe thead th {\n",
       "        text-align: right;\n",
       "    }\n",
       "</style>\n",
       "<table border=\"1\" class=\"dataframe\">\n",
       "  <thead>\n",
       "    <tr style=\"text-align: right;\">\n",
       "      <th>Element</th>\n",
       "      <th>Mn</th>\n",
       "      <th>P</th>\n",
       "      <th>Mg</th>\n",
       "      <th>N</th>\n",
       "      <th>Ca</th>\n",
       "    </tr>\n",
       "  </thead>\n",
       "  <tbody>\n",
       "    <tr>\n",
       "      <th>Log-DRIS</th>\n",
       "      <td>-0.307198</td>\n",
       "      <td>-0.091129</td>\n",
       "      <td>0.437038</td>\n",
       "      <td>0.159222</td>\n",
       "      <td>-0.197932</td>\n",
       "    </tr>\n",
       "  </tbody>\n",
       "</table>\n",
       "</div>"
      ],
      "text/plain": [
       "Element         Mn         P        Mg         N        Ca\n",
       "Log-DRIS -0.307198 -0.091129  0.437038  0.159222 -0.197932"
      ]
     },
     "execution_count": 7,
     "metadata": {},
     "output_type": "execute_result"
    }
   ],
   "source": [
    "def calculate_I(df):\n",
    "    \"\"\"\n",
    "    Calculate DRIS index for each nutrient in the DataFrame.\n",
    "    \n",
    "    Parameters:\n",
    "        df (pd.DataFrame): DataFrame where each column represents a ratio in the format 'f(A/B)' or 'f(B/A)'\n",
    "        \n",
    "    Returns:\n",
    "        pd.DataFrame: DataFrame with I DRIS.\n",
    "    \"\"\"\n",
    "    # Initialize a dictionary to store IA values for each element\n",
    "    I_DRIS_values = {}\n",
    "    \n",
    "    # Identify unique chemical elements involved\n",
    "    elements = set()\n",
    "    for col in df.columns:\n",
    "        if '/' in col:\n",
    "            ratio = col[2:-1]  # Extract the part inside the parentheses 'A/B'\n",
    "            A, B = ratio.split('/')\n",
    "            elements.add(A)\n",
    "            elements.add(B)\n",
    "    \n",
    "    # Calculate I_DRIS for each unique element\n",
    "    for element in elements:\n",
    "        sum_f_A_over_B = 0\n",
    "        sum_f_B_over_A = 0\n",
    "        count_A_over_B = 0\n",
    "        count_B_over_A = 0\n",
    "        \n",
    "        # Iterate through columns to accumulate sums for the current element\n",
    "        for col in df.columns:\n",
    "            if '/' in col:\n",
    "                # Extract elements from the ratio\n",
    "                ratio = col[2:-1]\n",
    "                A, B = ratio.split('/')\n",
    "                \n",
    "                # Check if the current element is in the numerator or denominator\n",
    "                if A == element:  # If the column is in the form f(element/...)\n",
    "                    sum_f_A_over_B += df[col].sum()\n",
    "                    count_A_over_B += 1\n",
    "                elif B == element:  # If the column is in the form f(.../element)\n",
    "                    sum_f_B_over_A += df[col].sum()\n",
    "                    count_B_over_A += 1\n",
    "        \n",
    "        # Calculate n + m as the total number of ratios for the element\n",
    "        n_m = count_A_over_B + count_B_over_A\n",
    "        \n",
    "        # Calculate I_DRIS for the element, avoid division by zero if n_m is zero\n",
    "        I_DRIS_values[element] = (sum_f_A_over_B - sum_f_B_over_A) / n_m if n_m > 0 else None\n",
    "    \n",
    "    # Convert IA values to a DataFrame\n",
    "    I_DRIS_df = pd.DataFrame(list(I_DRIS_values.items()), columns=[\"Element\", \"Log-DRIS\"])\n",
    "    I_DRIS_df.set_index(\"Element\", inplace=True)\n",
    "    \n",
    "    return I_DRIS_df\n",
    "\n",
    "\n",
    "# Calculate IA for each element\n",
    "I_DRIS_df = calculate_I(df_f)\n",
    "I_DRIS_df.T.head()"
   ]
  },
  {
   "cell_type": "markdown",
   "metadata": {},
   "source": [
    "## Nutrient Balance Index (NBI)\n",
    "\n",
    "NBI = $|I_N| + |I_P| + \\cdots + |I_{Na}|$"
   ]
  },
  {
   "cell_type": "code",
   "execution_count": null,
   "metadata": {},
   "outputs": [],
   "source": []
  }
 ],
 "metadata": {
  "kernelspec": {
   "display_name": ".venv",
   "language": "python",
   "name": "python3"
  },
  "language_info": {
   "codemirror_mode": {
    "name": "ipython",
    "version": 3
   },
   "file_extension": ".py",
   "mimetype": "text/x-python",
   "name": "python",
   "nbconvert_exporter": "python",
   "pygments_lexer": "ipython3",
   "version": "3.10.12"
  }
 },
 "nbformat": 4,
 "nbformat_minor": 2
}
