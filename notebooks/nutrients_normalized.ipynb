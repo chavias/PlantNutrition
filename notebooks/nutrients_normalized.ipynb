{
 "cells": [
  {
   "cell_type": "markdown",
   "metadata": {},
   "source": [
    "# Nutrition"
   ]
  },
  {
   "cell_type": "code",
   "execution_count": 21,
   "metadata": {},
   "outputs": [],
   "source": [
    "import pandas as pd\n",
    "import numpy as np\n",
    "import matplotlib.pyplot as plt\n",
    "import seaborn as sns\n",
    "from scipy.optimize import minimize"
   ]
  },
  {
   "cell_type": "markdown",
   "metadata": {},
   "source": [
    "## Raw Data"
   ]
  },
  {
   "cell_type": "code",
   "execution_count": 22,
   "metadata": {},
   "outputs": [],
   "source": [
    "DATA_PATH_AVG = './data/input/nutrients_avg.xlsx'\n",
    "\n",
    "def process_data(data_path):\n",
    "    \n",
    "    df = pd.read_excel(DATA_PATH_AVG)\n",
    "    \n",
    "    # \n",
    "    df_no_time = df.drop(columns='Time')\n",
    "    X = df_no_time.to_numpy()\n",
    "\n",
    "    # Sort data along axis=0 and reverse to get descending order\n",
    "    data = np.sort(X, axis=0)[::-1]\n",
    "\n",
    "    # normalize data to 1\n",
    "    maxes = np.max(data, axis=0)\n",
    "\n",
    "    data = data / maxes\n",
    "    return data, maxes"
   ]
  },
  {
   "cell_type": "markdown",
   "metadata": {},
   "source": [
    "## Data Preparation"
   ]
  },
  {
   "cell_type": "code",
   "execution_count": 23,
   "metadata": {},
   "outputs": [],
   "source": [
    "# from sklearn.preprocessing import MinMaxScaler\n",
    "\n",
    "# Convert DataFrame to NumPy array\n",
    "\n",
    "# If a scaler is applied it also has to be applied to the fertilizer\n",
    "\n",
    "# scaler = MinMaxScaler()\n",
    "\n",
    "# # Fit the scaler and transform the data to scale each column independently\n",
    "# data = scaler.fit_transform(data)\n",
    "\n",
    "# # Now each column of data is scaled to the range [0, 1]\n",
    "# print(data)"
   ]
  },
  {
   "cell_type": "code",
   "execution_count": 24,
   "metadata": {},
   "outputs": [
    {
     "ename": "NameError",
     "evalue": "name 'data' is not defined",
     "output_type": "error",
     "traceback": [
      "\u001b[0;31m---------------------------------------------------------------------------\u001b[0m",
      "\u001b[0;31mNameError\u001b[0m                                 Traceback (most recent call last)",
      "Cell \u001b[0;32mIn[24], line 15\u001b[0m\n\u001b[1;32m     11\u001b[0m         Y_interp[:, col] \u001b[38;5;241m=\u001b[39m f(x_interp)\n\u001b[1;32m     13\u001b[0m     \u001b[38;5;28;01mreturn\u001b[39;00m x_interp, Y_interp\n\u001b[0;32m---> 15\u001b[0m x_interp, Y_interp \u001b[38;5;241m=\u001b[39m interpolate_data(\u001b[43mdata\u001b[49m, num_points\u001b[38;5;241m=\u001b[39m\u001b[38;5;241m4\u001b[39m, kind\u001b[38;5;241m=\u001b[39m\u001b[38;5;124m'\u001b[39m\u001b[38;5;124mlinear\u001b[39m\u001b[38;5;124m'\u001b[39m)\n",
      "\u001b[0;31mNameError\u001b[0m: name 'data' is not defined"
     ]
    }
   ],
   "source": [
    "from scipy.interpolate import interp1d\n",
    "\n",
    "def interpolate_data(data, num_points=500, kind='cubic'):\n",
    "    x_original = np.arange(data.shape[0])  # Original index positions\n",
    "    x_interp = np.linspace(0, data.shape[0] - 1, num_points)  # Interpolation index positions\n",
    "    # Initialize an array to store interpolated data\n",
    "    Y_interp = np.zeros((num_points, data.shape[1]))\n",
    "    # Interpolate each column\n",
    "    for col in range(data.shape[1]):\n",
    "        f = interp1d(x_original, data[:, col], kind='cubic')  # Use cubic interpolation for smoothness\n",
    "        Y_interp[:, col] = f(x_interp)\n",
    "\n",
    "    return x_interp, Y_interp\n",
    "\n",
    "x_interp, Y_interp = interpolate_data(data, num_points=4, kind='linear')"
   ]
  },
  {
   "cell_type": "code",
   "execution_count": 25,
   "metadata": {},
   "outputs": [
    {
     "ename": "NameError",
     "evalue": "name 'x_interp' is not defined",
     "output_type": "error",
     "traceback": [
      "\u001b[0;31m---------------------------------------------------------------------------\u001b[0m",
      "\u001b[0;31mNameError\u001b[0m                                 Traceback (most recent call last)",
      "Cell \u001b[0;32mIn[25], line 9\u001b[0m\n\u001b[1;32m      6\u001b[0m         axes[i]\u001b[38;5;241m.\u001b[39mplot(x,y[:, i])\n\u001b[1;32m      7\u001b[0m         axes[i]\u001b[38;5;241m.\u001b[39mset_ylim([\u001b[38;5;241m0\u001b[39m,\u001b[38;5;28;01mNone\u001b[39;00m])\n\u001b[0;32m----> 9\u001b[0m plot_curves(x\u001b[38;5;241m=\u001b[39m\u001b[43mx_interp\u001b[49m, y\u001b[38;5;241m=\u001b[39mY_interp)\n",
      "\u001b[0;31mNameError\u001b[0m: name 'x_interp' is not defined"
     ]
    }
   ],
   "source": [
    "def plot_curves(x, y):\n",
    "    # Plot the derivative of the first column\n",
    "    fig, axes = plt.subplots(4,3, figsize=(12,10))\n",
    "    axes = axes.flatten()\n",
    "    for i in range(11):\n",
    "        axes[i].plot(x,y[:, i])\n",
    "        axes[i].set_ylim([0,None])\n",
    "\n",
    "plot_curves(x=x_interp, y=Y_interp)"
   ]
  },
  {
   "cell_type": "code",
   "execution_count": 26,
   "metadata": {},
   "outputs": [
    {
     "ename": "NameError",
     "evalue": "name 'x_interp' is not defined",
     "output_type": "error",
     "traceback": [
      "\u001b[0;31m---------------------------------------------------------------------------\u001b[0m",
      "\u001b[0;31mNameError\u001b[0m                                 Traceback (most recent call last)",
      "Cell \u001b[0;32mIn[26], line 16\u001b[0m\n\u001b[1;32m     13\u001b[0m     plant_uptake_rate \u001b[38;5;241m=\u001b[39m \u001b[38;5;241m-\u001b[39m Y_derivative_spline \n\u001b[1;32m     14\u001b[0m     \u001b[38;5;28;01mreturn\u001b[39;00m x_interp, plant_uptake_rate\n\u001b[0;32m---> 16\u001b[0m x_interp, plant_uptake_rate \u001b[38;5;241m=\u001b[39m calculate_nutrient_uptake_rate(\u001b[43mx_interp\u001b[49m, Y_interp, num_interp_points\u001b[38;5;241m=\u001b[39m\u001b[38;5;241m4\u001b[39m)\n\u001b[1;32m     18\u001b[0m plot_curves(x\u001b[38;5;241m=\u001b[39mx_interp, y\u001b[38;5;241m=\u001b[39mplant_uptake_rate)\n",
      "\u001b[0;31mNameError\u001b[0m: name 'x_interp' is not defined"
     ]
    }
   ],
   "source": [
    "from scipy.interpolate import CubicSpline\n",
    "\n",
    "def calculate_nutrient_uptake_rate(x_interp, Y_interp, num_interp_points=500):\n",
    "\n",
    "    # Initialize an array to store the derivatives\n",
    "    Y_derivative_spline = np.zeros((num_interp_points, data.shape[1]))\n",
    "\n",
    "    # Compute the cubic spline and its derivative for each column\n",
    "    for col in range(data.shape[1]):\n",
    "        cs = CubicSpline(x_interp, Y_interp[:, col])  # Cubic Spline interpolation\n",
    "        Y_derivative_spline[:, col] = cs.derivative()(x_interp)  # Evaluate the derivative\n",
    "\n",
    "    plant_uptake_rate = - Y_derivative_spline \n",
    "    return x_interp, plant_uptake_rate\n",
    "\n",
    "x_interp, plant_uptake_rate = calculate_nutrient_uptake_rate(x_interp, Y_interp, num_interp_points=4)\n",
    "\n",
    "plot_curves(x=x_interp, y=plant_uptake_rate)"
   ]
  },
  {
   "cell_type": "code",
   "execution_count": 27,
   "metadata": {},
   "outputs": [],
   "source": [
    "# def absolute_plant_uptake_from_rate(x_interp, plant_uptake_rate, start, end):\n",
    "#     start_index = np.argmin(np.abs(x_interp - start)) # find the best index\n",
    "#     end_index = np.argmin(np.abs(x_interp - end))\n",
    "#     return np.sum(plant_uptake_rate[start_index:end_index,:],axis=0)/(end_index-start_index)\n",
    "\n",
    "# absolute_uptake = absolute_plant_uptake_from_rate(x_interp, plant_uptake_rate, 0,1)\n",
    "# print(f\"{absolute_uptake = }\")"
   ]
  },
  {
   "cell_type": "code",
   "execution_count": 28,
   "metadata": {},
   "outputs": [
    {
     "ename": "NameError",
     "evalue": "name 'x_interp' is not defined",
     "output_type": "error",
     "traceback": [
      "\u001b[0;31m---------------------------------------------------------------------------\u001b[0m",
      "\u001b[0;31mNameError\u001b[0m                                 Traceback (most recent call last)",
      "Cell \u001b[0;32mIn[28], line 7\u001b[0m\n\u001b[1;32m      4\u001b[0m     \u001b[38;5;66;03m# uptake is the negative of nutrient change in solution\u001b[39;00m\n\u001b[1;32m      5\u001b[0m     \u001b[38;5;28;01mreturn\u001b[39;00m \u001b[38;5;241m-\u001b[39m(Y_interp[end_index,:] \u001b[38;5;241m-\u001b[39m Y_interp[start_index,:]) \n\u001b[0;32m----> 7\u001b[0m target \u001b[38;5;241m=\u001b[39m absolute_plant_uptake_during_interval(\u001b[43mx_interp\u001b[49m, Y_interp, \u001b[38;5;241m2\u001b[39m,\u001b[38;5;241m3\u001b[39m)\n\u001b[1;32m      8\u001b[0m \u001b[38;5;28mprint\u001b[39m(\u001b[38;5;124mf\u001b[39m\u001b[38;5;124m\"\u001b[39m\u001b[38;5;132;01m{\u001b[39;00mtarget\u001b[38;5;250m \u001b[39m\u001b[38;5;132;01m= }\u001b[39;00m\u001b[38;5;124m\"\u001b[39m)\n",
      "\u001b[0;31mNameError\u001b[0m: name 'x_interp' is not defined"
     ]
    }
   ],
   "source": [
    "def absolute_plant_uptake_during_interval(x_interp, Y_interp, start, end):\n",
    "    start_index = np.argmin(np.abs(x_interp - start)) # find the best index\n",
    "    end_index = np.argmin(np.abs(x_interp - end))\n",
    "    # uptake is the negative of nutrient change in solution\n",
    "    return -(Y_interp[end_index,:] - Y_interp[start_index,:]) \n",
    "\n",
    "target = absolute_plant_uptake_during_interval(x_interp, Y_interp, 2,3)\n",
    "print(f\"{target = }\")"
   ]
  },
  {
   "cell_type": "markdown",
   "metadata": {},
   "source": [
    "## Optimize"
   ]
  },
  {
   "cell_type": "markdown",
   "metadata": {},
   "source": [
    "Consider a single time intervall $I = [t_0, T]$.\n",
    "\n",
    "Unsing the model of the plant uptake we have obtained the the target nutrient concentration should be idealy $\\vec T$.\n",
    "\n",
    "Let us optimize the minimal total amount of fertilizer to reach the target under the constraint that the plant does not experience any deficite of nutrients.\n",
    "\n",
    "$L = \\min(|\\vec{T} - (u_1 \\vec{F}_1 + u_2 \\vec{F}_2 + u_3 \\vec{F}_3|)$\n",
    "\n",
    "Constrain: $\\vec{T} - (u_1 \\vec{F}_1 + u_2 \\vec{F}_2 + u_3 \\vec{F}_3) \\ge 0$\n",
    "\n",
    "**Comments:**\n",
    "\n",
    "1. Since the concentration have different scales, it might be reasonable to scale (transfrom) them using sklearn MaxMinScaler or StandartScaler.\n",
    "Afterwards don't forget to apply the inverse transform to get correct values!"
   ]
  },
  {
   "cell_type": "code",
   "execution_count": 29,
   "metadata": {},
   "outputs": [],
   "source": [
    "def nutrients(params, c_fertilizer1, c_fertilizer2, c_fertilizer3, c_target):\n",
    "    a, b, c = params\n",
    "    value = c_target - a*c_fertilizer1 - b*c_fertilizer2 - c*c_fertilizer3\n",
    "    return value  \n",
    "\n",
    "def objective_function(params, c_fertilizer1, c_fertilizer2, c_fertilizer3, c_target):\n",
    "    a, b, c = params\n",
    "    value = np.sum(np.abs(c_target - a*c_fertilizer1 - b*c_fertilizer2 - c*c_fertilizer3))\n",
    "    return value  \n",
    "\n",
    "def constraint_function(params, c_fertilizer1, c_fertilizer2, c_fertilizer3, c_target):\n",
    "    a, b, c = params\n",
    "    return np.min(c_target - a*c_fertilizer1 - b*c_fertilizer2 - c*c_fertilizer3)\n",
    "\n",
    "def optimize(c_fertilizer1, c_fertilizer2, c_fertilizer3, c_target, constraint):\n",
    "    # Initial guess for a and b\n",
    "    initial_guess = [0, 0, 0]\n",
    "    bounds = [(0, None), (0, None), (0, None)]  # (lower bound, upper bound) for a, b and c\n",
    "    \n",
    "    # Call the optimizer\n",
    "    result = minimize(objective_function, initial_guess, \n",
    "                      args=(c_fertilizer1, c_fertilizer2, c_fertilizer3, c_target),\n",
    "                      bounds = bounds,  # (lower bound, upper bound) for a and b\n",
    "                      constraints=[constraint], \n",
    "                      method='SLSQP') \n",
    "    \n",
    "    # Extract the optimized values of a and b\n",
    "    a_opt, b_opt, c_opt = result.x\n",
    "    return a_opt, b_opt, c_opt, result.fun  # Return optimized a, b, and the minimized value\n"
   ]
  },
  {
   "cell_type": "code",
   "execution_count": 30,
   "metadata": {},
   "outputs": [
    {
     "ename": "NameError",
     "evalue": "name 'maxes' is not defined",
     "output_type": "error",
     "traceback": [
      "\u001b[0;31m---------------------------------------------------------------------------\u001b[0m",
      "\u001b[0;31mNameError\u001b[0m                                 Traceback (most recent call last)",
      "Cell \u001b[0;32mIn[30], line 1\u001b[0m\n\u001b[0;32m----> 1\u001b[0m c_target \u001b[38;5;241m=\u001b[39m np\u001b[38;5;241m.\u001b[39mabs(np\u001b[38;5;241m.\u001b[39mrandom\u001b[38;5;241m.\u001b[39msample(\u001b[38;5;241m11\u001b[39m))\u001b[38;5;241m*\u001b[39m\u001b[38;5;241m10\u001b[39m\u001b[38;5;241m/\u001b[39m\u001b[43mmaxes\u001b[49m\n\u001b[1;32m      3\u001b[0m c_fertilizer1 \u001b[38;5;241m=\u001b[39m np\u001b[38;5;241m.\u001b[39mabs(np\u001b[38;5;241m.\u001b[39mrandom\u001b[38;5;241m.\u001b[39msample(\u001b[38;5;241m11\u001b[39m))\u001b[38;5;241m/\u001b[39mmaxes\n\u001b[1;32m      4\u001b[0m c_fertilizer2 \u001b[38;5;241m=\u001b[39m np\u001b[38;5;241m.\u001b[39mabs(np\u001b[38;5;241m.\u001b[39mrandom\u001b[38;5;241m.\u001b[39msample(\u001b[38;5;241m11\u001b[39m))\u001b[38;5;241m/\u001b[39mmaxes\n",
      "\u001b[0;31mNameError\u001b[0m: name 'maxes' is not defined"
     ]
    }
   ],
   "source": [
    "c_target = np.abs(np.random.sample(11))*10/maxes\n",
    "\n",
    "c_fertilizer1 = np.abs(np.random.sample(11))/maxes\n",
    "c_fertilizer2 = np.abs(np.random.sample(11))/maxes\n",
    "c_fertilizer3 = np.abs(np.random.sample(11))/maxes\n",
    "\n",
    "# Define the constraint\n",
    "constraint = {\n",
    "    'type': 'ineq',  # 'ineq' means the constraint function must return >= 0\n",
    "    'fun': constraint_function,\n",
    "    'args': (c_fertilizer1, c_fertilizer2, c_fertilizer3, c_target)\n",
    "}\n",
    "\n",
    "\n",
    "a_opt, b_opt, c_opt, minimized_value = optimize(c_fertilizer1, c_fertilizer2, c_fertilizer3, c_target, constraint)\n",
    "params_opt = (a_opt, b_opt, c_opt)\n",
    "nut = nutrients(params_opt, c_fertilizer1, c_fertilizer2, c_fertilizer3, c_target)\n",
    "\n",
    "print(\"------------------------------------------------------------------------------------------\")\n",
    "print(f\"{minimized_value = }\")\n",
    "print(\"------------------------------------------------------------------------------------------\")\n",
    "print(f\"{[a_opt, b_opt, c_opt] = }\")\n",
    "print(\"------------------------------------------------------------------------------------------\")\n",
    "print(f\"Nutrient excess:\")\n",
    "print(f\"{nut.round(3) = }\")"
   ]
  },
  {
   "cell_type": "markdown",
   "metadata": {},
   "source": [
    "## Iterative process"
   ]
  },
  {
   "cell_type": "markdown",
   "metadata": {},
   "source": [
    "The next step is to calculate a schedule how to fertilize the plants.\n",
    "As input we give the time intervall that we want to attent to the plants.\n",
    "As a ouput we want the amount of each fertilizer we have to add for each time.\n",
    "\n",
    "Comments:\n",
    "- additional statistic would be nice\n",
    "- some plots would be also nice"
   ]
  },
  {
   "cell_type": "code",
   "execution_count": 31,
   "metadata": {},
   "outputs": [
    {
     "ename": "FileNotFoundError",
     "evalue": "[Errno 2] No such file or directory: './data/input/nutrients_avg.xlsx'",
     "output_type": "error",
     "traceback": [
      "\u001b[0;31m---------------------------------------------------------------------------\u001b[0m",
      "\u001b[0;31mFileNotFoundError\u001b[0m                         Traceback (most recent call last)",
      "Cell \u001b[0;32mIn[31], line 74\u001b[0m\n\u001b[1;32m     70\u001b[0m c_fertilizer2 \u001b[38;5;241m=\u001b[39m np\u001b[38;5;241m.\u001b[39mabs(np\u001b[38;5;241m.\u001b[39mrandom\u001b[38;5;241m.\u001b[39msample(\u001b[38;5;241m11\u001b[39m))\u001b[38;5;241m*\u001b[39m\u001b[38;5;241m0.01\u001b[39m\n\u001b[1;32m     71\u001b[0m c_fertilizer3 \u001b[38;5;241m=\u001b[39m np\u001b[38;5;241m.\u001b[39mabs(np\u001b[38;5;241m.\u001b[39mrandom\u001b[38;5;241m.\u001b[39msample(\u001b[38;5;241m11\u001b[39m))\u001b[38;5;241m*\u001b[39m\u001b[38;5;241m0.01\u001b[39m\n\u001b[0;32m---> 74\u001b[0m results \u001b[38;5;241m=\u001b[39m \u001b[43mcalculate_fertilization_schedule\u001b[49m\u001b[43m(\u001b[49m\u001b[43mdata_path\u001b[49m\u001b[38;5;241;43m=\u001b[39;49m\u001b[43mDATA_PATH_AVG\u001b[49m\u001b[43m,\u001b[49m\u001b[43m \u001b[49m\u001b[43mtime_intervall_days\u001b[49m\u001b[38;5;241;43m=\u001b[39;49m\u001b[38;5;241;43m1\u001b[39;49m\u001b[43m,\u001b[49m\u001b[43m \u001b[49m\u001b[43mc_fertilizer1\u001b[49m\u001b[38;5;241;43m=\u001b[39;49m\u001b[43mc_fertilizer1\u001b[49m\u001b[43m,\u001b[49m\u001b[43m \u001b[49m\u001b[43mc_fertilizer2\u001b[49m\u001b[38;5;241;43m=\u001b[39;49m\u001b[43mc_fertilizer2\u001b[49m\u001b[43m,\u001b[49m\u001b[43m \u001b[49m\u001b[43mc_fertilizer3\u001b[49m\u001b[38;5;241;43m=\u001b[39;49m\u001b[43mc_fertilizer3\u001b[49m\u001b[43m)\u001b[49m\n\u001b[1;32m     76\u001b[0m results\u001b[38;5;241m.\u001b[39mhead()\n",
      "Cell \u001b[0;32mIn[31], line 4\u001b[0m, in \u001b[0;36mcalculate_fertilization_schedule\u001b[0;34m(data_path, time_intervall_days, c_fertilizer1, c_fertilizer2, c_fertilizer3)\u001b[0m\n\u001b[1;32m      1\u001b[0m \u001b[38;5;28;01mdef\u001b[39;00m \u001b[38;5;21mcalculate_fertilization_schedule\u001b[39m(data_path, time_intervall_days, c_fertilizer1, c_fertilizer2, c_fertilizer3):\n\u001b[1;32m      2\u001b[0m     \n\u001b[1;32m      3\u001b[0m     \u001b[38;5;66;03m# read and normalize data\u001b[39;00m\n\u001b[0;32m----> 4\u001b[0m     data, maxes \u001b[38;5;241m=\u001b[39m \u001b[43mprocess_data\u001b[49m\u001b[43m(\u001b[49m\u001b[43mdata_path\u001b[49m\u001b[38;5;241;43m=\u001b[39;49m\u001b[43mdata_path\u001b[49m\u001b[43m)\u001b[49m\n\u001b[1;32m      6\u001b[0m     \u001b[38;5;66;03m# normalize fartilizer\u001b[39;00m\n\u001b[1;32m      7\u001b[0m     norm_c_fertilizer1 \u001b[38;5;241m=\u001b[39m c_fertilizer1\u001b[38;5;241m/\u001b[39mmaxes\n",
      "Cell \u001b[0;32mIn[22], line 5\u001b[0m, in \u001b[0;36mprocess_data\u001b[0;34m(data_path)\u001b[0m\n\u001b[1;32m      3\u001b[0m \u001b[38;5;28;01mdef\u001b[39;00m \u001b[38;5;21mprocess_data\u001b[39m(data_path):\n\u001b[0;32m----> 5\u001b[0m     df \u001b[38;5;241m=\u001b[39m \u001b[43mpd\u001b[49m\u001b[38;5;241;43m.\u001b[39;49m\u001b[43mread_excel\u001b[49m\u001b[43m(\u001b[49m\u001b[43mDATA_PATH_AVG\u001b[49m\u001b[43m)\u001b[49m\n\u001b[1;32m      7\u001b[0m     \u001b[38;5;66;03m# \u001b[39;00m\n\u001b[1;32m      8\u001b[0m     df_no_time \u001b[38;5;241m=\u001b[39m df\u001b[38;5;241m.\u001b[39mdrop(columns\u001b[38;5;241m=\u001b[39m\u001b[38;5;124m'\u001b[39m\u001b[38;5;124mTime\u001b[39m\u001b[38;5;124m'\u001b[39m)\n",
      "File \u001b[0;32m~/Projects/PlantNutrition/.venv/lib/python3.10/site-packages/pandas/io/excel/_base.py:495\u001b[0m, in \u001b[0;36mread_excel\u001b[0;34m(io, sheet_name, header, names, index_col, usecols, dtype, engine, converters, true_values, false_values, skiprows, nrows, na_values, keep_default_na, na_filter, verbose, parse_dates, date_parser, date_format, thousands, decimal, comment, skipfooter, storage_options, dtype_backend, engine_kwargs)\u001b[0m\n\u001b[1;32m    493\u001b[0m \u001b[38;5;28;01mif\u001b[39;00m \u001b[38;5;129;01mnot\u001b[39;00m \u001b[38;5;28misinstance\u001b[39m(io, ExcelFile):\n\u001b[1;32m    494\u001b[0m     should_close \u001b[38;5;241m=\u001b[39m \u001b[38;5;28;01mTrue\u001b[39;00m\n\u001b[0;32m--> 495\u001b[0m     io \u001b[38;5;241m=\u001b[39m \u001b[43mExcelFile\u001b[49m\u001b[43m(\u001b[49m\n\u001b[1;32m    496\u001b[0m \u001b[43m        \u001b[49m\u001b[43mio\u001b[49m\u001b[43m,\u001b[49m\n\u001b[1;32m    497\u001b[0m \u001b[43m        \u001b[49m\u001b[43mstorage_options\u001b[49m\u001b[38;5;241;43m=\u001b[39;49m\u001b[43mstorage_options\u001b[49m\u001b[43m,\u001b[49m\n\u001b[1;32m    498\u001b[0m \u001b[43m        \u001b[49m\u001b[43mengine\u001b[49m\u001b[38;5;241;43m=\u001b[39;49m\u001b[43mengine\u001b[49m\u001b[43m,\u001b[49m\n\u001b[1;32m    499\u001b[0m \u001b[43m        \u001b[49m\u001b[43mengine_kwargs\u001b[49m\u001b[38;5;241;43m=\u001b[39;49m\u001b[43mengine_kwargs\u001b[49m\u001b[43m,\u001b[49m\n\u001b[1;32m    500\u001b[0m \u001b[43m    \u001b[49m\u001b[43m)\u001b[49m\n\u001b[1;32m    501\u001b[0m \u001b[38;5;28;01melif\u001b[39;00m engine \u001b[38;5;129;01mand\u001b[39;00m engine \u001b[38;5;241m!=\u001b[39m io\u001b[38;5;241m.\u001b[39mengine:\n\u001b[1;32m    502\u001b[0m     \u001b[38;5;28;01mraise\u001b[39;00m \u001b[38;5;167;01mValueError\u001b[39;00m(\n\u001b[1;32m    503\u001b[0m         \u001b[38;5;124m\"\u001b[39m\u001b[38;5;124mEngine should not be specified when passing \u001b[39m\u001b[38;5;124m\"\u001b[39m\n\u001b[1;32m    504\u001b[0m         \u001b[38;5;124m\"\u001b[39m\u001b[38;5;124man ExcelFile - ExcelFile already has the engine set\u001b[39m\u001b[38;5;124m\"\u001b[39m\n\u001b[1;32m    505\u001b[0m     )\n",
      "File \u001b[0;32m~/Projects/PlantNutrition/.venv/lib/python3.10/site-packages/pandas/io/excel/_base.py:1550\u001b[0m, in \u001b[0;36mExcelFile.__init__\u001b[0;34m(self, path_or_buffer, engine, storage_options, engine_kwargs)\u001b[0m\n\u001b[1;32m   1548\u001b[0m     ext \u001b[38;5;241m=\u001b[39m \u001b[38;5;124m\"\u001b[39m\u001b[38;5;124mxls\u001b[39m\u001b[38;5;124m\"\u001b[39m\n\u001b[1;32m   1549\u001b[0m \u001b[38;5;28;01melse\u001b[39;00m:\n\u001b[0;32m-> 1550\u001b[0m     ext \u001b[38;5;241m=\u001b[39m \u001b[43minspect_excel_format\u001b[49m\u001b[43m(\u001b[49m\n\u001b[1;32m   1551\u001b[0m \u001b[43m        \u001b[49m\u001b[43mcontent_or_path\u001b[49m\u001b[38;5;241;43m=\u001b[39;49m\u001b[43mpath_or_buffer\u001b[49m\u001b[43m,\u001b[49m\u001b[43m \u001b[49m\u001b[43mstorage_options\u001b[49m\u001b[38;5;241;43m=\u001b[39;49m\u001b[43mstorage_options\u001b[49m\n\u001b[1;32m   1552\u001b[0m \u001b[43m    \u001b[49m\u001b[43m)\u001b[49m\n\u001b[1;32m   1553\u001b[0m     \u001b[38;5;28;01mif\u001b[39;00m ext \u001b[38;5;129;01mis\u001b[39;00m \u001b[38;5;28;01mNone\u001b[39;00m:\n\u001b[1;32m   1554\u001b[0m         \u001b[38;5;28;01mraise\u001b[39;00m \u001b[38;5;167;01mValueError\u001b[39;00m(\n\u001b[1;32m   1555\u001b[0m             \u001b[38;5;124m\"\u001b[39m\u001b[38;5;124mExcel file format cannot be determined, you must specify \u001b[39m\u001b[38;5;124m\"\u001b[39m\n\u001b[1;32m   1556\u001b[0m             \u001b[38;5;124m\"\u001b[39m\u001b[38;5;124man engine manually.\u001b[39m\u001b[38;5;124m\"\u001b[39m\n\u001b[1;32m   1557\u001b[0m         )\n",
      "File \u001b[0;32m~/Projects/PlantNutrition/.venv/lib/python3.10/site-packages/pandas/io/excel/_base.py:1402\u001b[0m, in \u001b[0;36minspect_excel_format\u001b[0;34m(content_or_path, storage_options)\u001b[0m\n\u001b[1;32m   1399\u001b[0m \u001b[38;5;28;01mif\u001b[39;00m \u001b[38;5;28misinstance\u001b[39m(content_or_path, \u001b[38;5;28mbytes\u001b[39m):\n\u001b[1;32m   1400\u001b[0m     content_or_path \u001b[38;5;241m=\u001b[39m BytesIO(content_or_path)\n\u001b[0;32m-> 1402\u001b[0m \u001b[38;5;28;01mwith\u001b[39;00m \u001b[43mget_handle\u001b[49m\u001b[43m(\u001b[49m\n\u001b[1;32m   1403\u001b[0m \u001b[43m    \u001b[49m\u001b[43mcontent_or_path\u001b[49m\u001b[43m,\u001b[49m\u001b[43m \u001b[49m\u001b[38;5;124;43m\"\u001b[39;49m\u001b[38;5;124;43mrb\u001b[39;49m\u001b[38;5;124;43m\"\u001b[39;49m\u001b[43m,\u001b[49m\u001b[43m \u001b[49m\u001b[43mstorage_options\u001b[49m\u001b[38;5;241;43m=\u001b[39;49m\u001b[43mstorage_options\u001b[49m\u001b[43m,\u001b[49m\u001b[43m \u001b[49m\u001b[43mis_text\u001b[49m\u001b[38;5;241;43m=\u001b[39;49m\u001b[38;5;28;43;01mFalse\u001b[39;49;00m\n\u001b[1;32m   1404\u001b[0m \u001b[43m\u001b[49m\u001b[43m)\u001b[49m \u001b[38;5;28;01mas\u001b[39;00m handle:\n\u001b[1;32m   1405\u001b[0m     stream \u001b[38;5;241m=\u001b[39m handle\u001b[38;5;241m.\u001b[39mhandle\n\u001b[1;32m   1406\u001b[0m     stream\u001b[38;5;241m.\u001b[39mseek(\u001b[38;5;241m0\u001b[39m)\n",
      "File \u001b[0;32m~/Projects/PlantNutrition/.venv/lib/python3.10/site-packages/pandas/io/common.py:882\u001b[0m, in \u001b[0;36mget_handle\u001b[0;34m(path_or_buf, mode, encoding, compression, memory_map, is_text, errors, storage_options)\u001b[0m\n\u001b[1;32m    873\u001b[0m         handle \u001b[38;5;241m=\u001b[39m \u001b[38;5;28mopen\u001b[39m(\n\u001b[1;32m    874\u001b[0m             handle,\n\u001b[1;32m    875\u001b[0m             ioargs\u001b[38;5;241m.\u001b[39mmode,\n\u001b[0;32m   (...)\u001b[0m\n\u001b[1;32m    878\u001b[0m             newline\u001b[38;5;241m=\u001b[39m\u001b[38;5;124m\"\u001b[39m\u001b[38;5;124m\"\u001b[39m,\n\u001b[1;32m    879\u001b[0m         )\n\u001b[1;32m    880\u001b[0m     \u001b[38;5;28;01melse\u001b[39;00m:\n\u001b[1;32m    881\u001b[0m         \u001b[38;5;66;03m# Binary mode\u001b[39;00m\n\u001b[0;32m--> 882\u001b[0m         handle \u001b[38;5;241m=\u001b[39m \u001b[38;5;28;43mopen\u001b[39;49m\u001b[43m(\u001b[49m\u001b[43mhandle\u001b[49m\u001b[43m,\u001b[49m\u001b[43m \u001b[49m\u001b[43mioargs\u001b[49m\u001b[38;5;241;43m.\u001b[39;49m\u001b[43mmode\u001b[49m\u001b[43m)\u001b[49m\n\u001b[1;32m    883\u001b[0m     handles\u001b[38;5;241m.\u001b[39mappend(handle)\n\u001b[1;32m    885\u001b[0m \u001b[38;5;66;03m# Convert BytesIO or file objects passed with an encoding\u001b[39;00m\n",
      "\u001b[0;31mFileNotFoundError\u001b[0m: [Errno 2] No such file or directory: './data/input/nutrients_avg.xlsx'"
     ]
    }
   ],
   "source": [
    "def calculate_fertilization_schedule(data_path, time_intervall_days, c_fertilizer1, c_fertilizer2, c_fertilizer3):\n",
    "    \n",
    "    # read and normalize data\n",
    "    data, maxes = process_data(data_path=data_path)\n",
    "    \n",
    "    # normalize fartilizer\n",
    "    norm_c_fertilizer1 = c_fertilizer1/maxes\n",
    "    norm_c_fertilizer2 = c_fertilizer2/maxes\n",
    "    norm_c_fertilizer3 = c_fertilizer3/maxes\n",
    "\n",
    "    # interpolate the data\n",
    "    x_interp, Y_interp = interpolate_data(data, num_points=4*7, kind='linear')\n",
    "    # calculate the uptake of each nutrient of the plant\n",
    "    # x_interp, plant_uptake_rate = calculate_nutrient_uptake_rate(x_interp, Y_interp, num_interp_points=500)\n",
    "    # calculate \n",
    "    time_intervall_week = time_intervall_days/7\n",
    "    num_fertilization_events = int(x_interp[-1] // time_intervall_week)\n",
    "\n",
    "    residual = 0\n",
    "    results = dict()\n",
    "\n",
    "    # build schedule\n",
    "    for i in range(num_fertilization_events):\n",
    "        \n",
    "        start = i*time_intervall_week\n",
    "        end = (i+1)*time_intervall_week\n",
    "\n",
    "        c_target_without_residuals = absolute_plant_uptake_during_interval(x_interp=x_interp, Y_interp=Y_interp, start=start ,end=end)\n",
    "\n",
    "        # calculate the target considering residual (excess) nutrients in the solution\n",
    "        c_target = np.abs(c_target_without_residuals - residual)\n",
    "\n",
    "        # Define the constraint\n",
    "        constraint = {\n",
    "            'type': 'ineq',  # 'ineq' means the constraint function must return >= 0\n",
    "            'fun': constraint_function,\n",
    "            'args': (norm_c_fertilizer1, norm_c_fertilizer2, norm_c_fertilizer3, c_target)\n",
    "        }\n",
    "\n",
    "        # optimize \n",
    "        a_opt, b_opt, c_opt, minimized_value = optimize(norm_c_fertilizer1, norm_c_fertilizer2, norm_c_fertilizer3, c_target, constraint)\n",
    "        \n",
    "        params_opt = (a_opt, b_opt, c_opt)\n",
    "        \n",
    "        # calculate the excess nutrient after time period\n",
    "        residual = nutrients(params_opt, norm_c_fertilizer1, norm_c_fertilizer2, norm_c_fertilizer3, c_target)\n",
    "\n",
    "        # store the results\n",
    "        results[f\"{int(start*7)}\"] = {'f1' : a_opt,\n",
    "                                     'f2' : b_opt,\n",
    "                                     'f3' : c_opt,\n",
    "                                     'excess_1': residual[0],\n",
    "                                     'excess_2': residual[1],\n",
    "                                     'excess_3': residual[2],\n",
    "                                     'excess_4': residual[3],\n",
    "                                     'excess_5': residual[4],\n",
    "                                     'excess_6': residual[5],\n",
    "                                     'excess_7': residual[6],\n",
    "                                     'excess_8': residual[7],\n",
    "                                     'excess_9': residual[8],\n",
    "                                     'excess_10': residual[9],\n",
    "                                     'excess_11': residual[10],\n",
    "                                    #  'excess' : (residual*maxes).round(3),\n",
    "                                    #  'excess_normalized' : (residual).round(3),\n",
    "                                     'objective_function': minimized_value}\n",
    "    df = pd.DataFrame(results).T\n",
    "    return df\n",
    "\n",
    "c_fertilizer1 = np.abs(np.random.sample(11))*0.01\n",
    "c_fertilizer2 = np.abs(np.random.sample(11))*0.01\n",
    "c_fertilizer3 = np.abs(np.random.sample(11))*0.01\n",
    "   \n",
    "\n",
    "results = calculate_fertilization_schedule(data_path=DATA_PATH_AVG, time_intervall_days=1, c_fertilizer1=c_fertilizer1, c_fertilizer2=c_fertilizer2, c_fertilizer3=c_fertilizer3)\n",
    "\n",
    "results.head()"
   ]
  },
  {
   "cell_type": "markdown",
   "metadata": {},
   "source": [
    "## Analyse results"
   ]
  },
  {
   "cell_type": "code",
   "execution_count": 129,
   "metadata": {},
   "outputs": [],
   "source": [
    "def plot_excess_stacked(df_transposed):\n",
    "    excess_labels = [f'Excess {i}' for i in range(len(df_transposed['excess'].iloc[0]))]\n",
    "    days = df_transposed.index\n",
    "    day_array = [int(day.split('_')[0])  for day in days]\n",
    "    x = np.arange(len(days))  # the label locations for days\n",
    "    width = 0.35  # The width of the bars\n",
    "\n",
    "    # Plot stacked bar chart\n",
    "    plt.figure(figsize=(10, 6))\n",
    "\n",
    "    # Initialize the bottom of the stack\n",
    "    bottom = np.zeros(len(days))\n",
    "\n",
    "    # Plot each excess group on top of the previous one (stacked)\n",
    "    for i, label in enumerate(excess_labels):\n",
    "        excess_values = [df_transposed.loc[day, 'excess'][i] for day in df_transposed.index]\n",
    "        plt.bar(x, excess_values, width=width, label=label, bottom=bottom)\n",
    "        \n",
    "        # Update the bottom to include the current excess values\n",
    "        bottom += excess_values\n",
    "\n",
    "    # Adding gridlines\n",
    "    plt.grid(axis='y', which='both', linestyle='--', linewidth=0.7, color='grey')\n",
    "\n",
    "    # Labeling\n",
    "    plt.xlabel('Days')\n",
    "    plt.ylabel('Excess Value')\n",
    "    plt.title('Stacked Excess Values for Different Days')\n",
    "\n",
    "    # Adjust x-ticks to display numeric labels (1, 2, 3, ...) instead of day_0, day_7, etc.\n",
    "    # plt.xticks(x, labels=[i for i in range(len(days))])\n",
    "    x_labels = [day+day_array[1] for day in day_array]\n",
    "    plt.xticks(x, labels=x_labels)\n",
    "\n",
    "    # Add legend and show the plot\n",
    "    plt.legend(title='Excess Groups')\n",
    "    plt.tight_layout()\n",
    "    plt.show()"
   ]
  },
  {
   "cell_type": "code",
   "execution_count": null,
   "metadata": {},
   "outputs": [],
   "source": [
    "plot_excess_stacked(results)"
   ]
  },
  {
   "cell_type": "code",
   "execution_count": null,
   "metadata": {},
   "outputs": [],
   "source": [
    "results['objective_function']"
   ]
  },
  {
   "cell_type": "code",
   "execution_count": null,
   "metadata": {},
   "outputs": [],
   "source": []
  }
 ],
 "metadata": {
  "kernelspec": {
   "display_name": ".venv",
   "language": "python",
   "name": "python3"
  },
  "language_info": {
   "codemirror_mode": {
    "name": "ipython",
    "version": 3
   },
   "file_extension": ".py",
   "mimetype": "text/x-python",
   "name": "python",
   "nbconvert_exporter": "python",
   "pygments_lexer": "ipython3",
   "version": "3.10.12"
  }
 },
 "nbformat": 4,
 "nbformat_minor": 2
}
