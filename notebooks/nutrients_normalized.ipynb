{
 "cells": [
  {
   "cell_type": "markdown",
   "metadata": {},
   "source": [
    "# Nutrition"
   ]
  },
  {
   "cell_type": "code",
   "execution_count": 166,
   "metadata": {},
   "outputs": [],
   "source": [
    "import pandas as pd\n",
    "import numpy as np\n",
    "import matplotlib.pyplot as plt\n",
    "import seaborn as sns\n",
    "from scipy.optimize import minimize"
   ]
  },
  {
   "cell_type": "markdown",
   "metadata": {},
   "source": [
    "## Raw Data"
   ]
  },
  {
   "cell_type": "code",
   "execution_count": 167,
   "metadata": {},
   "outputs": [
    {
     "data": {
      "text/html": [
       "<div>\n",
       "<style scoped>\n",
       "    .dataframe tbody tr th:only-of-type {\n",
       "        vertical-align: middle;\n",
       "    }\n",
       "\n",
       "    .dataframe tbody tr th {\n",
       "        vertical-align: top;\n",
       "    }\n",
       "\n",
       "    .dataframe thead th {\n",
       "        text-align: right;\n",
       "    }\n",
       "</style>\n",
       "<table border=\"1\" class=\"dataframe\">\n",
       "  <thead>\n",
       "    <tr style=\"text-align: right;\">\n",
       "      <th></th>\n",
       "      <th>B</th>\n",
       "      <th>Ca</th>\n",
       "      <th>Cu</th>\n",
       "      <th>Fe</th>\n",
       "      <th>K</th>\n",
       "      <th>Mg</th>\n",
       "      <th>Mn</th>\n",
       "      <th>Na</th>\n",
       "      <th>P</th>\n",
       "      <th>Zn</th>\n",
       "      <th>N</th>\n",
       "      <th>Time</th>\n",
       "    </tr>\n",
       "  </thead>\n",
       "  <tbody>\n",
       "    <tr>\n",
       "      <th>0</th>\n",
       "      <td>1.000000</td>\n",
       "      <td>1.000000</td>\n",
       "      <td>1.000000</td>\n",
       "      <td>1.000000</td>\n",
       "      <td>1.000000</td>\n",
       "      <td>1.000000</td>\n",
       "      <td>1.000000</td>\n",
       "      <td>1.000000</td>\n",
       "      <td>1.000000</td>\n",
       "      <td>1.000000</td>\n",
       "      <td>1.000000</td>\n",
       "      <td>0</td>\n",
       "    </tr>\n",
       "    <tr>\n",
       "      <th>1</th>\n",
       "      <td>0.975676</td>\n",
       "      <td>0.967033</td>\n",
       "      <td>0.757225</td>\n",
       "      <td>0.926220</td>\n",
       "      <td>0.984881</td>\n",
       "      <td>0.997118</td>\n",
       "      <td>0.963664</td>\n",
       "      <td>0.982721</td>\n",
       "      <td>0.964880</td>\n",
       "      <td>0.885609</td>\n",
       "      <td>0.947009</td>\n",
       "      <td>7</td>\n",
       "    </tr>\n",
       "    <tr>\n",
       "      <th>2</th>\n",
       "      <td>0.965541</td>\n",
       "      <td>0.958242</td>\n",
       "      <td>0.739884</td>\n",
       "      <td>0.925085</td>\n",
       "      <td>0.876890</td>\n",
       "      <td>0.981268</td>\n",
       "      <td>0.918244</td>\n",
       "      <td>0.906407</td>\n",
       "      <td>0.892791</td>\n",
       "      <td>0.833948</td>\n",
       "      <td>0.902171</td>\n",
       "      <td>14</td>\n",
       "    </tr>\n",
       "    <tr>\n",
       "      <th>3</th>\n",
       "      <td>0.864865</td>\n",
       "      <td>0.901099</td>\n",
       "      <td>0.624277</td>\n",
       "      <td>0.872872</td>\n",
       "      <td>0.280562</td>\n",
       "      <td>0.881844</td>\n",
       "      <td>0.438304</td>\n",
       "      <td>0.410367</td>\n",
       "      <td>0.510166</td>\n",
       "      <td>0.321033</td>\n",
       "      <td>0.631666</td>\n",
       "      <td>21</td>\n",
       "    </tr>\n",
       "  </tbody>\n",
       "</table>\n",
       "</div>"
      ],
      "text/plain": [
       "          B        Ca        Cu        Fe         K        Mg        Mn  \\\n",
       "0  1.000000  1.000000  1.000000  1.000000  1.000000  1.000000  1.000000   \n",
       "1  0.975676  0.967033  0.757225  0.926220  0.984881  0.997118  0.963664   \n",
       "2  0.965541  0.958242  0.739884  0.925085  0.876890  0.981268  0.918244   \n",
       "3  0.864865  0.901099  0.624277  0.872872  0.280562  0.881844  0.438304   \n",
       "\n",
       "         Na         P        Zn         N  Time  \n",
       "0  1.000000  1.000000  1.000000  1.000000     0  \n",
       "1  0.982721  0.964880  0.885609  0.947009     7  \n",
       "2  0.906407  0.892791  0.833948  0.902171    14  \n",
       "3  0.410367  0.510166  0.321033  0.631666    21  "
      ]
     },
     "execution_count": 167,
     "metadata": {},
     "output_type": "execute_result"
    }
   ],
   "source": [
    "DATA_PATH_AVG = '../data/input/nutrients_avg.xlsx'\n",
    "\n",
    "def process_data(data_path):\n",
    "    df = pd.read_excel(data_path)\n",
    "    time_column = df['Time']\n",
    "    df_no_time = df.drop(columns='Time')\n",
    "    X = df_no_time.to_numpy()\n",
    "    sorted_data = np.sort(X, axis=0)[::-1]\n",
    "    maxes = np.max(sorted_data, axis=0)\n",
    "    normalized_data = sorted_data / maxes\n",
    "    data_df = pd.DataFrame(normalized_data, columns=df_no_time.columns)\n",
    "    data_df['Time'] = time_column.sort_values(ascending=True).reset_index(drop=True)\n",
    "    return data_df, maxes\n",
    "\n",
    "df_data_normalized, maxes = process_data(DATA_PATH_AVG)\n",
    "\n",
    "df_data_normalized.head()"
   ]
  },
  {
   "cell_type": "code",
   "execution_count": 168,
   "metadata": {},
   "outputs": [
    {
     "data": {
      "text/html": [
       "<div>\n",
       "<style scoped>\n",
       "    .dataframe tbody tr th:only-of-type {\n",
       "        vertical-align: middle;\n",
       "    }\n",
       "\n",
       "    .dataframe tbody tr th {\n",
       "        vertical-align: top;\n",
       "    }\n",
       "\n",
       "    .dataframe thead th {\n",
       "        text-align: right;\n",
       "    }\n",
       "</style>\n",
       "<table border=\"1\" class=\"dataframe\">\n",
       "  <thead>\n",
       "    <tr style=\"text-align: right;\">\n",
       "      <th></th>\n",
       "      <th>B</th>\n",
       "      <th>Ca</th>\n",
       "      <th>Cu</th>\n",
       "      <th>Fe</th>\n",
       "      <th>K</th>\n",
       "      <th>Mg</th>\n",
       "      <th>Mn</th>\n",
       "      <th>Na</th>\n",
       "      <th>P</th>\n",
       "      <th>Zn</th>\n",
       "      <th>N</th>\n",
       "    </tr>\n",
       "  </thead>\n",
       "  <tbody>\n",
       "    <tr>\n",
       "      <th>0</th>\n",
       "      <td>0.000210</td>\n",
       "      <td>0.000094</td>\n",
       "      <td>0.264246</td>\n",
       "      <td>0.001538</td>\n",
       "      <td>0.000125</td>\n",
       "      <td>0.000292</td>\n",
       "      <td>0.036727</td>\n",
       "      <td>0.000096</td>\n",
       "      <td>0.000286</td>\n",
       "      <td>0.021631</td>\n",
       "      <td>0.000050</td>\n",
       "    </tr>\n",
       "    <tr>\n",
       "      <th>1</th>\n",
       "      <td>0.032856</td>\n",
       "      <td>0.000095</td>\n",
       "      <td>0.181090</td>\n",
       "      <td>0.005791</td>\n",
       "      <td>0.000107</td>\n",
       "      <td>0.000319</td>\n",
       "      <td>0.010258</td>\n",
       "      <td>0.000165</td>\n",
       "      <td>0.000171</td>\n",
       "      <td>0.030520</td>\n",
       "      <td>0.000052</td>\n",
       "    </tr>\n",
       "    <tr>\n",
       "      <th>2</th>\n",
       "      <td>0.039601</td>\n",
       "      <td>0.000026</td>\n",
       "      <td>0.245943</td>\n",
       "      <td>0.003782</td>\n",
       "      <td>0.000117</td>\n",
       "      <td>0.000283</td>\n",
       "      <td>0.008109</td>\n",
       "      <td>0.000259</td>\n",
       "      <td>0.000115</td>\n",
       "      <td>0.180471</td>\n",
       "      <td>0.000008</td>\n",
       "    </tr>\n",
       "  </tbody>\n",
       "</table>\n",
       "</div>"
      ],
      "text/plain": [
       "          B        Ca        Cu        Fe         K        Mg        Mn  \\\n",
       "0  0.000210  0.000094  0.264246  0.001538  0.000125  0.000292  0.036727   \n",
       "1  0.032856  0.000095  0.181090  0.005791  0.000107  0.000319  0.010258   \n",
       "2  0.039601  0.000026  0.245943  0.003782  0.000117  0.000283  0.008109   \n",
       "\n",
       "         Na         P        Zn         N  \n",
       "0  0.000096  0.000286  0.021631  0.000050  \n",
       "1  0.000165  0.000171  0.030520  0.000052  \n",
       "2  0.000259  0.000115  0.180471  0.000008  "
      ]
     },
     "execution_count": 168,
     "metadata": {},
     "output_type": "execute_result"
    }
   ],
   "source": [
    "FERTILIZER_PATH = '../data/input/fertilizer.xlsx'\n",
    "\n",
    "df_fertilizer = pd.read_excel(FERTILIZER_PATH)\n",
    "df_fertilizer_normalized = df_fertilizer/maxes\n",
    "df_fertilizer_normalized.head()"
   ]
  },
  {
   "cell_type": "markdown",
   "metadata": {},
   "source": [
    "## Data Preparation"
   ]
  },
  {
   "cell_type": "code",
   "execution_count": 184,
   "metadata": {},
   "outputs": [],
   "source": [
    "from scipy.interpolate import interp1d\n",
    "from scipy.interpolate import CubicSpline, PchipInterpolator, Akima1DInterpolator\n",
    "\n",
    "def interpolate_data(data_df, num_points=500, kind='cubic'):\n",
    "    data = data_df.to_numpy()\n",
    "    x_original = np.arange(data.shape[0])  # Original index positions\n",
    "    x_interp = np.linspace(0, data.shape[0] - 1, num_points)  # Interpolation index positions\n",
    "    \n",
    "    # Initialize an array to store interpolated data\n",
    "    Y_interp = np.zeros((num_points, data.shape[1]))\n",
    "    \n",
    "    # Interpolate each column\n",
    "    if kind!='pchip':\n",
    "        for col in range(data.shape[1]):\n",
    "            f = interp1d(x_original, data[:, col], kind=kind)  # Use the specified interpolation method\n",
    "            Y_interp[:, col] = f(x_interp)\n",
    "    else:\n",
    "        for col in range(data.shape[1]):\n",
    "            pchip_interpolator = PchipInterpolator(x_original, data[:, col])  # Create PCHIP interpolator\n",
    "            Y_interp[:, col] = pchip_interpolator(x_interp)\n",
    "\n",
    "\n",
    "    # Create a DataFrame for the interpolated data\n",
    "    interpolated_df = pd.DataFrame(Y_interp, columns=data_df.columns)\n",
    "\n",
    "    return interpolated_df\n",
    "\n",
    "\n",
    "df_data_normalized_interp = interpolate_data(df_data_normalized, num_points=21, kind='pchip')\n",
    " "
   ]
  },
  {
   "cell_type": "code",
   "execution_count": 183,
   "metadata": {},
   "outputs": [
    {
     "data": {
      "application/vnd.plotly.v1+json": {
       "config": {
        "plotlyServerURL": "https://plot.ly"
       },
       "data": [
        {
         "line": {
          "width": 2
         },
         "mode": "lines",
         "name": "B",
         "type": "scatter",
         "x": [
          0,
          1.05,
          2.1,
          3.1499999999999995,
          4.2,
          5.25,
          6.299999999999999,
          7.3500000000000005,
          8.4,
          9.45,
          10.5,
          11.549999999999999,
          12.599999999999998,
          13.649999999999999,
          14.700000000000001,
          15.75,
          16.8,
          17.849999999999998,
          18.9,
          19.950000000000003,
          21
         ],
         "xaxis": "x",
         "y": [
          0.246666666666667,
          0.245529760416667,
          0.24445376960784349,
          0.24345328615196116,
          0.24254290196078465,
          0.24173720894607878,
          0.2410507990196082,
          0.24050006583273587,
          0.2401002678144432,
          0.23980209103000988,
          0.23954332556193242,
          0.23926176149270714,
          0.23889518890483055,
          0.23838139788079898,
          0.23742737601626046,
          0.23533514354674823,
          0.2322271869918701,
          0.2282882670223578,
          0.22370314430894303,
          0.2186565795223575,
          0.213333333333333
         ],
         "yaxis": "y"
        },
        {
         "line": {
          "width": 2
         },
         "mode": "lines",
         "name": "Ca",
         "type": "scatter",
         "x": [
          0,
          1.05,
          2.1,
          3.1499999999999995,
          4.2,
          5.25,
          6.299999999999999,
          7.3500000000000005,
          8.4,
          9.45,
          10.5,
          11.549999999999999,
          12.599999999999998,
          13.649999999999999,
          14.700000000000001,
          15.75,
          16.8,
          17.849999999999998,
          18.9,
          19.950000000000003,
          21
         ],
         "xaxis": "x2",
         "y": [
          75.8333333333333,
          75.33130866228066,
          74.85739912280698,
          74.42235142543856,
          74.0369122807017,
          73.71182839912275,
          73.45784649122803,
          73.28374444444441,
          73.1662409356725,
          73.08185321637426,
          73.01286549707602,
          72.9415619883041,
          72.85022690058481,
          72.72114444444448,
          72.50723333333337,
          72.11614583333338,
          71.56693333333337,
          70.88682083333336,
          70.10303333333334,
          69.24279583333332,
          68.3333333333333
         ],
         "yaxis": "y2"
        },
        {
         "line": {
          "width": 2
         },
         "mode": "lines",
         "name": "Cu",
         "type": "scatter",
         "x": [
          0,
          1.05,
          2.1,
          3.1499999999999995,
          4.2,
          5.25,
          6.299999999999999,
          7.3500000000000005,
          8.4,
          9.45,
          10.5,
          11.549999999999999,
          12.599999999999998,
          13.649999999999999,
          14.700000000000001,
          15.75,
          16.8,
          17.849999999999998,
          18.9,
          19.950000000000003,
          21
         ],
         "xaxis": "x3",
         "y": [
          0.0288333333333333,
          0.027315089583333303,
          0.025873383333333298,
          0.0245652520833333,
          0.023447733333333297,
          0.0225778645833333,
          0.022012683333333304,
          0.021789656884057935,
          0.021689692753623153,
          0.02162368079710142,
          0.021575362318840545,
          0.021528478623188376,
          0.021466771014492722,
          0.021373980797101417,
          0.021212315217391278,
          0.020912873641304317,
          0.020490782608695628,
          0.019967245923913024,
          0.01936346739130434,
          0.018700650815217386,
          0.017999999999999995
         ],
         "yaxis": "y3"
        },
        {
         "line": {
          "width": 2
         },
         "mode": "lines",
         "name": "Fe",
         "type": "scatter",
         "x": [
          0,
          1.05,
          2.1,
          3.1499999999999995,
          4.2,
          5.25,
          6.299999999999999,
          7.3500000000000005,
          8.4,
          9.45,
          10.5,
          11.549999999999999,
          12.599999999999998,
          13.649999999999999,
          14.700000000000001,
          15.75,
          16.8,
          17.849999999999998,
          18.9,
          19.950000000000003,
          21
         ],
         "xaxis": "x4",
         "y": [
          1.46833333333333,
          1.4442942424242402,
          1.4213751515151503,
          1.4006233333333329,
          1.383086060606061,
          1.3698106060606068,
          1.361844242424243,
          1.3598475272673543,
          1.3595108618095844,
          1.3593047379378882,
          1.3591641145497513,
          1.359023950542659,
          1.3588192048140961,
          1.358484836261549,
          1.356949911347514,
          1.3512469525709185,
          1.3418368794326212,
          1.329446753102835,
          1.314803634751773,
          1.298634585549647,
          1.28166666666667
         ],
         "yaxis": "y4"
        },
        {
         "line": {
          "width": 2
         },
         "mode": "lines",
         "name": "K",
         "type": "scatter",
         "x": [
          0,
          1.05,
          2.1,
          3.1499999999999995,
          4.2,
          5.25,
          6.299999999999999,
          7.3500000000000005,
          8.4,
          9.45,
          10.5,
          11.549999999999999,
          12.599999999999998,
          13.649999999999999,
          14.700000000000001,
          15.75,
          16.8,
          17.849999999999998,
          18.9,
          19.950000000000003,
          21
         ],
         "xaxis": "x5",
         "y": [
          77.1666666666667,
          77.1349364035088,
          77.04361403508774,
          76.89850219298248,
          76.70540350877195,
          76.4701206140351,
          76.19845614035088,
          75.88073635387917,
          75.32290385577558,
          74.47302056601946,
          73.34138704627254,
          71.93830385819656,
          70.27407156345328,
          68.35899072370442,
          65.81891672033122,
          61.53240750057502,
          55.66318528058881,
          48.47579174045542,
          40.23476856025762,
          31.2046574200782,
          21.649999999999995
         ],
         "yaxis": "y5"
        },
        {
         "line": {
          "width": 2
         },
         "mode": "lines",
         "name": "Mg",
         "type": "scatter",
         "x": [
          0,
          1.05,
          2.1,
          3.1499999999999995,
          4.2,
          5.25,
          6.299999999999999,
          7.3500000000000005,
          8.4,
          9.45,
          10.5,
          11.549999999999999,
          12.599999999999998,
          13.649999999999999,
          14.700000000000001,
          15.75,
          16.8,
          17.849999999999998,
          18.9,
          19.950000000000003,
          21
         ],
         "xaxis": "x6",
         "y": [
          23.1333333333333,
          23.131441025640996,
          23.126041025641,
          23.1175487179487,
          23.10637948717948,
          23.092948717948726,
          23.077671794871815,
          23.060419495192342,
          23.03433230769235,
          22.99703781250004,
          22.9482932692308,
          22.887855937500024,
          22.81548307692309,
          22.730931947115387,
          22.613767499999994,
          22.40480468749999,
          22.112919999999992,
          21.752305312499992,
          21.337152499999995,
          20.881653437499995,
          20.400000000000002
         ],
         "yaxis": "y6"
        },
        {
         "line": {
          "width": 2
         },
         "mode": "lines",
         "name": "Mn",
         "type": "scatter",
         "x": [
          0,
          1.05,
          2.1,
          3.1499999999999995,
          4.2,
          5.25,
          6.299999999999999,
          7.3500000000000005,
          8.4,
          9.45,
          10.5,
          11.549999999999999,
          12.599999999999998,
          13.649999999999999,
          14.700000000000001,
          15.75,
          16.8,
          17.849999999999998,
          18.9,
          19.950000000000003,
          21
         ],
         "xaxis": "x7",
         "y": [
          0.220166666666667,
          0.21909204166666701,
          0.217969666666667,
          0.21680179166666702,
          0.21559066666666699,
          0.21433854166666702,
          0.213047666666667,
          0.21173644892731383,
          0.2105735574767855,
          0.2094895421069488,
          0.20833941722702565,
          0.20697819724623795,
          0.20526089657380758,
          0.20304252961895647,
          0.19910955763688792,
          0.19028221811959686,
          0.17707699135446714,
          0.1602950167507207,
          0.14073743371757944,
          0.1192053816642652,
          0.0965
         ],
         "yaxis": "y7"
        },
        {
         "line": {
          "width": 2
         },
         "mode": "lines",
         "name": "Na",
         "type": "scatter",
         "x": [
          0,
          1.05,
          2.1,
          3.1499999999999995,
          4.2,
          5.25,
          6.299999999999999,
          7.3500000000000005,
          8.4,
          9.45,
          10.5,
          11.549999999999999,
          12.599999999999998,
          13.649999999999999,
          14.700000000000001,
          15.75,
          16.8,
          17.849999999999998,
          18.9,
          19.950000000000003,
          21
         ],
         "xaxis": "x8",
         "y": [
          23.15,
          23.138175384615383,
          23.104695384615386,
          23.052550769230766,
          22.98473230769231,
          22.904230769230768,
          22.81403692307692,
          22.715029059829057,
          22.58076239316239,
          22.399611111111103,
          22.16790598290597,
          21.88197777777776,
          21.538157264957245,
          21.13277521367518,
          20.560834999999962,
          19.52445312499996,
          18.069039999999966,
          16.266741874999973,
          14.189704999999986,
          11.91007562499999,
          9.500000000000002
         ],
         "yaxis": "y8"
        },
        {
         "line": {
          "width": 2
         },
         "mode": "lines",
         "name": "P",
         "type": "scatter",
         "x": [
          0,
          1.05,
          2.1,
          3.1499999999999995,
          4.2,
          5.25,
          6.299999999999999,
          7.3500000000000005,
          8.4,
          9.45,
          10.5,
          11.549999999999999,
          12.599999999999998,
          13.649999999999999,
          14.700000000000001,
          15.75,
          16.8,
          17.849999999999998,
          18.9,
          19.950000000000003,
          21
         ],
         "xaxis": "x9",
         "y": [
          18.0333333333333,
          17.978635057471237,
          17.90609195402297,
          17.818031609195383,
          17.71678160919539,
          17.604669540229878,
          17.484022988505743,
          17.35733698486123,
          17.225789066442392,
          17.081980256518086,
          16.917010092514722,
          16.721978111858707,
          16.487983851976452,
          16.206126850294364,
          15.816887804878052,
          15.168902439024393,
          14.287356097560979,
          13.210970731707318,
          11.978468292682926,
          10.628570731707315,
          9.2
         ],
         "yaxis": "y9"
        },
        {
         "line": {
          "width": 2
         },
         "mode": "lines",
         "name": "Zn",
         "type": "scatter",
         "x": [
          0,
          1.05,
          2.1,
          3.1499999999999995,
          4.2,
          5.25,
          6.299999999999999,
          7.3500000000000005,
          8.4,
          9.45,
          10.5,
          11.549999999999999,
          12.599999999999998,
          13.649999999999999,
          14.700000000000001,
          15.75,
          16.8,
          17.849999999999998,
          18.9,
          19.950000000000003,
          21
         ],
         "xaxis": "x10",
         "y": [
          0.0451666666666667,
          0.04420080625000003,
          0.04328545000000002,
          0.04243143541666668,
          0.0416496,
          0.04095078125,
          0.040345816666666666,
          0.0398480839869281,
          0.03948150588235295,
          0.03920477483660132,
          0.038961437908496745,
          0.03869504215686277,
          0.0383491346405229,
          0.037867262418300685,
          0.03697683823529416,
          0.035024892769607886,
          0.03212549019607847,
          0.028450965073529445,
          0.02417365196078435,
          0.019465885416666672,
          0.0145
         ],
         "yaxis": "y10"
        },
        {
         "line": {
          "width": 2
         },
         "mode": "lines",
         "name": "N",
         "type": "scatter",
         "x": [
          0,
          1.05,
          2.1,
          3.1499999999999995,
          4.2,
          5.25,
          6.299999999999999,
          7.3500000000000005,
          8.4,
          9.45,
          10.5,
          11.549999999999999,
          12.599999999999998,
          13.649999999999999,
          14.700000000000001,
          15.75,
          16.8,
          17.849999999999998,
          18.9,
          19.950000000000003,
          21
         ],
         "xaxis": "x11",
         "y": [
          189.524597441025,
          187.91837710568134,
          186.34533244313522,
          184.8067675008399,
          183.3039863262489,
          181.8382929668155,
          180.41099146999318,
          179.039020002346,
          177.88580255599027,
          176.88666839301848,
          175.90412939813584,
          174.80069745604746,
          173.43888445145848,
          171.681202269074,
          169.02104804037526,
          164.32843232349077,
          157.8126861521906,
          149.78370411340669,
          140.5513807940711,
          130.42561078111584,
          119.716288661473
         ],
         "yaxis": "y11"
        }
       ],
       "layout": {
        "annotations": [
         {
          "font": {
           "size": 16
          },
          "showarrow": false,
          "text": "B",
          "x": 0.13333333333333333,
          "xanchor": "center",
          "xref": "paper",
          "y": 1,
          "yanchor": "bottom",
          "yref": "paper"
         },
         {
          "font": {
           "size": 16
          },
          "showarrow": false,
          "text": "Ca",
          "x": 0.5,
          "xanchor": "center",
          "xref": "paper",
          "y": 1,
          "yanchor": "bottom",
          "yref": "paper"
         },
         {
          "font": {
           "size": 16
          },
          "showarrow": false,
          "text": "Cu",
          "x": 0.8666666666666667,
          "xanchor": "center",
          "xref": "paper",
          "y": 1,
          "yanchor": "bottom",
          "yref": "paper"
         },
         {
          "font": {
           "size": 16
          },
          "showarrow": false,
          "text": "Fe",
          "x": 0.13333333333333333,
          "xanchor": "center",
          "xref": "paper",
          "y": 0.7124999999999999,
          "yanchor": "bottom",
          "yref": "paper"
         },
         {
          "font": {
           "size": 16
          },
          "showarrow": false,
          "text": "K",
          "x": 0.5,
          "xanchor": "center",
          "xref": "paper",
          "y": 0.7124999999999999,
          "yanchor": "bottom",
          "yref": "paper"
         },
         {
          "font": {
           "size": 16
          },
          "showarrow": false,
          "text": "Mg",
          "x": 0.8666666666666667,
          "xanchor": "center",
          "xref": "paper",
          "y": 0.7124999999999999,
          "yanchor": "bottom",
          "yref": "paper"
         },
         {
          "font": {
           "size": 16
          },
          "showarrow": false,
          "text": "Mn",
          "x": 0.13333333333333333,
          "xanchor": "center",
          "xref": "paper",
          "y": 0.425,
          "yanchor": "bottom",
          "yref": "paper"
         },
         {
          "font": {
           "size": 16
          },
          "showarrow": false,
          "text": "Na",
          "x": 0.5,
          "xanchor": "center",
          "xref": "paper",
          "y": 0.425,
          "yanchor": "bottom",
          "yref": "paper"
         },
         {
          "font": {
           "size": 16
          },
          "showarrow": false,
          "text": "P",
          "x": 0.8666666666666667,
          "xanchor": "center",
          "xref": "paper",
          "y": 0.425,
          "yanchor": "bottom",
          "yref": "paper"
         },
         {
          "font": {
           "size": 16
          },
          "showarrow": false,
          "text": "Zn",
          "x": 0.13333333333333333,
          "xanchor": "center",
          "xref": "paper",
          "y": 0.1375,
          "yanchor": "bottom",
          "yref": "paper"
         },
         {
          "font": {
           "size": 16
          },
          "showarrow": false,
          "text": "N",
          "x": 0.5,
          "xanchor": "center",
          "xref": "paper",
          "y": 0.1375,
          "yanchor": "bottom",
          "yref": "paper"
         }
        ],
        "height": 1200,
        "showlegend": false,
        "template": {
         "data": {
          "bar": [
           {
            "error_x": {
             "color": "#2a3f5f"
            },
            "error_y": {
             "color": "#2a3f5f"
            },
            "marker": {
             "line": {
              "color": "white",
              "width": 0.5
             },
             "pattern": {
              "fillmode": "overlay",
              "size": 10,
              "solidity": 0.2
             }
            },
            "type": "bar"
           }
          ],
          "barpolar": [
           {
            "marker": {
             "line": {
              "color": "white",
              "width": 0.5
             },
             "pattern": {
              "fillmode": "overlay",
              "size": 10,
              "solidity": 0.2
             }
            },
            "type": "barpolar"
           }
          ],
          "carpet": [
           {
            "aaxis": {
             "endlinecolor": "#2a3f5f",
             "gridcolor": "#C8D4E3",
             "linecolor": "#C8D4E3",
             "minorgridcolor": "#C8D4E3",
             "startlinecolor": "#2a3f5f"
            },
            "baxis": {
             "endlinecolor": "#2a3f5f",
             "gridcolor": "#C8D4E3",
             "linecolor": "#C8D4E3",
             "minorgridcolor": "#C8D4E3",
             "startlinecolor": "#2a3f5f"
            },
            "type": "carpet"
           }
          ],
          "choropleth": [
           {
            "colorbar": {
             "outlinewidth": 0,
             "ticks": ""
            },
            "type": "choropleth"
           }
          ],
          "contour": [
           {
            "colorbar": {
             "outlinewidth": 0,
             "ticks": ""
            },
            "colorscale": [
             [
              0,
              "#0d0887"
             ],
             [
              0.1111111111111111,
              "#46039f"
             ],
             [
              0.2222222222222222,
              "#7201a8"
             ],
             [
              0.3333333333333333,
              "#9c179e"
             ],
             [
              0.4444444444444444,
              "#bd3786"
             ],
             [
              0.5555555555555556,
              "#d8576b"
             ],
             [
              0.6666666666666666,
              "#ed7953"
             ],
             [
              0.7777777777777778,
              "#fb9f3a"
             ],
             [
              0.8888888888888888,
              "#fdca26"
             ],
             [
              1,
              "#f0f921"
             ]
            ],
            "type": "contour"
           }
          ],
          "contourcarpet": [
           {
            "colorbar": {
             "outlinewidth": 0,
             "ticks": ""
            },
            "type": "contourcarpet"
           }
          ],
          "heatmap": [
           {
            "colorbar": {
             "outlinewidth": 0,
             "ticks": ""
            },
            "colorscale": [
             [
              0,
              "#0d0887"
             ],
             [
              0.1111111111111111,
              "#46039f"
             ],
             [
              0.2222222222222222,
              "#7201a8"
             ],
             [
              0.3333333333333333,
              "#9c179e"
             ],
             [
              0.4444444444444444,
              "#bd3786"
             ],
             [
              0.5555555555555556,
              "#d8576b"
             ],
             [
              0.6666666666666666,
              "#ed7953"
             ],
             [
              0.7777777777777778,
              "#fb9f3a"
             ],
             [
              0.8888888888888888,
              "#fdca26"
             ],
             [
              1,
              "#f0f921"
             ]
            ],
            "type": "heatmap"
           }
          ],
          "heatmapgl": [
           {
            "colorbar": {
             "outlinewidth": 0,
             "ticks": ""
            },
            "colorscale": [
             [
              0,
              "#0d0887"
             ],
             [
              0.1111111111111111,
              "#46039f"
             ],
             [
              0.2222222222222222,
              "#7201a8"
             ],
             [
              0.3333333333333333,
              "#9c179e"
             ],
             [
              0.4444444444444444,
              "#bd3786"
             ],
             [
              0.5555555555555556,
              "#d8576b"
             ],
             [
              0.6666666666666666,
              "#ed7953"
             ],
             [
              0.7777777777777778,
              "#fb9f3a"
             ],
             [
              0.8888888888888888,
              "#fdca26"
             ],
             [
              1,
              "#f0f921"
             ]
            ],
            "type": "heatmapgl"
           }
          ],
          "histogram": [
           {
            "marker": {
             "pattern": {
              "fillmode": "overlay",
              "size": 10,
              "solidity": 0.2
             }
            },
            "type": "histogram"
           }
          ],
          "histogram2d": [
           {
            "colorbar": {
             "outlinewidth": 0,
             "ticks": ""
            },
            "colorscale": [
             [
              0,
              "#0d0887"
             ],
             [
              0.1111111111111111,
              "#46039f"
             ],
             [
              0.2222222222222222,
              "#7201a8"
             ],
             [
              0.3333333333333333,
              "#9c179e"
             ],
             [
              0.4444444444444444,
              "#bd3786"
             ],
             [
              0.5555555555555556,
              "#d8576b"
             ],
             [
              0.6666666666666666,
              "#ed7953"
             ],
             [
              0.7777777777777778,
              "#fb9f3a"
             ],
             [
              0.8888888888888888,
              "#fdca26"
             ],
             [
              1,
              "#f0f921"
             ]
            ],
            "type": "histogram2d"
           }
          ],
          "histogram2dcontour": [
           {
            "colorbar": {
             "outlinewidth": 0,
             "ticks": ""
            },
            "colorscale": [
             [
              0,
              "#0d0887"
             ],
             [
              0.1111111111111111,
              "#46039f"
             ],
             [
              0.2222222222222222,
              "#7201a8"
             ],
             [
              0.3333333333333333,
              "#9c179e"
             ],
             [
              0.4444444444444444,
              "#bd3786"
             ],
             [
              0.5555555555555556,
              "#d8576b"
             ],
             [
              0.6666666666666666,
              "#ed7953"
             ],
             [
              0.7777777777777778,
              "#fb9f3a"
             ],
             [
              0.8888888888888888,
              "#fdca26"
             ],
             [
              1,
              "#f0f921"
             ]
            ],
            "type": "histogram2dcontour"
           }
          ],
          "mesh3d": [
           {
            "colorbar": {
             "outlinewidth": 0,
             "ticks": ""
            },
            "type": "mesh3d"
           }
          ],
          "parcoords": [
           {
            "line": {
             "colorbar": {
              "outlinewidth": 0,
              "ticks": ""
             }
            },
            "type": "parcoords"
           }
          ],
          "pie": [
           {
            "automargin": true,
            "type": "pie"
           }
          ],
          "scatter": [
           {
            "fillpattern": {
             "fillmode": "overlay",
             "size": 10,
             "solidity": 0.2
            },
            "type": "scatter"
           }
          ],
          "scatter3d": [
           {
            "line": {
             "colorbar": {
              "outlinewidth": 0,
              "ticks": ""
             }
            },
            "marker": {
             "colorbar": {
              "outlinewidth": 0,
              "ticks": ""
             }
            },
            "type": "scatter3d"
           }
          ],
          "scattercarpet": [
           {
            "marker": {
             "colorbar": {
              "outlinewidth": 0,
              "ticks": ""
             }
            },
            "type": "scattercarpet"
           }
          ],
          "scattergeo": [
           {
            "marker": {
             "colorbar": {
              "outlinewidth": 0,
              "ticks": ""
             }
            },
            "type": "scattergeo"
           }
          ],
          "scattergl": [
           {
            "marker": {
             "colorbar": {
              "outlinewidth": 0,
              "ticks": ""
             }
            },
            "type": "scattergl"
           }
          ],
          "scattermapbox": [
           {
            "marker": {
             "colorbar": {
              "outlinewidth": 0,
              "ticks": ""
             }
            },
            "type": "scattermapbox"
           }
          ],
          "scatterpolar": [
           {
            "marker": {
             "colorbar": {
              "outlinewidth": 0,
              "ticks": ""
             }
            },
            "type": "scatterpolar"
           }
          ],
          "scatterpolargl": [
           {
            "marker": {
             "colorbar": {
              "outlinewidth": 0,
              "ticks": ""
             }
            },
            "type": "scatterpolargl"
           }
          ],
          "scatterternary": [
           {
            "marker": {
             "colorbar": {
              "outlinewidth": 0,
              "ticks": ""
             }
            },
            "type": "scatterternary"
           }
          ],
          "surface": [
           {
            "colorbar": {
             "outlinewidth": 0,
             "ticks": ""
            },
            "colorscale": [
             [
              0,
              "#0d0887"
             ],
             [
              0.1111111111111111,
              "#46039f"
             ],
             [
              0.2222222222222222,
              "#7201a8"
             ],
             [
              0.3333333333333333,
              "#9c179e"
             ],
             [
              0.4444444444444444,
              "#bd3786"
             ],
             [
              0.5555555555555556,
              "#d8576b"
             ],
             [
              0.6666666666666666,
              "#ed7953"
             ],
             [
              0.7777777777777778,
              "#fb9f3a"
             ],
             [
              0.8888888888888888,
              "#fdca26"
             ],
             [
              1,
              "#f0f921"
             ]
            ],
            "type": "surface"
           }
          ],
          "table": [
           {
            "cells": {
             "fill": {
              "color": "#EBF0F8"
             },
             "line": {
              "color": "white"
             }
            },
            "header": {
             "fill": {
              "color": "#C8D4E3"
             },
             "line": {
              "color": "white"
             }
            },
            "type": "table"
           }
          ]
         },
         "layout": {
          "annotationdefaults": {
           "arrowcolor": "#2a3f5f",
           "arrowhead": 0,
           "arrowwidth": 1
          },
          "autotypenumbers": "strict",
          "coloraxis": {
           "colorbar": {
            "outlinewidth": 0,
            "ticks": ""
           }
          },
          "colorscale": {
           "diverging": [
            [
             0,
             "#8e0152"
            ],
            [
             0.1,
             "#c51b7d"
            ],
            [
             0.2,
             "#de77ae"
            ],
            [
             0.3,
             "#f1b6da"
            ],
            [
             0.4,
             "#fde0ef"
            ],
            [
             0.5,
             "#f7f7f7"
            ],
            [
             0.6,
             "#e6f5d0"
            ],
            [
             0.7,
             "#b8e186"
            ],
            [
             0.8,
             "#7fbc41"
            ],
            [
             0.9,
             "#4d9221"
            ],
            [
             1,
             "#276419"
            ]
           ],
           "sequential": [
            [
             0,
             "#0d0887"
            ],
            [
             0.1111111111111111,
             "#46039f"
            ],
            [
             0.2222222222222222,
             "#7201a8"
            ],
            [
             0.3333333333333333,
             "#9c179e"
            ],
            [
             0.4444444444444444,
             "#bd3786"
            ],
            [
             0.5555555555555556,
             "#d8576b"
            ],
            [
             0.6666666666666666,
             "#ed7953"
            ],
            [
             0.7777777777777778,
             "#fb9f3a"
            ],
            [
             0.8888888888888888,
             "#fdca26"
            ],
            [
             1,
             "#f0f921"
            ]
           ],
           "sequentialminus": [
            [
             0,
             "#0d0887"
            ],
            [
             0.1111111111111111,
             "#46039f"
            ],
            [
             0.2222222222222222,
             "#7201a8"
            ],
            [
             0.3333333333333333,
             "#9c179e"
            ],
            [
             0.4444444444444444,
             "#bd3786"
            ],
            [
             0.5555555555555556,
             "#d8576b"
            ],
            [
             0.6666666666666666,
             "#ed7953"
            ],
            [
             0.7777777777777778,
             "#fb9f3a"
            ],
            [
             0.8888888888888888,
             "#fdca26"
            ],
            [
             1,
             "#f0f921"
            ]
           ]
          },
          "colorway": [
           "#636efa",
           "#EF553B",
           "#00cc96",
           "#ab63fa",
           "#FFA15A",
           "#19d3f3",
           "#FF6692",
           "#B6E880",
           "#FF97FF",
           "#FECB52"
          ],
          "font": {
           "color": "#2a3f5f"
          },
          "geo": {
           "bgcolor": "white",
           "lakecolor": "white",
           "landcolor": "white",
           "showlakes": true,
           "showland": true,
           "subunitcolor": "#C8D4E3"
          },
          "hoverlabel": {
           "align": "left"
          },
          "hovermode": "closest",
          "mapbox": {
           "style": "light"
          },
          "paper_bgcolor": "white",
          "plot_bgcolor": "white",
          "polar": {
           "angularaxis": {
            "gridcolor": "#EBF0F8",
            "linecolor": "#EBF0F8",
            "ticks": ""
           },
           "bgcolor": "white",
           "radialaxis": {
            "gridcolor": "#EBF0F8",
            "linecolor": "#EBF0F8",
            "ticks": ""
           }
          },
          "scene": {
           "xaxis": {
            "backgroundcolor": "white",
            "gridcolor": "#DFE8F3",
            "gridwidth": 2,
            "linecolor": "#EBF0F8",
            "showbackground": true,
            "ticks": "",
            "zerolinecolor": "#EBF0F8"
           },
           "yaxis": {
            "backgroundcolor": "white",
            "gridcolor": "#DFE8F3",
            "gridwidth": 2,
            "linecolor": "#EBF0F8",
            "showbackground": true,
            "ticks": "",
            "zerolinecolor": "#EBF0F8"
           },
           "zaxis": {
            "backgroundcolor": "white",
            "gridcolor": "#DFE8F3",
            "gridwidth": 2,
            "linecolor": "#EBF0F8",
            "showbackground": true,
            "ticks": "",
            "zerolinecolor": "#EBF0F8"
           }
          },
          "shapedefaults": {
           "line": {
            "color": "#2a3f5f"
           }
          },
          "ternary": {
           "aaxis": {
            "gridcolor": "#DFE8F3",
            "linecolor": "#A2B1C6",
            "ticks": ""
           },
           "baxis": {
            "gridcolor": "#DFE8F3",
            "linecolor": "#A2B1C6",
            "ticks": ""
           },
           "bgcolor": "white",
           "caxis": {
            "gridcolor": "#DFE8F3",
            "linecolor": "#A2B1C6",
            "ticks": ""
           }
          },
          "title": {
           "x": 0.05
          },
          "xaxis": {
           "automargin": true,
           "gridcolor": "#EBF0F8",
           "linecolor": "#EBF0F8",
           "ticks": "",
           "title": {
            "standoff": 15
           },
           "zerolinecolor": "#EBF0F8",
           "zerolinewidth": 2
          },
          "yaxis": {
           "automargin": true,
           "gridcolor": "#EBF0F8",
           "linecolor": "#EBF0F8",
           "ticks": "",
           "title": {
            "standoff": 15
           },
           "zerolinecolor": "#EBF0F8",
           "zerolinewidth": 2
          }
         }
        },
        "title": {
         "text": "Interactive Subplots of Concentrations Over Time"
        },
        "width": 900,
        "xaxis": {
         "anchor": "y",
         "domain": [
          0,
          0.26666666666666666
         ],
         "title": {
          "text": "Days"
         }
        },
        "xaxis10": {
         "anchor": "y10",
         "domain": [
          0,
          0.26666666666666666
         ],
         "title": {
          "text": "Days"
         }
        },
        "xaxis11": {
         "anchor": "y11",
         "domain": [
          0.3666666666666667,
          0.6333333333333333
         ],
         "title": {
          "text": "Days"
         }
        },
        "xaxis12": {
         "anchor": "y12",
         "domain": [
          0.7333333333333334,
          1
         ]
        },
        "xaxis2": {
         "anchor": "y2",
         "domain": [
          0.3666666666666667,
          0.6333333333333333
         ],
         "title": {
          "text": "Days"
         }
        },
        "xaxis3": {
         "anchor": "y3",
         "domain": [
          0.7333333333333334,
          1
         ],
         "title": {
          "text": "Days"
         }
        },
        "xaxis4": {
         "anchor": "y4",
         "domain": [
          0,
          0.26666666666666666
         ],
         "title": {
          "text": "Days"
         }
        },
        "xaxis5": {
         "anchor": "y5",
         "domain": [
          0.3666666666666667,
          0.6333333333333333
         ],
         "title": {
          "text": "Days"
         }
        },
        "xaxis6": {
         "anchor": "y6",
         "domain": [
          0.7333333333333334,
          1
         ],
         "title": {
          "text": "Days"
         }
        },
        "xaxis7": {
         "anchor": "y7",
         "domain": [
          0,
          0.26666666666666666
         ],
         "title": {
          "text": "Days"
         }
        },
        "xaxis8": {
         "anchor": "y8",
         "domain": [
          0.3666666666666667,
          0.6333333333333333
         ],
         "title": {
          "text": "Days"
         }
        },
        "xaxis9": {
         "anchor": "y9",
         "domain": [
          0.7333333333333334,
          1
         ],
         "title": {
          "text": "Days"
         }
        },
        "yaxis": {
         "anchor": "x",
         "domain": [
          0.8625,
          1
         ],
         "range": [
          0,
          null
         ],
         "title": {
          "text": "Concentration"
         }
        },
        "yaxis10": {
         "anchor": "x10",
         "domain": [
          0,
          0.1375
         ],
         "range": [
          0,
          null
         ],
         "title": {
          "text": "Concentration"
         }
        },
        "yaxis11": {
         "anchor": "x11",
         "domain": [
          0,
          0.1375
         ],
         "range": [
          0,
          null
         ],
         "title": {
          "text": "Concentration"
         }
        },
        "yaxis12": {
         "anchor": "x12",
         "domain": [
          0,
          0.1375
         ]
        },
        "yaxis2": {
         "anchor": "x2",
         "domain": [
          0.8625,
          1
         ],
         "range": [
          0,
          null
         ],
         "title": {
          "text": "Concentration"
         }
        },
        "yaxis3": {
         "anchor": "x3",
         "domain": [
          0.8625,
          1
         ],
         "range": [
          0,
          null
         ],
         "title": {
          "text": "Concentration"
         }
        },
        "yaxis4": {
         "anchor": "x4",
         "domain": [
          0.575,
          0.7124999999999999
         ],
         "range": [
          0,
          null
         ],
         "title": {
          "text": "Concentration"
         }
        },
        "yaxis5": {
         "anchor": "x5",
         "domain": [
          0.575,
          0.7124999999999999
         ],
         "range": [
          0,
          null
         ],
         "title": {
          "text": "Concentration"
         }
        },
        "yaxis6": {
         "anchor": "x6",
         "domain": [
          0.575,
          0.7124999999999999
         ],
         "range": [
          0,
          null
         ],
         "title": {
          "text": "Concentration"
         }
        },
        "yaxis7": {
         "anchor": "x7",
         "domain": [
          0.2875,
          0.425
         ],
         "range": [
          0,
          null
         ],
         "title": {
          "text": "Concentration"
         }
        },
        "yaxis8": {
         "anchor": "x8",
         "domain": [
          0.2875,
          0.425
         ],
         "range": [
          0,
          null
         ],
         "title": {
          "text": "Concentration"
         }
        },
        "yaxis9": {
         "anchor": "x9",
         "domain": [
          0.2875,
          0.425
         ],
         "range": [
          0,
          null
         ],
         "title": {
          "text": "Concentration"
         }
        }
       }
      }
     },
     "metadata": {},
     "output_type": "display_data"
    }
   ],
   "source": [
    "import plotly.graph_objects as go\n",
    "from plotly.subplots import make_subplots\n",
    "\n",
    "def plot_curves_interactive(data_df):\n",
    "    # Extract 'Time' column and other data\n",
    "    time = data_df['Time']\n",
    "    y = data_df.drop(columns='Time')  # Drop 'Time' to get only the data for plotting\n",
    "\n",
    "    num_cols = y.shape[1]  # Number of columns to plot\n",
    "    num_rows = (num_cols + 2) // 3  # Calculate number of rows needed for subplots\n",
    "\n",
    "    # Create subplots figure with plotly\n",
    "    fig = make_subplots(rows=num_rows, cols=3, subplot_titles=[col for col in y.columns],\n",
    "                        vertical_spacing=0.15, horizontal_spacing=0.1)\n",
    "\n",
    "    # Plot each column against 'Time'\n",
    "    for i, col in enumerate(y.columns):\n",
    "        row = i // 3 + 1  # Determine row position\n",
    "        col_position = i % 3 + 1  # Determine column position\n",
    "\n",
    "        fig.add_trace(\n",
    "            go.Scatter(\n",
    "                x=time,\n",
    "                y=y[col],\n",
    "                mode='lines',\n",
    "                name=col,\n",
    "                line=dict(width=2)\n",
    "            ),\n",
    "            row=row,\n",
    "            col=col_position\n",
    "        )\n",
    "\n",
    "        # Customize the axis titles and range for each subplot\n",
    "        fig.update_xaxes(title_text='Days', row=row, col=col_position)\n",
    "        fig.update_yaxes(title_text='Concentration', row=row, col=col_position, range=[0, None])\n",
    "\n",
    "    # Update layout for better readability\n",
    "    fig.update_layout(\n",
    "        height=300 * num_rows, width=900, title_text=\"Interactive Subplots of Concentrations Over Time\",\n",
    "        showlegend=False,  # Hide the legend since each subplot has a title\n",
    "        template='plotly_white'\n",
    "    )\n",
    "    \n",
    "    fig.show()\n",
    "\n",
    "# Example usage:\n",
    "df_data_interp = df_data_normalized_interp.drop(columns='Time')*maxes\n",
    "df_data_interp['Time'] = df_data_normalized_interp['Time']\n",
    "plot_curves_interactive(df_data_interp)\n"
   ]
  },
  {
   "cell_type": "code",
   "execution_count": 171,
   "metadata": {},
   "outputs": [],
   "source": [
    "# def absolute_plant_uptake_from_rate(x_interp, plant_uptake_rate, start, end):\n",
    "#     start_index = np.argmin(np.abs(x_interp - start)) # find the best index\n",
    "#     end_index = np.argmin(np.abs(x_interp - end))\n",
    "#     return np.sum(plant_uptake_rate[start_index:end_index,:],axis=0)/(end_index-start_index)\n",
    "\n",
    "# absolute_uptake = absolute_plant_uptake_from_rate(x_interp, plant_uptake_rate, 0,1)\n",
    "# print(f\"{absolute_uptake = }\")"
   ]
  },
  {
   "cell_type": "code",
   "execution_count": 172,
   "metadata": {},
   "outputs": [
    {
     "data": {
      "text/plain": [
       "array([-0., -0., -0., -0., -0., -0., -0., -0., -0., -0., -0.])"
      ]
     },
     "execution_count": 172,
     "metadata": {},
     "output_type": "execute_result"
    }
   ],
   "source": [
    "def absolute_plant_uptake_during_interval(data_df, start, end):\n",
    "    # Extract the 'Time' column\n",
    "    time = data_df['Time'].to_numpy()\n",
    "    \n",
    "    # Find the nearest indices for the start and end times\n",
    "    start_index = np.argmin(np.abs(time - start))\n",
    "    end_index = np.argmin(np.abs(time - end))\n",
    "    \n",
    "    # Calculate uptake as the negative of the nutrient change in solution\n",
    "    uptake = -(data_df.iloc[end_index, 0:-1] - data_df.iloc[start_index, 0:-1])  # Skip 'Time' column\n",
    "\n",
    "    return uptake\n",
    "\n",
    "uptake = absolute_plant_uptake_during_interval(df_data_normalized_interp, 0,21)\n",
    "\n",
    "uptake.to_numpy()"
   ]
  },
  {
   "cell_type": "markdown",
   "metadata": {},
   "source": [
    "## Optimize"
   ]
  },
  {
   "cell_type": "markdown",
   "metadata": {},
   "source": [
    "Consider a single time intervall $I = [t_0, T]$.\n",
    "\n",
    "Unsing the model of the plant uptake we have obtained the the target nutrient concentration should be idealy $\\vec T$.\n",
    "\n",
    "Let us optimize the minimal total amount of fertilizer to reach the target under the constraint that the plant does not experience any deficite of nutrients.\n",
    "\n",
    "$L = \\min(|\\vec{T} - (u_1 \\vec{F}_1 + u_2 \\vec{F}_2 + u_3 \\vec{F}_3|)$\n",
    "\n",
    "Constrain: $\\vec{T} - (u_1 \\vec{F}_1 + u_2 \\vec{F}_2 + u_3 \\vec{F}_3) \\ge 0$\n",
    "\n",
    "**Comments:**\n",
    "\n",
    "1. Since the concentration have different scales, it might be reasonable to scale (transfrom) them using sklearn MaxMinScaler or StandartScaler.\n",
    "Afterwards don't forget to apply the inverse transform to get correct values!"
   ]
  },
  {
   "cell_type": "code",
   "execution_count": 173,
   "metadata": {},
   "outputs": [],
   "source": [
    "def nutrients(param, fertilizer, target):\n",
    "    parameter = np.array(param).reshape(fertilizer.shape[0],1)\n",
    "    weighted_fertilizers = np.multiply(fertilizer,parameter)\n",
    "    total_fertilizers = weighted_fertilizers.sum(axis=0)\n",
    "    value = target - total_fertilizers\n",
    "    return value\n",
    "\n",
    "def objective_function(param, fertilizer, target):\n",
    "    parameter = np.array(param).reshape(fertilizer.shape[0],1)\n",
    "    # print(f\"{parameter.shape=}\")\n",
    "    # print(f\"{fertilizer.shape=}\")\n",
    "    weighted_fertilizers = np.multiply(fertilizer,parameter)\n",
    "    # print(f\"{weighted_fertilizers.shape}\")\n",
    "    total_fertilizers = weighted_fertilizers.sum(axis=0)\n",
    "    # print(f\"{total_fertilizers.shape}\")\n",
    "    value = target - total_fertilizers\n",
    "    return np.sum(np.abs(value))\n",
    "\n",
    "\n",
    "def constraint_function(param, fertilizer, target):\n",
    "    # Reshape the parameter vector and compute weighted fertilizers\n",
    "    parameter = np.array(param).reshape(fertilizer.shape[0], 1)\n",
    "    weighted_fertilizers = np.multiply(fertilizer, parameter)\n",
    "    # Sum the weighted fertilizers to get the total contribution for each nutrient\n",
    "    total_fertilizers = weighted_fertilizers.sum(axis=0)\n",
    "    # Calculate the difference between the target and total fertilizers for each nutrient\n",
    "    value = target - total_fertilizers\n",
    "    # Return the difference (this will ensure SLSQP enforces the constraint for each nutrient)\n",
    "    return value\n",
    "\n",
    "\n",
    "def optimize(fertilizer, target, constraint_function):\n",
    "    # Initial guess for the parameters, one for each row (fertilizer) in the fertilizer DataFrame\n",
    "    initial_guess = np.zeros(fertilizer.shape[0])\n",
    "    \n",
    "    # Define bounds for each parameter (non-negative values)\n",
    "    bounds = [(0, None) for _ in range(fertilizer.shape[0])]\n",
    "    \n",
    "    # Define the constraint dictionary using the provided constraint function\n",
    "    constraints = {'type': 'ineq', 'fun': constraint_function, 'args': (fertilizer, target)}\n",
    "    \n",
    "    # Call the optimizer\n",
    "    result = minimize(\n",
    "        objective_function,\n",
    "        initial_guess,\n",
    "        args=(fertilizer, target),\n",
    "        bounds=bounds,\n",
    "        constraints=constraints,\n",
    "        method='SLSQP'\n",
    "    )\n",
    "    return result  # Return optimized parameters and minimized objective value"
   ]
  },
  {
   "cell_type": "code",
   "execution_count": 174,
   "metadata": {},
   "outputs": [
    {
     "name": "stdout",
     "output_type": "stream",
     "text": [
      "---------------------------------------------------------------------\n",
      "Optimization was successful!\n",
      "Scaled constraint values: [-0. -0. -0. -0. -0. -0. -0. -0. -0. -0. -0.]\n",
      "constraint values: [-0. -0. -0. -0. -0. -0. -0. -0. -0. -0. -0.]\n"
     ]
    }
   ],
   "source": [
    "\n",
    "uptake = absolute_plant_uptake_during_interval(df_data_normalized_interp, 1,2)\n",
    "\n",
    "result = optimize(\n",
    "    df_fertilizer_normalized.to_numpy(),\n",
    "    uptake.to_numpy(),\n",
    "    constraint_function\n",
    ")\n",
    "\n",
    "print(\"---------------------------------------------------------------------\")\n",
    "if result.success:\n",
    "    print(\"Optimization was successful!\")\n",
    "else:\n",
    "    print(\"Optimization failed. Reason:\", result.message)\n",
    "\n",
    "nutrient_values = nutrients(result.x, df_fertilizer_normalized.to_numpy(), uptake.to_numpy())\n",
    "print(\"Scaled constraint values:\", nutrient_values)\n",
    "print(\"constraint values:\", nutrient_values*maxes)\n"
   ]
  },
  {
   "cell_type": "markdown",
   "metadata": {},
   "source": [
    "## Iterative process"
   ]
  },
  {
   "cell_type": "code",
   "execution_count": 185,
   "metadata": {},
   "outputs": [],
   "source": [
    "def calculate_nutrient_schedule(path_data, path_fertilizer, time_intervall_days):\n",
    "\n",
    "    # Load data\n",
    "    df_data_normalized, maxes = process_data(path_data)\n",
    "    df_fertilizer_normalized = pd.read_excel(path_fertilizer)/maxes\n",
    "\n",
    "    # Interpolate data to a timestep of days if necessary\n",
    "    num_days = df_data_normalized['Time'].max()\n",
    "    df_data_normalized_interp = interpolate_data(df_data_normalized, num_points=num_days, kind='pchip')\n",
    "    \n",
    "    # Number of fertilizing days\n",
    "    num_fertilization_events = num_days // time_intervall_days\n",
    "\n",
    "    results = dict()\n",
    "    left_over = 0\n",
    "    for i in range(num_fertilization_events):\n",
    "        # uptake of the plant during the time intervall\n",
    "        start = i*time_intervall_days\n",
    "        end = (i+1)*time_intervall_days\n",
    "        uptake = absolute_plant_uptake_during_interval(df_data_normalized_interp, start, end)\n",
    "        target_concentration = np.abs(uptake.to_numpy() - left_over) # substract left over nutrients\n",
    "        # optimize fertilizer amounts\n",
    "        result = optimize(df_fertilizer_normalized,\n",
    "                          target_concentration,\n",
    "                          constraint_function)\n",
    "        # calculate left over\n",
    "        result.left_over = nutrients(result.x, df_fertilizer_normalized, target_concentration)\n",
    "        # store result\n",
    "        results[f\"{int(end)}\"] = result\n",
    "        \n",
    "    return results\n",
    "\n",
    "optimization_results = calculate_nutrient_schedule(\n",
    "                            path_data='../data/input/nutrients_avg.xlsx',\n",
    "                            path_fertilizer='../data/input/fertilizer.xlsx',\n",
    "                            time_intervall_days=7)"
   ]
  },
  {
   "cell_type": "code",
   "execution_count": 186,
   "metadata": {},
   "outputs": [],
   "source": [
    "import plotly.graph_objects as go\n",
    "\n",
    "def plot_element_stacked_interactive_streamlit(df):\n",
    "    # Get element names (these are your columns)\n",
    "    element_columns = df.columns\n",
    "\n",
    "    # Prepare the x-axis labels (row index keys from the DataFrame)\n",
    "    index_labels = df.index\n",
    "\n",
    "    # Initialize the figure\n",
    "    fig = go.Figure()\n",
    "\n",
    "    # Initialize the bottom of the stack (start with zeros)\n",
    "    bottom = np.zeros(len(index_labels))\n",
    "\n",
    "    # Add each element as a trace\n",
    "    for col in element_columns:\n",
    "        element_values = df[col].values\n",
    "        rounded_values = np.round(element_values, 3)  # Round to 3 decimal places\n",
    "\n",
    "        # Add a bar trace for each element\n",
    "        fig.add_trace(go.Bar(\n",
    "            x=index_labels,\n",
    "            y=element_values,\n",
    "            name=col,\n",
    "            text=[f'{val:.3f}' for val in rounded_values],  # Format values to 3 decimal places\n",
    "            hoverinfo='text+name',  # Show value and label name on hover\n",
    "            offsetgroup=0,\n",
    "            base=bottom\n",
    "        ))\n",
    "\n",
    "        # Update the bottom position for the next stack\n",
    "        bottom += element_values\n",
    "\n",
    "    # Update layout for better readability and display all x-axis labels\n",
    "    fig.update_layout(\n",
    "        title='Element Excess',\n",
    "        xaxis=dict(\n",
    "            title='Day',\n",
    "            type='category',                  # Use categorical axis for clear labeling\n",
    "        ),\n",
    "        yaxis=dict(title='Element Excess'),\n",
    "        barmode='stack',\n",
    "        legend=dict(title='Elements'),\n",
    "        template='plotly_white',\n",
    "        hovermode=\"x\"\n",
    "    )\n",
    "    return fig\n"
   ]
  },
  {
   "cell_type": "markdown",
   "metadata": {},
   "source": [
    "## Analysis"
   ]
  },
  {
   "cell_type": "code",
   "execution_count": 187,
   "metadata": {},
   "outputs": [
    {
     "data": {
      "application/vnd.plotly.v1+json": {
       "config": {
        "plotlyServerURL": "https://plot.ly"
       },
       "data": [
        {
         "base": [
          0,
          0,
          0
         ],
         "hoverinfo": "text+name",
         "name": "B",
         "offsetgroup": "0",
         "text": [
          "0.000",
          "0.002",
          "0.021"
         ],
         "type": "bar",
         "x": [
          "7",
          "14",
          "21"
         ],
         "y": [
          0.0001793203213680531,
          0.0015460861948235413,
          0.02142741887202789
         ]
        },
        {
         "base": [
          0.0001793203213680531,
          0.0015460861948235413,
          0.02142741887202789
         ],
         "hoverinfo": "text+name",
         "name": "Ca",
         "offsetgroup": "0",
         "text": [
          "2.546",
          "0.562",
          "4.386"
         ],
         "type": "bar",
         "x": [
          "7",
          "14",
          "21"
         ],
         "y": [
          2.5458907953245986,
          0.5624823769277453,
          4.385671189333945
         ]
        },
        {
         "base": [
          2.546070115645967,
          0.5640284631225688,
          4.407098608205973
         ],
         "hoverinfo": "text+name",
         "name": "Cu",
         "offsetgroup": "0",
         "text": [
          "0.000",
          "0.000",
          "0.000"
         ],
         "type": "bar",
         "x": [
          "7",
          "14",
          "21"
         ],
         "y": [
          0.0000799233894653277,
          2.620610759646033e-14,
          4.9392052432472616e-8
         ]
        },
        {
         "base": [
          2.546150039035432,
          0.564028463122595,
          4.407098657598025
         ],
         "hoverinfo": "text+name",
         "name": "Fe",
         "offsetgroup": "0",
         "text": [
          "0.104",
          "0.001",
          "0.074"
         ],
         "type": "bar",
         "x": [
          "7",
          "14",
          "21"
         ],
         "y": [
          0.10431238457218765,
          0.0010371460541289854,
          0.07407988849143941
         ]
        },
        {
         "base": [
          2.6504624236076197,
          0.565065609176724,
          4.481178546089465
         ],
         "hoverinfo": "text+name",
         "name": "K",
         "offsetgroup": "0",
         "text": [
          "1.277",
          "7.521",
          "46.705"
         ],
         "type": "bar",
         "x": [
          "7",
          "14",
          "21"
         ],
         "y": [
          1.277068448951843,
          7.521215815129067,
          46.70451855188894
         ]
        },
        {
         "base": [
          3.927530872559463,
          8.086281424305792,
          51.185697097978405
         ],
         "hoverinfo": "text+name",
         "name": "Mg",
         "offsetgroup": "0",
         "text": [
          "0.067",
          "0.329",
          "2.328"
         ],
         "type": "bar",
         "x": [
          "7",
          "14",
          "21"
         ],
         "y": [
          0.06657459684962404,
          0.329103496548642,
          2.3275555280109144
         ]
        },
        {
         "base": [
          3.994105469409087,
          8.415384920854434,
          53.51325262598932
         ],
         "hoverinfo": "text+name",
         "name": "Mn",
         "offsetgroup": "0",
         "text": [
          "0.005",
          "0.009",
          "0.105"
         ],
         "type": "bar",
         "x": [
          "7",
          "14",
          "21"
         ],
         "y": [
          0.004547874738113765,
          0.00858927270279949,
          0.10491969215405152
         ]
        },
        {
         "base": [
          3.9986533441472005,
          8.423974193557234,
          53.618172318143365
         ],
         "hoverinfo": "text+name",
         "name": "Na",
         "offsetgroup": "0",
         "text": [
          "0.431",
          "1.582",
          "11.630"
         ],
         "type": "bar",
         "x": [
          "7",
          "14",
          "21"
         ],
         "y": [
          0.43054746701883734,
          1.58190279158785,
          11.63044865294229
         ]
        },
        {
         "base": [
          4.429200811166038,
          10.005876985145084,
          65.24862097108566
         ],
         "hoverinfo": "text+name",
         "name": "P",
         "offsetgroup": "0",
         "text": [
          "0.673",
          "1.151",
          "7.005"
         ],
         "type": "bar",
         "x": [
          "7",
          "14",
          "21"
         ],
         "y": [
          0.6729514364650284,
          1.1510886340611475,
          7.004649812102124
         ]
        },
        {
         "base": [
          5.102152247631066,
          11.156965619206233,
          72.25327078318779
         ],
         "hoverinfo": "text+name",
         "name": "Zn",
         "offsetgroup": "0",
         "text": [
          "0.000",
          "0.002",
          "0.021"
         ],
         "type": "bar",
         "x": [
          "7",
          "14",
          "21"
         ],
         "y": [
          9.935254346759207e-9,
          0.0015030155237368281,
          0.020851351395586377
         ]
        },
        {
         "base": [
          5.1021522575663205,
          11.158468634729969,
          72.27412213458338
         ],
         "hoverinfo": "text+name",
         "name": "N",
         "offsetgroup": "0",
         "text": [
          "10.481",
          "7.358",
          "51.962"
         ],
         "type": "bar",
         "x": [
          "7",
          "14",
          "21"
         ],
         "y": [
          10.481349004617721,
          7.357728690622263,
          51.96235463524921
         ]
        }
       ],
       "layout": {
        "barmode": "stack",
        "hovermode": "x",
        "legend": {
         "title": {
          "text": "Elements"
         }
        },
        "template": {
         "data": {
          "bar": [
           {
            "error_x": {
             "color": "#2a3f5f"
            },
            "error_y": {
             "color": "#2a3f5f"
            },
            "marker": {
             "line": {
              "color": "white",
              "width": 0.5
             },
             "pattern": {
              "fillmode": "overlay",
              "size": 10,
              "solidity": 0.2
             }
            },
            "type": "bar"
           }
          ],
          "barpolar": [
           {
            "marker": {
             "line": {
              "color": "white",
              "width": 0.5
             },
             "pattern": {
              "fillmode": "overlay",
              "size": 10,
              "solidity": 0.2
             }
            },
            "type": "barpolar"
           }
          ],
          "carpet": [
           {
            "aaxis": {
             "endlinecolor": "#2a3f5f",
             "gridcolor": "#C8D4E3",
             "linecolor": "#C8D4E3",
             "minorgridcolor": "#C8D4E3",
             "startlinecolor": "#2a3f5f"
            },
            "baxis": {
             "endlinecolor": "#2a3f5f",
             "gridcolor": "#C8D4E3",
             "linecolor": "#C8D4E3",
             "minorgridcolor": "#C8D4E3",
             "startlinecolor": "#2a3f5f"
            },
            "type": "carpet"
           }
          ],
          "choropleth": [
           {
            "colorbar": {
             "outlinewidth": 0,
             "ticks": ""
            },
            "type": "choropleth"
           }
          ],
          "contour": [
           {
            "colorbar": {
             "outlinewidth": 0,
             "ticks": ""
            },
            "colorscale": [
             [
              0,
              "#0d0887"
             ],
             [
              0.1111111111111111,
              "#46039f"
             ],
             [
              0.2222222222222222,
              "#7201a8"
             ],
             [
              0.3333333333333333,
              "#9c179e"
             ],
             [
              0.4444444444444444,
              "#bd3786"
             ],
             [
              0.5555555555555556,
              "#d8576b"
             ],
             [
              0.6666666666666666,
              "#ed7953"
             ],
             [
              0.7777777777777778,
              "#fb9f3a"
             ],
             [
              0.8888888888888888,
              "#fdca26"
             ],
             [
              1,
              "#f0f921"
             ]
            ],
            "type": "contour"
           }
          ],
          "contourcarpet": [
           {
            "colorbar": {
             "outlinewidth": 0,
             "ticks": ""
            },
            "type": "contourcarpet"
           }
          ],
          "heatmap": [
           {
            "colorbar": {
             "outlinewidth": 0,
             "ticks": ""
            },
            "colorscale": [
             [
              0,
              "#0d0887"
             ],
             [
              0.1111111111111111,
              "#46039f"
             ],
             [
              0.2222222222222222,
              "#7201a8"
             ],
             [
              0.3333333333333333,
              "#9c179e"
             ],
             [
              0.4444444444444444,
              "#bd3786"
             ],
             [
              0.5555555555555556,
              "#d8576b"
             ],
             [
              0.6666666666666666,
              "#ed7953"
             ],
             [
              0.7777777777777778,
              "#fb9f3a"
             ],
             [
              0.8888888888888888,
              "#fdca26"
             ],
             [
              1,
              "#f0f921"
             ]
            ],
            "type": "heatmap"
           }
          ],
          "heatmapgl": [
           {
            "colorbar": {
             "outlinewidth": 0,
             "ticks": ""
            },
            "colorscale": [
             [
              0,
              "#0d0887"
             ],
             [
              0.1111111111111111,
              "#46039f"
             ],
             [
              0.2222222222222222,
              "#7201a8"
             ],
             [
              0.3333333333333333,
              "#9c179e"
             ],
             [
              0.4444444444444444,
              "#bd3786"
             ],
             [
              0.5555555555555556,
              "#d8576b"
             ],
             [
              0.6666666666666666,
              "#ed7953"
             ],
             [
              0.7777777777777778,
              "#fb9f3a"
             ],
             [
              0.8888888888888888,
              "#fdca26"
             ],
             [
              1,
              "#f0f921"
             ]
            ],
            "type": "heatmapgl"
           }
          ],
          "histogram": [
           {
            "marker": {
             "pattern": {
              "fillmode": "overlay",
              "size": 10,
              "solidity": 0.2
             }
            },
            "type": "histogram"
           }
          ],
          "histogram2d": [
           {
            "colorbar": {
             "outlinewidth": 0,
             "ticks": ""
            },
            "colorscale": [
             [
              0,
              "#0d0887"
             ],
             [
              0.1111111111111111,
              "#46039f"
             ],
             [
              0.2222222222222222,
              "#7201a8"
             ],
             [
              0.3333333333333333,
              "#9c179e"
             ],
             [
              0.4444444444444444,
              "#bd3786"
             ],
             [
              0.5555555555555556,
              "#d8576b"
             ],
             [
              0.6666666666666666,
              "#ed7953"
             ],
             [
              0.7777777777777778,
              "#fb9f3a"
             ],
             [
              0.8888888888888888,
              "#fdca26"
             ],
             [
              1,
              "#f0f921"
             ]
            ],
            "type": "histogram2d"
           }
          ],
          "histogram2dcontour": [
           {
            "colorbar": {
             "outlinewidth": 0,
             "ticks": ""
            },
            "colorscale": [
             [
              0,
              "#0d0887"
             ],
             [
              0.1111111111111111,
              "#46039f"
             ],
             [
              0.2222222222222222,
              "#7201a8"
             ],
             [
              0.3333333333333333,
              "#9c179e"
             ],
             [
              0.4444444444444444,
              "#bd3786"
             ],
             [
              0.5555555555555556,
              "#d8576b"
             ],
             [
              0.6666666666666666,
              "#ed7953"
             ],
             [
              0.7777777777777778,
              "#fb9f3a"
             ],
             [
              0.8888888888888888,
              "#fdca26"
             ],
             [
              1,
              "#f0f921"
             ]
            ],
            "type": "histogram2dcontour"
           }
          ],
          "mesh3d": [
           {
            "colorbar": {
             "outlinewidth": 0,
             "ticks": ""
            },
            "type": "mesh3d"
           }
          ],
          "parcoords": [
           {
            "line": {
             "colorbar": {
              "outlinewidth": 0,
              "ticks": ""
             }
            },
            "type": "parcoords"
           }
          ],
          "pie": [
           {
            "automargin": true,
            "type": "pie"
           }
          ],
          "scatter": [
           {
            "fillpattern": {
             "fillmode": "overlay",
             "size": 10,
             "solidity": 0.2
            },
            "type": "scatter"
           }
          ],
          "scatter3d": [
           {
            "line": {
             "colorbar": {
              "outlinewidth": 0,
              "ticks": ""
             }
            },
            "marker": {
             "colorbar": {
              "outlinewidth": 0,
              "ticks": ""
             }
            },
            "type": "scatter3d"
           }
          ],
          "scattercarpet": [
           {
            "marker": {
             "colorbar": {
              "outlinewidth": 0,
              "ticks": ""
             }
            },
            "type": "scattercarpet"
           }
          ],
          "scattergeo": [
           {
            "marker": {
             "colorbar": {
              "outlinewidth": 0,
              "ticks": ""
             }
            },
            "type": "scattergeo"
           }
          ],
          "scattergl": [
           {
            "marker": {
             "colorbar": {
              "outlinewidth": 0,
              "ticks": ""
             }
            },
            "type": "scattergl"
           }
          ],
          "scattermapbox": [
           {
            "marker": {
             "colorbar": {
              "outlinewidth": 0,
              "ticks": ""
             }
            },
            "type": "scattermapbox"
           }
          ],
          "scatterpolar": [
           {
            "marker": {
             "colorbar": {
              "outlinewidth": 0,
              "ticks": ""
             }
            },
            "type": "scatterpolar"
           }
          ],
          "scatterpolargl": [
           {
            "marker": {
             "colorbar": {
              "outlinewidth": 0,
              "ticks": ""
             }
            },
            "type": "scatterpolargl"
           }
          ],
          "scatterternary": [
           {
            "marker": {
             "colorbar": {
              "outlinewidth": 0,
              "ticks": ""
             }
            },
            "type": "scatterternary"
           }
          ],
          "surface": [
           {
            "colorbar": {
             "outlinewidth": 0,
             "ticks": ""
            },
            "colorscale": [
             [
              0,
              "#0d0887"
             ],
             [
              0.1111111111111111,
              "#46039f"
             ],
             [
              0.2222222222222222,
              "#7201a8"
             ],
             [
              0.3333333333333333,
              "#9c179e"
             ],
             [
              0.4444444444444444,
              "#bd3786"
             ],
             [
              0.5555555555555556,
              "#d8576b"
             ],
             [
              0.6666666666666666,
              "#ed7953"
             ],
             [
              0.7777777777777778,
              "#fb9f3a"
             ],
             [
              0.8888888888888888,
              "#fdca26"
             ],
             [
              1,
              "#f0f921"
             ]
            ],
            "type": "surface"
           }
          ],
          "table": [
           {
            "cells": {
             "fill": {
              "color": "#EBF0F8"
             },
             "line": {
              "color": "white"
             }
            },
            "header": {
             "fill": {
              "color": "#C8D4E3"
             },
             "line": {
              "color": "white"
             }
            },
            "type": "table"
           }
          ]
         },
         "layout": {
          "annotationdefaults": {
           "arrowcolor": "#2a3f5f",
           "arrowhead": 0,
           "arrowwidth": 1
          },
          "autotypenumbers": "strict",
          "coloraxis": {
           "colorbar": {
            "outlinewidth": 0,
            "ticks": ""
           }
          },
          "colorscale": {
           "diverging": [
            [
             0,
             "#8e0152"
            ],
            [
             0.1,
             "#c51b7d"
            ],
            [
             0.2,
             "#de77ae"
            ],
            [
             0.3,
             "#f1b6da"
            ],
            [
             0.4,
             "#fde0ef"
            ],
            [
             0.5,
             "#f7f7f7"
            ],
            [
             0.6,
             "#e6f5d0"
            ],
            [
             0.7,
             "#b8e186"
            ],
            [
             0.8,
             "#7fbc41"
            ],
            [
             0.9,
             "#4d9221"
            ],
            [
             1,
             "#276419"
            ]
           ],
           "sequential": [
            [
             0,
             "#0d0887"
            ],
            [
             0.1111111111111111,
             "#46039f"
            ],
            [
             0.2222222222222222,
             "#7201a8"
            ],
            [
             0.3333333333333333,
             "#9c179e"
            ],
            [
             0.4444444444444444,
             "#bd3786"
            ],
            [
             0.5555555555555556,
             "#d8576b"
            ],
            [
             0.6666666666666666,
             "#ed7953"
            ],
            [
             0.7777777777777778,
             "#fb9f3a"
            ],
            [
             0.8888888888888888,
             "#fdca26"
            ],
            [
             1,
             "#f0f921"
            ]
           ],
           "sequentialminus": [
            [
             0,
             "#0d0887"
            ],
            [
             0.1111111111111111,
             "#46039f"
            ],
            [
             0.2222222222222222,
             "#7201a8"
            ],
            [
             0.3333333333333333,
             "#9c179e"
            ],
            [
             0.4444444444444444,
             "#bd3786"
            ],
            [
             0.5555555555555556,
             "#d8576b"
            ],
            [
             0.6666666666666666,
             "#ed7953"
            ],
            [
             0.7777777777777778,
             "#fb9f3a"
            ],
            [
             0.8888888888888888,
             "#fdca26"
            ],
            [
             1,
             "#f0f921"
            ]
           ]
          },
          "colorway": [
           "#636efa",
           "#EF553B",
           "#00cc96",
           "#ab63fa",
           "#FFA15A",
           "#19d3f3",
           "#FF6692",
           "#B6E880",
           "#FF97FF",
           "#FECB52"
          ],
          "font": {
           "color": "#2a3f5f"
          },
          "geo": {
           "bgcolor": "white",
           "lakecolor": "white",
           "landcolor": "white",
           "showlakes": true,
           "showland": true,
           "subunitcolor": "#C8D4E3"
          },
          "hoverlabel": {
           "align": "left"
          },
          "hovermode": "closest",
          "mapbox": {
           "style": "light"
          },
          "paper_bgcolor": "white",
          "plot_bgcolor": "white",
          "polar": {
           "angularaxis": {
            "gridcolor": "#EBF0F8",
            "linecolor": "#EBF0F8",
            "ticks": ""
           },
           "bgcolor": "white",
           "radialaxis": {
            "gridcolor": "#EBF0F8",
            "linecolor": "#EBF0F8",
            "ticks": ""
           }
          },
          "scene": {
           "xaxis": {
            "backgroundcolor": "white",
            "gridcolor": "#DFE8F3",
            "gridwidth": 2,
            "linecolor": "#EBF0F8",
            "showbackground": true,
            "ticks": "",
            "zerolinecolor": "#EBF0F8"
           },
           "yaxis": {
            "backgroundcolor": "white",
            "gridcolor": "#DFE8F3",
            "gridwidth": 2,
            "linecolor": "#EBF0F8",
            "showbackground": true,
            "ticks": "",
            "zerolinecolor": "#EBF0F8"
           },
           "zaxis": {
            "backgroundcolor": "white",
            "gridcolor": "#DFE8F3",
            "gridwidth": 2,
            "linecolor": "#EBF0F8",
            "showbackground": true,
            "ticks": "",
            "zerolinecolor": "#EBF0F8"
           }
          },
          "shapedefaults": {
           "line": {
            "color": "#2a3f5f"
           }
          },
          "ternary": {
           "aaxis": {
            "gridcolor": "#DFE8F3",
            "linecolor": "#A2B1C6",
            "ticks": ""
           },
           "baxis": {
            "gridcolor": "#DFE8F3",
            "linecolor": "#A2B1C6",
            "ticks": ""
           },
           "bgcolor": "white",
           "caxis": {
            "gridcolor": "#DFE8F3",
            "linecolor": "#A2B1C6",
            "ticks": ""
           }
          },
          "title": {
           "x": 0.05
          },
          "xaxis": {
           "automargin": true,
           "gridcolor": "#EBF0F8",
           "linecolor": "#EBF0F8",
           "ticks": "",
           "title": {
            "standoff": 15
           },
           "zerolinecolor": "#EBF0F8",
           "zerolinewidth": 2
          },
          "yaxis": {
           "automargin": true,
           "gridcolor": "#EBF0F8",
           "linecolor": "#EBF0F8",
           "ticks": "",
           "title": {
            "standoff": 15
           },
           "zerolinecolor": "#EBF0F8",
           "zerolinewidth": 2
          }
         }
        },
        "title": {
         "text": "Element Excess"
        },
        "xaxis": {
         "title": {
          "text": "Day"
         },
         "type": "category"
        },
        "yaxis": {
         "title": {
          "text": "Element Excess"
         }
        }
       }
      }
     },
     "metadata": {},
     "output_type": "display_data"
    }
   ],
   "source": [
    "import pandas as pd\n",
    "\n",
    "def create_left_over_df(optimization_results, maxes):\n",
    "    data = {}\n",
    "    for k, result in optimization_results.items():\n",
    "        data[k] = result.left_over*maxes\n",
    "    df = pd.DataFrame(data).T  # Transpose to have keys as row indexes\n",
    "    return df\n",
    "\n",
    "df_left_over = create_left_over_df(optimization_results, maxes=maxes)\n",
    "fig = plot_element_stacked_interactive_streamlit(df_left_over)\n",
    "fig.show()\n"
   ]
  },
  {
   "cell_type": "code",
   "execution_count": 190,
   "metadata": {},
   "outputs": [
    {
     "data": {
      "application/vnd.plotly.v1+json": {
       "config": {
        "plotlyServerURL": "https://plot.ly"
       },
       "data": [
        {
         "base": [
          0,
          0,
          0
         ],
         "hoverinfo": "text+name",
         "name": "0",
         "offsetgroup": "0",
         "text": [
          "0.345",
          "0.000",
          "0.108"
         ],
         "type": "bar",
         "x": [
          "7",
          "14",
          "21"
         ],
         "y": [
          0.3452087602990855,
          5.5511151230859804e-17,
          0.10816312798917271
         ]
        },
        {
         "base": [
          0.3452087602990855,
          5.5511151230859804e-17,
          0.10816312798917271
         ],
         "hoverinfo": "text+name",
         "name": "1",
         "offsetgroup": "0",
         "text": [
          "0.000",
          "0.000",
          "0.113"
         ],
         "type": "bar",
         "x": [
          "7",
          "14",
          "21"
         ],
         "y": [
          0.0000011114604225766938,
          1.1102230245197319e-16,
          0.11262452104025093
         ]
        },
        {
         "base": [
          0.34520987175950807,
          1.66533453682833e-16,
          0.22078764902942366
         ],
         "hoverinfo": "text+name",
         "name": "2",
         "offsetgroup": "0",
         "text": [
          "0.611",
          "0.059",
          "0.277"
         ],
         "type": "bar",
         "x": [
          "7",
          "14",
          "21"
         ],
         "y": [
          0.611106530393965,
          0.05861730669635505,
          0.276641830211277
         ]
        }
       ],
       "layout": {
        "barmode": "stack",
        "hovermode": "x",
        "legend": {
         "title": {
          "text": "Elements"
         }
        },
        "template": {
         "data": {
          "bar": [
           {
            "error_x": {
             "color": "#2a3f5f"
            },
            "error_y": {
             "color": "#2a3f5f"
            },
            "marker": {
             "line": {
              "color": "white",
              "width": 0.5
             },
             "pattern": {
              "fillmode": "overlay",
              "size": 10,
              "solidity": 0.2
             }
            },
            "type": "bar"
           }
          ],
          "barpolar": [
           {
            "marker": {
             "line": {
              "color": "white",
              "width": 0.5
             },
             "pattern": {
              "fillmode": "overlay",
              "size": 10,
              "solidity": 0.2
             }
            },
            "type": "barpolar"
           }
          ],
          "carpet": [
           {
            "aaxis": {
             "endlinecolor": "#2a3f5f",
             "gridcolor": "#C8D4E3",
             "linecolor": "#C8D4E3",
             "minorgridcolor": "#C8D4E3",
             "startlinecolor": "#2a3f5f"
            },
            "baxis": {
             "endlinecolor": "#2a3f5f",
             "gridcolor": "#C8D4E3",
             "linecolor": "#C8D4E3",
             "minorgridcolor": "#C8D4E3",
             "startlinecolor": "#2a3f5f"
            },
            "type": "carpet"
           }
          ],
          "choropleth": [
           {
            "colorbar": {
             "outlinewidth": 0,
             "ticks": ""
            },
            "type": "choropleth"
           }
          ],
          "contour": [
           {
            "colorbar": {
             "outlinewidth": 0,
             "ticks": ""
            },
            "colorscale": [
             [
              0,
              "#0d0887"
             ],
             [
              0.1111111111111111,
              "#46039f"
             ],
             [
              0.2222222222222222,
              "#7201a8"
             ],
             [
              0.3333333333333333,
              "#9c179e"
             ],
             [
              0.4444444444444444,
              "#bd3786"
             ],
             [
              0.5555555555555556,
              "#d8576b"
             ],
             [
              0.6666666666666666,
              "#ed7953"
             ],
             [
              0.7777777777777778,
              "#fb9f3a"
             ],
             [
              0.8888888888888888,
              "#fdca26"
             ],
             [
              1,
              "#f0f921"
             ]
            ],
            "type": "contour"
           }
          ],
          "contourcarpet": [
           {
            "colorbar": {
             "outlinewidth": 0,
             "ticks": ""
            },
            "type": "contourcarpet"
           }
          ],
          "heatmap": [
           {
            "colorbar": {
             "outlinewidth": 0,
             "ticks": ""
            },
            "colorscale": [
             [
              0,
              "#0d0887"
             ],
             [
              0.1111111111111111,
              "#46039f"
             ],
             [
              0.2222222222222222,
              "#7201a8"
             ],
             [
              0.3333333333333333,
              "#9c179e"
             ],
             [
              0.4444444444444444,
              "#bd3786"
             ],
             [
              0.5555555555555556,
              "#d8576b"
             ],
             [
              0.6666666666666666,
              "#ed7953"
             ],
             [
              0.7777777777777778,
              "#fb9f3a"
             ],
             [
              0.8888888888888888,
              "#fdca26"
             ],
             [
              1,
              "#f0f921"
             ]
            ],
            "type": "heatmap"
           }
          ],
          "heatmapgl": [
           {
            "colorbar": {
             "outlinewidth": 0,
             "ticks": ""
            },
            "colorscale": [
             [
              0,
              "#0d0887"
             ],
             [
              0.1111111111111111,
              "#46039f"
             ],
             [
              0.2222222222222222,
              "#7201a8"
             ],
             [
              0.3333333333333333,
              "#9c179e"
             ],
             [
              0.4444444444444444,
              "#bd3786"
             ],
             [
              0.5555555555555556,
              "#d8576b"
             ],
             [
              0.6666666666666666,
              "#ed7953"
             ],
             [
              0.7777777777777778,
              "#fb9f3a"
             ],
             [
              0.8888888888888888,
              "#fdca26"
             ],
             [
              1,
              "#f0f921"
             ]
            ],
            "type": "heatmapgl"
           }
          ],
          "histogram": [
           {
            "marker": {
             "pattern": {
              "fillmode": "overlay",
              "size": 10,
              "solidity": 0.2
             }
            },
            "type": "histogram"
           }
          ],
          "histogram2d": [
           {
            "colorbar": {
             "outlinewidth": 0,
             "ticks": ""
            },
            "colorscale": [
             [
              0,
              "#0d0887"
             ],
             [
              0.1111111111111111,
              "#46039f"
             ],
             [
              0.2222222222222222,
              "#7201a8"
             ],
             [
              0.3333333333333333,
              "#9c179e"
             ],
             [
              0.4444444444444444,
              "#bd3786"
             ],
             [
              0.5555555555555556,
              "#d8576b"
             ],
             [
              0.6666666666666666,
              "#ed7953"
             ],
             [
              0.7777777777777778,
              "#fb9f3a"
             ],
             [
              0.8888888888888888,
              "#fdca26"
             ],
             [
              1,
              "#f0f921"
             ]
            ],
            "type": "histogram2d"
           }
          ],
          "histogram2dcontour": [
           {
            "colorbar": {
             "outlinewidth": 0,
             "ticks": ""
            },
            "colorscale": [
             [
              0,
              "#0d0887"
             ],
             [
              0.1111111111111111,
              "#46039f"
             ],
             [
              0.2222222222222222,
              "#7201a8"
             ],
             [
              0.3333333333333333,
              "#9c179e"
             ],
             [
              0.4444444444444444,
              "#bd3786"
             ],
             [
              0.5555555555555556,
              "#d8576b"
             ],
             [
              0.6666666666666666,
              "#ed7953"
             ],
             [
              0.7777777777777778,
              "#fb9f3a"
             ],
             [
              0.8888888888888888,
              "#fdca26"
             ],
             [
              1,
              "#f0f921"
             ]
            ],
            "type": "histogram2dcontour"
           }
          ],
          "mesh3d": [
           {
            "colorbar": {
             "outlinewidth": 0,
             "ticks": ""
            },
            "type": "mesh3d"
           }
          ],
          "parcoords": [
           {
            "line": {
             "colorbar": {
              "outlinewidth": 0,
              "ticks": ""
             }
            },
            "type": "parcoords"
           }
          ],
          "pie": [
           {
            "automargin": true,
            "type": "pie"
           }
          ],
          "scatter": [
           {
            "fillpattern": {
             "fillmode": "overlay",
             "size": 10,
             "solidity": 0.2
            },
            "type": "scatter"
           }
          ],
          "scatter3d": [
           {
            "line": {
             "colorbar": {
              "outlinewidth": 0,
              "ticks": ""
             }
            },
            "marker": {
             "colorbar": {
              "outlinewidth": 0,
              "ticks": ""
             }
            },
            "type": "scatter3d"
           }
          ],
          "scattercarpet": [
           {
            "marker": {
             "colorbar": {
              "outlinewidth": 0,
              "ticks": ""
             }
            },
            "type": "scattercarpet"
           }
          ],
          "scattergeo": [
           {
            "marker": {
             "colorbar": {
              "outlinewidth": 0,
              "ticks": ""
             }
            },
            "type": "scattergeo"
           }
          ],
          "scattergl": [
           {
            "marker": {
             "colorbar": {
              "outlinewidth": 0,
              "ticks": ""
             }
            },
            "type": "scattergl"
           }
          ],
          "scattermapbox": [
           {
            "marker": {
             "colorbar": {
              "outlinewidth": 0,
              "ticks": ""
             }
            },
            "type": "scattermapbox"
           }
          ],
          "scatterpolar": [
           {
            "marker": {
             "colorbar": {
              "outlinewidth": 0,
              "ticks": ""
             }
            },
            "type": "scatterpolar"
           }
          ],
          "scatterpolargl": [
           {
            "marker": {
             "colorbar": {
              "outlinewidth": 0,
              "ticks": ""
             }
            },
            "type": "scatterpolargl"
           }
          ],
          "scatterternary": [
           {
            "marker": {
             "colorbar": {
              "outlinewidth": 0,
              "ticks": ""
             }
            },
            "type": "scatterternary"
           }
          ],
          "surface": [
           {
            "colorbar": {
             "outlinewidth": 0,
             "ticks": ""
            },
            "colorscale": [
             [
              0,
              "#0d0887"
             ],
             [
              0.1111111111111111,
              "#46039f"
             ],
             [
              0.2222222222222222,
              "#7201a8"
             ],
             [
              0.3333333333333333,
              "#9c179e"
             ],
             [
              0.4444444444444444,
              "#bd3786"
             ],
             [
              0.5555555555555556,
              "#d8576b"
             ],
             [
              0.6666666666666666,
              "#ed7953"
             ],
             [
              0.7777777777777778,
              "#fb9f3a"
             ],
             [
              0.8888888888888888,
              "#fdca26"
             ],
             [
              1,
              "#f0f921"
             ]
            ],
            "type": "surface"
           }
          ],
          "table": [
           {
            "cells": {
             "fill": {
              "color": "#EBF0F8"
             },
             "line": {
              "color": "white"
             }
            },
            "header": {
             "fill": {
              "color": "#C8D4E3"
             },
             "line": {
              "color": "white"
             }
            },
            "type": "table"
           }
          ]
         },
         "layout": {
          "annotationdefaults": {
           "arrowcolor": "#2a3f5f",
           "arrowhead": 0,
           "arrowwidth": 1
          },
          "autotypenumbers": "strict",
          "coloraxis": {
           "colorbar": {
            "outlinewidth": 0,
            "ticks": ""
           }
          },
          "colorscale": {
           "diverging": [
            [
             0,
             "#8e0152"
            ],
            [
             0.1,
             "#c51b7d"
            ],
            [
             0.2,
             "#de77ae"
            ],
            [
             0.3,
             "#f1b6da"
            ],
            [
             0.4,
             "#fde0ef"
            ],
            [
             0.5,
             "#f7f7f7"
            ],
            [
             0.6,
             "#e6f5d0"
            ],
            [
             0.7,
             "#b8e186"
            ],
            [
             0.8,
             "#7fbc41"
            ],
            [
             0.9,
             "#4d9221"
            ],
            [
             1,
             "#276419"
            ]
           ],
           "sequential": [
            [
             0,
             "#0d0887"
            ],
            [
             0.1111111111111111,
             "#46039f"
            ],
            [
             0.2222222222222222,
             "#7201a8"
            ],
            [
             0.3333333333333333,
             "#9c179e"
            ],
            [
             0.4444444444444444,
             "#bd3786"
            ],
            [
             0.5555555555555556,
             "#d8576b"
            ],
            [
             0.6666666666666666,
             "#ed7953"
            ],
            [
             0.7777777777777778,
             "#fb9f3a"
            ],
            [
             0.8888888888888888,
             "#fdca26"
            ],
            [
             1,
             "#f0f921"
            ]
           ],
           "sequentialminus": [
            [
             0,
             "#0d0887"
            ],
            [
             0.1111111111111111,
             "#46039f"
            ],
            [
             0.2222222222222222,
             "#7201a8"
            ],
            [
             0.3333333333333333,
             "#9c179e"
            ],
            [
             0.4444444444444444,
             "#bd3786"
            ],
            [
             0.5555555555555556,
             "#d8576b"
            ],
            [
             0.6666666666666666,
             "#ed7953"
            ],
            [
             0.7777777777777778,
             "#fb9f3a"
            ],
            [
             0.8888888888888888,
             "#fdca26"
            ],
            [
             1,
             "#f0f921"
            ]
           ]
          },
          "colorway": [
           "#636efa",
           "#EF553B",
           "#00cc96",
           "#ab63fa",
           "#FFA15A",
           "#19d3f3",
           "#FF6692",
           "#B6E880",
           "#FF97FF",
           "#FECB52"
          ],
          "font": {
           "color": "#2a3f5f"
          },
          "geo": {
           "bgcolor": "white",
           "lakecolor": "white",
           "landcolor": "white",
           "showlakes": true,
           "showland": true,
           "subunitcolor": "#C8D4E3"
          },
          "hoverlabel": {
           "align": "left"
          },
          "hovermode": "closest",
          "mapbox": {
           "style": "light"
          },
          "paper_bgcolor": "white",
          "plot_bgcolor": "white",
          "polar": {
           "angularaxis": {
            "gridcolor": "#EBF0F8",
            "linecolor": "#EBF0F8",
            "ticks": ""
           },
           "bgcolor": "white",
           "radialaxis": {
            "gridcolor": "#EBF0F8",
            "linecolor": "#EBF0F8",
            "ticks": ""
           }
          },
          "scene": {
           "xaxis": {
            "backgroundcolor": "white",
            "gridcolor": "#DFE8F3",
            "gridwidth": 2,
            "linecolor": "#EBF0F8",
            "showbackground": true,
            "ticks": "",
            "zerolinecolor": "#EBF0F8"
           },
           "yaxis": {
            "backgroundcolor": "white",
            "gridcolor": "#DFE8F3",
            "gridwidth": 2,
            "linecolor": "#EBF0F8",
            "showbackground": true,
            "ticks": "",
            "zerolinecolor": "#EBF0F8"
           },
           "zaxis": {
            "backgroundcolor": "white",
            "gridcolor": "#DFE8F3",
            "gridwidth": 2,
            "linecolor": "#EBF0F8",
            "showbackground": true,
            "ticks": "",
            "zerolinecolor": "#EBF0F8"
           }
          },
          "shapedefaults": {
           "line": {
            "color": "#2a3f5f"
           }
          },
          "ternary": {
           "aaxis": {
            "gridcolor": "#DFE8F3",
            "linecolor": "#A2B1C6",
            "ticks": ""
           },
           "baxis": {
            "gridcolor": "#DFE8F3",
            "linecolor": "#A2B1C6",
            "ticks": ""
           },
           "bgcolor": "white",
           "caxis": {
            "gridcolor": "#DFE8F3",
            "linecolor": "#A2B1C6",
            "ticks": ""
           }
          },
          "title": {
           "x": 0.05
          },
          "xaxis": {
           "automargin": true,
           "gridcolor": "#EBF0F8",
           "linecolor": "#EBF0F8",
           "ticks": "",
           "title": {
            "standoff": 15
           },
           "zerolinecolor": "#EBF0F8",
           "zerolinewidth": 2
          },
          "yaxis": {
           "automargin": true,
           "gridcolor": "#EBF0F8",
           "linecolor": "#EBF0F8",
           "ticks": "",
           "title": {
            "standoff": 15
           },
           "zerolinecolor": "#EBF0F8",
           "zerolinewidth": 2
          }
         }
        },
        "title": {
         "text": "Element Excess"
        },
        "xaxis": {
         "title": {
          "text": "Day"
         },
         "type": "category"
        },
        "yaxis": {
         "title": {
          "text": "Element Excess"
         }
        }
       }
      }
     },
     "metadata": {},
     "output_type": "display_data"
    }
   ],
   "source": [
    "def create_fertilizer_df(optimization_results):\n",
    "    data = {}\n",
    "    for k, result in optimization_results.items():\n",
    "        data[k] = result.x\n",
    "    df = pd.DataFrame(data).T  # Transpose to have keys as row indexes\n",
    "    return df\n",
    "\n",
    "df_fertilizer_usage = create_fertilizer_df(optimization_results)\n",
    "\n",
    "\n",
    "fig = plot_element_stacked_interactive_streamlit(df_fertilizer_usage)\n",
    "fig.show()"
   ]
  },
  {
   "cell_type": "markdown",
   "metadata": {},
   "source": [
    "## Plot results"
   ]
  },
  {
   "cell_type": "markdown",
   "metadata": {},
   "source": [
    "The next step is to calculate a schedule how to fertilize the plants.\n",
    "As input we give the time intervall that we want to attent to the plants.\n",
    "As a ouput we want the amount of each fertilizer we have to add for each time.\n",
    "\n",
    "Comments:\n",
    "- additional statistic would be nice\n",
    "- some plots would be also nice"
   ]
  },
  {
   "cell_type": "code",
   "execution_count": 179,
   "metadata": {},
   "outputs": [
    {
     "ename": "ValueError",
     "evalue": "too many values to unpack (expected 2)",
     "output_type": "error",
     "traceback": [
      "\u001b[0;31m---------------------------------------------------------------------------\u001b[0m",
      "\u001b[0;31mValueError\u001b[0m                                Traceback (most recent call last)",
      "Cell \u001b[0;32mIn[179], line 74\u001b[0m\n\u001b[1;32m     70\u001b[0m c_fertilizer2 \u001b[38;5;241m=\u001b[39m np\u001b[38;5;241m.\u001b[39mabs(np\u001b[38;5;241m.\u001b[39mrandom\u001b[38;5;241m.\u001b[39msample(\u001b[38;5;241m11\u001b[39m))\u001b[38;5;241m*\u001b[39m\u001b[38;5;241m0.01\u001b[39m\n\u001b[1;32m     71\u001b[0m c_fertilizer3 \u001b[38;5;241m=\u001b[39m np\u001b[38;5;241m.\u001b[39mabs(np\u001b[38;5;241m.\u001b[39mrandom\u001b[38;5;241m.\u001b[39msample(\u001b[38;5;241m11\u001b[39m))\u001b[38;5;241m*\u001b[39m\u001b[38;5;241m0.01\u001b[39m\n\u001b[0;32m---> 74\u001b[0m results \u001b[38;5;241m=\u001b[39m \u001b[43mcalculate_fertilization_schedule\u001b[49m\u001b[43m(\u001b[49m\u001b[43mdata_path\u001b[49m\u001b[38;5;241;43m=\u001b[39;49m\u001b[43mDATA_PATH_AVG\u001b[49m\u001b[43m,\u001b[49m\u001b[43m \u001b[49m\u001b[43mtime_intervall_days\u001b[49m\u001b[38;5;241;43m=\u001b[39;49m\u001b[38;5;241;43m1\u001b[39;49m\u001b[43m,\u001b[49m\u001b[43m \u001b[49m\u001b[43mc_fertilizer1\u001b[49m\u001b[38;5;241;43m=\u001b[39;49m\u001b[43mc_fertilizer1\u001b[49m\u001b[43m,\u001b[49m\u001b[43m \u001b[49m\u001b[43mc_fertilizer2\u001b[49m\u001b[38;5;241;43m=\u001b[39;49m\u001b[43mc_fertilizer2\u001b[49m\u001b[43m,\u001b[49m\u001b[43m \u001b[49m\u001b[43mc_fertilizer3\u001b[49m\u001b[38;5;241;43m=\u001b[39;49m\u001b[43mc_fertilizer3\u001b[49m\u001b[43m)\u001b[49m\n\u001b[1;32m     76\u001b[0m results\u001b[38;5;241m.\u001b[39mhead()\n",
      "Cell \u001b[0;32mIn[179], line 12\u001b[0m, in \u001b[0;36mcalculate_fertilization_schedule\u001b[0;34m(data_path, time_intervall_days, c_fertilizer1, c_fertilizer2, c_fertilizer3)\u001b[0m\n\u001b[1;32m      9\u001b[0m norm_c_fertilizer3 \u001b[38;5;241m=\u001b[39m c_fertilizer3\u001b[38;5;241m/\u001b[39mmaxes\n\u001b[1;32m     11\u001b[0m \u001b[38;5;66;03m# interpolate the data\u001b[39;00m\n\u001b[0;32m---> 12\u001b[0m x_interp, Y_interp \u001b[38;5;241m=\u001b[39m interpolate_data(data, num_points\u001b[38;5;241m=\u001b[39m\u001b[38;5;241m4\u001b[39m\u001b[38;5;241m*\u001b[39m\u001b[38;5;241m7\u001b[39m, kind\u001b[38;5;241m=\u001b[39m\u001b[38;5;124m'\u001b[39m\u001b[38;5;124mlinear\u001b[39m\u001b[38;5;124m'\u001b[39m)\n\u001b[1;32m     13\u001b[0m \u001b[38;5;66;03m# calculate the uptake of each nutrient of the plant\u001b[39;00m\n\u001b[1;32m     14\u001b[0m \u001b[38;5;66;03m# x_interp, plant_uptake_rate = calculate_nutrient_uptake_rate(x_interp, Y_interp, num_interp_points=500)\u001b[39;00m\n\u001b[1;32m     15\u001b[0m \u001b[38;5;66;03m# calculate \u001b[39;00m\n\u001b[1;32m     16\u001b[0m time_intervall_week \u001b[38;5;241m=\u001b[39m time_intervall_days\u001b[38;5;241m/\u001b[39m\u001b[38;5;241m7\u001b[39m\n",
      "\u001b[0;31mValueError\u001b[0m: too many values to unpack (expected 2)"
     ]
    }
   ],
   "source": [
    "def calculate_fertilization_schedule(data_path, time_intervall_days, c_fertilizer1, c_fertilizer2, c_fertilizer3):\n",
    "    \n",
    "    # read and normalize data\n",
    "    data, maxes = process_data(data_path=data_path)\n",
    "    \n",
    "    # normalize fartilizer\n",
    "    norm_c_fertilizer1 = c_fertilizer1/maxes\n",
    "    norm_c_fertilizer2 = c_fertilizer2/maxes\n",
    "    norm_c_fertilizer3 = c_fertilizer3/maxes\n",
    "\n",
    "    # interpolate the data\n",
    "    x_interp, Y_interp = interpolate_data(data, num_points=4*7, kind='linear')\n",
    "    # calculate the uptake of each nutrient of the plant\n",
    "    # x_interp, plant_uptake_rate = calculate_nutrient_uptake_rate(x_interp, Y_interp, num_interp_points=500)\n",
    "    # calculate \n",
    "    time_intervall_week = time_intervall_days/7\n",
    "    num_fertilization_events = int(x_interp[-1] // time_intervall_week)\n",
    "\n",
    "    residual = 0\n",
    "    results = dict()\n",
    "\n",
    "    # build schedule\n",
    "    for i in range(num_fertilization_events):\n",
    "        \n",
    "        start = i*time_intervall_week\n",
    "        end = (i+1)*time_intervall_week\n",
    "\n",
    "        c_target_without_residuals = absolute_plant_uptake_during_interval(x_interp=x_interp, Y_interp=Y_interp, start=start ,end=end)\n",
    "\n",
    "        # calculate the target considering residual (excess) nutrients in the solution\n",
    "        c_target = np.abs(c_target_without_residuals - residual)\n",
    "\n",
    "        # Define the constraint\n",
    "        constraint = {\n",
    "            'type': 'ineq',  # 'ineq' means the constraint function must return >= 0\n",
    "            'fun': constraint_function,\n",
    "            'args': (norm_c_fertilizer1, norm_c_fertilizer2, norm_c_fertilizer3, c_target)\n",
    "        }\n",
    "\n",
    "        # optimize \n",
    "        a_opt, b_opt, c_opt, minimized_value = optimize(norm_c_fertilizer1, norm_c_fertilizer2, norm_c_fertilizer3, c_target, constraint)\n",
    "        \n",
    "        params_opt = (a_opt, b_opt, c_opt)\n",
    "        \n",
    "        # calculate the excess nutrient after time period\n",
    "        residual = nutrients(params_opt, norm_c_fertilizer1, norm_c_fertilizer2, norm_c_fertilizer3, c_target)\n",
    "\n",
    "        # store the results\n",
    "        results[f\"{int(start*7)}\"] = {'f1' : a_opt,\n",
    "                                     'f2' : b_opt,\n",
    "                                     'f3' : c_opt,\n",
    "                                     'excess_1': residual[0],\n",
    "                                     'excess_2': residual[1],\n",
    "                                     'excess_3': residual[2],\n",
    "                                     'excess_4': residual[3],\n",
    "                                     'excess_5': residual[4],\n",
    "                                     'excess_6': residual[5],\n",
    "                                     'excess_7': residual[6],\n",
    "                                     'excess_8': residual[7],\n",
    "                                     'excess_9': residual[8],\n",
    "                                     'excess_10': residual[9],\n",
    "                                     'excess_11': residual[10],\n",
    "                                    #  'excess' : (residual*maxes).round(3),\n",
    "                                    #  'excess_normalized' : (residual).round(3),\n",
    "                                     'objective_function': minimized_value}\n",
    "    df = pd.DataFrame(results).T\n",
    "    return df\n",
    "\n",
    "c_fertilizer1 = np.abs(np.random.sample(11))*0.01\n",
    "c_fertilizer2 = np.abs(np.random.sample(11))*0.01\n",
    "c_fertilizer3 = np.abs(np.random.sample(11))*0.01\n",
    "   \n",
    "\n",
    "results = calculate_fertilization_schedule(data_path=DATA_PATH_AVG, time_intervall_days=1, c_fertilizer1=c_fertilizer1, c_fertilizer2=c_fertilizer2, c_fertilizer3=c_fertilizer3)\n",
    "\n",
    "results.head()"
   ]
  },
  {
   "cell_type": "code",
   "execution_count": 119,
   "metadata": {},
   "outputs": [],
   "source": [
    "c_fertilizer1 = np.abs(np.random.sample(11*3).reshape(11,3))*0.01\n",
    "\n",
    "# Reshape c_fertilizer1 to (1, 11) so that it matches the number of columns\n",
    "c_fertilizer1 = c_fertilizer1.reshape(3, -1)\n",
    "\n",
    "# Now create the DataFrame\n",
    "df_fertilizer1 = pd.DataFrame(c_fertilizer1, columns=df.drop(columns='Time').columns)\n",
    "\n",
    "df_fertilizer1.to_excel('../data/input/fertilizer.xlsx',index=None)"
   ]
  },
  {
   "cell_type": "markdown",
   "metadata": {},
   "source": [
    "## Analyse results"
   ]
  },
  {
   "cell_type": "code",
   "execution_count": 129,
   "metadata": {},
   "outputs": [],
   "source": [
    "def plot_excess_stacked(df_transposed):\n",
    "    excess_labels = [f'Excess {i}' for i in range(len(df_transposed['excess'].iloc[0]))]\n",
    "    days = df_transposed.index\n",
    "    day_array = [int(day.split('_')[0])  for day in days]\n",
    "    x = np.arange(len(days))  # the label locations for days\n",
    "    width = 0.35  # The width of the bars\n",
    "\n",
    "    # Plot stacked bar chart\n",
    "    plt.figure(figsize=(10, 6))\n",
    "\n",
    "    # Initialize the bottom of the stack\n",
    "    bottom = np.zeros(len(days))\n",
    "\n",
    "    # Plot each excess group on top of the previous one (stacked)\n",
    "    for i, label in enumerate(excess_labels):\n",
    "        excess_values = [df_transposed.loc[day, 'excess'][i] for day in df_transposed.index]\n",
    "        plt.bar(x, excess_values, width=width, label=label, bottom=bottom)\n",
    "        \n",
    "        # Update the bottom to include the current excess values\n",
    "        bottom += excess_values\n",
    "\n",
    "    # Adding gridlines\n",
    "    plt.grid(axis='y', which='both', linestyle='--', linewidth=0.7, color='grey')\n",
    "\n",
    "    # Labeling\n",
    "    plt.xlabel('Days')\n",
    "    plt.ylabel('Excess Value')\n",
    "    plt.title('Stacked Excess Values for Different Days')\n",
    "\n",
    "    # Adjust x-ticks to display numeric labels (1, 2, 3, ...) instead of day_0, day_7, etc.\n",
    "    # plt.xticks(x, labels=[i for i in range(len(days))])\n",
    "    x_labels = [day+day_array[1] for day in day_array]\n",
    "    plt.xticks(x, labels=x_labels)\n",
    "\n",
    "    # Add legend and show the plot\n",
    "    plt.legend(title='Excess Groups')\n",
    "    plt.tight_layout()\n",
    "    plt.show()"
   ]
  },
  {
   "cell_type": "code",
   "execution_count": null,
   "metadata": {},
   "outputs": [],
   "source": [
    "plot_excess_stacked(results)"
   ]
  },
  {
   "cell_type": "code",
   "execution_count": null,
   "metadata": {},
   "outputs": [],
   "source": [
    "results['objective_function']"
   ]
  },
  {
   "cell_type": "code",
   "execution_count": null,
   "metadata": {},
   "outputs": [],
   "source": []
  }
 ],
 "metadata": {
  "kernelspec": {
   "display_name": ".venv",
   "language": "python",
   "name": "python3"
  },
  "language_info": {
   "codemirror_mode": {
    "name": "ipython",
    "version": 3
   },
   "file_extension": ".py",
   "mimetype": "text/x-python",
   "name": "python",
   "nbconvert_exporter": "python",
   "pygments_lexer": "ipython3",
   "version": "3.10.12"
  }
 },
 "nbformat": 4,
 "nbformat_minor": 2
}
