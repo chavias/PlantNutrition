{
 "cells": [
  {
   "cell_type": "markdown",
   "metadata": {},
   "source": [
    "# Nutrition"
   ]
  },
  {
   "cell_type": "code",
   "execution_count": 130,
   "metadata": {},
   "outputs": [],
   "source": [
    "import pandas as pd\n",
    "import numpy as np\n",
    "import matplotlib.pyplot as plt\n",
    "import seaborn as sns\n",
    "from scipy.optimize import minimize"
   ]
  },
  {
   "cell_type": "markdown",
   "metadata": {},
   "source": [
    "## Raw Data"
   ]
  },
  {
   "cell_type": "markdown",
   "metadata": {},
   "source": [
    "We can also directly specify a nutrients and fertilizer instead of the using a separate files"
   ]
  },
  {
   "cell_type": "code",
   "execution_count": 131,
   "metadata": {},
   "outputs": [
    {
     "data": {
      "text/html": [
       "<div>\n",
       "<style scoped>\n",
       "    .dataframe tbody tr th:only-of-type {\n",
       "        vertical-align: middle;\n",
       "    }\n",
       "\n",
       "    .dataframe tbody tr th {\n",
       "        vertical-align: top;\n",
       "    }\n",
       "\n",
       "    .dataframe thead th {\n",
       "        text-align: right;\n",
       "    }\n",
       "</style>\n",
       "<table border=\"1\" class=\"dataframe\">\n",
       "  <thead>\n",
       "    <tr style=\"text-align: right;\">\n",
       "      <th></th>\n",
       "      <th>B</th>\n",
       "      <th>Ca</th>\n",
       "      <th>Cu</th>\n",
       "      <th>Fe</th>\n",
       "      <th>K</th>\n",
       "      <th>Mg</th>\n",
       "      <th>Mn</th>\n",
       "      <th>Na</th>\n",
       "      <th>P</th>\n",
       "      <th>Zn</th>\n",
       "      <th>N</th>\n",
       "      <th>Time</th>\n",
       "    </tr>\n",
       "  </thead>\n",
       "  <tbody>\n",
       "    <tr>\n",
       "      <th>0</th>\n",
       "      <td>1.000000</td>\n",
       "      <td>1.000000</td>\n",
       "      <td>1.000000</td>\n",
       "      <td>1.000000</td>\n",
       "      <td>1.000000</td>\n",
       "      <td>1.000000</td>\n",
       "      <td>1.000000</td>\n",
       "      <td>1.000000</td>\n",
       "      <td>1.000000</td>\n",
       "      <td>1.000000</td>\n",
       "      <td>1.000000</td>\n",
       "      <td>0</td>\n",
       "    </tr>\n",
       "    <tr>\n",
       "      <th>1</th>\n",
       "      <td>0.975676</td>\n",
       "      <td>0.967033</td>\n",
       "      <td>0.757225</td>\n",
       "      <td>0.926220</td>\n",
       "      <td>0.984881</td>\n",
       "      <td>0.997118</td>\n",
       "      <td>0.963664</td>\n",
       "      <td>0.982721</td>\n",
       "      <td>0.964880</td>\n",
       "      <td>0.885609</td>\n",
       "      <td>0.947009</td>\n",
       "      <td>7</td>\n",
       "    </tr>\n",
       "    <tr>\n",
       "      <th>2</th>\n",
       "      <td>0.965541</td>\n",
       "      <td>0.958242</td>\n",
       "      <td>0.739884</td>\n",
       "      <td>0.925085</td>\n",
       "      <td>0.876890</td>\n",
       "      <td>0.981268</td>\n",
       "      <td>0.918244</td>\n",
       "      <td>0.906407</td>\n",
       "      <td>0.892791</td>\n",
       "      <td>0.833948</td>\n",
       "      <td>0.902171</td>\n",
       "      <td>14</td>\n",
       "    </tr>\n",
       "    <tr>\n",
       "      <th>3</th>\n",
       "      <td>0.864865</td>\n",
       "      <td>0.901099</td>\n",
       "      <td>0.624277</td>\n",
       "      <td>0.872872</td>\n",
       "      <td>0.280562</td>\n",
       "      <td>0.881844</td>\n",
       "      <td>0.438304</td>\n",
       "      <td>0.410367</td>\n",
       "      <td>0.510166</td>\n",
       "      <td>0.321033</td>\n",
       "      <td>0.631666</td>\n",
       "      <td>21</td>\n",
       "    </tr>\n",
       "  </tbody>\n",
       "</table>\n",
       "</div>"
      ],
      "text/plain": [
       "          B        Ca        Cu        Fe         K        Mg        Mn  \\\n",
       "0  1.000000  1.000000  1.000000  1.000000  1.000000  1.000000  1.000000   \n",
       "1  0.975676  0.967033  0.757225  0.926220  0.984881  0.997118  0.963664   \n",
       "2  0.965541  0.958242  0.739884  0.925085  0.876890  0.981268  0.918244   \n",
       "3  0.864865  0.901099  0.624277  0.872872  0.280562  0.881844  0.438304   \n",
       "\n",
       "         Na         P        Zn         N  Time  \n",
       "0  1.000000  1.000000  1.000000  1.000000     0  \n",
       "1  0.982721  0.964880  0.885609  0.947009     7  \n",
       "2  0.906407  0.892791  0.833948  0.902171    14  \n",
       "3  0.410367  0.510166  0.321033  0.631666    21  "
      ]
     },
     "execution_count": 131,
     "metadata": {},
     "output_type": "execute_result"
    }
   ],
   "source": [
    "DATA_PATH_AVG = '../data/input/nutrients_avg.xlsx'\n",
    "\n",
    "def process_data(data_path):\n",
    "    df = pd.read_excel(data_path)\n",
    "    time_column = df['Time']\n",
    "    df_no_time = df.drop(columns='Time')\n",
    "    X = df_no_time.to_numpy()\n",
    "    sorted_data = np.sort(X, axis=0)[::-1]\n",
    "    maxes = np.max(sorted_data, axis=0)\n",
    "    normalized_data = sorted_data / maxes\n",
    "    data_df = pd.DataFrame(normalized_data, columns=df_no_time.columns)\n",
    "    data_df['Time'] = time_column.sort_values(ascending=True).reset_index(drop=True)\n",
    "    return data_df, maxes\n",
    "\n",
    "df_data_normalized, maxes = process_data(DATA_PATH_AVG)\n",
    "\n",
    "df_data_normalized.head()"
   ]
  },
  {
   "cell_type": "code",
   "execution_count": 132,
   "metadata": {},
   "outputs": [
    {
     "data": {
      "text/html": [
       "<div>\n",
       "<style scoped>\n",
       "    .dataframe tbody tr th:only-of-type {\n",
       "        vertical-align: middle;\n",
       "    }\n",
       "\n",
       "    .dataframe tbody tr th {\n",
       "        vertical-align: top;\n",
       "    }\n",
       "\n",
       "    .dataframe thead th {\n",
       "        text-align: right;\n",
       "    }\n",
       "</style>\n",
       "<table border=\"1\" class=\"dataframe\">\n",
       "  <thead>\n",
       "    <tr style=\"text-align: right;\">\n",
       "      <th></th>\n",
       "      <th>B</th>\n",
       "      <th>Ca</th>\n",
       "      <th>Cu</th>\n",
       "      <th>Fe</th>\n",
       "      <th>K</th>\n",
       "      <th>Mg</th>\n",
       "      <th>Mn</th>\n",
       "      <th>Na</th>\n",
       "      <th>P</th>\n",
       "      <th>Zn</th>\n",
       "      <th>N</th>\n",
       "    </tr>\n",
       "  </thead>\n",
       "  <tbody>\n",
       "    <tr>\n",
       "      <th>0</th>\n",
       "      <td>0.000210</td>\n",
       "      <td>0.000094</td>\n",
       "      <td>0.264246</td>\n",
       "      <td>0.001538</td>\n",
       "      <td>0.000125</td>\n",
       "      <td>0.000292</td>\n",
       "      <td>0.036727</td>\n",
       "      <td>0.000096</td>\n",
       "      <td>0.000286</td>\n",
       "      <td>0.021631</td>\n",
       "      <td>0.000050</td>\n",
       "    </tr>\n",
       "    <tr>\n",
       "      <th>1</th>\n",
       "      <td>0.032856</td>\n",
       "      <td>0.000095</td>\n",
       "      <td>0.181090</td>\n",
       "      <td>0.005791</td>\n",
       "      <td>0.000107</td>\n",
       "      <td>0.000319</td>\n",
       "      <td>0.010258</td>\n",
       "      <td>0.000165</td>\n",
       "      <td>0.000171</td>\n",
       "      <td>0.030520</td>\n",
       "      <td>0.000052</td>\n",
       "    </tr>\n",
       "    <tr>\n",
       "      <th>2</th>\n",
       "      <td>0.039601</td>\n",
       "      <td>0.000026</td>\n",
       "      <td>0.245943</td>\n",
       "      <td>0.003782</td>\n",
       "      <td>0.000117</td>\n",
       "      <td>0.000283</td>\n",
       "      <td>0.008109</td>\n",
       "      <td>0.000259</td>\n",
       "      <td>0.000115</td>\n",
       "      <td>0.180471</td>\n",
       "      <td>0.000008</td>\n",
       "    </tr>\n",
       "  </tbody>\n",
       "</table>\n",
       "</div>"
      ],
      "text/plain": [
       "          B        Ca        Cu        Fe         K        Mg        Mn  \\\n",
       "0  0.000210  0.000094  0.264246  0.001538  0.000125  0.000292  0.036727   \n",
       "1  0.032856  0.000095  0.181090  0.005791  0.000107  0.000319  0.010258   \n",
       "2  0.039601  0.000026  0.245943  0.003782  0.000117  0.000283  0.008109   \n",
       "\n",
       "         Na         P        Zn         N  \n",
       "0  0.000096  0.000286  0.021631  0.000050  \n",
       "1  0.000165  0.000171  0.030520  0.000052  \n",
       "2  0.000259  0.000115  0.180471  0.000008  "
      ]
     },
     "execution_count": 132,
     "metadata": {},
     "output_type": "execute_result"
    }
   ],
   "source": [
    "FERTILIZER_PATH = '../data/input/fertilizer.xlsx'\n",
    "\n",
    "df_fertilizer = pd.read_excel(FERTILIZER_PATH)\n",
    "df_fertilizer_normalized = df_fertilizer/maxes\n",
    "df_fertilizer_normalized.head()"
   ]
  },
  {
   "cell_type": "markdown",
   "metadata": {},
   "source": [
    "## Data Preparation"
   ]
  },
  {
   "cell_type": "code",
   "execution_count": 133,
   "metadata": {},
   "outputs": [],
   "source": [
    "from scipy.interpolate import interp1d\n",
    "from scipy.interpolate import CubicSpline, PchipInterpolator, Akima1DInterpolator\n",
    "\n",
    "def interpolate_data(data_df, num_points=100, kind='cubic'):\n",
    "    data = data_df.to_numpy()\n",
    "    x_original = np.arange(data.shape[0])  # Original index positions\n",
    "    x_interp = np.linspace(0, data.shape[0] - 1, num_points)  # Interpolation index positions\n",
    "    \n",
    "    # Initialize an array to store interpolated data\n",
    "    Y_interp = np.zeros((num_points, data.shape[1]))\n",
    "    \n",
    "    # Interpolate each column\n",
    "    if kind!='pchip':\n",
    "        for col in range(data.shape[1]):\n",
    "            f = interp1d(x_original, data[:, col], kind=kind)  # Use the specified interpolation method\n",
    "            Y_interp[:, col] = f(x_interp)\n",
    "    else:\n",
    "        for col in range(data.shape[1]):\n",
    "            pchip_interpolator = PchipInterpolator(x_original, data[:, col])  # Create PCHIP interpolator\n",
    "            Y_interp[:, col] = pchip_interpolator(x_interp)\n",
    "\n",
    "\n",
    "    # Create a DataFrame for the interpolated data\n",
    "    interpolated_df = pd.DataFrame(Y_interp, columns=data_df.columns)\n",
    "\n",
    "    return interpolated_df\n",
    "\n",
    "\n",
    "df_data_normalized_interp = interpolate_data(df_data_normalized, num_points=21, kind='pchip')\n",
    " "
   ]
  },
  {
   "cell_type": "code",
   "execution_count": 134,
   "metadata": {},
   "outputs": [
    {
     "data": {
      "application/vnd.plotly.v1+json": {
       "config": {
        "plotlyServerURL": "https://plot.ly"
       },
       "data": [
        {
         "line": {
          "width": 2
         },
         "mode": "lines",
         "name": "B",
         "type": "scatter",
         "x": [
          0,
          1.05,
          2.1,
          3.1499999999999995,
          4.2,
          5.25,
          6.299999999999999,
          7.3500000000000005,
          8.4,
          9.45,
          10.5,
          11.549999999999999,
          12.599999999999998,
          13.649999999999999,
          14.700000000000001,
          15.75,
          16.8,
          17.849999999999998,
          18.9,
          19.950000000000003,
          21
         ],
         "xaxis": "x",
         "y": [
          0.246666666666667,
          0.245529760416667,
          0.24445376960784349,
          0.24345328615196116,
          0.24254290196078465,
          0.24173720894607878,
          0.2410507990196082,
          0.24050006583273587,
          0.2401002678144432,
          0.23980209103000988,
          0.23954332556193242,
          0.23926176149270714,
          0.23889518890483055,
          0.23838139788079898,
          0.23742737601626046,
          0.23533514354674823,
          0.2322271869918701,
          0.2282882670223578,
          0.22370314430894303,
          0.2186565795223575,
          0.213333333333333
         ],
         "yaxis": "y"
        },
        {
         "line": {
          "width": 2
         },
         "mode": "lines",
         "name": "Ca",
         "type": "scatter",
         "x": [
          0,
          1.05,
          2.1,
          3.1499999999999995,
          4.2,
          5.25,
          6.299999999999999,
          7.3500000000000005,
          8.4,
          9.45,
          10.5,
          11.549999999999999,
          12.599999999999998,
          13.649999999999999,
          14.700000000000001,
          15.75,
          16.8,
          17.849999999999998,
          18.9,
          19.950000000000003,
          21
         ],
         "xaxis": "x2",
         "y": [
          75.8333333333333,
          75.33130866228066,
          74.85739912280698,
          74.42235142543856,
          74.0369122807017,
          73.71182839912275,
          73.45784649122803,
          73.28374444444441,
          73.1662409356725,
          73.08185321637426,
          73.01286549707602,
          72.9415619883041,
          72.85022690058481,
          72.72114444444448,
          72.50723333333337,
          72.11614583333338,
          71.56693333333337,
          70.88682083333336,
          70.10303333333334,
          69.24279583333332,
          68.3333333333333
         ],
         "yaxis": "y2"
        },
        {
         "line": {
          "width": 2
         },
         "mode": "lines",
         "name": "Cu",
         "type": "scatter",
         "x": [
          0,
          1.05,
          2.1,
          3.1499999999999995,
          4.2,
          5.25,
          6.299999999999999,
          7.3500000000000005,
          8.4,
          9.45,
          10.5,
          11.549999999999999,
          12.599999999999998,
          13.649999999999999,
          14.700000000000001,
          15.75,
          16.8,
          17.849999999999998,
          18.9,
          19.950000000000003,
          21
         ],
         "xaxis": "x3",
         "y": [
          0.0288333333333333,
          0.027315089583333303,
          0.025873383333333298,
          0.0245652520833333,
          0.023447733333333297,
          0.0225778645833333,
          0.022012683333333304,
          0.021789656884057935,
          0.021689692753623153,
          0.02162368079710142,
          0.021575362318840545,
          0.021528478623188376,
          0.021466771014492722,
          0.021373980797101417,
          0.021212315217391278,
          0.020912873641304317,
          0.020490782608695628,
          0.019967245923913024,
          0.01936346739130434,
          0.018700650815217386,
          0.017999999999999995
         ],
         "yaxis": "y3"
        },
        {
         "line": {
          "width": 2
         },
         "mode": "lines",
         "name": "Fe",
         "type": "scatter",
         "x": [
          0,
          1.05,
          2.1,
          3.1499999999999995,
          4.2,
          5.25,
          6.299999999999999,
          7.3500000000000005,
          8.4,
          9.45,
          10.5,
          11.549999999999999,
          12.599999999999998,
          13.649999999999999,
          14.700000000000001,
          15.75,
          16.8,
          17.849999999999998,
          18.9,
          19.950000000000003,
          21
         ],
         "xaxis": "x4",
         "y": [
          1.46833333333333,
          1.4442942424242402,
          1.4213751515151503,
          1.4006233333333329,
          1.383086060606061,
          1.3698106060606068,
          1.361844242424243,
          1.3598475272673543,
          1.3595108618095844,
          1.3593047379378882,
          1.3591641145497513,
          1.359023950542659,
          1.3588192048140961,
          1.358484836261549,
          1.356949911347514,
          1.3512469525709185,
          1.3418368794326212,
          1.329446753102835,
          1.314803634751773,
          1.298634585549647,
          1.28166666666667
         ],
         "yaxis": "y4"
        },
        {
         "line": {
          "width": 2
         },
         "mode": "lines",
         "name": "K",
         "type": "scatter",
         "x": [
          0,
          1.05,
          2.1,
          3.1499999999999995,
          4.2,
          5.25,
          6.299999999999999,
          7.3500000000000005,
          8.4,
          9.45,
          10.5,
          11.549999999999999,
          12.599999999999998,
          13.649999999999999,
          14.700000000000001,
          15.75,
          16.8,
          17.849999999999998,
          18.9,
          19.950000000000003,
          21
         ],
         "xaxis": "x5",
         "y": [
          77.1666666666667,
          77.1349364035088,
          77.04361403508774,
          76.89850219298248,
          76.70540350877195,
          76.4701206140351,
          76.19845614035088,
          75.88073635387917,
          75.32290385577558,
          74.47302056601946,
          73.34138704627254,
          71.93830385819656,
          70.27407156345328,
          68.35899072370442,
          65.81891672033122,
          61.53240750057502,
          55.66318528058881,
          48.47579174045542,
          40.23476856025762,
          31.2046574200782,
          21.649999999999995
         ],
         "yaxis": "y5"
        },
        {
         "line": {
          "width": 2
         },
         "mode": "lines",
         "name": "Mg",
         "type": "scatter",
         "x": [
          0,
          1.05,
          2.1,
          3.1499999999999995,
          4.2,
          5.25,
          6.299999999999999,
          7.3500000000000005,
          8.4,
          9.45,
          10.5,
          11.549999999999999,
          12.599999999999998,
          13.649999999999999,
          14.700000000000001,
          15.75,
          16.8,
          17.849999999999998,
          18.9,
          19.950000000000003,
          21
         ],
         "xaxis": "x6",
         "y": [
          23.1333333333333,
          23.131441025640996,
          23.126041025641,
          23.1175487179487,
          23.10637948717948,
          23.092948717948726,
          23.077671794871815,
          23.060419495192342,
          23.03433230769235,
          22.99703781250004,
          22.9482932692308,
          22.887855937500024,
          22.81548307692309,
          22.730931947115387,
          22.613767499999994,
          22.40480468749999,
          22.112919999999992,
          21.752305312499992,
          21.337152499999995,
          20.881653437499995,
          20.400000000000002
         ],
         "yaxis": "y6"
        },
        {
         "line": {
          "width": 2
         },
         "mode": "lines",
         "name": "Mn",
         "type": "scatter",
         "x": [
          0,
          1.05,
          2.1,
          3.1499999999999995,
          4.2,
          5.25,
          6.299999999999999,
          7.3500000000000005,
          8.4,
          9.45,
          10.5,
          11.549999999999999,
          12.599999999999998,
          13.649999999999999,
          14.700000000000001,
          15.75,
          16.8,
          17.849999999999998,
          18.9,
          19.950000000000003,
          21
         ],
         "xaxis": "x7",
         "y": [
          0.220166666666667,
          0.21909204166666701,
          0.217969666666667,
          0.21680179166666702,
          0.21559066666666699,
          0.21433854166666702,
          0.213047666666667,
          0.21173644892731383,
          0.2105735574767855,
          0.2094895421069488,
          0.20833941722702565,
          0.20697819724623795,
          0.20526089657380758,
          0.20304252961895647,
          0.19910955763688792,
          0.19028221811959686,
          0.17707699135446714,
          0.1602950167507207,
          0.14073743371757944,
          0.1192053816642652,
          0.0965
         ],
         "yaxis": "y7"
        },
        {
         "line": {
          "width": 2
         },
         "mode": "lines",
         "name": "Na",
         "type": "scatter",
         "x": [
          0,
          1.05,
          2.1,
          3.1499999999999995,
          4.2,
          5.25,
          6.299999999999999,
          7.3500000000000005,
          8.4,
          9.45,
          10.5,
          11.549999999999999,
          12.599999999999998,
          13.649999999999999,
          14.700000000000001,
          15.75,
          16.8,
          17.849999999999998,
          18.9,
          19.950000000000003,
          21
         ],
         "xaxis": "x8",
         "y": [
          23.15,
          23.138175384615383,
          23.104695384615386,
          23.052550769230766,
          22.98473230769231,
          22.904230769230768,
          22.81403692307692,
          22.715029059829057,
          22.58076239316239,
          22.399611111111103,
          22.16790598290597,
          21.88197777777776,
          21.538157264957245,
          21.13277521367518,
          20.560834999999962,
          19.52445312499996,
          18.069039999999966,
          16.266741874999973,
          14.189704999999986,
          11.91007562499999,
          9.500000000000002
         ],
         "yaxis": "y8"
        },
        {
         "line": {
          "width": 2
         },
         "mode": "lines",
         "name": "P",
         "type": "scatter",
         "x": [
          0,
          1.05,
          2.1,
          3.1499999999999995,
          4.2,
          5.25,
          6.299999999999999,
          7.3500000000000005,
          8.4,
          9.45,
          10.5,
          11.549999999999999,
          12.599999999999998,
          13.649999999999999,
          14.700000000000001,
          15.75,
          16.8,
          17.849999999999998,
          18.9,
          19.950000000000003,
          21
         ],
         "xaxis": "x9",
         "y": [
          18.0333333333333,
          17.978635057471237,
          17.90609195402297,
          17.818031609195383,
          17.71678160919539,
          17.604669540229878,
          17.484022988505743,
          17.35733698486123,
          17.225789066442392,
          17.081980256518086,
          16.917010092514722,
          16.721978111858707,
          16.487983851976452,
          16.206126850294364,
          15.816887804878052,
          15.168902439024393,
          14.287356097560979,
          13.210970731707318,
          11.978468292682926,
          10.628570731707315,
          9.2
         ],
         "yaxis": "y9"
        },
        {
         "line": {
          "width": 2
         },
         "mode": "lines",
         "name": "Zn",
         "type": "scatter",
         "x": [
          0,
          1.05,
          2.1,
          3.1499999999999995,
          4.2,
          5.25,
          6.299999999999999,
          7.3500000000000005,
          8.4,
          9.45,
          10.5,
          11.549999999999999,
          12.599999999999998,
          13.649999999999999,
          14.700000000000001,
          15.75,
          16.8,
          17.849999999999998,
          18.9,
          19.950000000000003,
          21
         ],
         "xaxis": "x10",
         "y": [
          0.0451666666666667,
          0.04420080625000003,
          0.04328545000000002,
          0.04243143541666668,
          0.0416496,
          0.04095078125,
          0.040345816666666666,
          0.0398480839869281,
          0.03948150588235295,
          0.03920477483660132,
          0.038961437908496745,
          0.03869504215686277,
          0.0383491346405229,
          0.037867262418300685,
          0.03697683823529416,
          0.035024892769607886,
          0.03212549019607847,
          0.028450965073529445,
          0.02417365196078435,
          0.019465885416666672,
          0.0145
         ],
         "yaxis": "y10"
        },
        {
         "line": {
          "width": 2
         },
         "mode": "lines",
         "name": "N",
         "type": "scatter",
         "x": [
          0,
          1.05,
          2.1,
          3.1499999999999995,
          4.2,
          5.25,
          6.299999999999999,
          7.3500000000000005,
          8.4,
          9.45,
          10.5,
          11.549999999999999,
          12.599999999999998,
          13.649999999999999,
          14.700000000000001,
          15.75,
          16.8,
          17.849999999999998,
          18.9,
          19.950000000000003,
          21
         ],
         "xaxis": "x11",
         "y": [
          189.524597441025,
          187.91837710568134,
          186.34533244313522,
          184.8067675008399,
          183.3039863262489,
          181.8382929668155,
          180.41099146999318,
          179.039020002346,
          177.88580255599027,
          176.88666839301848,
          175.90412939813584,
          174.80069745604746,
          173.43888445145848,
          171.681202269074,
          169.02104804037526,
          164.32843232349077,
          157.8126861521906,
          149.78370411340669,
          140.5513807940711,
          130.42561078111584,
          119.716288661473
         ],
         "yaxis": "y11"
        }
       ],
       "layout": {
        "annotations": [
         {
          "font": {
           "size": 16
          },
          "showarrow": false,
          "text": "B",
          "x": 0.13333333333333333,
          "xanchor": "center",
          "xref": "paper",
          "y": 1,
          "yanchor": "bottom",
          "yref": "paper"
         },
         {
          "font": {
           "size": 16
          },
          "showarrow": false,
          "text": "Ca",
          "x": 0.5,
          "xanchor": "center",
          "xref": "paper",
          "y": 1,
          "yanchor": "bottom",
          "yref": "paper"
         },
         {
          "font": {
           "size": 16
          },
          "showarrow": false,
          "text": "Cu",
          "x": 0.8666666666666667,
          "xanchor": "center",
          "xref": "paper",
          "y": 1,
          "yanchor": "bottom",
          "yref": "paper"
         },
         {
          "font": {
           "size": 16
          },
          "showarrow": false,
          "text": "Fe",
          "x": 0.13333333333333333,
          "xanchor": "center",
          "xref": "paper",
          "y": 0.7124999999999999,
          "yanchor": "bottom",
          "yref": "paper"
         },
         {
          "font": {
           "size": 16
          },
          "showarrow": false,
          "text": "K",
          "x": 0.5,
          "xanchor": "center",
          "xref": "paper",
          "y": 0.7124999999999999,
          "yanchor": "bottom",
          "yref": "paper"
         },
         {
          "font": {
           "size": 16
          },
          "showarrow": false,
          "text": "Mg",
          "x": 0.8666666666666667,
          "xanchor": "center",
          "xref": "paper",
          "y": 0.7124999999999999,
          "yanchor": "bottom",
          "yref": "paper"
         },
         {
          "font": {
           "size": 16
          },
          "showarrow": false,
          "text": "Mn",
          "x": 0.13333333333333333,
          "xanchor": "center",
          "xref": "paper",
          "y": 0.425,
          "yanchor": "bottom",
          "yref": "paper"
         },
         {
          "font": {
           "size": 16
          },
          "showarrow": false,
          "text": "Na",
          "x": 0.5,
          "xanchor": "center",
          "xref": "paper",
          "y": 0.425,
          "yanchor": "bottom",
          "yref": "paper"
         },
         {
          "font": {
           "size": 16
          },
          "showarrow": false,
          "text": "P",
          "x": 0.8666666666666667,
          "xanchor": "center",
          "xref": "paper",
          "y": 0.425,
          "yanchor": "bottom",
          "yref": "paper"
         },
         {
          "font": {
           "size": 16
          },
          "showarrow": false,
          "text": "Zn",
          "x": 0.13333333333333333,
          "xanchor": "center",
          "xref": "paper",
          "y": 0.1375,
          "yanchor": "bottom",
          "yref": "paper"
         },
         {
          "font": {
           "size": 16
          },
          "showarrow": false,
          "text": "N",
          "x": 0.5,
          "xanchor": "center",
          "xref": "paper",
          "y": 0.1375,
          "yanchor": "bottom",
          "yref": "paper"
         }
        ],
        "height": 1200,
        "showlegend": false,
        "template": {
         "data": {
          "bar": [
           {
            "error_x": {
             "color": "#2a3f5f"
            },
            "error_y": {
             "color": "#2a3f5f"
            },
            "marker": {
             "line": {
              "color": "white",
              "width": 0.5
             },
             "pattern": {
              "fillmode": "overlay",
              "size": 10,
              "solidity": 0.2
             }
            },
            "type": "bar"
           }
          ],
          "barpolar": [
           {
            "marker": {
             "line": {
              "color": "white",
              "width": 0.5
             },
             "pattern": {
              "fillmode": "overlay",
              "size": 10,
              "solidity": 0.2
             }
            },
            "type": "barpolar"
           }
          ],
          "carpet": [
           {
            "aaxis": {
             "endlinecolor": "#2a3f5f",
             "gridcolor": "#C8D4E3",
             "linecolor": "#C8D4E3",
             "minorgridcolor": "#C8D4E3",
             "startlinecolor": "#2a3f5f"
            },
            "baxis": {
             "endlinecolor": "#2a3f5f",
             "gridcolor": "#C8D4E3",
             "linecolor": "#C8D4E3",
             "minorgridcolor": "#C8D4E3",
             "startlinecolor": "#2a3f5f"
            },
            "type": "carpet"
           }
          ],
          "choropleth": [
           {
            "colorbar": {
             "outlinewidth": 0,
             "ticks": ""
            },
            "type": "choropleth"
           }
          ],
          "contour": [
           {
            "colorbar": {
             "outlinewidth": 0,
             "ticks": ""
            },
            "colorscale": [
             [
              0,
              "#0d0887"
             ],
             [
              0.1111111111111111,
              "#46039f"
             ],
             [
              0.2222222222222222,
              "#7201a8"
             ],
             [
              0.3333333333333333,
              "#9c179e"
             ],
             [
              0.4444444444444444,
              "#bd3786"
             ],
             [
              0.5555555555555556,
              "#d8576b"
             ],
             [
              0.6666666666666666,
              "#ed7953"
             ],
             [
              0.7777777777777778,
              "#fb9f3a"
             ],
             [
              0.8888888888888888,
              "#fdca26"
             ],
             [
              1,
              "#f0f921"
             ]
            ],
            "type": "contour"
           }
          ],
          "contourcarpet": [
           {
            "colorbar": {
             "outlinewidth": 0,
             "ticks": ""
            },
            "type": "contourcarpet"
           }
          ],
          "heatmap": [
           {
            "colorbar": {
             "outlinewidth": 0,
             "ticks": ""
            },
            "colorscale": [
             [
              0,
              "#0d0887"
             ],
             [
              0.1111111111111111,
              "#46039f"
             ],
             [
              0.2222222222222222,
              "#7201a8"
             ],
             [
              0.3333333333333333,
              "#9c179e"
             ],
             [
              0.4444444444444444,
              "#bd3786"
             ],
             [
              0.5555555555555556,
              "#d8576b"
             ],
             [
              0.6666666666666666,
              "#ed7953"
             ],
             [
              0.7777777777777778,
              "#fb9f3a"
             ],
             [
              0.8888888888888888,
              "#fdca26"
             ],
             [
              1,
              "#f0f921"
             ]
            ],
            "type": "heatmap"
           }
          ],
          "heatmapgl": [
           {
            "colorbar": {
             "outlinewidth": 0,
             "ticks": ""
            },
            "colorscale": [
             [
              0,
              "#0d0887"
             ],
             [
              0.1111111111111111,
              "#46039f"
             ],
             [
              0.2222222222222222,
              "#7201a8"
             ],
             [
              0.3333333333333333,
              "#9c179e"
             ],
             [
              0.4444444444444444,
              "#bd3786"
             ],
             [
              0.5555555555555556,
              "#d8576b"
             ],
             [
              0.6666666666666666,
              "#ed7953"
             ],
             [
              0.7777777777777778,
              "#fb9f3a"
             ],
             [
              0.8888888888888888,
              "#fdca26"
             ],
             [
              1,
              "#f0f921"
             ]
            ],
            "type": "heatmapgl"
           }
          ],
          "histogram": [
           {
            "marker": {
             "pattern": {
              "fillmode": "overlay",
              "size": 10,
              "solidity": 0.2
             }
            },
            "type": "histogram"
           }
          ],
          "histogram2d": [
           {
            "colorbar": {
             "outlinewidth": 0,
             "ticks": ""
            },
            "colorscale": [
             [
              0,
              "#0d0887"
             ],
             [
              0.1111111111111111,
              "#46039f"
             ],
             [
              0.2222222222222222,
              "#7201a8"
             ],
             [
              0.3333333333333333,
              "#9c179e"
             ],
             [
              0.4444444444444444,
              "#bd3786"
             ],
             [
              0.5555555555555556,
              "#d8576b"
             ],
             [
              0.6666666666666666,
              "#ed7953"
             ],
             [
              0.7777777777777778,
              "#fb9f3a"
             ],
             [
              0.8888888888888888,
              "#fdca26"
             ],
             [
              1,
              "#f0f921"
             ]
            ],
            "type": "histogram2d"
           }
          ],
          "histogram2dcontour": [
           {
            "colorbar": {
             "outlinewidth": 0,
             "ticks": ""
            },
            "colorscale": [
             [
              0,
              "#0d0887"
             ],
             [
              0.1111111111111111,
              "#46039f"
             ],
             [
              0.2222222222222222,
              "#7201a8"
             ],
             [
              0.3333333333333333,
              "#9c179e"
             ],
             [
              0.4444444444444444,
              "#bd3786"
             ],
             [
              0.5555555555555556,
              "#d8576b"
             ],
             [
              0.6666666666666666,
              "#ed7953"
             ],
             [
              0.7777777777777778,
              "#fb9f3a"
             ],
             [
              0.8888888888888888,
              "#fdca26"
             ],
             [
              1,
              "#f0f921"
             ]
            ],
            "type": "histogram2dcontour"
           }
          ],
          "mesh3d": [
           {
            "colorbar": {
             "outlinewidth": 0,
             "ticks": ""
            },
            "type": "mesh3d"
           }
          ],
          "parcoords": [
           {
            "line": {
             "colorbar": {
              "outlinewidth": 0,
              "ticks": ""
             }
            },
            "type": "parcoords"
           }
          ],
          "pie": [
           {
            "automargin": true,
            "type": "pie"
           }
          ],
          "scatter": [
           {
            "fillpattern": {
             "fillmode": "overlay",
             "size": 10,
             "solidity": 0.2
            },
            "type": "scatter"
           }
          ],
          "scatter3d": [
           {
            "line": {
             "colorbar": {
              "outlinewidth": 0,
              "ticks": ""
             }
            },
            "marker": {
             "colorbar": {
              "outlinewidth": 0,
              "ticks": ""
             }
            },
            "type": "scatter3d"
           }
          ],
          "scattercarpet": [
           {
            "marker": {
             "colorbar": {
              "outlinewidth": 0,
              "ticks": ""
             }
            },
            "type": "scattercarpet"
           }
          ],
          "scattergeo": [
           {
            "marker": {
             "colorbar": {
              "outlinewidth": 0,
              "ticks": ""
             }
            },
            "type": "scattergeo"
           }
          ],
          "scattergl": [
           {
            "marker": {
             "colorbar": {
              "outlinewidth": 0,
              "ticks": ""
             }
            },
            "type": "scattergl"
           }
          ],
          "scattermapbox": [
           {
            "marker": {
             "colorbar": {
              "outlinewidth": 0,
              "ticks": ""
             }
            },
            "type": "scattermapbox"
           }
          ],
          "scatterpolar": [
           {
            "marker": {
             "colorbar": {
              "outlinewidth": 0,
              "ticks": ""
             }
            },
            "type": "scatterpolar"
           }
          ],
          "scatterpolargl": [
           {
            "marker": {
             "colorbar": {
              "outlinewidth": 0,
              "ticks": ""
             }
            },
            "type": "scatterpolargl"
           }
          ],
          "scatterternary": [
           {
            "marker": {
             "colorbar": {
              "outlinewidth": 0,
              "ticks": ""
             }
            },
            "type": "scatterternary"
           }
          ],
          "surface": [
           {
            "colorbar": {
             "outlinewidth": 0,
             "ticks": ""
            },
            "colorscale": [
             [
              0,
              "#0d0887"
             ],
             [
              0.1111111111111111,
              "#46039f"
             ],
             [
              0.2222222222222222,
              "#7201a8"
             ],
             [
              0.3333333333333333,
              "#9c179e"
             ],
             [
              0.4444444444444444,
              "#bd3786"
             ],
             [
              0.5555555555555556,
              "#d8576b"
             ],
             [
              0.6666666666666666,
              "#ed7953"
             ],
             [
              0.7777777777777778,
              "#fb9f3a"
             ],
             [
              0.8888888888888888,
              "#fdca26"
             ],
             [
              1,
              "#f0f921"
             ]
            ],
            "type": "surface"
           }
          ],
          "table": [
           {
            "cells": {
             "fill": {
              "color": "#EBF0F8"
             },
             "line": {
              "color": "white"
             }
            },
            "header": {
             "fill": {
              "color": "#C8D4E3"
             },
             "line": {
              "color": "white"
             }
            },
            "type": "table"
           }
          ]
         },
         "layout": {
          "annotationdefaults": {
           "arrowcolor": "#2a3f5f",
           "arrowhead": 0,
           "arrowwidth": 1
          },
          "autotypenumbers": "strict",
          "coloraxis": {
           "colorbar": {
            "outlinewidth": 0,
            "ticks": ""
           }
          },
          "colorscale": {
           "diverging": [
            [
             0,
             "#8e0152"
            ],
            [
             0.1,
             "#c51b7d"
            ],
            [
             0.2,
             "#de77ae"
            ],
            [
             0.3,
             "#f1b6da"
            ],
            [
             0.4,
             "#fde0ef"
            ],
            [
             0.5,
             "#f7f7f7"
            ],
            [
             0.6,
             "#e6f5d0"
            ],
            [
             0.7,
             "#b8e186"
            ],
            [
             0.8,
             "#7fbc41"
            ],
            [
             0.9,
             "#4d9221"
            ],
            [
             1,
             "#276419"
            ]
           ],
           "sequential": [
            [
             0,
             "#0d0887"
            ],
            [
             0.1111111111111111,
             "#46039f"
            ],
            [
             0.2222222222222222,
             "#7201a8"
            ],
            [
             0.3333333333333333,
             "#9c179e"
            ],
            [
             0.4444444444444444,
             "#bd3786"
            ],
            [
             0.5555555555555556,
             "#d8576b"
            ],
            [
             0.6666666666666666,
             "#ed7953"
            ],
            [
             0.7777777777777778,
             "#fb9f3a"
            ],
            [
             0.8888888888888888,
             "#fdca26"
            ],
            [
             1,
             "#f0f921"
            ]
           ],
           "sequentialminus": [
            [
             0,
             "#0d0887"
            ],
            [
             0.1111111111111111,
             "#46039f"
            ],
            [
             0.2222222222222222,
             "#7201a8"
            ],
            [
             0.3333333333333333,
             "#9c179e"
            ],
            [
             0.4444444444444444,
             "#bd3786"
            ],
            [
             0.5555555555555556,
             "#d8576b"
            ],
            [
             0.6666666666666666,
             "#ed7953"
            ],
            [
             0.7777777777777778,
             "#fb9f3a"
            ],
            [
             0.8888888888888888,
             "#fdca26"
            ],
            [
             1,
             "#f0f921"
            ]
           ]
          },
          "colorway": [
           "#636efa",
           "#EF553B",
           "#00cc96",
           "#ab63fa",
           "#FFA15A",
           "#19d3f3",
           "#FF6692",
           "#B6E880",
           "#FF97FF",
           "#FECB52"
          ],
          "font": {
           "color": "#2a3f5f"
          },
          "geo": {
           "bgcolor": "white",
           "lakecolor": "white",
           "landcolor": "white",
           "showlakes": true,
           "showland": true,
           "subunitcolor": "#C8D4E3"
          },
          "hoverlabel": {
           "align": "left"
          },
          "hovermode": "closest",
          "mapbox": {
           "style": "light"
          },
          "paper_bgcolor": "white",
          "plot_bgcolor": "white",
          "polar": {
           "angularaxis": {
            "gridcolor": "#EBF0F8",
            "linecolor": "#EBF0F8",
            "ticks": ""
           },
           "bgcolor": "white",
           "radialaxis": {
            "gridcolor": "#EBF0F8",
            "linecolor": "#EBF0F8",
            "ticks": ""
           }
          },
          "scene": {
           "xaxis": {
            "backgroundcolor": "white",
            "gridcolor": "#DFE8F3",
            "gridwidth": 2,
            "linecolor": "#EBF0F8",
            "showbackground": true,
            "ticks": "",
            "zerolinecolor": "#EBF0F8"
           },
           "yaxis": {
            "backgroundcolor": "white",
            "gridcolor": "#DFE8F3",
            "gridwidth": 2,
            "linecolor": "#EBF0F8",
            "showbackground": true,
            "ticks": "",
            "zerolinecolor": "#EBF0F8"
           },
           "zaxis": {
            "backgroundcolor": "white",
            "gridcolor": "#DFE8F3",
            "gridwidth": 2,
            "linecolor": "#EBF0F8",
            "showbackground": true,
            "ticks": "",
            "zerolinecolor": "#EBF0F8"
           }
          },
          "shapedefaults": {
           "line": {
            "color": "#2a3f5f"
           }
          },
          "ternary": {
           "aaxis": {
            "gridcolor": "#DFE8F3",
            "linecolor": "#A2B1C6",
            "ticks": ""
           },
           "baxis": {
            "gridcolor": "#DFE8F3",
            "linecolor": "#A2B1C6",
            "ticks": ""
           },
           "bgcolor": "white",
           "caxis": {
            "gridcolor": "#DFE8F3",
            "linecolor": "#A2B1C6",
            "ticks": ""
           }
          },
          "title": {
           "x": 0.05
          },
          "xaxis": {
           "automargin": true,
           "gridcolor": "#EBF0F8",
           "linecolor": "#EBF0F8",
           "ticks": "",
           "title": {
            "standoff": 15
           },
           "zerolinecolor": "#EBF0F8",
           "zerolinewidth": 2
          },
          "yaxis": {
           "automargin": true,
           "gridcolor": "#EBF0F8",
           "linecolor": "#EBF0F8",
           "ticks": "",
           "title": {
            "standoff": 15
           },
           "zerolinecolor": "#EBF0F8",
           "zerolinewidth": 2
          }
         }
        },
        "title": {
         "text": "Interactive Subplots of Concentrations Over Time"
        },
        "width": 900,
        "xaxis": {
         "anchor": "y",
         "domain": [
          0,
          0.26666666666666666
         ],
         "title": {
          "text": "Days"
         }
        },
        "xaxis10": {
         "anchor": "y10",
         "domain": [
          0,
          0.26666666666666666
         ],
         "title": {
          "text": "Days"
         }
        },
        "xaxis11": {
         "anchor": "y11",
         "domain": [
          0.3666666666666667,
          0.6333333333333333
         ],
         "title": {
          "text": "Days"
         }
        },
        "xaxis12": {
         "anchor": "y12",
         "domain": [
          0.7333333333333334,
          1
         ]
        },
        "xaxis2": {
         "anchor": "y2",
         "domain": [
          0.3666666666666667,
          0.6333333333333333
         ],
         "title": {
          "text": "Days"
         }
        },
        "xaxis3": {
         "anchor": "y3",
         "domain": [
          0.7333333333333334,
          1
         ],
         "title": {
          "text": "Days"
         }
        },
        "xaxis4": {
         "anchor": "y4",
         "domain": [
          0,
          0.26666666666666666
         ],
         "title": {
          "text": "Days"
         }
        },
        "xaxis5": {
         "anchor": "y5",
         "domain": [
          0.3666666666666667,
          0.6333333333333333
         ],
         "title": {
          "text": "Days"
         }
        },
        "xaxis6": {
         "anchor": "y6",
         "domain": [
          0.7333333333333334,
          1
         ],
         "title": {
          "text": "Days"
         }
        },
        "xaxis7": {
         "anchor": "y7",
         "domain": [
          0,
          0.26666666666666666
         ],
         "title": {
          "text": "Days"
         }
        },
        "xaxis8": {
         "anchor": "y8",
         "domain": [
          0.3666666666666667,
          0.6333333333333333
         ],
         "title": {
          "text": "Days"
         }
        },
        "xaxis9": {
         "anchor": "y9",
         "domain": [
          0.7333333333333334,
          1
         ],
         "title": {
          "text": "Days"
         }
        },
        "yaxis": {
         "anchor": "x",
         "domain": [
          0.8625,
          1
         ],
         "range": [
          0,
          null
         ],
         "title": {
          "text": "Concentration"
         }
        },
        "yaxis10": {
         "anchor": "x10",
         "domain": [
          0,
          0.1375
         ],
         "range": [
          0,
          null
         ],
         "title": {
          "text": "Concentration"
         }
        },
        "yaxis11": {
         "anchor": "x11",
         "domain": [
          0,
          0.1375
         ],
         "range": [
          0,
          null
         ],
         "title": {
          "text": "Concentration"
         }
        },
        "yaxis12": {
         "anchor": "x12",
         "domain": [
          0,
          0.1375
         ]
        },
        "yaxis2": {
         "anchor": "x2",
         "domain": [
          0.8625,
          1
         ],
         "range": [
          0,
          null
         ],
         "title": {
          "text": "Concentration"
         }
        },
        "yaxis3": {
         "anchor": "x3",
         "domain": [
          0.8625,
          1
         ],
         "range": [
          0,
          null
         ],
         "title": {
          "text": "Concentration"
         }
        },
        "yaxis4": {
         "anchor": "x4",
         "domain": [
          0.575,
          0.7124999999999999
         ],
         "range": [
          0,
          null
         ],
         "title": {
          "text": "Concentration"
         }
        },
        "yaxis5": {
         "anchor": "x5",
         "domain": [
          0.575,
          0.7124999999999999
         ],
         "range": [
          0,
          null
         ],
         "title": {
          "text": "Concentration"
         }
        },
        "yaxis6": {
         "anchor": "x6",
         "domain": [
          0.575,
          0.7124999999999999
         ],
         "range": [
          0,
          null
         ],
         "title": {
          "text": "Concentration"
         }
        },
        "yaxis7": {
         "anchor": "x7",
         "domain": [
          0.2875,
          0.425
         ],
         "range": [
          0,
          null
         ],
         "title": {
          "text": "Concentration"
         }
        },
        "yaxis8": {
         "anchor": "x8",
         "domain": [
          0.2875,
          0.425
         ],
         "range": [
          0,
          null
         ],
         "title": {
          "text": "Concentration"
         }
        },
        "yaxis9": {
         "anchor": "x9",
         "domain": [
          0.2875,
          0.425
         ],
         "range": [
          0,
          null
         ],
         "title": {
          "text": "Concentration"
         }
        }
       }
      }
     },
     "metadata": {},
     "output_type": "display_data"
    }
   ],
   "source": [
    "import plotly.graph_objects as go\n",
    "from plotly.subplots import make_subplots\n",
    "\n",
    "def plot_curves_interactive(data_df):\n",
    "    # Extract 'Time' column and other data\n",
    "    time = data_df['Time']\n",
    "    y = data_df.drop(columns='Time')  # Drop 'Time' to get only the data for plotting\n",
    "\n",
    "    num_cols = y.shape[1]  # Number of columns to plot\n",
    "    num_rows = (num_cols + 2) // 3  # Calculate number of rows needed for subplots\n",
    "\n",
    "    # Create subplots figure with plotly\n",
    "    fig = make_subplots(rows=num_rows, cols=3, subplot_titles=[col for col in y.columns],\n",
    "                        vertical_spacing=0.15, horizontal_spacing=0.1)\n",
    "\n",
    "    # Plot each column against 'Time'\n",
    "    for i, col in enumerate(y.columns):\n",
    "        row = i // 3 + 1  # Determine row position\n",
    "        col_position = i % 3 + 1  # Determine column position\n",
    "\n",
    "        fig.add_trace(\n",
    "            go.Scatter(\n",
    "                x=time,\n",
    "                y=y[col],\n",
    "                mode='lines',\n",
    "                name=col,\n",
    "                line=dict(width=2)\n",
    "            ),\n",
    "            row=row,\n",
    "            col=col_position\n",
    "        )\n",
    "\n",
    "        # Customize the axis titles and range for each subplot\n",
    "        fig.update_xaxes(title_text='Days', row=row, col=col_position)\n",
    "        fig.update_yaxes(title_text='Concentration', row=row, col=col_position, range=[0, None])\n",
    "\n",
    "    # Update layout for better readability\n",
    "    fig.update_layout(\n",
    "        height=300 * num_rows, width=900, title_text=\"Interactive Subplots of Concentrations Over Time\",\n",
    "        showlegend=False,  # Hide the legend since each subplot has a title\n",
    "        template='plotly_white'\n",
    "    )\n",
    "    \n",
    "    fig.show()\n",
    "\n",
    "# Example usage:\n",
    "df_data_interp = df_data_normalized_interp.drop(columns='Time')*maxes\n",
    "df_data_interp['Time'] = df_data_normalized_interp['Time']\n",
    "plot_curves_interactive(df_data_interp)\n"
   ]
  },
  {
   "cell_type": "code",
   "execution_count": 135,
   "metadata": {},
   "outputs": [],
   "source": [
    "# def absolute_plant_uptake_from_rate(x_interp, plant_uptake_rate, start, end):\n",
    "#     start_index = np.argmin(np.abs(x_interp - start)) # find the best index\n",
    "#     end_index = np.argmin(np.abs(x_interp - end))\n",
    "#     return np.sum(plant_uptake_rate[start_index:end_index,:],axis=0)/(end_index-start_index)\n",
    "\n",
    "# absolute_uptake = absolute_plant_uptake_from_rate(x_interp, plant_uptake_rate, 0,1)\n",
    "# print(f\"{absolute_uptake = }\")"
   ]
  },
  {
   "cell_type": "code",
   "execution_count": 136,
   "metadata": {},
   "outputs": [
    {
     "data": {
      "text/plain": [
       "array([0.13513514, 0.0989011 , 0.37572254, 0.12712826, 0.71943844,\n",
       "       0.11815562, 0.56169569, 0.58963283, 0.48983364, 0.67896679,\n",
       "       0.36833377])"
      ]
     },
     "execution_count": 136,
     "metadata": {},
     "output_type": "execute_result"
    }
   ],
   "source": [
    "def absolute_plant_uptake_during_interval(data_df, start, end):\n",
    "    # Extract the 'Time' column\n",
    "    time = data_df['Time'].to_numpy()\n",
    "    \n",
    "    # Find the nearest indices for the start and end times\n",
    "    start_index = np.argmin(np.abs(time - start))\n",
    "    end_index = np.argmin(np.abs(time - end))\n",
    "    \n",
    "    # Calculate uptake as the negative of the nutrient change in solution\n",
    "    uptake = -(data_df.iloc[end_index, 0:-1] - data_df.iloc[start_index, 0:-1])  # Skip 'Time' column\n",
    "\n",
    "    return uptake\n",
    "\n",
    "uptake = absolute_plant_uptake_during_interval(df_data_normalized_interp, 0, 21)\n",
    "\n",
    "uptake.to_numpy()"
   ]
  },
  {
   "cell_type": "markdown",
   "metadata": {},
   "source": [
    "## Optimize"
   ]
  },
  {
   "cell_type": "markdown",
   "metadata": {},
   "source": [
    "Consider a single time intervall $I = [t_0, T]$.\n",
    "\n",
    "Unsing the model of the plant uptake we have obtained the the target nutrient concentration should be idealy $\\vec T$.\n",
    "\n",
    "Let us optimize the minimal total amount of fertilizer to reach the target under the constraint that the plant does not experience any deficite of nutrients.\n",
    "\n",
    "$L = \\min(|\\vec{T} - (u_1 \\vec{F}_1 + u_2 \\vec{F}_2 + u_3 \\vec{F}_3|)$\n",
    "\n",
    "Constrain: $\\vec{T} - (u_1 \\vec{F}_1 + u_2 \\vec{F}_2 + u_3 \\vec{F}_3) \\ge 0$\n",
    "\n",
    "**Comments:**\n",
    "\n",
    "1. Since the concentration have different scales, it might be reasonable to scale (transfrom) them using sklearn MaxMinScaler or StandartScaler.\n",
    "Afterwards don't forget to apply the inverse transform to get correct values!"
   ]
  },
  {
   "cell_type": "code",
   "execution_count": 137,
   "metadata": {},
   "outputs": [],
   "source": [
    "def nutrients(param, fertilizer, target):\n",
    "    parameter = np.array(param).reshape(fertilizer.shape[0],1)\n",
    "    weighted_fertilizers = np.multiply(fertilizer,parameter)\n",
    "    total_fertilizers = weighted_fertilizers.sum(axis=0)\n",
    "    value = target - total_fertilizers\n",
    "    return value\n",
    "\n",
    "def objective_function(param, fertilizer, target):\n",
    "    parameter = np.array(param).reshape(fertilizer.shape[0],1)\n",
    "    # print(f\"{parameter.shape=}\")\n",
    "    # print(f\"{fertilizer.shape=}\")\n",
    "    weighted_fertilizers = np.multiply(fertilizer,parameter)\n",
    "    # print(f\"{weighted_fertilizers.shape}\")\n",
    "    total_fertilizers = weighted_fertilizers.sum(axis=0)\n",
    "    # print(f\"{total_fertilizers.shape}\")\n",
    "    value = target - total_fertilizers\n",
    "    return np.sum(np.abs(value))\n",
    "\n",
    "\n",
    "def constraint_function(param, fertilizer, target):\n",
    "    # Reshape the parameter vector and compute weighted fertilizers\n",
    "    parameter = np.array(param).reshape(fertilizer.shape[0], 1)\n",
    "    weighted_fertilizers = np.multiply(fertilizer, parameter)\n",
    "    # Sum the weighted fertilizers to get the total contribution for each nutrient\n",
    "    total_fertilizers = weighted_fertilizers.sum(axis=0)\n",
    "    # Calculate the difference between the target and total fertilizers for each nutrient\n",
    "    value = target - total_fertilizers\n",
    "    # Return the difference (this will ensure SLSQP enforces the constraint for each nutrient)\n",
    "    return value\n",
    "\n",
    "\n",
    "def optimize(fertilizer, target, constraint_function):\n",
    "    # Initial guess for the parameters, one for each row (fertilizer) in the fertilizer DataFrame\n",
    "    initial_guess = np.zeros(fertilizer.shape[0])\n",
    "    \n",
    "    # Define bounds for each parameter (non-negative values)\n",
    "    bounds = [(0, None) for _ in range(fertilizer.shape[0])]\n",
    "    \n",
    "    # Define the constraint dictionary using the provided constraint function\n",
    "    constraints = {'type': 'ineq', 'fun': constraint_function, 'args': (fertilizer, target)}\n",
    "    \n",
    "    # Call the optimizer\n",
    "    result = minimize(\n",
    "        objective_function,\n",
    "        initial_guess,\n",
    "        args=(fertilizer, target),\n",
    "        bounds=bounds,\n",
    "        constraints=constraints,\n",
    "        method='SLSQP'\n",
    "    )\n",
    "    return result  # Return optimized parameters and minimized objective value"
   ]
  },
  {
   "cell_type": "code",
   "execution_count": 138,
   "metadata": {},
   "outputs": [
    {
     "name": "stdout",
     "output_type": "stream",
     "text": [
      "---------------------------------------------------------------------\n",
      "Optimization was successful!\n",
      "Scaled constraint values: [1.53183611e-09 6.23724924e-03 1.22203953e-08 1.50264814e-02\n",
      " 1.15943232e-03 1.75559376e-04 9.27265123e-04 1.41001543e-03\n",
      " 3.98402043e-03 6.88632698e-09 8.29407935e-03]\n",
      "constraint values: [3.77852908e-10 4.72991400e-01 3.52354730e-10 2.20638835e-02\n",
      " 8.94695276e-02 4.06127355e-03 2.04152871e-04 3.26418572e-02\n",
      " 7.18451685e-02 3.11032435e-10 1.57193205e+00]\n"
     ]
    }
   ],
   "source": [
    "\n",
    "uptake = absolute_plant_uptake_during_interval(df_data_normalized_interp, 1,2)\n",
    "\n",
    "result = optimize(\n",
    "    df_fertilizer_normalized.to_numpy(),\n",
    "    uptake.to_numpy(),\n",
    "    constraint_function\n",
    ")\n",
    "\n",
    "print(\"---------------------------------------------------------------------\")\n",
    "if result.success:\n",
    "    print(\"Optimization was successful!\")\n",
    "else:\n",
    "    print(\"Optimization failed. Reason:\", result.message)\n",
    "\n",
    "nutrient_values = nutrients(result.x, df_fertilizer_normalized.to_numpy(), uptake.to_numpy())\n",
    "print(\"Scaled constraint values:\", nutrient_values)\n",
    "print(\"constraint values:\", nutrient_values*maxes)\n"
   ]
  },
  {
   "cell_type": "markdown",
   "metadata": {},
   "source": [
    "## Iterative process"
   ]
  },
  {
   "cell_type": "code",
   "execution_count": 145,
   "metadata": {},
   "outputs": [],
   "source": [
    "def calculate_nutrient_schedule(path_data, path_fertilizer, time_intervall_days):\n",
    "\n",
    "    # Load data\n",
    "    df_data_normalized, maxes = process_data(path_data)\n",
    "    df_fertilizer_normalized = pd.read_excel(path_fertilizer)/maxes\n",
    "\n",
    "    # Interpolate data to a timestep of days if necessary\n",
    "    num_days = df_data_normalized['Time'].max()\n",
    "    df_data_normalized_interp = interpolate_data(df_data_normalized, num_points=num_days, kind='pchip')\n",
    "    \n",
    "    # Number of fertilizing days\n",
    "    num_fertilization_events = num_days // time_intervall_days\n",
    "\n",
    "    results = dict()\n",
    "    left_over = 0\n",
    "    for i in range(num_fertilization_events):\n",
    "        # uptake of the plant during the time intervall\n",
    "        start = i*time_intervall_days\n",
    "        end = (i+1)*time_intervall_days\n",
    "        uptake = absolute_plant_uptake_during_interval(df_data_normalized_interp, start, end)\n",
    "        target_concentration = np.abs(uptake.to_numpy() - left_over) # substract left over nutrients\n",
    "        # optimize fertilizer amounts\n",
    "        result = optimize(df_fertilizer_normalized,\n",
    "                          target_concentration,\n",
    "                          constraint_function)\n",
    "        # calculate left over\n",
    "        result.left_over = nutrients(result.x, df_fertilizer_normalized, target_concentration)\n",
    "        # store result\n",
    "        results[f\"{int(end)}\"] = result\n",
    "        \n",
    "    return results\n",
    "\n",
    "optimization_results = calculate_nutrient_schedule(\n",
    "                            path_data='../data/input/nutrients_avg.xlsx',\n",
    "                            path_fertilizer='../data/input/fertilizer.xlsx',\n",
    "                            time_intervall_days=2)"
   ]
  },
  {
   "cell_type": "code",
   "execution_count": 146,
   "metadata": {},
   "outputs": [],
   "source": [
    "import plotly.graph_objects as go\n",
    "\n",
    "def plot_element_stacked_interactive_streamlit(df):\n",
    "    # Get element names (these are your columns)\n",
    "    element_columns = df.columns\n",
    "\n",
    "    # Prepare the x-axis labels (row index keys from the DataFrame)\n",
    "    index_labels = df.index\n",
    "\n",
    "    # Initialize the figure\n",
    "    fig = go.Figure()\n",
    "\n",
    "    # Initialize the bottom of the stack (start with zeros)\n",
    "    bottom = np.zeros(len(index_labels))\n",
    "\n",
    "    # Add each element as a trace\n",
    "    for col in element_columns:\n",
    "        element_values = df[col].values\n",
    "        rounded_values = np.round(element_values, 3)  # Round to 3 decimal places\n",
    "\n",
    "        # Add a bar trace for each element\n",
    "        fig.add_trace(go.Bar(\n",
    "            x=index_labels,\n",
    "            y=element_values,\n",
    "            name=col,\n",
    "            text=[f'{val:.3f}' for val in rounded_values],  # Format values to 3 decimal places\n",
    "            hoverinfo='text+name',  # Show value and label name on hover\n",
    "            offsetgroup=0,\n",
    "            base=bottom\n",
    "        ))\n",
    "\n",
    "        # Update the bottom position for the next stack\n",
    "        bottom += element_values\n",
    "\n",
    "    # Update layout for better readability and display all x-axis labels\n",
    "    fig.update_layout(\n",
    "        title='Element Excess',\n",
    "        xaxis=dict(\n",
    "            title='Day',\n",
    "            type='category',                  # Use categorical axis for clear labeling\n",
    "        ),\n",
    "        yaxis=dict(title='Element Excess'),\n",
    "        barmode='stack',\n",
    "        legend=dict(title='Elements'),\n",
    "        template='plotly_white',\n",
    "        hovermode=\"x\"\n",
    "    )\n",
    "    return fig\n"
   ]
  },
  {
   "cell_type": "markdown",
   "metadata": {},
   "source": [
    "## Analysis"
   ]
  },
  {
   "cell_type": "code",
   "execution_count": 149,
   "metadata": {},
   "outputs": [
    {
     "data": {
      "application/vnd.plotly.v1+json": {
       "config": {
        "plotlyServerURL": "https://plot.ly"
       },
       "data": [
        {
         "base": [
          0,
          0,
          0,
          0,
          0,
          0,
          0,
          0,
          0,
          0
         ],
         "hoverinfo": "text+name",
         "name": "B",
         "offsetgroup": "0",
         "text": [
          "0.000",
          "0.000",
          "0.000",
          "0.001",
          "0.000",
          "0.000",
          "0.001",
          "0.002",
          "0.006",
          "0.008"
         ],
         "type": "bar",
         "x": [
          "2",
          "4",
          "6",
          "8",
          "10",
          "12",
          "14",
          "16",
          "18",
          "20"
         ],
         "y": [
          1.2915595040223049e-11,
          3.0946395214911055e-12,
          1.0432504570871244e-12,
          0.0005056210468357546,
          0.0003994553936475147,
          0.00021698313786924957,
          0.0006675473361903145,
          0.0024110925967665026,
          0.005740086327306723,
          0.007863070542417461
         ]
        },
        {
         "base": [
          1.2915595040223049e-11,
          3.0946395214911055e-12,
          1.0432504570871244e-12,
          0.0005056210468357546,
          0.0003994553936475147,
          0.00021698313786924957,
          0.0006675473361903145,
          0.0024110925967665026,
          0.005740086327306723,
          0.007863070542417461
         ],
         "hoverinfo": "text+name",
         "name": "Ca",
         "offsetgroup": "0",
         "text": [
          "0.974",
          "0.819",
          "0.578",
          "0.292",
          "0.153",
          "0.071",
          "0.220",
          "0.605",
          "1.229",
          "1.644"
         ],
         "type": "bar",
         "x": [
          "2",
          "4",
          "6",
          "8",
          "10",
          "12",
          "14",
          "16",
          "18",
          "20"
         ],
         "y": [
          0.9739706837242689,
          0.818961730380314,
          0.578373144630207,
          0.29151415952514,
          0.1533430867306685,
          0.07129024218168856,
          0.22037382590345392,
          0.6048681324956836,
          1.229030993417371,
          1.6435166285643705
         ]
        },
        {
         "base": [
          0.9739706837371844,
          0.8189617303834086,
          0.5783731446312502,
          0.29201978057197575,
          0.153742542124316,
          0.0715072253195578,
          0.22104137323964423,
          0.6072792250924501,
          1.2347710797446778,
          1.651379699106788
         ],
         "hoverinfo": "text+name",
         "name": "Cu",
         "offsetgroup": "0",
         "text": [
          "0.000",
          "0.000",
          "0.000",
          "0.000",
          "0.000",
          "0.000",
          "0.000",
          "-0.000",
          "0.000",
          "0.000"
         ],
         "type": "bar",
         "x": [
          "2",
          "4",
          "6",
          "8",
          "10",
          "12",
          "14",
          "16",
          "18",
          "20"
         ],
         "y": [
          1.259570271486264e-10,
          1.3678513161493213e-10,
          6.545514172108979e-11,
          2.0367772861814178e-14,
          7.211800167467022e-15,
          1.8210877684304829e-16,
          9.742653876941091e-15,
          -6.693800201629233e-14,
          6.921671569237723e-15,
          3.790603887200701e-9
         ]
        },
        {
         "base": [
          0.9739706838631415,
          0.8189617305201937,
          0.5783731446967054,
          0.2920197805719961,
          0.15374254212432323,
          0.07150722531955798,
          0.22104137323965398,
          0.6072792250923832,
          1.2347710797446847,
          1.6513797028973918
         ],
         "hoverinfo": "text+name",
         "name": "Fe",
         "offsetgroup": "0",
         "text": [
          "0.045",
          "0.037",
          "0.020",
          "0.002",
          "0.000",
          "0.000",
          "0.000",
          "0.007",
          "0.021",
          "0.030"
         ],
         "type": "bar",
         "x": [
          "2",
          "4",
          "6",
          "8",
          "10",
          "12",
          "14",
          "16",
          "18",
          "20"
         ],
         "y": [
          0.045147639897151925,
          0.036795553738481555,
          0.02025394840892962,
          0.002080424151770706,
          0.00025720711779851917,
          0.00010344611324348253,
          0.0004181162518612553,
          0.006876758498459949,
          0.02103921312093425,
          0.02970443803641512
         ]
        },
        {
         "base": [
          1.0191183237602934,
          0.8557572842586753,
          0.598627093105635,
          0.29410020472376686,
          0.15399974924212176,
          0.07161067143280146,
          0.22145948949151523,
          0.6141559835908431,
          1.255810292865619,
          1.6810841409338069
         ],
         "hoverinfo": "text+name",
         "name": "K",
         "offsetgroup": "0",
         "text": [
          "0.119",
          "0.335",
          "0.505",
          "0.875",
          "1.981",
          "1.403",
          "3.579",
          "6.826",
          "13.055",
          "17.269"
         ],
         "type": "bar",
         "x": [
          "2",
          "4",
          "6",
          "8",
          "10",
          "12",
          "14",
          "16",
          "18",
          "20"
         ],
         "y": [
          0.11922819755912148,
          0.3350855201076986,
          0.5051063805181191,
          0.8751406052073603,
          1.981371085497187,
          1.403023430759802,
          3.579116213679632,
          6.825995502265644,
          13.05540324511889,
          17.269478902609446
         ]
        },
        {
         "base": [
          1.1383465213194148,
          1.190842804366374,
          1.103733473623754,
          1.1692408099311271,
          2.1353708347393088,
          1.4746341021926035,
          3.8005757031711473,
          7.440151485856487,
          14.311213537984509,
          18.95056304354325
         ],
         "hoverinfo": "text+name",
         "name": "Mg",
         "offsetgroup": "0",
         "text": [
          "0.005",
          "0.017",
          "0.027",
          "0.043",
          "0.086",
          "0.060",
          "0.157",
          "0.326",
          "0.652",
          "0.869"
         ],
         "type": "bar",
         "x": [
          "2",
          "4",
          "6",
          "8",
          "10",
          "12",
          "14",
          "16",
          "18",
          "20"
         ],
         "y": [
          0.004510523440727589,
          0.0173947309575826,
          0.027372122776661015,
          0.04304106966241023,
          0.085933406264778,
          0.06039401493788197,
          0.1567812467241479,
          0.3257012334053389,
          0.6516138369236149,
          0.8694143725302224
         ]
        },
        {
         "base": [
          1.1428570447601425,
          1.2082375353239565,
          1.131105596400415,
          1.2122818795935373,
          2.221304241004087,
          1.5350281171304854,
          3.957356949895295,
          7.765852719261826,
          14.962827374908123,
          19.819977416073474
         ],
         "hoverinfo": "text+name",
         "name": "Mn",
         "offsetgroup": "0",
         "text": [
          "0.000",
          "0.001",
          "0.002",
          "0.002",
          "0.002",
          "0.001",
          "0.004",
          "0.013",
          "0.030",
          "0.041"
         ],
         "type": "bar",
         "x": [
          "2",
          "4",
          "6",
          "8",
          "10",
          "12",
          "14",
          "16",
          "18",
          "20"
         ],
         "y": [
          0.0002946988563482729,
          0.0008866051286813208,
          0.0018824037501874679,
          0.0023927961943678347,
          0.0022053575213629604,
          0.001349416993413026,
          0.0038967727435645764,
          0.012644227605729919,
          0.02974477666903158,
          0.040746011024040484
         ]
        },
        {
         "base": [
          1.1431517436164909,
          1.2091241404526378,
          1.1329880001506025,
          1.2146746757879052,
          2.2235095985254496,
          1.5363775341238983,
          3.9612537226388596,
          7.7784969468675556,
          14.992572151577155,
          19.860723427097515
         ],
         "hoverinfo": "text+name",
         "name": "Na",
         "offsetgroup": "0",
         "text": [
          "0.044",
          "0.119",
          "0.170",
          "0.233",
          "0.413",
          "0.286",
          "0.749",
          "1.608",
          "3.257",
          "4.356"
         ],
         "type": "bar",
         "x": [
          "2",
          "4",
          "6",
          "8",
          "10",
          "12",
          "14",
          "16",
          "18",
          "20"
         ],
         "y": [
          0.04359477617497032,
          0.11851669676402093,
          0.16968782681808667,
          0.23300175185163788,
          0.41275985377307634,
          0.2858886100301346,
          0.7490720847004895,
          1.6079326658106807,
          3.2569153442239047,
          4.35561196454577
         ]
        },
        {
         "base": [
          1.1867465197914613,
          1.3276408372166588,
          1.302675826968689,
          1.447676427639543,
          2.636269452298526,
          1.8222661441540329,
          4.710325807339349,
          9.386429612678237,
          18.24948749580106,
          24.216335391643284
         ],
         "hoverinfo": "text+name",
         "name": "P",
         "offsetgroup": "0",
         "text": [
          "0.126",
          "0.188",
          "0.232",
          "0.258",
          "0.309",
          "0.195",
          "0.516",
          "1.037",
          "1.958",
          "2.582"
         ],
         "type": "bar",
         "x": [
          "2",
          "4",
          "6",
          "8",
          "10",
          "12",
          "14",
          "16",
          "18",
          "20"
         ],
         "y": [
          0.12578595620021346,
          0.18815585826376208,
          0.23218752350737018,
          0.2581395131714075,
          0.308745555585649,
          0.19501827673387223,
          0.515806102449851,
          1.03708963143926,
          1.95764814026955,
          2.5819891234304153
         ]
        },
        {
         "base": [
          1.3125324759916748,
          1.515796695480421,
          1.5348633504760594,
          1.7058159408109506,
          2.9450150078841753,
          2.017284420887905,
          5.2261319097892,
          10.423519244117497,
          20.20713563607061,
          26.7983245150737
         ],
         "hoverinfo": "text+name",
         "name": "Zn",
         "offsetgroup": "0",
         "text": [
          "0.000",
          "0.000",
          "0.000",
          "0.000",
          "0.000",
          "0.000",
          "0.001",
          "0.002",
          "0.006",
          "0.008"
         ],
         "type": "bar",
         "x": [
          "2",
          "4",
          "6",
          "8",
          "10",
          "12",
          "14",
          "16",
          "18",
          "20"
         ],
         "y": [
          0.0000682946798759435,
          0.00004545830316356976,
          0.00006214224518712409,
          0.0004930436937332476,
          0.0003886488844058847,
          0.00021250447933404714,
          0.0006501895486445074,
          0.0023123420783286645,
          0.005508327764112518,
          0.007650446534921437
         ]
        },
        {
         "base": [
          1.3126007706715508,
          1.5158421537835844,
          1.5349254927212466,
          1.7063089845046837,
          2.945403656768581,
          2.0174969253672392,
          5.226782099337845,
          10.425831586195825,
          20.212643963834722,
          26.80597496160862
         ],
         "hoverinfo": "text+name",
         "name": "N",
         "offsetgroup": "0",
         "text": [
          "3.177",
          "3.040",
          "2.892",
          "2.525",
          "1.982",
          "1.103",
          "3.119",
          "7.353",
          "14.544",
          "19.358"
         ],
         "type": "bar",
         "x": [
          "2",
          "4",
          "6",
          "8",
          "10",
          "12",
          "14",
          "16",
          "18",
          "20"
         ],
         "y": [
          3.176861126956471,
          3.0395069810679267,
          2.8922367196745666,
          2.5251197256662046,
          1.9816486669462918,
          1.1034218990557956,
          3.119462091743175,
          7.352671171070412,
          14.544485480815393,
          19.357594063609252
         ]
        }
       ],
       "layout": {
        "barmode": "stack",
        "hovermode": "x",
        "legend": {
         "title": {
          "text": "Elements"
         }
        },
        "template": {
         "data": {
          "bar": [
           {
            "error_x": {
             "color": "#2a3f5f"
            },
            "error_y": {
             "color": "#2a3f5f"
            },
            "marker": {
             "line": {
              "color": "white",
              "width": 0.5
             },
             "pattern": {
              "fillmode": "overlay",
              "size": 10,
              "solidity": 0.2
             }
            },
            "type": "bar"
           }
          ],
          "barpolar": [
           {
            "marker": {
             "line": {
              "color": "white",
              "width": 0.5
             },
             "pattern": {
              "fillmode": "overlay",
              "size": 10,
              "solidity": 0.2
             }
            },
            "type": "barpolar"
           }
          ],
          "carpet": [
           {
            "aaxis": {
             "endlinecolor": "#2a3f5f",
             "gridcolor": "#C8D4E3",
             "linecolor": "#C8D4E3",
             "minorgridcolor": "#C8D4E3",
             "startlinecolor": "#2a3f5f"
            },
            "baxis": {
             "endlinecolor": "#2a3f5f",
             "gridcolor": "#C8D4E3",
             "linecolor": "#C8D4E3",
             "minorgridcolor": "#C8D4E3",
             "startlinecolor": "#2a3f5f"
            },
            "type": "carpet"
           }
          ],
          "choropleth": [
           {
            "colorbar": {
             "outlinewidth": 0,
             "ticks": ""
            },
            "type": "choropleth"
           }
          ],
          "contour": [
           {
            "colorbar": {
             "outlinewidth": 0,
             "ticks": ""
            },
            "colorscale": [
             [
              0,
              "#0d0887"
             ],
             [
              0.1111111111111111,
              "#46039f"
             ],
             [
              0.2222222222222222,
              "#7201a8"
             ],
             [
              0.3333333333333333,
              "#9c179e"
             ],
             [
              0.4444444444444444,
              "#bd3786"
             ],
             [
              0.5555555555555556,
              "#d8576b"
             ],
             [
              0.6666666666666666,
              "#ed7953"
             ],
             [
              0.7777777777777778,
              "#fb9f3a"
             ],
             [
              0.8888888888888888,
              "#fdca26"
             ],
             [
              1,
              "#f0f921"
             ]
            ],
            "type": "contour"
           }
          ],
          "contourcarpet": [
           {
            "colorbar": {
             "outlinewidth": 0,
             "ticks": ""
            },
            "type": "contourcarpet"
           }
          ],
          "heatmap": [
           {
            "colorbar": {
             "outlinewidth": 0,
             "ticks": ""
            },
            "colorscale": [
             [
              0,
              "#0d0887"
             ],
             [
              0.1111111111111111,
              "#46039f"
             ],
             [
              0.2222222222222222,
              "#7201a8"
             ],
             [
              0.3333333333333333,
              "#9c179e"
             ],
             [
              0.4444444444444444,
              "#bd3786"
             ],
             [
              0.5555555555555556,
              "#d8576b"
             ],
             [
              0.6666666666666666,
              "#ed7953"
             ],
             [
              0.7777777777777778,
              "#fb9f3a"
             ],
             [
              0.8888888888888888,
              "#fdca26"
             ],
             [
              1,
              "#f0f921"
             ]
            ],
            "type": "heatmap"
           }
          ],
          "heatmapgl": [
           {
            "colorbar": {
             "outlinewidth": 0,
             "ticks": ""
            },
            "colorscale": [
             [
              0,
              "#0d0887"
             ],
             [
              0.1111111111111111,
              "#46039f"
             ],
             [
              0.2222222222222222,
              "#7201a8"
             ],
             [
              0.3333333333333333,
              "#9c179e"
             ],
             [
              0.4444444444444444,
              "#bd3786"
             ],
             [
              0.5555555555555556,
              "#d8576b"
             ],
             [
              0.6666666666666666,
              "#ed7953"
             ],
             [
              0.7777777777777778,
              "#fb9f3a"
             ],
             [
              0.8888888888888888,
              "#fdca26"
             ],
             [
              1,
              "#f0f921"
             ]
            ],
            "type": "heatmapgl"
           }
          ],
          "histogram": [
           {
            "marker": {
             "pattern": {
              "fillmode": "overlay",
              "size": 10,
              "solidity": 0.2
             }
            },
            "type": "histogram"
           }
          ],
          "histogram2d": [
           {
            "colorbar": {
             "outlinewidth": 0,
             "ticks": ""
            },
            "colorscale": [
             [
              0,
              "#0d0887"
             ],
             [
              0.1111111111111111,
              "#46039f"
             ],
             [
              0.2222222222222222,
              "#7201a8"
             ],
             [
              0.3333333333333333,
              "#9c179e"
             ],
             [
              0.4444444444444444,
              "#bd3786"
             ],
             [
              0.5555555555555556,
              "#d8576b"
             ],
             [
              0.6666666666666666,
              "#ed7953"
             ],
             [
              0.7777777777777778,
              "#fb9f3a"
             ],
             [
              0.8888888888888888,
              "#fdca26"
             ],
             [
              1,
              "#f0f921"
             ]
            ],
            "type": "histogram2d"
           }
          ],
          "histogram2dcontour": [
           {
            "colorbar": {
             "outlinewidth": 0,
             "ticks": ""
            },
            "colorscale": [
             [
              0,
              "#0d0887"
             ],
             [
              0.1111111111111111,
              "#46039f"
             ],
             [
              0.2222222222222222,
              "#7201a8"
             ],
             [
              0.3333333333333333,
              "#9c179e"
             ],
             [
              0.4444444444444444,
              "#bd3786"
             ],
             [
              0.5555555555555556,
              "#d8576b"
             ],
             [
              0.6666666666666666,
              "#ed7953"
             ],
             [
              0.7777777777777778,
              "#fb9f3a"
             ],
             [
              0.8888888888888888,
              "#fdca26"
             ],
             [
              1,
              "#f0f921"
             ]
            ],
            "type": "histogram2dcontour"
           }
          ],
          "mesh3d": [
           {
            "colorbar": {
             "outlinewidth": 0,
             "ticks": ""
            },
            "type": "mesh3d"
           }
          ],
          "parcoords": [
           {
            "line": {
             "colorbar": {
              "outlinewidth": 0,
              "ticks": ""
             }
            },
            "type": "parcoords"
           }
          ],
          "pie": [
           {
            "automargin": true,
            "type": "pie"
           }
          ],
          "scatter": [
           {
            "fillpattern": {
             "fillmode": "overlay",
             "size": 10,
             "solidity": 0.2
            },
            "type": "scatter"
           }
          ],
          "scatter3d": [
           {
            "line": {
             "colorbar": {
              "outlinewidth": 0,
              "ticks": ""
             }
            },
            "marker": {
             "colorbar": {
              "outlinewidth": 0,
              "ticks": ""
             }
            },
            "type": "scatter3d"
           }
          ],
          "scattercarpet": [
           {
            "marker": {
             "colorbar": {
              "outlinewidth": 0,
              "ticks": ""
             }
            },
            "type": "scattercarpet"
           }
          ],
          "scattergeo": [
           {
            "marker": {
             "colorbar": {
              "outlinewidth": 0,
              "ticks": ""
             }
            },
            "type": "scattergeo"
           }
          ],
          "scattergl": [
           {
            "marker": {
             "colorbar": {
              "outlinewidth": 0,
              "ticks": ""
             }
            },
            "type": "scattergl"
           }
          ],
          "scattermapbox": [
           {
            "marker": {
             "colorbar": {
              "outlinewidth": 0,
              "ticks": ""
             }
            },
            "type": "scattermapbox"
           }
          ],
          "scatterpolar": [
           {
            "marker": {
             "colorbar": {
              "outlinewidth": 0,
              "ticks": ""
             }
            },
            "type": "scatterpolar"
           }
          ],
          "scatterpolargl": [
           {
            "marker": {
             "colorbar": {
              "outlinewidth": 0,
              "ticks": ""
             }
            },
            "type": "scatterpolargl"
           }
          ],
          "scatterternary": [
           {
            "marker": {
             "colorbar": {
              "outlinewidth": 0,
              "ticks": ""
             }
            },
            "type": "scatterternary"
           }
          ],
          "surface": [
           {
            "colorbar": {
             "outlinewidth": 0,
             "ticks": ""
            },
            "colorscale": [
             [
              0,
              "#0d0887"
             ],
             [
              0.1111111111111111,
              "#46039f"
             ],
             [
              0.2222222222222222,
              "#7201a8"
             ],
             [
              0.3333333333333333,
              "#9c179e"
             ],
             [
              0.4444444444444444,
              "#bd3786"
             ],
             [
              0.5555555555555556,
              "#d8576b"
             ],
             [
              0.6666666666666666,
              "#ed7953"
             ],
             [
              0.7777777777777778,
              "#fb9f3a"
             ],
             [
              0.8888888888888888,
              "#fdca26"
             ],
             [
              1,
              "#f0f921"
             ]
            ],
            "type": "surface"
           }
          ],
          "table": [
           {
            "cells": {
             "fill": {
              "color": "#EBF0F8"
             },
             "line": {
              "color": "white"
             }
            },
            "header": {
             "fill": {
              "color": "#C8D4E3"
             },
             "line": {
              "color": "white"
             }
            },
            "type": "table"
           }
          ]
         },
         "layout": {
          "annotationdefaults": {
           "arrowcolor": "#2a3f5f",
           "arrowhead": 0,
           "arrowwidth": 1
          },
          "autotypenumbers": "strict",
          "coloraxis": {
           "colorbar": {
            "outlinewidth": 0,
            "ticks": ""
           }
          },
          "colorscale": {
           "diverging": [
            [
             0,
             "#8e0152"
            ],
            [
             0.1,
             "#c51b7d"
            ],
            [
             0.2,
             "#de77ae"
            ],
            [
             0.3,
             "#f1b6da"
            ],
            [
             0.4,
             "#fde0ef"
            ],
            [
             0.5,
             "#f7f7f7"
            ],
            [
             0.6,
             "#e6f5d0"
            ],
            [
             0.7,
             "#b8e186"
            ],
            [
             0.8,
             "#7fbc41"
            ],
            [
             0.9,
             "#4d9221"
            ],
            [
             1,
             "#276419"
            ]
           ],
           "sequential": [
            [
             0,
             "#0d0887"
            ],
            [
             0.1111111111111111,
             "#46039f"
            ],
            [
             0.2222222222222222,
             "#7201a8"
            ],
            [
             0.3333333333333333,
             "#9c179e"
            ],
            [
             0.4444444444444444,
             "#bd3786"
            ],
            [
             0.5555555555555556,
             "#d8576b"
            ],
            [
             0.6666666666666666,
             "#ed7953"
            ],
            [
             0.7777777777777778,
             "#fb9f3a"
            ],
            [
             0.8888888888888888,
             "#fdca26"
            ],
            [
             1,
             "#f0f921"
            ]
           ],
           "sequentialminus": [
            [
             0,
             "#0d0887"
            ],
            [
             0.1111111111111111,
             "#46039f"
            ],
            [
             0.2222222222222222,
             "#7201a8"
            ],
            [
             0.3333333333333333,
             "#9c179e"
            ],
            [
             0.4444444444444444,
             "#bd3786"
            ],
            [
             0.5555555555555556,
             "#d8576b"
            ],
            [
             0.6666666666666666,
             "#ed7953"
            ],
            [
             0.7777777777777778,
             "#fb9f3a"
            ],
            [
             0.8888888888888888,
             "#fdca26"
            ],
            [
             1,
             "#f0f921"
            ]
           ]
          },
          "colorway": [
           "#636efa",
           "#EF553B",
           "#00cc96",
           "#ab63fa",
           "#FFA15A",
           "#19d3f3",
           "#FF6692",
           "#B6E880",
           "#FF97FF",
           "#FECB52"
          ],
          "font": {
           "color": "#2a3f5f"
          },
          "geo": {
           "bgcolor": "white",
           "lakecolor": "white",
           "landcolor": "white",
           "showlakes": true,
           "showland": true,
           "subunitcolor": "#C8D4E3"
          },
          "hoverlabel": {
           "align": "left"
          },
          "hovermode": "closest",
          "mapbox": {
           "style": "light"
          },
          "paper_bgcolor": "white",
          "plot_bgcolor": "white",
          "polar": {
           "angularaxis": {
            "gridcolor": "#EBF0F8",
            "linecolor": "#EBF0F8",
            "ticks": ""
           },
           "bgcolor": "white",
           "radialaxis": {
            "gridcolor": "#EBF0F8",
            "linecolor": "#EBF0F8",
            "ticks": ""
           }
          },
          "scene": {
           "xaxis": {
            "backgroundcolor": "white",
            "gridcolor": "#DFE8F3",
            "gridwidth": 2,
            "linecolor": "#EBF0F8",
            "showbackground": true,
            "ticks": "",
            "zerolinecolor": "#EBF0F8"
           },
           "yaxis": {
            "backgroundcolor": "white",
            "gridcolor": "#DFE8F3",
            "gridwidth": 2,
            "linecolor": "#EBF0F8",
            "showbackground": true,
            "ticks": "",
            "zerolinecolor": "#EBF0F8"
           },
           "zaxis": {
            "backgroundcolor": "white",
            "gridcolor": "#DFE8F3",
            "gridwidth": 2,
            "linecolor": "#EBF0F8",
            "showbackground": true,
            "ticks": "",
            "zerolinecolor": "#EBF0F8"
           }
          },
          "shapedefaults": {
           "line": {
            "color": "#2a3f5f"
           }
          },
          "ternary": {
           "aaxis": {
            "gridcolor": "#DFE8F3",
            "linecolor": "#A2B1C6",
            "ticks": ""
           },
           "baxis": {
            "gridcolor": "#DFE8F3",
            "linecolor": "#A2B1C6",
            "ticks": ""
           },
           "bgcolor": "white",
           "caxis": {
            "gridcolor": "#DFE8F3",
            "linecolor": "#A2B1C6",
            "ticks": ""
           }
          },
          "title": {
           "x": 0.05
          },
          "xaxis": {
           "automargin": true,
           "gridcolor": "#EBF0F8",
           "linecolor": "#EBF0F8",
           "ticks": "",
           "title": {
            "standoff": 15
           },
           "zerolinecolor": "#EBF0F8",
           "zerolinewidth": 2
          },
          "yaxis": {
           "automargin": true,
           "gridcolor": "#EBF0F8",
           "linecolor": "#EBF0F8",
           "ticks": "",
           "title": {
            "standoff": 15
           },
           "zerolinecolor": "#EBF0F8",
           "zerolinewidth": 2
          }
         }
        },
        "title": {
         "text": "Element Excess"
        },
        "xaxis": {
         "title": {
          "text": "Day"
         },
         "type": "category"
        },
        "yaxis": {
         "title": {
          "text": "Element Excess"
         }
        }
       }
      }
     },
     "metadata": {},
     "output_type": "display_data"
    }
   ],
   "source": [
    "def create_left_over_df(optimization_results, maxes):\n",
    "    data = {}\n",
    "    for k, result in optimization_results.items():\n",
    "        data[k] = result.left_over*maxes\n",
    "    df = pd.DataFrame(data).T  # Transpose to have keys as row indexes\n",
    "    return df\n",
    "\n",
    "df_left_over = create_left_over_df(optimization_results, maxes=maxes)\n",
    "fig = plot_element_stacked_interactive_streamlit(df_left_over)\n",
    "fig.show()\n"
   ]
  },
  {
   "cell_type": "code",
   "execution_count": 150,
   "metadata": {},
   "outputs": [
    {
     "data": {
      "application/vnd.plotly.v1+json": {
       "config": {
        "plotlyServerURL": "https://plot.ly"
       },
       "data": [
        {
         "base": [
          0,
          0,
          0,
          0,
          0,
          0,
          0,
          0,
          0,
          0
         ],
         "hoverinfo": "text+name",
         "name": "0",
         "offsetgroup": "0",
         "text": [
          "0.182",
          "0.139",
          "0.047",
          "0.000",
          "0.000",
          "0.000",
          "0.000",
          "0.000",
          "0.000",
          "0.000"
         ],
         "type": "bar",
         "x": [
          "2",
          "4",
          "6",
          "8",
          "10",
          "12",
          "14",
          "16",
          "18",
          "20"
         ],
         "y": [
          0.1818226786130786,
          0.13914407111465527,
          0.04717789834870702,
          2.6592215071091952e-27,
          0,
          5.551115122570671e-17,
          5.018774276967438e-27,
          0,
          0,
          4.65403530566435e-21
         ]
        },
        {
         "base": [
          0.1818226786130786,
          0.13914407111465527,
          0.04717789834870702,
          2.6592215071091952e-27,
          0,
          5.551115122570671e-17,
          5.018774276967438e-27,
          0,
          0,
          4.65403530566435e-21
         ],
         "hoverinfo": "text+name",
         "name": "1",
         "offsetgroup": "0",
         "text": [
          "0.038",
          "0.025",
          "0.009",
          "0.000",
          "0.000",
          "0.000",
          "0.000",
          "0.000",
          "0.005",
          "0.026"
         ],
         "type": "bar",
         "x": [
          "2",
          "4",
          "6",
          "8",
          "10",
          "12",
          "14",
          "16",
          "18",
          "20"
         ],
         "y": [
          0.03778666755378917,
          0.02490590436129141,
          0.008828180089528622,
          1.1930119606445128e-26,
          0,
          5.551115122570671e-17,
          0,
          0,
          0.004621739661732439,
          0.02623006961635602
         ]
        },
        {
         "base": [
          0.21960934616686778,
          0.16404997547594669,
          0.05600607843823564,
          1.4589341113554322e-26,
          0,
          1.1102230245141342e-16,
          5.018774276967438e-27,
          0,
          0.004621739661732439,
          0.02623006961635602
         ],
         "hoverinfo": "text+name",
         "name": "2",
         "offsetgroup": "0",
         "text": [
          "0.194",
          "0.174",
          "0.145",
          "0.046",
          "0.016",
          "0.007",
          "0.022",
          "0.065",
          "0.130",
          "0.159"
         ],
         "type": "bar",
         "x": [
          "2",
          "4",
          "6",
          "8",
          "10",
          "12",
          "14",
          "16",
          "18",
          "20"
         ],
         "y": [
          0.19422620907425142,
          0.17421987629425997,
          0.1451770326465992,
          0.0455470941557519,
          0.016122510701657218,
          0.006611388178199233,
          0.021786787212049817,
          0.06502385012034072,
          0.12994634653891118,
          0.15929715526004964
         ]
        }
       ],
       "layout": {
        "barmode": "stack",
        "hovermode": "x",
        "legend": {
         "title": {
          "text": "Elements"
         }
        },
        "template": {
         "data": {
          "bar": [
           {
            "error_x": {
             "color": "#2a3f5f"
            },
            "error_y": {
             "color": "#2a3f5f"
            },
            "marker": {
             "line": {
              "color": "white",
              "width": 0.5
             },
             "pattern": {
              "fillmode": "overlay",
              "size": 10,
              "solidity": 0.2
             }
            },
            "type": "bar"
           }
          ],
          "barpolar": [
           {
            "marker": {
             "line": {
              "color": "white",
              "width": 0.5
             },
             "pattern": {
              "fillmode": "overlay",
              "size": 10,
              "solidity": 0.2
             }
            },
            "type": "barpolar"
           }
          ],
          "carpet": [
           {
            "aaxis": {
             "endlinecolor": "#2a3f5f",
             "gridcolor": "#C8D4E3",
             "linecolor": "#C8D4E3",
             "minorgridcolor": "#C8D4E3",
             "startlinecolor": "#2a3f5f"
            },
            "baxis": {
             "endlinecolor": "#2a3f5f",
             "gridcolor": "#C8D4E3",
             "linecolor": "#C8D4E3",
             "minorgridcolor": "#C8D4E3",
             "startlinecolor": "#2a3f5f"
            },
            "type": "carpet"
           }
          ],
          "choropleth": [
           {
            "colorbar": {
             "outlinewidth": 0,
             "ticks": ""
            },
            "type": "choropleth"
           }
          ],
          "contour": [
           {
            "colorbar": {
             "outlinewidth": 0,
             "ticks": ""
            },
            "colorscale": [
             [
              0,
              "#0d0887"
             ],
             [
              0.1111111111111111,
              "#46039f"
             ],
             [
              0.2222222222222222,
              "#7201a8"
             ],
             [
              0.3333333333333333,
              "#9c179e"
             ],
             [
              0.4444444444444444,
              "#bd3786"
             ],
             [
              0.5555555555555556,
              "#d8576b"
             ],
             [
              0.6666666666666666,
              "#ed7953"
             ],
             [
              0.7777777777777778,
              "#fb9f3a"
             ],
             [
              0.8888888888888888,
              "#fdca26"
             ],
             [
              1,
              "#f0f921"
             ]
            ],
            "type": "contour"
           }
          ],
          "contourcarpet": [
           {
            "colorbar": {
             "outlinewidth": 0,
             "ticks": ""
            },
            "type": "contourcarpet"
           }
          ],
          "heatmap": [
           {
            "colorbar": {
             "outlinewidth": 0,
             "ticks": ""
            },
            "colorscale": [
             [
              0,
              "#0d0887"
             ],
             [
              0.1111111111111111,
              "#46039f"
             ],
             [
              0.2222222222222222,
              "#7201a8"
             ],
             [
              0.3333333333333333,
              "#9c179e"
             ],
             [
              0.4444444444444444,
              "#bd3786"
             ],
             [
              0.5555555555555556,
              "#d8576b"
             ],
             [
              0.6666666666666666,
              "#ed7953"
             ],
             [
              0.7777777777777778,
              "#fb9f3a"
             ],
             [
              0.8888888888888888,
              "#fdca26"
             ],
             [
              1,
              "#f0f921"
             ]
            ],
            "type": "heatmap"
           }
          ],
          "heatmapgl": [
           {
            "colorbar": {
             "outlinewidth": 0,
             "ticks": ""
            },
            "colorscale": [
             [
              0,
              "#0d0887"
             ],
             [
              0.1111111111111111,
              "#46039f"
             ],
             [
              0.2222222222222222,
              "#7201a8"
             ],
             [
              0.3333333333333333,
              "#9c179e"
             ],
             [
              0.4444444444444444,
              "#bd3786"
             ],
             [
              0.5555555555555556,
              "#d8576b"
             ],
             [
              0.6666666666666666,
              "#ed7953"
             ],
             [
              0.7777777777777778,
              "#fb9f3a"
             ],
             [
              0.8888888888888888,
              "#fdca26"
             ],
             [
              1,
              "#f0f921"
             ]
            ],
            "type": "heatmapgl"
           }
          ],
          "histogram": [
           {
            "marker": {
             "pattern": {
              "fillmode": "overlay",
              "size": 10,
              "solidity": 0.2
             }
            },
            "type": "histogram"
           }
          ],
          "histogram2d": [
           {
            "colorbar": {
             "outlinewidth": 0,
             "ticks": ""
            },
            "colorscale": [
             [
              0,
              "#0d0887"
             ],
             [
              0.1111111111111111,
              "#46039f"
             ],
             [
              0.2222222222222222,
              "#7201a8"
             ],
             [
              0.3333333333333333,
              "#9c179e"
             ],
             [
              0.4444444444444444,
              "#bd3786"
             ],
             [
              0.5555555555555556,
              "#d8576b"
             ],
             [
              0.6666666666666666,
              "#ed7953"
             ],
             [
              0.7777777777777778,
              "#fb9f3a"
             ],
             [
              0.8888888888888888,
              "#fdca26"
             ],
             [
              1,
              "#f0f921"
             ]
            ],
            "type": "histogram2d"
           }
          ],
          "histogram2dcontour": [
           {
            "colorbar": {
             "outlinewidth": 0,
             "ticks": ""
            },
            "colorscale": [
             [
              0,
              "#0d0887"
             ],
             [
              0.1111111111111111,
              "#46039f"
             ],
             [
              0.2222222222222222,
              "#7201a8"
             ],
             [
              0.3333333333333333,
              "#9c179e"
             ],
             [
              0.4444444444444444,
              "#bd3786"
             ],
             [
              0.5555555555555556,
              "#d8576b"
             ],
             [
              0.6666666666666666,
              "#ed7953"
             ],
             [
              0.7777777777777778,
              "#fb9f3a"
             ],
             [
              0.8888888888888888,
              "#fdca26"
             ],
             [
              1,
              "#f0f921"
             ]
            ],
            "type": "histogram2dcontour"
           }
          ],
          "mesh3d": [
           {
            "colorbar": {
             "outlinewidth": 0,
             "ticks": ""
            },
            "type": "mesh3d"
           }
          ],
          "parcoords": [
           {
            "line": {
             "colorbar": {
              "outlinewidth": 0,
              "ticks": ""
             }
            },
            "type": "parcoords"
           }
          ],
          "pie": [
           {
            "automargin": true,
            "type": "pie"
           }
          ],
          "scatter": [
           {
            "fillpattern": {
             "fillmode": "overlay",
             "size": 10,
             "solidity": 0.2
            },
            "type": "scatter"
           }
          ],
          "scatter3d": [
           {
            "line": {
             "colorbar": {
              "outlinewidth": 0,
              "ticks": ""
             }
            },
            "marker": {
             "colorbar": {
              "outlinewidth": 0,
              "ticks": ""
             }
            },
            "type": "scatter3d"
           }
          ],
          "scattercarpet": [
           {
            "marker": {
             "colorbar": {
              "outlinewidth": 0,
              "ticks": ""
             }
            },
            "type": "scattercarpet"
           }
          ],
          "scattergeo": [
           {
            "marker": {
             "colorbar": {
              "outlinewidth": 0,
              "ticks": ""
             }
            },
            "type": "scattergeo"
           }
          ],
          "scattergl": [
           {
            "marker": {
             "colorbar": {
              "outlinewidth": 0,
              "ticks": ""
             }
            },
            "type": "scattergl"
           }
          ],
          "scattermapbox": [
           {
            "marker": {
             "colorbar": {
              "outlinewidth": 0,
              "ticks": ""
             }
            },
            "type": "scattermapbox"
           }
          ],
          "scatterpolar": [
           {
            "marker": {
             "colorbar": {
              "outlinewidth": 0,
              "ticks": ""
             }
            },
            "type": "scatterpolar"
           }
          ],
          "scatterpolargl": [
           {
            "marker": {
             "colorbar": {
              "outlinewidth": 0,
              "ticks": ""
             }
            },
            "type": "scatterpolargl"
           }
          ],
          "scatterternary": [
           {
            "marker": {
             "colorbar": {
              "outlinewidth": 0,
              "ticks": ""
             }
            },
            "type": "scatterternary"
           }
          ],
          "surface": [
           {
            "colorbar": {
             "outlinewidth": 0,
             "ticks": ""
            },
            "colorscale": [
             [
              0,
              "#0d0887"
             ],
             [
              0.1111111111111111,
              "#46039f"
             ],
             [
              0.2222222222222222,
              "#7201a8"
             ],
             [
              0.3333333333333333,
              "#9c179e"
             ],
             [
              0.4444444444444444,
              "#bd3786"
             ],
             [
              0.5555555555555556,
              "#d8576b"
             ],
             [
              0.6666666666666666,
              "#ed7953"
             ],
             [
              0.7777777777777778,
              "#fb9f3a"
             ],
             [
              0.8888888888888888,
              "#fdca26"
             ],
             [
              1,
              "#f0f921"
             ]
            ],
            "type": "surface"
           }
          ],
          "table": [
           {
            "cells": {
             "fill": {
              "color": "#EBF0F8"
             },
             "line": {
              "color": "white"
             }
            },
            "header": {
             "fill": {
              "color": "#C8D4E3"
             },
             "line": {
              "color": "white"
             }
            },
            "type": "table"
           }
          ]
         },
         "layout": {
          "annotationdefaults": {
           "arrowcolor": "#2a3f5f",
           "arrowhead": 0,
           "arrowwidth": 1
          },
          "autotypenumbers": "strict",
          "coloraxis": {
           "colorbar": {
            "outlinewidth": 0,
            "ticks": ""
           }
          },
          "colorscale": {
           "diverging": [
            [
             0,
             "#8e0152"
            ],
            [
             0.1,
             "#c51b7d"
            ],
            [
             0.2,
             "#de77ae"
            ],
            [
             0.3,
             "#f1b6da"
            ],
            [
             0.4,
             "#fde0ef"
            ],
            [
             0.5,
             "#f7f7f7"
            ],
            [
             0.6,
             "#e6f5d0"
            ],
            [
             0.7,
             "#b8e186"
            ],
            [
             0.8,
             "#7fbc41"
            ],
            [
             0.9,
             "#4d9221"
            ],
            [
             1,
             "#276419"
            ]
           ],
           "sequential": [
            [
             0,
             "#0d0887"
            ],
            [
             0.1111111111111111,
             "#46039f"
            ],
            [
             0.2222222222222222,
             "#7201a8"
            ],
            [
             0.3333333333333333,
             "#9c179e"
            ],
            [
             0.4444444444444444,
             "#bd3786"
            ],
            [
             0.5555555555555556,
             "#d8576b"
            ],
            [
             0.6666666666666666,
             "#ed7953"
            ],
            [
             0.7777777777777778,
             "#fb9f3a"
            ],
            [
             0.8888888888888888,
             "#fdca26"
            ],
            [
             1,
             "#f0f921"
            ]
           ],
           "sequentialminus": [
            [
             0,
             "#0d0887"
            ],
            [
             0.1111111111111111,
             "#46039f"
            ],
            [
             0.2222222222222222,
             "#7201a8"
            ],
            [
             0.3333333333333333,
             "#9c179e"
            ],
            [
             0.4444444444444444,
             "#bd3786"
            ],
            [
             0.5555555555555556,
             "#d8576b"
            ],
            [
             0.6666666666666666,
             "#ed7953"
            ],
            [
             0.7777777777777778,
             "#fb9f3a"
            ],
            [
             0.8888888888888888,
             "#fdca26"
            ],
            [
             1,
             "#f0f921"
            ]
           ]
          },
          "colorway": [
           "#636efa",
           "#EF553B",
           "#00cc96",
           "#ab63fa",
           "#FFA15A",
           "#19d3f3",
           "#FF6692",
           "#B6E880",
           "#FF97FF",
           "#FECB52"
          ],
          "font": {
           "color": "#2a3f5f"
          },
          "geo": {
           "bgcolor": "white",
           "lakecolor": "white",
           "landcolor": "white",
           "showlakes": true,
           "showland": true,
           "subunitcolor": "#C8D4E3"
          },
          "hoverlabel": {
           "align": "left"
          },
          "hovermode": "closest",
          "mapbox": {
           "style": "light"
          },
          "paper_bgcolor": "white",
          "plot_bgcolor": "white",
          "polar": {
           "angularaxis": {
            "gridcolor": "#EBF0F8",
            "linecolor": "#EBF0F8",
            "ticks": ""
           },
           "bgcolor": "white",
           "radialaxis": {
            "gridcolor": "#EBF0F8",
            "linecolor": "#EBF0F8",
            "ticks": ""
           }
          },
          "scene": {
           "xaxis": {
            "backgroundcolor": "white",
            "gridcolor": "#DFE8F3",
            "gridwidth": 2,
            "linecolor": "#EBF0F8",
            "showbackground": true,
            "ticks": "",
            "zerolinecolor": "#EBF0F8"
           },
           "yaxis": {
            "backgroundcolor": "white",
            "gridcolor": "#DFE8F3",
            "gridwidth": 2,
            "linecolor": "#EBF0F8",
            "showbackground": true,
            "ticks": "",
            "zerolinecolor": "#EBF0F8"
           },
           "zaxis": {
            "backgroundcolor": "white",
            "gridcolor": "#DFE8F3",
            "gridwidth": 2,
            "linecolor": "#EBF0F8",
            "showbackground": true,
            "ticks": "",
            "zerolinecolor": "#EBF0F8"
           }
          },
          "shapedefaults": {
           "line": {
            "color": "#2a3f5f"
           }
          },
          "ternary": {
           "aaxis": {
            "gridcolor": "#DFE8F3",
            "linecolor": "#A2B1C6",
            "ticks": ""
           },
           "baxis": {
            "gridcolor": "#DFE8F3",
            "linecolor": "#A2B1C6",
            "ticks": ""
           },
           "bgcolor": "white",
           "caxis": {
            "gridcolor": "#DFE8F3",
            "linecolor": "#A2B1C6",
            "ticks": ""
           }
          },
          "title": {
           "x": 0.05
          },
          "xaxis": {
           "automargin": true,
           "gridcolor": "#EBF0F8",
           "linecolor": "#EBF0F8",
           "ticks": "",
           "title": {
            "standoff": 15
           },
           "zerolinecolor": "#EBF0F8",
           "zerolinewidth": 2
          },
          "yaxis": {
           "automargin": true,
           "gridcolor": "#EBF0F8",
           "linecolor": "#EBF0F8",
           "ticks": "",
           "title": {
            "standoff": 15
           },
           "zerolinecolor": "#EBF0F8",
           "zerolinewidth": 2
          }
         }
        },
        "title": {
         "text": "Element Excess"
        },
        "xaxis": {
         "title": {
          "text": "Day"
         },
         "type": "category"
        },
        "yaxis": {
         "title": {
          "text": "Element Excess"
         }
        }
       }
      }
     },
     "metadata": {},
     "output_type": "display_data"
    }
   ],
   "source": [
    "def create_fertilizer_df(optimization_results):\n",
    "    data = {}\n",
    "    for k, result in optimization_results.items():\n",
    "        data[k] = result.x\n",
    "    df = pd.DataFrame(data).T  # Transpose to have keys as row indexes\n",
    "    return df\n",
    "\n",
    "df_fertilizer_usage = create_fertilizer_df(optimization_results)\n",
    "\n",
    "\n",
    "fig = plot_element_stacked_interactive_streamlit(df_fertilizer_usage)\n",
    "fig.show()"
   ]
  }
 ],
 "metadata": {
  "kernelspec": {
   "display_name": ".venv",
   "language": "python",
   "name": "python3"
  },
  "language_info": {
   "codemirror_mode": {
    "name": "ipython",
    "version": 3
   },
   "file_extension": ".py",
   "mimetype": "text/x-python",
   "name": "python",
   "nbconvert_exporter": "python",
   "pygments_lexer": "ipython3",
   "version": "3.10.12"
  }
 },
 "nbformat": 4,
 "nbformat_minor": 2
}
