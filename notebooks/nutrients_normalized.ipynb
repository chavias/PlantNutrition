{
 "cells": [
  {
   "cell_type": "markdown",
   "metadata": {},
   "source": [
    "# Nutrition"
   ]
  },
  {
   "cell_type": "code",
   "execution_count": 130,
   "metadata": {},
   "outputs": [],
   "source": [
    "import pandas as pd\n",
    "import numpy as np\n",
    "import matplotlib.pyplot as plt\n",
    "import seaborn as sns\n",
    "from scipy.optimize import minimize"
   ]
  },
  {
   "cell_type": "markdown",
   "metadata": {},
   "source": [
    "## Raw Data"
   ]
  },
  {
   "cell_type": "markdown",
   "metadata": {},
   "source": [
    "We can also directly specify a nutrients and fertilizer instead of the using a separate files"
   ]
  },
  {
   "cell_type": "code",
   "execution_count": 131,
   "metadata": {},
   "outputs": [
    {
     "data": {
      "text/html": [
       "<div>\n",
       "<style scoped>\n",
       "    .dataframe tbody tr th:only-of-type {\n",
       "        vertical-align: middle;\n",
       "    }\n",
       "\n",
       "    .dataframe tbody tr th {\n",
       "        vertical-align: top;\n",
       "    }\n",
       "\n",
       "    .dataframe thead th {\n",
       "        text-align: right;\n",
       "    }\n",
       "</style>\n",
       "<table border=\"1\" class=\"dataframe\">\n",
       "  <thead>\n",
       "    <tr style=\"text-align: right;\">\n",
       "      <th></th>\n",
       "      <th>B</th>\n",
       "      <th>Ca</th>\n",
       "      <th>Cu</th>\n",
       "      <th>Fe</th>\n",
       "      <th>K</th>\n",
       "      <th>Mg</th>\n",
       "      <th>Mn</th>\n",
       "      <th>Na</th>\n",
       "      <th>P</th>\n",
       "      <th>Zn</th>\n",
       "      <th>N</th>\n",
       "      <th>Time</th>\n",
       "    </tr>\n",
       "  </thead>\n",
       "  <tbody>\n",
       "    <tr>\n",
       "      <th>0</th>\n",
       "      <td>1.000000</td>\n",
       "      <td>1.000000</td>\n",
       "      <td>1.000000</td>\n",
       "      <td>1.000000</td>\n",
       "      <td>1.000000</td>\n",
       "      <td>1.000000</td>\n",
       "      <td>1.000000</td>\n",
       "      <td>1.000000</td>\n",
       "      <td>1.000000</td>\n",
       "      <td>1.000000</td>\n",
       "      <td>1.000000</td>\n",
       "      <td>0</td>\n",
       "    </tr>\n",
       "    <tr>\n",
       "      <th>1</th>\n",
       "      <td>0.975676</td>\n",
       "      <td>0.967033</td>\n",
       "      <td>0.757225</td>\n",
       "      <td>0.926220</td>\n",
       "      <td>0.984881</td>\n",
       "      <td>0.997118</td>\n",
       "      <td>0.963664</td>\n",
       "      <td>0.982721</td>\n",
       "      <td>0.964880</td>\n",
       "      <td>0.885609</td>\n",
       "      <td>0.947009</td>\n",
       "      <td>7</td>\n",
       "    </tr>\n",
       "    <tr>\n",
       "      <th>2</th>\n",
       "      <td>0.965541</td>\n",
       "      <td>0.958242</td>\n",
       "      <td>0.739884</td>\n",
       "      <td>0.925085</td>\n",
       "      <td>0.876890</td>\n",
       "      <td>0.981268</td>\n",
       "      <td>0.918244</td>\n",
       "      <td>0.906407</td>\n",
       "      <td>0.892791</td>\n",
       "      <td>0.833948</td>\n",
       "      <td>0.902171</td>\n",
       "      <td>14</td>\n",
       "    </tr>\n",
       "    <tr>\n",
       "      <th>3</th>\n",
       "      <td>0.864865</td>\n",
       "      <td>0.901099</td>\n",
       "      <td>0.624277</td>\n",
       "      <td>0.872872</td>\n",
       "      <td>0.280562</td>\n",
       "      <td>0.881844</td>\n",
       "      <td>0.438304</td>\n",
       "      <td>0.410367</td>\n",
       "      <td>0.510166</td>\n",
       "      <td>0.321033</td>\n",
       "      <td>0.631666</td>\n",
       "      <td>21</td>\n",
       "    </tr>\n",
       "  </tbody>\n",
       "</table>\n",
       "</div>"
      ],
      "text/plain": [
       "          B        Ca        Cu        Fe         K        Mg        Mn  \\\n",
       "0  1.000000  1.000000  1.000000  1.000000  1.000000  1.000000  1.000000   \n",
       "1  0.975676  0.967033  0.757225  0.926220  0.984881  0.997118  0.963664   \n",
       "2  0.965541  0.958242  0.739884  0.925085  0.876890  0.981268  0.918244   \n",
       "3  0.864865  0.901099  0.624277  0.872872  0.280562  0.881844  0.438304   \n",
       "\n",
       "         Na         P        Zn         N  Time  \n",
       "0  1.000000  1.000000  1.000000  1.000000     0  \n",
       "1  0.982721  0.964880  0.885609  0.947009     7  \n",
       "2  0.906407  0.892791  0.833948  0.902171    14  \n",
       "3  0.410367  0.510166  0.321033  0.631666    21  "
      ]
     },
     "execution_count": 131,
     "metadata": {},
     "output_type": "execute_result"
    }
   ],
   "source": [
    "DATA_PATH_AVG = '../data/input/nutrients_avg.xlsx'\n",
    "\n",
    "def process_data(data_path):\n",
    "    df = pd.read_excel(data_path)\n",
    "    time_column = df['Time']\n",
    "    df_no_time = df.drop(columns='Time')\n",
    "    X = df_no_time.to_numpy()\n",
    "    sorted_data = np.sort(X, axis=0)[::-1]\n",
    "    maxes = np.max(sorted_data, axis=0)\n",
    "    normalized_data = sorted_data / maxes\n",
    "    data_df = pd.DataFrame(normalized_data, columns=df_no_time.columns)\n",
    "    data_df['Time'] = time_column.sort_values(ascending=True).reset_index(drop=True)\n",
    "    return data_df, maxes\n",
    "\n",
    "df_data_normalized, maxes = process_data(DATA_PATH_AVG)\n",
    "\n",
    "df_data_normalized.head()"
   ]
  },
  {
   "cell_type": "code",
   "execution_count": 132,
   "metadata": {},
   "outputs": [
    {
     "data": {
      "text/html": [
       "<div>\n",
       "<style scoped>\n",
       "    .dataframe tbody tr th:only-of-type {\n",
       "        vertical-align: middle;\n",
       "    }\n",
       "\n",
       "    .dataframe tbody tr th {\n",
       "        vertical-align: top;\n",
       "    }\n",
       "\n",
       "    .dataframe thead th {\n",
       "        text-align: right;\n",
       "    }\n",
       "</style>\n",
       "<table border=\"1\" class=\"dataframe\">\n",
       "  <thead>\n",
       "    <tr style=\"text-align: right;\">\n",
       "      <th></th>\n",
       "      <th>B</th>\n",
       "      <th>Ca</th>\n",
       "      <th>Cu</th>\n",
       "      <th>Fe</th>\n",
       "      <th>K</th>\n",
       "      <th>Mg</th>\n",
       "      <th>Mn</th>\n",
       "      <th>Na</th>\n",
       "      <th>P</th>\n",
       "      <th>Zn</th>\n",
       "      <th>N</th>\n",
       "    </tr>\n",
       "  </thead>\n",
       "  <tbody>\n",
       "    <tr>\n",
       "      <th>0</th>\n",
       "      <td>0.000210</td>\n",
       "      <td>0.000094</td>\n",
       "      <td>0.264246</td>\n",
       "      <td>0.001538</td>\n",
       "      <td>0.000125</td>\n",
       "      <td>0.000292</td>\n",
       "      <td>0.036727</td>\n",
       "      <td>0.000096</td>\n",
       "      <td>0.000286</td>\n",
       "      <td>0.021631</td>\n",
       "      <td>0.000050</td>\n",
       "    </tr>\n",
       "    <tr>\n",
       "      <th>1</th>\n",
       "      <td>0.032856</td>\n",
       "      <td>0.000095</td>\n",
       "      <td>0.181090</td>\n",
       "      <td>0.005791</td>\n",
       "      <td>0.000107</td>\n",
       "      <td>0.000319</td>\n",
       "      <td>0.010258</td>\n",
       "      <td>0.000165</td>\n",
       "      <td>0.000171</td>\n",
       "      <td>0.030520</td>\n",
       "      <td>0.000052</td>\n",
       "    </tr>\n",
       "    <tr>\n",
       "      <th>2</th>\n",
       "      <td>0.039601</td>\n",
       "      <td>0.000026</td>\n",
       "      <td>0.245943</td>\n",
       "      <td>0.003782</td>\n",
       "      <td>0.000117</td>\n",
       "      <td>0.000283</td>\n",
       "      <td>0.008109</td>\n",
       "      <td>0.000259</td>\n",
       "      <td>0.000115</td>\n",
       "      <td>0.180471</td>\n",
       "      <td>0.000008</td>\n",
       "    </tr>\n",
       "  </tbody>\n",
       "</table>\n",
       "</div>"
      ],
      "text/plain": [
       "          B        Ca        Cu        Fe         K        Mg        Mn  \\\n",
       "0  0.000210  0.000094  0.264246  0.001538  0.000125  0.000292  0.036727   \n",
       "1  0.032856  0.000095  0.181090  0.005791  0.000107  0.000319  0.010258   \n",
       "2  0.039601  0.000026  0.245943  0.003782  0.000117  0.000283  0.008109   \n",
       "\n",
       "         Na         P        Zn         N  \n",
       "0  0.000096  0.000286  0.021631  0.000050  \n",
       "1  0.000165  0.000171  0.030520  0.000052  \n",
       "2  0.000259  0.000115  0.180471  0.000008  "
      ]
     },
     "execution_count": 132,
     "metadata": {},
     "output_type": "execute_result"
    }
   ],
   "source": [
    "FERTILIZER_PATH = '../data/input/fertilizer.xlsx'\n",
    "\n",
    "df_fertilizer = pd.read_excel(FERTILIZER_PATH)\n",
    "df_fertilizer_normalized = df_fertilizer/maxes\n",
    "df_fertilizer_normalized.head()"
   ]
  },
  {
   "cell_type": "markdown",
   "metadata": {},
   "source": [
    "## Data Preparation"
   ]
  },
  {
   "cell_type": "code",
   "execution_count": 133,
   "metadata": {},
   "outputs": [],
   "source": [
    "from scipy.interpolate import interp1d\n",
    "from scipy.interpolate import CubicSpline, PchipInterpolator, Akima1DInterpolator\n",
    "\n",
    "def interpolate_data(data_df, num_points=100, kind='cubic'):\n",
    "    data = data_df.to_numpy()\n",
    "    x_original = np.arange(data.shape[0])  # Original index positions\n",
    "    x_interp = np.linspace(0, data.shape[0] - 1, num_points)  # Interpolation index positions\n",
    "    \n",
    "    # Initialize an array to store interpolated data\n",
    "    Y_interp = np.zeros((num_points, data.shape[1]))\n",
    "    \n",
    "    # Interpolate each column\n",
    "    if kind!='pchip':\n",
    "        for col in range(data.shape[1]):\n",
    "            f = interp1d(x_original, data[:, col], kind=kind)  # Use the specified interpolation method\n",
    "            Y_interp[:, col] = f(x_interp)\n",
    "    else:\n",
    "        for col in range(data.shape[1]):\n",
    "            pchip_interpolator = PchipInterpolator(x_original, data[:, col])  # Create PCHIP interpolator\n",
    "            Y_interp[:, col] = pchip_interpolator(x_interp)\n",
    "\n",
    "\n",
    "    # Create a DataFrame for the interpolated data\n",
    "    interpolated_df = pd.DataFrame(Y_interp, columns=data_df.columns)\n",
    "\n",
    "    return interpolated_df\n",
    "\n",
    "\n",
    "df_data_normalized_interp = interpolate_data(df_data_normalized, num_points=21, kind='pchip')\n",
    " "
   ]
  },
  {
   "cell_type": "code",
   "execution_count": 134,
   "metadata": {},
   "outputs": [
    {
     "data": {
      "application/vnd.plotly.v1+json": {
       "config": {
        "plotlyServerURL": "https://plot.ly"
       },
       "data": [
        {
         "line": {
          "width": 2
         },
         "mode": "lines",
         "name": "B",
         "type": "scatter",
         "x": [
          0,
          1.05,
          2.1,
          3.1499999999999995,
          4.2,
          5.25,
          6.299999999999999,
          7.3500000000000005,
          8.4,
          9.45,
          10.5,
          11.549999999999999,
          12.599999999999998,
          13.649999999999999,
          14.700000000000001,
          15.75,
          16.8,
          17.849999999999998,
          18.9,
          19.950000000000003,
          21
         ],
         "xaxis": "x",
         "y": [
          0.246666666666667,
          0.245529760416667,
          0.24445376960784349,
          0.24345328615196116,
          0.24254290196078465,
          0.24173720894607878,
          0.2410507990196082,
          0.24050006583273587,
          0.2401002678144432,
          0.23980209103000988,
          0.23954332556193242,
          0.23926176149270714,
          0.23889518890483055,
          0.23838139788079898,
          0.23742737601626046,
          0.23533514354674823,
          0.2322271869918701,
          0.2282882670223578,
          0.22370314430894303,
          0.2186565795223575,
          0.213333333333333
         ],
         "yaxis": "y"
        },
        {
         "line": {
          "width": 2
         },
         "mode": "lines",
         "name": "Ca",
         "type": "scatter",
         "x": [
          0,
          1.05,
          2.1,
          3.1499999999999995,
          4.2,
          5.25,
          6.299999999999999,
          7.3500000000000005,
          8.4,
          9.45,
          10.5,
          11.549999999999999,
          12.599999999999998,
          13.649999999999999,
          14.700000000000001,
          15.75,
          16.8,
          17.849999999999998,
          18.9,
          19.950000000000003,
          21
         ],
         "xaxis": "x2",
         "y": [
          75.8333333333333,
          75.33130866228066,
          74.85739912280698,
          74.42235142543856,
          74.0369122807017,
          73.71182839912275,
          73.45784649122803,
          73.28374444444441,
          73.1662409356725,
          73.08185321637426,
          73.01286549707602,
          72.9415619883041,
          72.85022690058481,
          72.72114444444448,
          72.50723333333337,
          72.11614583333338,
          71.56693333333337,
          70.88682083333336,
          70.10303333333334,
          69.24279583333332,
          68.3333333333333
         ],
         "yaxis": "y2"
        },
        {
         "line": {
          "width": 2
         },
         "mode": "lines",
         "name": "Cu",
         "type": "scatter",
         "x": [
          0,
          1.05,
          2.1,
          3.1499999999999995,
          4.2,
          5.25,
          6.299999999999999,
          7.3500000000000005,
          8.4,
          9.45,
          10.5,
          11.549999999999999,
          12.599999999999998,
          13.649999999999999,
          14.700000000000001,
          15.75,
          16.8,
          17.849999999999998,
          18.9,
          19.950000000000003,
          21
         ],
         "xaxis": "x3",
         "y": [
          0.0288333333333333,
          0.027315089583333303,
          0.025873383333333298,
          0.0245652520833333,
          0.023447733333333297,
          0.0225778645833333,
          0.022012683333333304,
          0.021789656884057935,
          0.021689692753623153,
          0.02162368079710142,
          0.021575362318840545,
          0.021528478623188376,
          0.021466771014492722,
          0.021373980797101417,
          0.021212315217391278,
          0.020912873641304317,
          0.020490782608695628,
          0.019967245923913024,
          0.01936346739130434,
          0.018700650815217386,
          0.017999999999999995
         ],
         "yaxis": "y3"
        },
        {
         "line": {
          "width": 2
         },
         "mode": "lines",
         "name": "Fe",
         "type": "scatter",
         "x": [
          0,
          1.05,
          2.1,
          3.1499999999999995,
          4.2,
          5.25,
          6.299999999999999,
          7.3500000000000005,
          8.4,
          9.45,
          10.5,
          11.549999999999999,
          12.599999999999998,
          13.649999999999999,
          14.700000000000001,
          15.75,
          16.8,
          17.849999999999998,
          18.9,
          19.950000000000003,
          21
         ],
         "xaxis": "x4",
         "y": [
          1.46833333333333,
          1.4442942424242402,
          1.4213751515151503,
          1.4006233333333329,
          1.383086060606061,
          1.3698106060606068,
          1.361844242424243,
          1.3598475272673543,
          1.3595108618095844,
          1.3593047379378882,
          1.3591641145497513,
          1.359023950542659,
          1.3588192048140961,
          1.358484836261549,
          1.356949911347514,
          1.3512469525709185,
          1.3418368794326212,
          1.329446753102835,
          1.314803634751773,
          1.298634585549647,
          1.28166666666667
         ],
         "yaxis": "y4"
        },
        {
         "line": {
          "width": 2
         },
         "mode": "lines",
         "name": "K",
         "type": "scatter",
         "x": [
          0,
          1.05,
          2.1,
          3.1499999999999995,
          4.2,
          5.25,
          6.299999999999999,
          7.3500000000000005,
          8.4,
          9.45,
          10.5,
          11.549999999999999,
          12.599999999999998,
          13.649999999999999,
          14.700000000000001,
          15.75,
          16.8,
          17.849999999999998,
          18.9,
          19.950000000000003,
          21
         ],
         "xaxis": "x5",
         "y": [
          77.1666666666667,
          77.1349364035088,
          77.04361403508774,
          76.89850219298248,
          76.70540350877195,
          76.4701206140351,
          76.19845614035088,
          75.88073635387917,
          75.32290385577558,
          74.47302056601946,
          73.34138704627254,
          71.93830385819656,
          70.27407156345328,
          68.35899072370442,
          65.81891672033122,
          61.53240750057502,
          55.66318528058881,
          48.47579174045542,
          40.23476856025762,
          31.2046574200782,
          21.649999999999995
         ],
         "yaxis": "y5"
        },
        {
         "line": {
          "width": 2
         },
         "mode": "lines",
         "name": "Mg",
         "type": "scatter",
         "x": [
          0,
          1.05,
          2.1,
          3.1499999999999995,
          4.2,
          5.25,
          6.299999999999999,
          7.3500000000000005,
          8.4,
          9.45,
          10.5,
          11.549999999999999,
          12.599999999999998,
          13.649999999999999,
          14.700000000000001,
          15.75,
          16.8,
          17.849999999999998,
          18.9,
          19.950000000000003,
          21
         ],
         "xaxis": "x6",
         "y": [
          23.1333333333333,
          23.131441025640996,
          23.126041025641,
          23.1175487179487,
          23.10637948717948,
          23.092948717948726,
          23.077671794871815,
          23.060419495192342,
          23.03433230769235,
          22.99703781250004,
          22.9482932692308,
          22.887855937500024,
          22.81548307692309,
          22.730931947115387,
          22.613767499999994,
          22.40480468749999,
          22.112919999999992,
          21.752305312499992,
          21.337152499999995,
          20.881653437499995,
          20.400000000000002
         ],
         "yaxis": "y6"
        },
        {
         "line": {
          "width": 2
         },
         "mode": "lines",
         "name": "Mn",
         "type": "scatter",
         "x": [
          0,
          1.05,
          2.1,
          3.1499999999999995,
          4.2,
          5.25,
          6.299999999999999,
          7.3500000000000005,
          8.4,
          9.45,
          10.5,
          11.549999999999999,
          12.599999999999998,
          13.649999999999999,
          14.700000000000001,
          15.75,
          16.8,
          17.849999999999998,
          18.9,
          19.950000000000003,
          21
         ],
         "xaxis": "x7",
         "y": [
          0.220166666666667,
          0.21909204166666701,
          0.217969666666667,
          0.21680179166666702,
          0.21559066666666699,
          0.21433854166666702,
          0.213047666666667,
          0.21173644892731383,
          0.2105735574767855,
          0.2094895421069488,
          0.20833941722702565,
          0.20697819724623795,
          0.20526089657380758,
          0.20304252961895647,
          0.19910955763688792,
          0.19028221811959686,
          0.17707699135446714,
          0.1602950167507207,
          0.14073743371757944,
          0.1192053816642652,
          0.0965
         ],
         "yaxis": "y7"
        },
        {
         "line": {
          "width": 2
         },
         "mode": "lines",
         "name": "Na",
         "type": "scatter",
         "x": [
          0,
          1.05,
          2.1,
          3.1499999999999995,
          4.2,
          5.25,
          6.299999999999999,
          7.3500000000000005,
          8.4,
          9.45,
          10.5,
          11.549999999999999,
          12.599999999999998,
          13.649999999999999,
          14.700000000000001,
          15.75,
          16.8,
          17.849999999999998,
          18.9,
          19.950000000000003,
          21
         ],
         "xaxis": "x8",
         "y": [
          23.15,
          23.138175384615383,
          23.104695384615386,
          23.052550769230766,
          22.98473230769231,
          22.904230769230768,
          22.81403692307692,
          22.715029059829057,
          22.58076239316239,
          22.399611111111103,
          22.16790598290597,
          21.88197777777776,
          21.538157264957245,
          21.13277521367518,
          20.560834999999962,
          19.52445312499996,
          18.069039999999966,
          16.266741874999973,
          14.189704999999986,
          11.91007562499999,
          9.500000000000002
         ],
         "yaxis": "y8"
        },
        {
         "line": {
          "width": 2
         },
         "mode": "lines",
         "name": "P",
         "type": "scatter",
         "x": [
          0,
          1.05,
          2.1,
          3.1499999999999995,
          4.2,
          5.25,
          6.299999999999999,
          7.3500000000000005,
          8.4,
          9.45,
          10.5,
          11.549999999999999,
          12.599999999999998,
          13.649999999999999,
          14.700000000000001,
          15.75,
          16.8,
          17.849999999999998,
          18.9,
          19.950000000000003,
          21
         ],
         "xaxis": "x9",
         "y": [
          18.0333333333333,
          17.978635057471237,
          17.90609195402297,
          17.818031609195383,
          17.71678160919539,
          17.604669540229878,
          17.484022988505743,
          17.35733698486123,
          17.225789066442392,
          17.081980256518086,
          16.917010092514722,
          16.721978111858707,
          16.487983851976452,
          16.206126850294364,
          15.816887804878052,
          15.168902439024393,
          14.287356097560979,
          13.210970731707318,
          11.978468292682926,
          10.628570731707315,
          9.2
         ],
         "yaxis": "y9"
        },
        {
         "line": {
          "width": 2
         },
         "mode": "lines",
         "name": "Zn",
         "type": "scatter",
         "x": [
          0,
          1.05,
          2.1,
          3.1499999999999995,
          4.2,
          5.25,
          6.299999999999999,
          7.3500000000000005,
          8.4,
          9.45,
          10.5,
          11.549999999999999,
          12.599999999999998,
          13.649999999999999,
          14.700000000000001,
          15.75,
          16.8,
          17.849999999999998,
          18.9,
          19.950000000000003,
          21
         ],
         "xaxis": "x10",
         "y": [
          0.0451666666666667,
          0.04420080625000003,
          0.04328545000000002,
          0.04243143541666668,
          0.0416496,
          0.04095078125,
          0.040345816666666666,
          0.0398480839869281,
          0.03948150588235295,
          0.03920477483660132,
          0.038961437908496745,
          0.03869504215686277,
          0.0383491346405229,
          0.037867262418300685,
          0.03697683823529416,
          0.035024892769607886,
          0.03212549019607847,
          0.028450965073529445,
          0.02417365196078435,
          0.019465885416666672,
          0.0145
         ],
         "yaxis": "y10"
        },
        {
         "line": {
          "width": 2
         },
         "mode": "lines",
         "name": "N",
         "type": "scatter",
         "x": [
          0,
          1.05,
          2.1,
          3.1499999999999995,
          4.2,
          5.25,
          6.299999999999999,
          7.3500000000000005,
          8.4,
          9.45,
          10.5,
          11.549999999999999,
          12.599999999999998,
          13.649999999999999,
          14.700000000000001,
          15.75,
          16.8,
          17.849999999999998,
          18.9,
          19.950000000000003,
          21
         ],
         "xaxis": "x11",
         "y": [
          189.524597441025,
          187.91837710568134,
          186.34533244313522,
          184.8067675008399,
          183.3039863262489,
          181.8382929668155,
          180.41099146999318,
          179.039020002346,
          177.88580255599027,
          176.88666839301848,
          175.90412939813584,
          174.80069745604746,
          173.43888445145848,
          171.681202269074,
          169.02104804037526,
          164.32843232349077,
          157.8126861521906,
          149.78370411340669,
          140.5513807940711,
          130.42561078111584,
          119.716288661473
         ],
         "yaxis": "y11"
        }
       ],
       "layout": {
        "annotations": [
         {
          "font": {
           "size": 16
          },
          "showarrow": false,
          "text": "B",
          "x": 0.13333333333333333,
          "xanchor": "center",
          "xref": "paper",
          "y": 1,
          "yanchor": "bottom",
          "yref": "paper"
         },
         {
          "font": {
           "size": 16
          },
          "showarrow": false,
          "text": "Ca",
          "x": 0.5,
          "xanchor": "center",
          "xref": "paper",
          "y": 1,
          "yanchor": "bottom",
          "yref": "paper"
         },
         {
          "font": {
           "size": 16
          },
          "showarrow": false,
          "text": "Cu",
          "x": 0.8666666666666667,
          "xanchor": "center",
          "xref": "paper",
          "y": 1,
          "yanchor": "bottom",
          "yref": "paper"
         },
         {
          "font": {
           "size": 16
          },
          "showarrow": false,
          "text": "Fe",
          "x": 0.13333333333333333,
          "xanchor": "center",
          "xref": "paper",
          "y": 0.7124999999999999,
          "yanchor": "bottom",
          "yref": "paper"
         },
         {
          "font": {
           "size": 16
          },
          "showarrow": false,
          "text": "K",
          "x": 0.5,
          "xanchor": "center",
          "xref": "paper",
          "y": 0.7124999999999999,
          "yanchor": "bottom",
          "yref": "paper"
         },
         {
          "font": {
           "size": 16
          },
          "showarrow": false,
          "text": "Mg",
          "x": 0.8666666666666667,
          "xanchor": "center",
          "xref": "paper",
          "y": 0.7124999999999999,
          "yanchor": "bottom",
          "yref": "paper"
         },
         {
          "font": {
           "size": 16
          },
          "showarrow": false,
          "text": "Mn",
          "x": 0.13333333333333333,
          "xanchor": "center",
          "xref": "paper",
          "y": 0.425,
          "yanchor": "bottom",
          "yref": "paper"
         },
         {
          "font": {
           "size": 16
          },
          "showarrow": false,
          "text": "Na",
          "x": 0.5,
          "xanchor": "center",
          "xref": "paper",
          "y": 0.425,
          "yanchor": "bottom",
          "yref": "paper"
         },
         {
          "font": {
           "size": 16
          },
          "showarrow": false,
          "text": "P",
          "x": 0.8666666666666667,
          "xanchor": "center",
          "xref": "paper",
          "y": 0.425,
          "yanchor": "bottom",
          "yref": "paper"
         },
         {
          "font": {
           "size": 16
          },
          "showarrow": false,
          "text": "Zn",
          "x": 0.13333333333333333,
          "xanchor": "center",
          "xref": "paper",
          "y": 0.1375,
          "yanchor": "bottom",
          "yref": "paper"
         },
         {
          "font": {
           "size": 16
          },
          "showarrow": false,
          "text": "N",
          "x": 0.5,
          "xanchor": "center",
          "xref": "paper",
          "y": 0.1375,
          "yanchor": "bottom",
          "yref": "paper"
         }
        ],
        "height": 1200,
        "showlegend": false,
        "template": {
         "data": {
          "bar": [
           {
            "error_x": {
             "color": "#2a3f5f"
            },
            "error_y": {
             "color": "#2a3f5f"
            },
            "marker": {
             "line": {
              "color": "white",
              "width": 0.5
             },
             "pattern": {
              "fillmode": "overlay",
              "size": 10,
              "solidity": 0.2
             }
            },
            "type": "bar"
           }
          ],
          "barpolar": [
           {
            "marker": {
             "line": {
              "color": "white",
              "width": 0.5
             },
             "pattern": {
              "fillmode": "overlay",
              "size": 10,
              "solidity": 0.2
             }
            },
            "type": "barpolar"
           }
          ],
          "carpet": [
           {
            "aaxis": {
             "endlinecolor": "#2a3f5f",
             "gridcolor": "#C8D4E3",
             "linecolor": "#C8D4E3",
             "minorgridcolor": "#C8D4E3",
             "startlinecolor": "#2a3f5f"
            },
            "baxis": {
             "endlinecolor": "#2a3f5f",
             "gridcolor": "#C8D4E3",
             "linecolor": "#C8D4E3",
             "minorgridcolor": "#C8D4E3",
             "startlinecolor": "#2a3f5f"
            },
            "type": "carpet"
           }
          ],
          "choropleth": [
           {
            "colorbar": {
             "outlinewidth": 0,
             "ticks": ""
            },
            "type": "choropleth"
           }
          ],
          "contour": [
           {
            "colorbar": {
             "outlinewidth": 0,
             "ticks": ""
            },
            "colorscale": [
             [
              0,
              "#0d0887"
             ],
             [
              0.1111111111111111,
              "#46039f"
             ],
             [
              0.2222222222222222,
              "#7201a8"
             ],
             [
              0.3333333333333333,
              "#9c179e"
             ],
             [
              0.4444444444444444,
              "#bd3786"
             ],
             [
              0.5555555555555556,
              "#d8576b"
             ],
             [
              0.6666666666666666,
              "#ed7953"
             ],
             [
              0.7777777777777778,
              "#fb9f3a"
             ],
             [
              0.8888888888888888,
              "#fdca26"
             ],
             [
              1,
              "#f0f921"
             ]
            ],
            "type": "contour"
           }
          ],
          "contourcarpet": [
           {
            "colorbar": {
             "outlinewidth": 0,
             "ticks": ""
            },
            "type": "contourcarpet"
           }
          ],
          "heatmap": [
           {
            "colorbar": {
             "outlinewidth": 0,
             "ticks": ""
            },
            "colorscale": [
             [
              0,
              "#0d0887"
             ],
             [
              0.1111111111111111,
              "#46039f"
             ],
             [
              0.2222222222222222,
              "#7201a8"
             ],
             [
              0.3333333333333333,
              "#9c179e"
             ],
             [
              0.4444444444444444,
              "#bd3786"
             ],
             [
              0.5555555555555556,
              "#d8576b"
             ],
             [
              0.6666666666666666,
              "#ed7953"
             ],
             [
              0.7777777777777778,
              "#fb9f3a"
             ],
             [
              0.8888888888888888,
              "#fdca26"
             ],
             [
              1,
              "#f0f921"
             ]
            ],
            "type": "heatmap"
           }
          ],
          "heatmapgl": [
           {
            "colorbar": {
             "outlinewidth": 0,
             "ticks": ""
            },
            "colorscale": [
             [
              0,
              "#0d0887"
             ],
             [
              0.1111111111111111,
              "#46039f"
             ],
             [
              0.2222222222222222,
              "#7201a8"
             ],
             [
              0.3333333333333333,
              "#9c179e"
             ],
             [
              0.4444444444444444,
              "#bd3786"
             ],
             [
              0.5555555555555556,
              "#d8576b"
             ],
             [
              0.6666666666666666,
              "#ed7953"
             ],
             [
              0.7777777777777778,
              "#fb9f3a"
             ],
             [
              0.8888888888888888,
              "#fdca26"
             ],
             [
              1,
              "#f0f921"
             ]
            ],
            "type": "heatmapgl"
           }
          ],
          "histogram": [
           {
            "marker": {
             "pattern": {
              "fillmode": "overlay",
              "size": 10,
              "solidity": 0.2
             }
            },
            "type": "histogram"
           }
          ],
          "histogram2d": [
           {
            "colorbar": {
             "outlinewidth": 0,
             "ticks": ""
            },
            "colorscale": [
             [
              0,
              "#0d0887"
             ],
             [
              0.1111111111111111,
              "#46039f"
             ],
             [
              0.2222222222222222,
              "#7201a8"
             ],
             [
              0.3333333333333333,
              "#9c179e"
             ],
             [
              0.4444444444444444,
              "#bd3786"
             ],
             [
              0.5555555555555556,
              "#d8576b"
             ],
             [
              0.6666666666666666,
              "#ed7953"
             ],
             [
              0.7777777777777778,
              "#fb9f3a"
             ],
             [
              0.8888888888888888,
              "#fdca26"
             ],
             [
              1,
              "#f0f921"
             ]
            ],
            "type": "histogram2d"
           }
          ],
          "histogram2dcontour": [
           {
            "colorbar": {
             "outlinewidth": 0,
             "ticks": ""
            },
            "colorscale": [
             [
              0,
              "#0d0887"
             ],
             [
              0.1111111111111111,
              "#46039f"
             ],
             [
              0.2222222222222222,
              "#7201a8"
             ],
             [
              0.3333333333333333,
              "#9c179e"
             ],
             [
              0.4444444444444444,
              "#bd3786"
             ],
             [
              0.5555555555555556,
              "#d8576b"
             ],
             [
              0.6666666666666666,
              "#ed7953"
             ],
             [
              0.7777777777777778,
              "#fb9f3a"
             ],
             [
              0.8888888888888888,
              "#fdca26"
             ],
             [
              1,
              "#f0f921"
             ]
            ],
            "type": "histogram2dcontour"
           }
          ],
          "mesh3d": [
           {
            "colorbar": {
             "outlinewidth": 0,
             "ticks": ""
            },
            "type": "mesh3d"
           }
          ],
          "parcoords": [
           {
            "line": {
             "colorbar": {
              "outlinewidth": 0,
              "ticks": ""
             }
            },
            "type": "parcoords"
           }
          ],
          "pie": [
           {
            "automargin": true,
            "type": "pie"
           }
          ],
          "scatter": [
           {
            "fillpattern": {
             "fillmode": "overlay",
             "size": 10,
             "solidity": 0.2
            },
            "type": "scatter"
           }
          ],
          "scatter3d": [
           {
            "line": {
             "colorbar": {
              "outlinewidth": 0,
              "ticks": ""
             }
            },
            "marker": {
             "colorbar": {
              "outlinewidth": 0,
              "ticks": ""
             }
            },
            "type": "scatter3d"
           }
          ],
          "scattercarpet": [
           {
            "marker": {
             "colorbar": {
              "outlinewidth": 0,
              "ticks": ""
             }
            },
            "type": "scattercarpet"
           }
          ],
          "scattergeo": [
           {
            "marker": {
             "colorbar": {
              "outlinewidth": 0,
              "ticks": ""
             }
            },
            "type": "scattergeo"
           }
          ],
          "scattergl": [
           {
            "marker": {
             "colorbar": {
              "outlinewidth": 0,
              "ticks": ""
             }
            },
            "type": "scattergl"
           }
          ],
          "scattermapbox": [
           {
            "marker": {
             "colorbar": {
              "outlinewidth": 0,
              "ticks": ""
             }
            },
            "type": "scattermapbox"
           }
          ],
          "scatterpolar": [
           {
            "marker": {
             "colorbar": {
              "outlinewidth": 0,
              "ticks": ""
             }
            },
            "type": "scatterpolar"
           }
          ],
          "scatterpolargl": [
           {
            "marker": {
             "colorbar": {
              "outlinewidth": 0,
              "ticks": ""
             }
            },
            "type": "scatterpolargl"
           }
          ],
          "scatterternary": [
           {
            "marker": {
             "colorbar": {
              "outlinewidth": 0,
              "ticks": ""
             }
            },
            "type": "scatterternary"
           }
          ],
          "surface": [
           {
            "colorbar": {
             "outlinewidth": 0,
             "ticks": ""
            },
            "colorscale": [
             [
              0,
              "#0d0887"
             ],
             [
              0.1111111111111111,
              "#46039f"
             ],
             [
              0.2222222222222222,
              "#7201a8"
             ],
             [
              0.3333333333333333,
              "#9c179e"
             ],
             [
              0.4444444444444444,
              "#bd3786"
             ],
             [
              0.5555555555555556,
              "#d8576b"
             ],
             [
              0.6666666666666666,
              "#ed7953"
             ],
             [
              0.7777777777777778,
              "#fb9f3a"
             ],
             [
              0.8888888888888888,
              "#fdca26"
             ],
             [
              1,
              "#f0f921"
             ]
            ],
            "type": "surface"
           }
          ],
          "table": [
           {
            "cells": {
             "fill": {
              "color": "#EBF0F8"
             },
             "line": {
              "color": "white"
             }
            },
            "header": {
             "fill": {
              "color": "#C8D4E3"
             },
             "line": {
              "color": "white"
             }
            },
            "type": "table"
           }
          ]
         },
         "layout": {
          "annotationdefaults": {
           "arrowcolor": "#2a3f5f",
           "arrowhead": 0,
           "arrowwidth": 1
          },
          "autotypenumbers": "strict",
          "coloraxis": {
           "colorbar": {
            "outlinewidth": 0,
            "ticks": ""
           }
          },
          "colorscale": {
           "diverging": [
            [
             0,
             "#8e0152"
            ],
            [
             0.1,
             "#c51b7d"
            ],
            [
             0.2,
             "#de77ae"
            ],
            [
             0.3,
             "#f1b6da"
            ],
            [
             0.4,
             "#fde0ef"
            ],
            [
             0.5,
             "#f7f7f7"
            ],
            [
             0.6,
             "#e6f5d0"
            ],
            [
             0.7,
             "#b8e186"
            ],
            [
             0.8,
             "#7fbc41"
            ],
            [
             0.9,
             "#4d9221"
            ],
            [
             1,
             "#276419"
            ]
           ],
           "sequential": [
            [
             0,
             "#0d0887"
            ],
            [
             0.1111111111111111,
             "#46039f"
            ],
            [
             0.2222222222222222,
             "#7201a8"
            ],
            [
             0.3333333333333333,
             "#9c179e"
            ],
            [
             0.4444444444444444,
             "#bd3786"
            ],
            [
             0.5555555555555556,
             "#d8576b"
            ],
            [
             0.6666666666666666,
             "#ed7953"
            ],
            [
             0.7777777777777778,
             "#fb9f3a"
            ],
            [
             0.8888888888888888,
             "#fdca26"
            ],
            [
             1,
             "#f0f921"
            ]
           ],
           "sequentialminus": [
            [
             0,
             "#0d0887"
            ],
            [
             0.1111111111111111,
             "#46039f"
            ],
            [
             0.2222222222222222,
             "#7201a8"
            ],
            [
             0.3333333333333333,
             "#9c179e"
            ],
            [
             0.4444444444444444,
             "#bd3786"
            ],
            [
             0.5555555555555556,
             "#d8576b"
            ],
            [
             0.6666666666666666,
             "#ed7953"
            ],
            [
             0.7777777777777778,
             "#fb9f3a"
            ],
            [
             0.8888888888888888,
             "#fdca26"
            ],
            [
             1,
             "#f0f921"
            ]
           ]
          },
          "colorway": [
           "#636efa",
           "#EF553B",
           "#00cc96",
           "#ab63fa",
           "#FFA15A",
           "#19d3f3",
           "#FF6692",
           "#B6E880",
           "#FF97FF",
           "#FECB52"
          ],
          "font": {
           "color": "#2a3f5f"
          },
          "geo": {
           "bgcolor": "white",
           "lakecolor": "white",
           "landcolor": "white",
           "showlakes": true,
           "showland": true,
           "subunitcolor": "#C8D4E3"
          },
          "hoverlabel": {
           "align": "left"
          },
          "hovermode": "closest",
          "mapbox": {
           "style": "light"
          },
          "paper_bgcolor": "white",
          "plot_bgcolor": "white",
          "polar": {
           "angularaxis": {
            "gridcolor": "#EBF0F8",
            "linecolor": "#EBF0F8",
            "ticks": ""
           },
           "bgcolor": "white",
           "radialaxis": {
            "gridcolor": "#EBF0F8",
            "linecolor": "#EBF0F8",
            "ticks": ""
           }
          },
          "scene": {
           "xaxis": {
            "backgroundcolor": "white",
            "gridcolor": "#DFE8F3",
            "gridwidth": 2,
            "linecolor": "#EBF0F8",
            "showbackground": true,
            "ticks": "",
            "zerolinecolor": "#EBF0F8"
           },
           "yaxis": {
            "backgroundcolor": "white",
            "gridcolor": "#DFE8F3",
            "gridwidth": 2,
            "linecolor": "#EBF0F8",
            "showbackground": true,
            "ticks": "",
            "zerolinecolor": "#EBF0F8"
           },
           "zaxis": {
            "backgroundcolor": "white",
            "gridcolor": "#DFE8F3",
            "gridwidth": 2,
            "linecolor": "#EBF0F8",
            "showbackground": true,
            "ticks": "",
            "zerolinecolor": "#EBF0F8"
           }
          },
          "shapedefaults": {
           "line": {
            "color": "#2a3f5f"
           }
          },
          "ternary": {
           "aaxis": {
            "gridcolor": "#DFE8F3",
            "linecolor": "#A2B1C6",
            "ticks": ""
           },
           "baxis": {
            "gridcolor": "#DFE8F3",
            "linecolor": "#A2B1C6",
            "ticks": ""
           },
           "bgcolor": "white",
           "caxis": {
            "gridcolor": "#DFE8F3",
            "linecolor": "#A2B1C6",
            "ticks": ""
           }
          },
          "title": {
           "x": 0.05
          },
          "xaxis": {
           "automargin": true,
           "gridcolor": "#EBF0F8",
           "linecolor": "#EBF0F8",
           "ticks": "",
           "title": {
            "standoff": 15
           },
           "zerolinecolor": "#EBF0F8",
           "zerolinewidth": 2
          },
          "yaxis": {
           "automargin": true,
           "gridcolor": "#EBF0F8",
           "linecolor": "#EBF0F8",
           "ticks": "",
           "title": {
            "standoff": 15
           },
           "zerolinecolor": "#EBF0F8",
           "zerolinewidth": 2
          }
         }
        },
        "title": {
         "text": "Interactive Subplots of Concentrations Over Time"
        },
        "width": 900,
        "xaxis": {
         "anchor": "y",
         "domain": [
          0,
          0.26666666666666666
         ],
         "title": {
          "text": "Days"
         }
        },
        "xaxis10": {
         "anchor": "y10",
         "domain": [
          0,
          0.26666666666666666
         ],
         "title": {
          "text": "Days"
         }
        },
        "xaxis11": {
         "anchor": "y11",
         "domain": [
          0.3666666666666667,
          0.6333333333333333
         ],
         "title": {
          "text": "Days"
         }
        },
        "xaxis12": {
         "anchor": "y12",
         "domain": [
          0.7333333333333334,
          1
         ]
        },
        "xaxis2": {
         "anchor": "y2",
         "domain": [
          0.3666666666666667,
          0.6333333333333333
         ],
         "title": {
          "text": "Days"
         }
        },
        "xaxis3": {
         "anchor": "y3",
         "domain": [
          0.7333333333333334,
          1
         ],
         "title": {
          "text": "Days"
         }
        },
        "xaxis4": {
         "anchor": "y4",
         "domain": [
          0,
          0.26666666666666666
         ],
         "title": {
          "text": "Days"
         }
        },
        "xaxis5": {
         "anchor": "y5",
         "domain": [
          0.3666666666666667,
          0.6333333333333333
         ],
         "title": {
          "text": "Days"
         }
        },
        "xaxis6": {
         "anchor": "y6",
         "domain": [
          0.7333333333333334,
          1
         ],
         "title": {
          "text": "Days"
         }
        },
        "xaxis7": {
         "anchor": "y7",
         "domain": [
          0,
          0.26666666666666666
         ],
         "title": {
          "text": "Days"
         }
        },
        "xaxis8": {
         "anchor": "y8",
         "domain": [
          0.3666666666666667,
          0.6333333333333333
         ],
         "title": {
          "text": "Days"
         }
        },
        "xaxis9": {
         "anchor": "y9",
         "domain": [
          0.7333333333333334,
          1
         ],
         "title": {
          "text": "Days"
         }
        },
        "yaxis": {
         "anchor": "x",
         "domain": [
          0.8625,
          1
         ],
         "range": [
          0,
          null
         ],
         "title": {
          "text": "Concentration"
         }
        },
        "yaxis10": {
         "anchor": "x10",
         "domain": [
          0,
          0.1375
         ],
         "range": [
          0,
          null
         ],
         "title": {
          "text": "Concentration"
         }
        },
        "yaxis11": {
         "anchor": "x11",
         "domain": [
          0,
          0.1375
         ],
         "range": [
          0,
          null
         ],
         "title": {
          "text": "Concentration"
         }
        },
        "yaxis12": {
         "anchor": "x12",
         "domain": [
          0,
          0.1375
         ]
        },
        "yaxis2": {
         "anchor": "x2",
         "domain": [
          0.8625,
          1
         ],
         "range": [
          0,
          null
         ],
         "title": {
          "text": "Concentration"
         }
        },
        "yaxis3": {
         "anchor": "x3",
         "domain": [
          0.8625,
          1
         ],
         "range": [
          0,
          null
         ],
         "title": {
          "text": "Concentration"
         }
        },
        "yaxis4": {
         "anchor": "x4",
         "domain": [
          0.575,
          0.7124999999999999
         ],
         "range": [
          0,
          null
         ],
         "title": {
          "text": "Concentration"
         }
        },
        "yaxis5": {
         "anchor": "x5",
         "domain": [
          0.575,
          0.7124999999999999
         ],
         "range": [
          0,
          null
         ],
         "title": {
          "text": "Concentration"
         }
        },
        "yaxis6": {
         "anchor": "x6",
         "domain": [
          0.575,
          0.7124999999999999
         ],
         "range": [
          0,
          null
         ],
         "title": {
          "text": "Concentration"
         }
        },
        "yaxis7": {
         "anchor": "x7",
         "domain": [
          0.2875,
          0.425
         ],
         "range": [
          0,
          null
         ],
         "title": {
          "text": "Concentration"
         }
        },
        "yaxis8": {
         "anchor": "x8",
         "domain": [
          0.2875,
          0.425
         ],
         "range": [
          0,
          null
         ],
         "title": {
          "text": "Concentration"
         }
        },
        "yaxis9": {
         "anchor": "x9",
         "domain": [
          0.2875,
          0.425
         ],
         "range": [
          0,
          null
         ],
         "title": {
          "text": "Concentration"
         }
        }
       }
      }
     },
     "metadata": {},
     "output_type": "display_data"
    }
   ],
   "source": [
    "import plotly.graph_objects as go\n",
    "from plotly.subplots import make_subplots\n",
    "\n",
    "def plot_curves_interactive(data_df):\n",
    "    # Extract 'Time' column and other data\n",
    "    time = data_df['Time']\n",
    "    y = data_df.drop(columns='Time')  # Drop 'Time' to get only the data for plotting\n",
    "\n",
    "    num_cols = y.shape[1]  # Number of columns to plot\n",
    "    num_rows = (num_cols + 2) // 3  # Calculate number of rows needed for subplots\n",
    "\n",
    "    # Create subplots figure with plotly\n",
    "    fig = make_subplots(rows=num_rows, cols=3, subplot_titles=[col for col in y.columns],\n",
    "                        vertical_spacing=0.15, horizontal_spacing=0.1)\n",
    "\n",
    "    # Plot each column against 'Time'\n",
    "    for i, col in enumerate(y.columns):\n",
    "        row = i // 3 + 1  # Determine row position\n",
    "        col_position = i % 3 + 1  # Determine column position\n",
    "\n",
    "        fig.add_trace(\n",
    "            go.Scatter(\n",
    "                x=time,\n",
    "                y=y[col],\n",
    "                mode='lines',\n",
    "                name=col,\n",
    "                line=dict(width=2)\n",
    "            ),\n",
    "            row=row,\n",
    "            col=col_position\n",
    "        )\n",
    "\n",
    "        # Customize the axis titles and range for each subplot\n",
    "        fig.update_xaxes(title_text='Days', row=row, col=col_position)\n",
    "        fig.update_yaxes(title_text='Concentration', row=row, col=col_position, range=[0, None])\n",
    "\n",
    "    # Update layout for better readability\n",
    "    fig.update_layout(\n",
    "        height=300 * num_rows, width=900, title_text=\"Interactive Subplots of Concentrations Over Time\",\n",
    "        showlegend=False,  # Hide the legend since each subplot has a title\n",
    "        template='plotly_white'\n",
    "    )\n",
    "    \n",
    "    fig.show()\n",
    "\n",
    "# Example usage:\n",
    "df_data_interp = df_data_normalized_interp.drop(columns='Time')*maxes\n",
    "df_data_interp['Time'] = df_data_normalized_interp['Time']\n",
    "plot_curves_interactive(df_data_interp)\n"
   ]
  },
  {
   "cell_type": "code",
   "execution_count": 136,
   "metadata": {},
   "outputs": [
    {
     "data": {
      "text/plain": [
       "array([0.13513514, 0.0989011 , 0.37572254, 0.12712826, 0.71943844,\n",
       "       0.11815562, 0.56169569, 0.58963283, 0.48983364, 0.67896679,\n",
       "       0.36833377])"
      ]
     },
     "execution_count": 136,
     "metadata": {},
     "output_type": "execute_result"
    }
   ],
   "source": [
    "def absolute_plant_uptake_during_interval(data_df, start, end):\n",
    "    # Extract the 'Time' column\n",
    "    time = data_df['Time'].to_numpy()\n",
    "    \n",
    "    # Find the nearest indices for the start and end times\n",
    "    start_index = np.argmin(np.abs(time - start))\n",
    "    end_index = np.argmin(np.abs(time - end))\n",
    "    \n",
    "    # Calculate uptake as the negative of the nutrient change in solution\n",
    "    uptake = -(data_df.iloc[end_index, 0:-1] - data_df.iloc[start_index, 0:-1])  # Skip 'Time' column\n",
    "\n",
    "    return uptake\n",
    "\n",
    "uptake = absolute_plant_uptake_during_interval(df_data_normalized_interp, 0, 21)\n",
    "\n",
    "uptake.to_numpy()"
   ]
  },
  {
   "cell_type": "markdown",
   "metadata": {},
   "source": [
    "## Optimize"
   ]
  },
  {
   "cell_type": "markdown",
   "metadata": {},
   "source": [
    "Consider a single time intervall $I = [t_0, T]$.\n",
    "\n",
    "Unsing the model of the plant uptake we have obtained the the target nutrient concentration should be idealy $\\vec T$.\n",
    "\n",
    "Let us optimize the minimal total amount of fertilizer to reach the target under the constraint that the plant does not experience any deficite of nutrients.\n",
    "\n",
    "$L = \\min(|\\vec{T} - (u_1 \\vec{F}_1 + u_2 \\vec{F}_2 + u_3 \\vec{F}_3|)$\n",
    "\n",
    "Constrain: $\\vec{T} - (u_1 \\vec{F}_1 + u_2 \\vec{F}_2 + u_3 \\vec{F}_3) \\ge 0$\n",
    "\n",
    "**Comments:**\n",
    "\n",
    "1. Since the concentration have different scales, it might be reasonable to scale (transfrom) them using sklearn MaxMinScaler or StandartScaler.\n",
    "Afterwards don't forget to apply the inverse transform to get correct values!"
   ]
  },
  {
   "cell_type": "code",
   "execution_count": 137,
   "metadata": {},
   "outputs": [],
   "source": [
    "def nutrients(param, fertilizer, target):\n",
    "    parameter = np.array(param).reshape(fertilizer.shape[0],1)\n",
    "    weighted_fertilizers = np.multiply(fertilizer,parameter)\n",
    "    total_fertilizers = weighted_fertilizers.sum(axis=0)\n",
    "    value = target - total_fertilizers\n",
    "    return value\n",
    "\n",
    "def objective_function(param, fertilizer, target):\n",
    "    parameter = np.array(param).reshape(fertilizer.shape[0],1)\n",
    "    # print(f\"{parameter.shape=}\")\n",
    "    # print(f\"{fertilizer.shape=}\")\n",
    "    weighted_fertilizers = np.multiply(fertilizer,parameter)\n",
    "    # print(f\"{weighted_fertilizers.shape}\")\n",
    "    total_fertilizers = weighted_fertilizers.sum(axis=0)\n",
    "    # print(f\"{total_fertilizers.shape}\")\n",
    "    value = target - total_fertilizers\n",
    "    return np.sum(np.abs(value))\n",
    "\n",
    "\n",
    "def constraint_function(param, fertilizer, target):\n",
    "    # Reshape the parameter vector and compute weighted fertilizers\n",
    "    parameter = np.array(param).reshape(fertilizer.shape[0], 1)\n",
    "    weighted_fertilizers = np.multiply(fertilizer, parameter)\n",
    "    # Sum the weighted fertilizers to get the total contribution for each nutrient\n",
    "    total_fertilizers = weighted_fertilizers.sum(axis=0)\n",
    "    # Calculate the difference between the target and total fertilizers for each nutrient\n",
    "    value = target - total_fertilizers\n",
    "    # Return the difference (this will ensure SLSQP enforces the constraint for each nutrient)\n",
    "    return value\n",
    "\n",
    "\n",
    "def optimize(fertilizer, target, constraint_function):\n",
    "    # Initial guess for the parameters, one for each row (fertilizer) in the fertilizer DataFrame\n",
    "    initial_guess = np.zeros(fertilizer.shape[0])\n",
    "    \n",
    "    # Define bounds for each parameter (non-negative values)\n",
    "    bounds = [(0, None) for _ in range(fertilizer.shape[0])]\n",
    "    \n",
    "    # Define the constraint dictionary using the provided constraint function\n",
    "    constraints = {'type': 'ineq', 'fun': constraint_function, 'args': (fertilizer, target)}\n",
    "    \n",
    "    # Call the optimizer\n",
    "    result = minimize(\n",
    "        objective_function,\n",
    "        initial_guess,\n",
    "        args=(fertilizer, target),\n",
    "        bounds=bounds,\n",
    "        constraints=constraints,\n",
    "        method='SLSQP'\n",
    "    )\n",
    "    return result  # Return optimized parameters and minimized objective value"
   ]
  },
  {
   "cell_type": "code",
   "execution_count": 138,
   "metadata": {},
   "outputs": [
    {
     "name": "stdout",
     "output_type": "stream",
     "text": [
      "---------------------------------------------------------------------\n",
      "Optimization was successful!\n",
      "Scaled constraint values: [1.53183611e-09 6.23724924e-03 1.22203953e-08 1.50264814e-02\n",
      " 1.15943232e-03 1.75559376e-04 9.27265123e-04 1.41001543e-03\n",
      " 3.98402043e-03 6.88632698e-09 8.29407935e-03]\n",
      "constraint values: [3.77852908e-10 4.72991400e-01 3.52354730e-10 2.20638835e-02\n",
      " 8.94695276e-02 4.06127355e-03 2.04152871e-04 3.26418572e-02\n",
      " 7.18451685e-02 3.11032435e-10 1.57193205e+00]\n"
     ]
    }
   ],
   "source": [
    "\n",
    "uptake = absolute_plant_uptake_during_interval(df_data_normalized_interp, 1,2)\n",
    "\n",
    "result = optimize(\n",
    "    df_fertilizer_normalized.to_numpy(),\n",
    "    uptake.to_numpy(),\n",
    "    constraint_function\n",
    ")\n",
    "\n",
    "print(\"---------------------------------------------------------------------\")\n",
    "if result.success:\n",
    "    print(\"Optimization was successful!\")\n",
    "else:\n",
    "    print(\"Optimization failed. Reason:\", result.message)\n",
    "\n",
    "nutrient_values = nutrients(result.x, df_fertilizer_normalized.to_numpy(), uptake.to_numpy())\n",
    "print(\"Scaled constraint values:\", nutrient_values)\n",
    "print(\"constraint values:\", nutrient_values*maxes)\n"
   ]
  },
  {
   "cell_type": "markdown",
   "metadata": {},
   "source": [
    "## Iterative process"
   ]
  },
  {
   "cell_type": "code",
   "execution_count": 163,
   "metadata": {},
   "outputs": [],
   "source": [
    "def calculate_nutrient_schedule(path_data, path_fertilizer, time_intervall_days):\n",
    "\n",
    "    # Load data\n",
    "    df_data_normalized, maxes = process_data(path_data)\n",
    "    df_fertilizer_normalized = pd.read_excel(path_fertilizer)/maxes\n",
    "\n",
    "    # Interpolate data to a timestep of days if necessary\n",
    "    num_days = df_data_normalized['Time'].max()\n",
    "    df_data_normalized_interp = interpolate_data(df_data_normalized, num_points=num_days, kind='pchip')\n",
    "    \n",
    "    # Number of fertilizing days\n",
    "    num_fertilization_events = num_days // time_intervall_days\n",
    "\n",
    "    results = dict()\n",
    "    left_over = 0\n",
    "    for i in range(num_fertilization_events):\n",
    "        # uptake of the plant during the time intervall\n",
    "        start = i*time_intervall_days\n",
    "        end = (i+1)*time_intervall_days\n",
    "        uptake = absolute_plant_uptake_during_interval(df_data_normalized_interp, start, end)\n",
    "        target_concentration = np.abs(uptake.to_numpy() - left_over) # substract left over nutrients\n",
    "        # optimize fertilizer amounts\n",
    "        result = optimize(df_fertilizer_normalized,\n",
    "                          target_concentration,\n",
    "                          constraint_function)\n",
    "        # calculate left over\n",
    "        result.left_over = nutrients(result.x, df_fertilizer_normalized, target_concentration)\n",
    "        # store result\n",
    "        results[f\"{int(end)}\"] = result\n",
    "        \n",
    "    return results\n",
    "\n",
    "\n",
    "days = 1\n",
    "\n",
    "optimization_results = calculate_nutrient_schedule(\n",
    "                            path_data='../data/input/nutrients_avg.xlsx',\n",
    "                            path_fertilizer='../data/input/fertilizer.xlsx',\n",
    "                            time_intervall_days=days)"
   ]
  },
  {
   "cell_type": "code",
   "execution_count": 164,
   "metadata": {},
   "outputs": [],
   "source": [
    "import plotly.graph_objects as go\n",
    "\n",
    "def plot_element_stacked_interactive_streamlit(df):\n",
    "    # Get element names (these are your columns)\n",
    "    element_columns = df.columns\n",
    "\n",
    "    # Prepare the x-axis labels (row index keys from the DataFrame)\n",
    "    index_labels = df.index\n",
    "\n",
    "    # Initialize the figure\n",
    "    fig = go.Figure()\n",
    "\n",
    "    # Initialize the bottom of the stack (start with zeros)\n",
    "    bottom = np.zeros(len(index_labels))\n",
    "\n",
    "    # Add each element as a trace\n",
    "    for col in element_columns:\n",
    "        element_values = df[col].values\n",
    "        rounded_values = np.round(element_values, 3)  # Round to 3 decimal places\n",
    "\n",
    "        # Add a bar trace for each element\n",
    "        fig.add_trace(go.Bar(\n",
    "            x=index_labels,\n",
    "            y=element_values,\n",
    "            name=col,\n",
    "            text=[f'{val:.3f}' for val in rounded_values],  # Format values to 3 decimal places\n",
    "            hoverinfo='text+name',  # Show value and label name on hover\n",
    "            offsetgroup=0,\n",
    "            base=bottom\n",
    "        ))\n",
    "\n",
    "        # Update the bottom position for the next stack\n",
    "        bottom += element_values\n",
    "\n",
    "    # Update layout for better readability and display all x-axis labels\n",
    "    fig.update_layout(\n",
    "        title='Element Excess',\n",
    "        xaxis=dict(\n",
    "            title='Day',\n",
    "            type='category',                  # Use categorical axis for clear labeling\n",
    "        ),\n",
    "        yaxis=dict(title='Element Excess'),\n",
    "        barmode='stack',\n",
    "        legend=dict(title='Elements'),\n",
    "        template='plotly_white',\n",
    "        hovermode=\"x\"\n",
    "    )\n",
    "    return fig\n"
   ]
  },
  {
   "cell_type": "markdown",
   "metadata": {},
   "source": [
    "## Analysis"
   ]
  },
  {
   "cell_type": "code",
   "execution_count": 165,
   "metadata": {},
   "outputs": [
    {
     "data": {
      "application/vnd.plotly.v1+json": {
       "config": {
        "plotlyServerURL": "https://plot.ly"
       },
       "data": [
        {
         "base": [
          0,
          0,
          0,
          0,
          0,
          0,
          0,
          0,
          0,
          0,
          0,
          0,
          0,
          0,
          0,
          0,
          0,
          0,
          0,
          0,
          0
         ],
         "hoverinfo": "text+name",
         "name": "B",
         "offsetgroup": "0",
         "text": [
          "0.000",
          "0.000",
          "0.000",
          "0.000",
          "0.000",
          "0.000",
          "0.000",
          "0.000",
          "0.000",
          "0.000",
          "0.000",
          "0.000",
          "0.000",
          "0.000",
          "0.001",
          "0.002",
          "0.003",
          "0.003",
          "0.004",
          "0.004",
          "0.004"
         ],
         "type": "bar",
         "x": [
          "1",
          "2",
          "3",
          "4",
          "5",
          "6",
          "7",
          "8",
          "9",
          "10",
          "11",
          "12",
          "13",
          "14",
          "15",
          "16",
          "17",
          "18",
          "19",
          "20",
          "21"
         ],
         "y": [
          3.902462506616416e-10,
          3.778529080421261e-10,
          3.6964711258927245e-10,
          3.6978289193710706e-10,
          3.9213159052041016e-10,
          1.7031727879886702e-13,
          0.0002435207197231028,
          0.00026210032709967875,
          0.00020724722835514198,
          0.00019220816527986106,
          0,
          0.00021698313786924957,
          0.0002815721461233966,
          0.00038597519004686696,
          0.0007313322160361599,
          0.0016797603808625984,
          0.002526538396132449,
          0.0032177633661980014,
          0.0037534352913366495,
          0.004133554171427296,
          0.004358120006469864
         ]
        },
        {
         "base": [
          3.902462506616416e-10,
          3.778529080421261e-10,
          3.6964711258927245e-10,
          3.6978289193710706e-10,
          3.9213159052041016e-10,
          1.7031727879886702e-13,
          0.0002435207197231028,
          0.00026210032709967875,
          0.00020724722835514198,
          0.00019220816527986106,
          0,
          0.00021698313786924957,
          0.0002815721461233966,
          0.00038597519004686696,
          0.0007313322160361599,
          0.0016797603808625984,
          0.002526538396132449,
          0.0032177633661980014,
          0.0037534352913366495,
          0.004133554171427296,
          0.004358120006469864
         ],
         "hoverinfo": "text+name",
         "name": "Ca",
         "offsetgroup": "0",
         "text": [
          "0.501",
          "0.473",
          "0.434",
          "0.385",
          "0.325",
          "0.254",
          "0.174",
          "0.117",
          "0.084",
          "0.069",
          "0.000",
          "0.071",
          "0.091",
          "0.129",
          "0.214",
          "0.391",
          "0.549",
          "0.680",
          "0.784",
          "0.860",
          "0.909"
         ],
         "type": "bar",
         "x": [
          "1",
          "2",
          "3",
          "4",
          "5",
          "6",
          "7",
          "8",
          "9",
          "10",
          "11",
          "12",
          "13",
          "14",
          "15",
          "16",
          "17",
          "18",
          "19",
          "20",
          "21"
         ],
         "y": [
          0.5010585437482077,
          0.4729914004494204,
          0.43423253632630776,
          0.384781951375882,
          0.324639645581173,
          0.25377783988141506,
          0.17403893741320642,
          0.11747522211193091,
          0.08436904002039143,
          0.06897404671027449,
          0,
          0.07129024218168856,
          0.09131762643454949,
          0.1290561994689003,
          0.21386536490930672,
          0.391002767586404,
          0.5490930617028298,
          0.6799643558194411,
          0.7836166499362952,
          0.8600499440533502,
          0.9092642381706229
         ]
        },
        {
         "base": [
          0.501058544138454,
          0.4729914008272733,
          0.43423253669595485,
          0.3847819517456649,
          0.3246396459733046,
          0.25377783988158537,
          0.17428245813292953,
          0.1177373224390306,
          0.08457628724874658,
          0.06916625487555435,
          0,
          0.0715072253195578,
          0.09159919858067289,
          0.12944217465894717,
          0.21459669712534288,
          0.3926825279672666,
          0.5516196000989623,
          0.6831821191856392,
          0.7873700852276319,
          0.8641834982247775,
          0.9136223581770927
         ],
         "hoverinfo": "text+name",
         "name": "Cu",
         "offsetgroup": "0",
         "text": [
          "0.000",
          "0.000",
          "0.000",
          "0.000",
          "0.000",
          "0.000",
          "0.000",
          "-0.000",
          "-0.000",
          "0.000",
          "0.000",
          "0.000",
          "-0.000",
          "-0.000",
          "0.000",
          "0.000",
          "0.000",
          "-0.000",
          "-0.000",
          "-0.000",
          "-0.000"
         ],
         "type": "bar",
         "x": [
          "1",
          "2",
          "3",
          "4",
          "5",
          "6",
          "7",
          "8",
          "9",
          "10",
          "11",
          "12",
          "13",
          "14",
          "15",
          "16",
          "17",
          "18",
          "19",
          "20",
          "21"
         ],
         "y": [
          3.695040019548175e-10,
          3.523547301454799e-10,
          3.2871510578097414e-10,
          2.998099636215368e-10,
          2.6016429666847444e-10,
          5.0359082066446e-13,
          1.4064697178896749e-14,
          -3.115800080328668e-15,
          -2.057597220499657e-15,
          1.8573507170928814e-16,
          0,
          1.8210877684304829e-16,
          -1.9227115559405906e-15,
          -2.8913574370385335e-15,
          1.0194490217274577e-14,
          1.888099196665584e-14,
          2.6611452335715608e-14,
          -7.600163843176254e-14,
          -8.765019786360897e-14,
          -9.621725696277532e-14,
          -1.0170981822969297e-13
         ]
        },
        {
         "base": [
          0.501058544507958,
          0.47299140117962807,
          0.43423253702466996,
          0.38478195204547483,
          0.32463964623346886,
          0.25377783988208896,
          0.1742824581329436,
          0.11773732243902747,
          0.08457628724874452,
          0.06916625487555453,
          0,
          0.07150722531955798,
          0.09159919858067096,
          0.12944217465894428,
          0.21459669712535306,
          0.3926825279672855,
          0.5516196000989889,
          0.6831821191855632,
          0.7873700852275443,
          0.8641834982246812,
          0.913622358176991
         ],
         "hoverinfo": "text+name",
         "name": "Fe",
         "offsetgroup": "0",
         "text": [
          "0.023",
          "0.022",
          "0.020",
          "0.017",
          "0.013",
          "0.008",
          "0.002",
          "0.000",
          "0.000",
          "0.000",
          "0.000",
          "0.000",
          "0.000",
          "0.000",
          "0.001",
          "0.005",
          "0.009",
          "0.012",
          "0.014",
          "0.016",
          "0.016"
         ],
         "type": "bar",
         "x": [
          "1",
          "2",
          "3",
          "4",
          "5",
          "6",
          "7",
          "8",
          "9",
          "10",
          "11",
          "12",
          "13",
          "14",
          "15",
          "16",
          "17",
          "18",
          "19",
          "20",
          "21"
         ],
         "y": [
          0.02313642810323774,
          0.022063883466324256,
          0.019971458863823392,
          0.016859154296145717,
          0.012726969763197161,
          0.00755644488124195,
          0.0018220475805471438,
          0.0002583765712161856,
          0.000154425301890681,
          0.00010278181590072332,
          0,
          0.00010344611324348253,
          0.00015641819391937995,
          0.00026169805793047513,
          0.0014083133167216086,
          0.005468445181813535,
          0.009079504195013249,
          0.011980108216808494,
          0.014170257247356616,
          0.015649951286589754,
          0.01641919033450677
         ]
        },
        {
         "base": [
          0.5241949726111956,
          0.49505528464595233,
          0.45420399588849336,
          0.40164110634162054,
          0.337366615996666,
          0.2613342847633309,
          0.17610450571349073,
          0.11799569901024366,
          0.0847307125506352,
          0.06926903669145525,
          0,
          0.07161067143280146,
          0.09175561677459035,
          0.12970387271687475,
          0.21600501044207468,
          0.39815097314909903,
          0.5606991042940022,
          0.6951622274023717,
          0.8015403424749009,
          0.879833449511271,
          0.9300415485114978
         ],
         "hoverinfo": "text+name",
         "name": "K",
         "offsetgroup": "0",
         "text": [
          "0.030",
          "0.089",
          "0.143",
          "0.192",
          "0.234",
          "0.271",
          "0.317",
          "0.558",
          "0.850",
          "1.132",
          "0.000",
          "1.403",
          "1.664",
          "1.915",
          "2.540",
          "4.286",
          "5.869",
          "7.187",
          "8.240",
          "9.029",
          "9.554"
         ],
         "type": "bar",
         "x": [
          "1",
          "2",
          "3",
          "4",
          "5",
          "6",
          "7",
          "8",
          "9",
          "10",
          "11",
          "12",
          "13",
          "14",
          "15",
          "16",
          "17",
          "18",
          "19",
          "20",
          "21"
         ],
         "y": [
          0.029778773926384967,
          0.08946952761365373,
          0.14343217768789074,
          0.19166672415012304,
          0.23417316699215332,
          0.2709444601867662,
          0.31743552001491754,
          0.5577050851924307,
          0.8497991518206961,
          1.1315719336764793,
          0,
          1.403023430759802,
          1.6641536430706299,
          1.9149625706089837,
          2.539867946640108,
          4.286127555625657,
          5.86868422853867,
          7.18672624744725,
          8.24025361235171,
          9.029266323251923,
          9.55376438014782
         ]
        },
        {
         "base": [
          0.5539737465375806,
          0.5845248122596061,
          0.5976361735763841,
          0.5933078304917436,
          0.5715397829888194,
          0.5322787449500972,
          0.49354002572840827,
          0.6757007842026743,
          0.9345298643713313,
          1.2008409703679346,
          0,
          1.4746341021926035,
          1.7559092598452202,
          2.0446664433258586,
          2.755872957082183,
          4.684278528774756,
          6.429383332832672,
          7.881888474849622,
          9.04179395482661,
          9.909099772763193,
          10.483805928659319
         ],
         "hoverinfo": "text+name",
         "name": "Mg",
         "offsetgroup": "0",
         "text": [
          "0.000",
          "0.004",
          "0.007",
          "0.010",
          "0.013",
          "0.015",
          "0.017",
          "0.026",
          "0.037",
          "0.049",
          "0.000",
          "0.060",
          "0.072",
          "0.084",
          "0.117",
          "0.209",
          "0.291",
          "0.360",
          "0.415",
          "0.455",
          "0.481"
         ],
         "type": "bar",
         "x": [
          "1",
          "2",
          "3",
          "4",
          "5",
          "6",
          "7",
          "8",
          "9",
          "10",
          "11",
          "12",
          "13",
          "14",
          "15",
          "16",
          "17",
          "18",
          "19",
          "20",
          "21"
         ],
         "y": [
          0.00048197198397297367,
          0.004061273554181322,
          0.007279590050974217,
          0.010136921474657909,
          0.01263326781862201,
          0.014757160665330728,
          0.017046241040578596,
          0.02599482862182293,
          0.03723350541303897,
          0.04869990085173064,
          0,
          0.06039401493788197,
          0.0723158476715136,
          0.08446539905262083,
          0.11701508102262885,
          0.2086861523827988,
          0.29149470907389063,
          0.36013098138778754,
          0.41459496932465734,
          0.45488667288443185,
          0.4810060920670982
         ]
        },
        {
         "base": [
          0.5544557185215535,
          0.5885860858137874,
          0.6049157636273583,
          0.6034447519664016,
          0.5841730508074414,
          0.5470359056154279,
          0.5105862667689869,
          0.7016956128244972,
          0.9717633697843703,
          1.2495408712196652,
          0,
          1.5350281171304854,
          1.8282251075167337,
          2.1291318423784795,
          2.872888038104812,
          4.892964681157555,
          6.720878041906563,
          8.24201945623741,
          9.456388924151268,
          10.363986445647626,
          10.964812020726416
         ],
         "hoverinfo": "text+name",
         "name": "Mn",
         "offsetgroup": "0",
         "text": [
          "0.000",
          "0.000",
          "0.000",
          "0.001",
          "0.001",
          "0.001",
          "0.001",
          "0.001",
          "0.001",
          "0.001",
          "0.000",
          "0.001",
          "0.002",
          "0.002",
          "0.004",
          "0.009",
          "0.013",
          "0.017",
          "0.019",
          "0.021",
          "0.023"
         ],
         "type": "bar",
         "x": [
          "1",
          "2",
          "3",
          "4",
          "5",
          "6",
          "7",
          "8",
          "9",
          "10",
          "11",
          "12",
          "13",
          "14",
          "15",
          "16",
          "17",
          "18",
          "19",
          "20",
          "21"
         ],
         "y": [
          0.00010964018756752267,
          0.0002041528712990995,
          0.0003505332500342608,
          0.0005487813221079214,
          0.0007988970722579541,
          0.0010941884818042845,
          0.0012550707499096032,
          0.0011377254444558593,
          0.001067396835853991,
          0.0011379606855066813,
          0,
          0.001349416993413026,
          0.0017017657595731286,
          0.002195006983987783,
          0.0038922726137789673,
          0.008751954991975121,
          0.013098965194678746,
          0.016650174053563095,
          0.0194055815686789,
          0.021365187740004135,
          0.02252899256753855
         ]
        },
        {
         "base": [
          0.554565358709121,
          0.5887902386850864,
          0.6052662968773926,
          0.6039935332885095,
          0.5849719478796994,
          0.5481300940972322,
          0.5118413375188965,
          0.7028333382689531,
          0.9728307666202243,
          1.2506788319051718,
          0,
          1.5363775341238983,
          1.8299268732763068,
          2.1313268493624675,
          2.876780310718591,
          4.901716636149531,
          6.733977007101242,
          8.258669630290973,
          9.475794505719946,
          10.38535163338763,
          10.987341013293955
         ],
         "hoverinfo": "text+name",
         "name": "Na",
         "offsetgroup": "0",
         "text": [
          "0.011",
          "0.033",
          "0.051",
          "0.067",
          "0.080",
          "0.090",
          "0.099",
          "0.134",
          "0.181",
          "0.232",
          "0.000",
          "0.286",
          "0.344",
          "0.405",
          "0.572",
          "1.036",
          "1.455",
          "1.802",
          "2.077",
          "2.279",
          "2.409"
         ],
         "type": "bar",
         "x": [
          "1",
          "2",
          "3",
          "4",
          "5",
          "6",
          "7",
          "8",
          "9",
          "10",
          "11",
          "12",
          "13",
          "14",
          "15",
          "16",
          "17",
          "18",
          "19",
          "20",
          "21"
         ],
         "y": [
          0.010940608682381345,
          0.03264185723667326,
          0.05137336649011859,
          0.06713513644506937,
          0.07992716710637025,
          0.08975377289234616,
          0.0988195087674907,
          0.13418224308413917,
          0.18109553239553758,
          0.231664321377531,
          0,
          0.2858886100301346,
          0.3437683983533304,
          0.4053036863471469,
          0.5718036808273925,
          1.036128984983369,
          1.4550566527637407,
          1.8018559779785976,
          2.076526960628113,
          2.279069600712222,
          2.4094838982309
         ]
        },
        {
         "base": [
          0.5655059673915024,
          0.6214320959217596,
          0.6566396633675112,
          0.6711286697335789,
          0.6648991149860697,
          0.6378838669895784,
          0.6106608462863872,
          0.8370155813530923,
          1.153926299015762,
          1.4823431532827027,
          0,
          1.8222661441540329,
          2.1736952716296374,
          2.5366305357096146,
          3.4485839915459833,
          5.9378456211329,
          8.189033659864982,
          10.06052560826957,
          11.55232146634806,
          12.664421234099851,
          13.396824911524856
         ],
         "hoverinfo": "text+name",
         "name": "P",
         "offsetgroup": "0",
         "text": [
          "0.054",
          "0.072",
          "0.087",
          "0.101",
          "0.112",
          "0.120",
          "0.127",
          "0.132",
          "0.144",
          "0.165",
          "0.000",
          "0.195",
          "0.234",
          "0.282",
          "0.389",
          "0.648",
          "0.881",
          "1.076",
          "1.232",
          "1.350",
          "1.428"
         ],
         "type": "bar",
         "x": [
          "1",
          "2",
          "3",
          "4",
          "5",
          "6",
          "7",
          "8",
          "9",
          "10",
          "11",
          "12",
          "13",
          "14",
          "15",
          "16",
          "17",
          "18",
          "19",
          "20",
          "21"
         ],
         "y": [
          0.05396403886495147,
          0.07184516846572782,
          0.0874357003024802,
          0.100735634374237,
          0.111744970671906,
          0.12045556020704715,
          0.1266208138796332,
          0.13151869929177154,
          0.14378951488580485,
          0.1649560406998414,
          0,
          0.19501827673387223,
          0.23397622298790527,
          0.28182987946194155,
          0.3891917911952791,
          0.647897840244009,
          0.8814229658939987,
          1.0762323381140988,
          1.2323259569043699,
          1.3497038222647824,
          1.4283659341953365
         ]
        },
        {
         "base": [
          0.6194700062564539,
          0.6932772643874875,
          0.7440753636699914,
          0.7718643041078159,
          0.7766440856579757,
          0.7583394271966256,
          0.7372816601660204,
          0.9685342806448638,
          1.2977158139015668,
          1.647299193982544,
          0,
          2.017284420887905,
          2.4076714946175426,
          2.818460415171556,
          3.837775782741262,
          6.585743461376909,
          9.07045662575898,
          11.13675794638367,
          12.78464742325243,
          14.014125056364634,
          14.825190845720194
         ],
         "hoverinfo": "text+name",
         "name": "Zn",
         "offsetgroup": "0",
         "text": [
          "0.000",
          "0.000",
          "0.000",
          "0.000",
          "0.000",
          "0.000",
          "0.000",
          "0.000",
          "0.000",
          "0.000",
          "0.000",
          "0.000",
          "0.000",
          "0.000",
          "0.001",
          "0.002",
          "0.002",
          "0.003",
          "0.004",
          "0.004",
          "0.004"
         ],
         "type": "bar",
         "x": [
          "1",
          "2",
          "3",
          "4",
          "5",
          "6",
          "7",
          "8",
          "9",
          "10",
          "11",
          "12",
          "13",
          "14",
          "15",
          "16",
          "17",
          "18",
          "19",
          "20",
          "21"
         ],
         "y": [
          3.214366042127393e-10,
          3.110324353026534e-10,
          3.055349306289407e-10,
          3.1003728391485396e-10,
          3.3862430273354256e-10,
          0.00002393590237583024,
          0.0002413710823840391,
          0.0002516726113383829,
          0.0002008524641977894,
          0.0001877964201976561,
          0,
          0.00021250447933404714,
          0.0002749766416071376,
          0.00037521290702063784,
          0.0007045948951063895,
          0.0016077471833326397,
          0.0024142227587578263,
          0.0030727368537199935,
          0.003583289468450532,
          0.003945880602848467,
          0.004160510256913715
         ]
        },
        {
         "base": [
          0.6194700065778905,
          0.6932772646985199,
          0.7440753639755263,
          0.7718643044178533,
          0.7766440859966001,
          0.7583633630990014,
          0.7375230312484045,
          0.9687859532562022,
          1.2979166663657646,
          1.6474869904027418,
          0,
          2.0174969253672392,
          2.40794647125915,
          2.8188356280785767,
          3.8384803776363685,
          6.587351208560242,
          9.072870848517738,
          11.13983068323739,
          12.78823071272088,
          14.018070936967483,
          14.829351355977106
         ],
         "hoverinfo": "text+name",
         "name": "N",
         "offsetgroup": "0",
         "text": [
          "1.605",
          "1.572",
          "1.538",
          "1.502",
          "1.465",
          "1.427",
          "1.372",
          "1.153",
          "0.999",
          "0.983",
          "0.000",
          "1.103",
          "1.362",
          "1.758",
          "2.660",
          "4.693",
          "6.516",
          "8.029",
          "9.232",
          "10.126",
          "10.709"
         ],
         "type": "bar",
         "x": [
          "1",
          "2",
          "3",
          "4",
          "5",
          "6",
          "7",
          "8",
          "9",
          "10",
          "11",
          "12",
          "13",
          "14",
          "15",
          "16",
          "17",
          "18",
          "19",
          "20",
          "21"
         ],
         "y": [
          1.6050499141946952,
          1.5719320500913978,
          1.5375834122049352,
          1.502004000530302,
          1.4651938150423482,
          1.427110504907227,
          1.3719236927892047,
          1.1531960328769977,
          0.9991200224433591,
          0.9825286445029306,
          0,
          1.1034218990557956,
          1.3617997861018911,
          1.7576623056412808,
          2.660119598052335,
          4.692551573018097,
          6.515655754494511,
          8.028869891140275,
          9.232193982955414,
          10.125628029939865,
          10.709172032093651
         ]
        }
       ],
       "layout": {
        "barmode": "stack",
        "hovermode": "x",
        "legend": {
         "title": {
          "text": "Elements"
         }
        },
        "template": {
         "data": {
          "bar": [
           {
            "error_x": {
             "color": "#2a3f5f"
            },
            "error_y": {
             "color": "#2a3f5f"
            },
            "marker": {
             "line": {
              "color": "white",
              "width": 0.5
             },
             "pattern": {
              "fillmode": "overlay",
              "size": 10,
              "solidity": 0.2
             }
            },
            "type": "bar"
           }
          ],
          "barpolar": [
           {
            "marker": {
             "line": {
              "color": "white",
              "width": 0.5
             },
             "pattern": {
              "fillmode": "overlay",
              "size": 10,
              "solidity": 0.2
             }
            },
            "type": "barpolar"
           }
          ],
          "carpet": [
           {
            "aaxis": {
             "endlinecolor": "#2a3f5f",
             "gridcolor": "#C8D4E3",
             "linecolor": "#C8D4E3",
             "minorgridcolor": "#C8D4E3",
             "startlinecolor": "#2a3f5f"
            },
            "baxis": {
             "endlinecolor": "#2a3f5f",
             "gridcolor": "#C8D4E3",
             "linecolor": "#C8D4E3",
             "minorgridcolor": "#C8D4E3",
             "startlinecolor": "#2a3f5f"
            },
            "type": "carpet"
           }
          ],
          "choropleth": [
           {
            "colorbar": {
             "outlinewidth": 0,
             "ticks": ""
            },
            "type": "choropleth"
           }
          ],
          "contour": [
           {
            "colorbar": {
             "outlinewidth": 0,
             "ticks": ""
            },
            "colorscale": [
             [
              0,
              "#0d0887"
             ],
             [
              0.1111111111111111,
              "#46039f"
             ],
             [
              0.2222222222222222,
              "#7201a8"
             ],
             [
              0.3333333333333333,
              "#9c179e"
             ],
             [
              0.4444444444444444,
              "#bd3786"
             ],
             [
              0.5555555555555556,
              "#d8576b"
             ],
             [
              0.6666666666666666,
              "#ed7953"
             ],
             [
              0.7777777777777778,
              "#fb9f3a"
             ],
             [
              0.8888888888888888,
              "#fdca26"
             ],
             [
              1,
              "#f0f921"
             ]
            ],
            "type": "contour"
           }
          ],
          "contourcarpet": [
           {
            "colorbar": {
             "outlinewidth": 0,
             "ticks": ""
            },
            "type": "contourcarpet"
           }
          ],
          "heatmap": [
           {
            "colorbar": {
             "outlinewidth": 0,
             "ticks": ""
            },
            "colorscale": [
             [
              0,
              "#0d0887"
             ],
             [
              0.1111111111111111,
              "#46039f"
             ],
             [
              0.2222222222222222,
              "#7201a8"
             ],
             [
              0.3333333333333333,
              "#9c179e"
             ],
             [
              0.4444444444444444,
              "#bd3786"
             ],
             [
              0.5555555555555556,
              "#d8576b"
             ],
             [
              0.6666666666666666,
              "#ed7953"
             ],
             [
              0.7777777777777778,
              "#fb9f3a"
             ],
             [
              0.8888888888888888,
              "#fdca26"
             ],
             [
              1,
              "#f0f921"
             ]
            ],
            "type": "heatmap"
           }
          ],
          "heatmapgl": [
           {
            "colorbar": {
             "outlinewidth": 0,
             "ticks": ""
            },
            "colorscale": [
             [
              0,
              "#0d0887"
             ],
             [
              0.1111111111111111,
              "#46039f"
             ],
             [
              0.2222222222222222,
              "#7201a8"
             ],
             [
              0.3333333333333333,
              "#9c179e"
             ],
             [
              0.4444444444444444,
              "#bd3786"
             ],
             [
              0.5555555555555556,
              "#d8576b"
             ],
             [
              0.6666666666666666,
              "#ed7953"
             ],
             [
              0.7777777777777778,
              "#fb9f3a"
             ],
             [
              0.8888888888888888,
              "#fdca26"
             ],
             [
              1,
              "#f0f921"
             ]
            ],
            "type": "heatmapgl"
           }
          ],
          "histogram": [
           {
            "marker": {
             "pattern": {
              "fillmode": "overlay",
              "size": 10,
              "solidity": 0.2
             }
            },
            "type": "histogram"
           }
          ],
          "histogram2d": [
           {
            "colorbar": {
             "outlinewidth": 0,
             "ticks": ""
            },
            "colorscale": [
             [
              0,
              "#0d0887"
             ],
             [
              0.1111111111111111,
              "#46039f"
             ],
             [
              0.2222222222222222,
              "#7201a8"
             ],
             [
              0.3333333333333333,
              "#9c179e"
             ],
             [
              0.4444444444444444,
              "#bd3786"
             ],
             [
              0.5555555555555556,
              "#d8576b"
             ],
             [
              0.6666666666666666,
              "#ed7953"
             ],
             [
              0.7777777777777778,
              "#fb9f3a"
             ],
             [
              0.8888888888888888,
              "#fdca26"
             ],
             [
              1,
              "#f0f921"
             ]
            ],
            "type": "histogram2d"
           }
          ],
          "histogram2dcontour": [
           {
            "colorbar": {
             "outlinewidth": 0,
             "ticks": ""
            },
            "colorscale": [
             [
              0,
              "#0d0887"
             ],
             [
              0.1111111111111111,
              "#46039f"
             ],
             [
              0.2222222222222222,
              "#7201a8"
             ],
             [
              0.3333333333333333,
              "#9c179e"
             ],
             [
              0.4444444444444444,
              "#bd3786"
             ],
             [
              0.5555555555555556,
              "#d8576b"
             ],
             [
              0.6666666666666666,
              "#ed7953"
             ],
             [
              0.7777777777777778,
              "#fb9f3a"
             ],
             [
              0.8888888888888888,
              "#fdca26"
             ],
             [
              1,
              "#f0f921"
             ]
            ],
            "type": "histogram2dcontour"
           }
          ],
          "mesh3d": [
           {
            "colorbar": {
             "outlinewidth": 0,
             "ticks": ""
            },
            "type": "mesh3d"
           }
          ],
          "parcoords": [
           {
            "line": {
             "colorbar": {
              "outlinewidth": 0,
              "ticks": ""
             }
            },
            "type": "parcoords"
           }
          ],
          "pie": [
           {
            "automargin": true,
            "type": "pie"
           }
          ],
          "scatter": [
           {
            "fillpattern": {
             "fillmode": "overlay",
             "size": 10,
             "solidity": 0.2
            },
            "type": "scatter"
           }
          ],
          "scatter3d": [
           {
            "line": {
             "colorbar": {
              "outlinewidth": 0,
              "ticks": ""
             }
            },
            "marker": {
             "colorbar": {
              "outlinewidth": 0,
              "ticks": ""
             }
            },
            "type": "scatter3d"
           }
          ],
          "scattercarpet": [
           {
            "marker": {
             "colorbar": {
              "outlinewidth": 0,
              "ticks": ""
             }
            },
            "type": "scattercarpet"
           }
          ],
          "scattergeo": [
           {
            "marker": {
             "colorbar": {
              "outlinewidth": 0,
              "ticks": ""
             }
            },
            "type": "scattergeo"
           }
          ],
          "scattergl": [
           {
            "marker": {
             "colorbar": {
              "outlinewidth": 0,
              "ticks": ""
             }
            },
            "type": "scattergl"
           }
          ],
          "scattermapbox": [
           {
            "marker": {
             "colorbar": {
              "outlinewidth": 0,
              "ticks": ""
             }
            },
            "type": "scattermapbox"
           }
          ],
          "scatterpolar": [
           {
            "marker": {
             "colorbar": {
              "outlinewidth": 0,
              "ticks": ""
             }
            },
            "type": "scatterpolar"
           }
          ],
          "scatterpolargl": [
           {
            "marker": {
             "colorbar": {
              "outlinewidth": 0,
              "ticks": ""
             }
            },
            "type": "scatterpolargl"
           }
          ],
          "scatterternary": [
           {
            "marker": {
             "colorbar": {
              "outlinewidth": 0,
              "ticks": ""
             }
            },
            "type": "scatterternary"
           }
          ],
          "surface": [
           {
            "colorbar": {
             "outlinewidth": 0,
             "ticks": ""
            },
            "colorscale": [
             [
              0,
              "#0d0887"
             ],
             [
              0.1111111111111111,
              "#46039f"
             ],
             [
              0.2222222222222222,
              "#7201a8"
             ],
             [
              0.3333333333333333,
              "#9c179e"
             ],
             [
              0.4444444444444444,
              "#bd3786"
             ],
             [
              0.5555555555555556,
              "#d8576b"
             ],
             [
              0.6666666666666666,
              "#ed7953"
             ],
             [
              0.7777777777777778,
              "#fb9f3a"
             ],
             [
              0.8888888888888888,
              "#fdca26"
             ],
             [
              1,
              "#f0f921"
             ]
            ],
            "type": "surface"
           }
          ],
          "table": [
           {
            "cells": {
             "fill": {
              "color": "#EBF0F8"
             },
             "line": {
              "color": "white"
             }
            },
            "header": {
             "fill": {
              "color": "#C8D4E3"
             },
             "line": {
              "color": "white"
             }
            },
            "type": "table"
           }
          ]
         },
         "layout": {
          "annotationdefaults": {
           "arrowcolor": "#2a3f5f",
           "arrowhead": 0,
           "arrowwidth": 1
          },
          "autotypenumbers": "strict",
          "coloraxis": {
           "colorbar": {
            "outlinewidth": 0,
            "ticks": ""
           }
          },
          "colorscale": {
           "diverging": [
            [
             0,
             "#8e0152"
            ],
            [
             0.1,
             "#c51b7d"
            ],
            [
             0.2,
             "#de77ae"
            ],
            [
             0.3,
             "#f1b6da"
            ],
            [
             0.4,
             "#fde0ef"
            ],
            [
             0.5,
             "#f7f7f7"
            ],
            [
             0.6,
             "#e6f5d0"
            ],
            [
             0.7,
             "#b8e186"
            ],
            [
             0.8,
             "#7fbc41"
            ],
            [
             0.9,
             "#4d9221"
            ],
            [
             1,
             "#276419"
            ]
           ],
           "sequential": [
            [
             0,
             "#0d0887"
            ],
            [
             0.1111111111111111,
             "#46039f"
            ],
            [
             0.2222222222222222,
             "#7201a8"
            ],
            [
             0.3333333333333333,
             "#9c179e"
            ],
            [
             0.4444444444444444,
             "#bd3786"
            ],
            [
             0.5555555555555556,
             "#d8576b"
            ],
            [
             0.6666666666666666,
             "#ed7953"
            ],
            [
             0.7777777777777778,
             "#fb9f3a"
            ],
            [
             0.8888888888888888,
             "#fdca26"
            ],
            [
             1,
             "#f0f921"
            ]
           ],
           "sequentialminus": [
            [
             0,
             "#0d0887"
            ],
            [
             0.1111111111111111,
             "#46039f"
            ],
            [
             0.2222222222222222,
             "#7201a8"
            ],
            [
             0.3333333333333333,
             "#9c179e"
            ],
            [
             0.4444444444444444,
             "#bd3786"
            ],
            [
             0.5555555555555556,
             "#d8576b"
            ],
            [
             0.6666666666666666,
             "#ed7953"
            ],
            [
             0.7777777777777778,
             "#fb9f3a"
            ],
            [
             0.8888888888888888,
             "#fdca26"
            ],
            [
             1,
             "#f0f921"
            ]
           ]
          },
          "colorway": [
           "#636efa",
           "#EF553B",
           "#00cc96",
           "#ab63fa",
           "#FFA15A",
           "#19d3f3",
           "#FF6692",
           "#B6E880",
           "#FF97FF",
           "#FECB52"
          ],
          "font": {
           "color": "#2a3f5f"
          },
          "geo": {
           "bgcolor": "white",
           "lakecolor": "white",
           "landcolor": "white",
           "showlakes": true,
           "showland": true,
           "subunitcolor": "#C8D4E3"
          },
          "hoverlabel": {
           "align": "left"
          },
          "hovermode": "closest",
          "mapbox": {
           "style": "light"
          },
          "paper_bgcolor": "white",
          "plot_bgcolor": "white",
          "polar": {
           "angularaxis": {
            "gridcolor": "#EBF0F8",
            "linecolor": "#EBF0F8",
            "ticks": ""
           },
           "bgcolor": "white",
           "radialaxis": {
            "gridcolor": "#EBF0F8",
            "linecolor": "#EBF0F8",
            "ticks": ""
           }
          },
          "scene": {
           "xaxis": {
            "backgroundcolor": "white",
            "gridcolor": "#DFE8F3",
            "gridwidth": 2,
            "linecolor": "#EBF0F8",
            "showbackground": true,
            "ticks": "",
            "zerolinecolor": "#EBF0F8"
           },
           "yaxis": {
            "backgroundcolor": "white",
            "gridcolor": "#DFE8F3",
            "gridwidth": 2,
            "linecolor": "#EBF0F8",
            "showbackground": true,
            "ticks": "",
            "zerolinecolor": "#EBF0F8"
           },
           "zaxis": {
            "backgroundcolor": "white",
            "gridcolor": "#DFE8F3",
            "gridwidth": 2,
            "linecolor": "#EBF0F8",
            "showbackground": true,
            "ticks": "",
            "zerolinecolor": "#EBF0F8"
           }
          },
          "shapedefaults": {
           "line": {
            "color": "#2a3f5f"
           }
          },
          "ternary": {
           "aaxis": {
            "gridcolor": "#DFE8F3",
            "linecolor": "#A2B1C6",
            "ticks": ""
           },
           "baxis": {
            "gridcolor": "#DFE8F3",
            "linecolor": "#A2B1C6",
            "ticks": ""
           },
           "bgcolor": "white",
           "caxis": {
            "gridcolor": "#DFE8F3",
            "linecolor": "#A2B1C6",
            "ticks": ""
           }
          },
          "title": {
           "x": 0.05
          },
          "xaxis": {
           "automargin": true,
           "gridcolor": "#EBF0F8",
           "linecolor": "#EBF0F8",
           "ticks": "",
           "title": {
            "standoff": 15
           },
           "zerolinecolor": "#EBF0F8",
           "zerolinewidth": 2
          },
          "yaxis": {
           "automargin": true,
           "gridcolor": "#EBF0F8",
           "linecolor": "#EBF0F8",
           "ticks": "",
           "title": {
            "standoff": 15
           },
           "zerolinecolor": "#EBF0F8",
           "zerolinewidth": 2
          }
         }
        },
        "title": {
         "text": "Element Excess"
        },
        "xaxis": {
         "title": {
          "text": "Day"
         },
         "type": "category"
        },
        "yaxis": {
         "title": {
          "text": "Element Excess"
         }
        }
       }
      }
     },
     "metadata": {},
     "output_type": "display_data"
    }
   ],
   "source": [
    "def create_left_over_df(optimization_results, maxes):\n",
    "    data = {}\n",
    "    for k, result in optimization_results.items():\n",
    "        data[k] = result.left_over*maxes\n",
    "    df = pd.DataFrame(data).T  # Transpose to have keys as row indexes\n",
    "    return df\n",
    "\n",
    "df_left_over = create_left_over_df(optimization_results, maxes=maxes)\n",
    "fig = plot_element_stacked_interactive_streamlit(df_left_over)\n",
    "fig.show()\n"
   ]
  },
  {
   "cell_type": "code",
   "execution_count": 166,
   "metadata": {},
   "outputs": [
    {
     "data": {
      "application/vnd.plotly.v1+json": {
       "config": {
        "plotlyServerURL": "https://plot.ly"
       },
       "data": [
        {
         "base": [
          0,
          0,
          0,
          0,
          0,
          0,
          0,
          0,
          0,
          0,
          0,
          0,
          0,
          0,
          0,
          0,
          0,
          0,
          0,
          0,
          0
         ],
         "hoverinfo": "text+name",
         "name": "0",
         "offsetgroup": "0",
         "text": [
          "0.093",
          "0.088",
          "0.078",
          "0.061",
          "0.038",
          "0.009",
          "0.000",
          "0.000",
          "0.000",
          "0.000",
          "0.000",
          "0.000",
          "0.000",
          "0.000",
          "0.000",
          "0.000",
          "0.000",
          "0.000",
          "0.000",
          "0.000",
          "0.000"
         ],
         "type": "bar",
         "x": [
          "1",
          "2",
          "3",
          "4",
          "5",
          "6",
          "7",
          "8",
          "9",
          "10",
          "11",
          "12",
          "13",
          "14",
          "15",
          "16",
          "17",
          "18",
          "19",
          "20",
          "21"
         ],
         "y": [
          0.09251559978242649,
          0.0881822840319179,
          0.07760666181281883,
          0.06078873339177568,
          0.03772850089207895,
          0.008820165030690295,
          2.3448046482330713e-27,
          1.1102230242930618e-16,
          0,
          1.1102230245198934e-16,
          0,
          5.551115122570671e-17,
          0,
          5.551115120183785e-17,
          8.58038964129915e-27,
          2.738552231756946e-28,
          1.1102230245821382e-16,
          5.551115067614631e-17,
          3.946394310440838e-25,
          0,
          0
         ]
        },
        {
         "base": [
          0.09251559978242649,
          0.0881822840319179,
          0.07760666181281883,
          0.06078873339177568,
          0.03772850089207895,
          0.008820165030690295,
          2.3448046482330713e-27,
          1.1102230242930618e-16,
          0,
          1.1102230245198934e-16,
          0,
          5.551115122570671e-17,
          0,
          5.551115120183785e-17,
          8.58038964129915e-27,
          2.738552231756946e-28,
          1.1102230245821382e-16,
          5.551115067614631e-17,
          3.946394310440838e-25,
          0,
          0
         ],
         "hoverinfo": "text+name",
         "name": "1",
         "offsetgroup": "0",
         "text": [
          "0.013",
          "0.012",
          "0.010",
          "0.006",
          "0.002",
          "0.000",
          "0.000",
          "0.000",
          "0.000",
          "0.000",
          "0.000",
          "0.000",
          "0.000",
          "0.000",
          "0.000",
          "0.000",
          "0.000",
          "0.000",
          "0.000",
          "0.000",
          "0.000"
         ],
         "type": "bar",
         "x": [
          "1",
          "2",
          "3",
          "4",
          "5",
          "6",
          "7",
          "8",
          "9",
          "10",
          "11",
          "12",
          "13",
          "14",
          "15",
          "16",
          "17",
          "18",
          "19",
          "20",
          "21"
         ],
         "y": [
          0.012860254591484125,
          0.012047830702744343,
          0.00990422539332101,
          0.0064294390115567784,
          0.0016234723917026887,
          1.1102230183290604e-16,
          6.706014944267772e-27,
          5.551115117574668e-17,
          5.551115119935933e-17,
          2.220446049044179e-16,
          0,
          5.551115122570671e-17,
          2.4597876908155737e-26,
          1.8961322172274947e-26,
          5.551115122570671e-17,
          2.559511584525723e-27,
          6.1579099319792504e-27,
          0,
          2.813819701082575e-25,
          0,
          2.510674009586608e-25
         ]
        },
        {
         "base": [
          0.10537585437391062,
          0.10023011473466224,
          0.08751088720613984,
          0.06721817240333246,
          0.03935197328378164,
          0.008820165030690406,
          9.050819592500844e-27,
          1.6653345360505286e-16,
          5.551115119935933e-17,
          3.3306690735640727e-16,
          0,
          1.1102230245141342e-16,
          2.4597876908155737e-26,
          5.551115122079917e-17,
          5.55111512342871e-17,
          2.8333668077014178e-27,
          1.1102230246437175e-16,
          5.551115067614631e-17,
          6.760214011523413e-25,
          0,
          2.510674009586608e-25
         ],
         "hoverinfo": "text+name",
         "name": "2",
         "offsetgroup": "0",
         "text": [
          "0.105",
          "0.100",
          "0.094",
          "0.088",
          "0.081",
          "0.070",
          "0.031",
          "0.014",
          "0.009",
          "0.007",
          "0.000",
          "0.007",
          "0.009",
          "0.013",
          "0.023",
          "0.042",
          "0.060",
          "0.074",
          "0.085",
          "0.093",
          "0.099"
         ],
         "type": "bar",
         "x": [
          "1",
          "2",
          "3",
          "4",
          "5",
          "6",
          "7",
          "8",
          "9",
          "10",
          "11",
          "12",
          "13",
          "14",
          "15",
          "16",
          "17",
          "18",
          "19",
          "20",
          "21"
         ],
         "y": [
          0.10522817164158361,
          0.09968909354161061,
          0.09379378528837899,
          0.08754224616619,
          0.08093447405153771,
          0.07022349444719074,
          0.031450473550912954,
          0.014096620606167004,
          0.009308794089543743,
          0.0068137166133941,
          0,
          0.006611388178199233,
          0.00870180878394124,
          0.01308497843016126,
          0.02279756080629319,
          0.042226289300507966,
          0.05952192172842707,
          0.07382746178587533,
          0.08514290944446341,
          0.09346826471658559,
          0.09880352760224154
         ]
        }
       ],
       "layout": {
        "barmode": "stack",
        "hovermode": "x",
        "legend": {
         "title": {
          "text": "Elements"
         }
        },
        "template": {
         "data": {
          "bar": [
           {
            "error_x": {
             "color": "#2a3f5f"
            },
            "error_y": {
             "color": "#2a3f5f"
            },
            "marker": {
             "line": {
              "color": "white",
              "width": 0.5
             },
             "pattern": {
              "fillmode": "overlay",
              "size": 10,
              "solidity": 0.2
             }
            },
            "type": "bar"
           }
          ],
          "barpolar": [
           {
            "marker": {
             "line": {
              "color": "white",
              "width": 0.5
             },
             "pattern": {
              "fillmode": "overlay",
              "size": 10,
              "solidity": 0.2
             }
            },
            "type": "barpolar"
           }
          ],
          "carpet": [
           {
            "aaxis": {
             "endlinecolor": "#2a3f5f",
             "gridcolor": "#C8D4E3",
             "linecolor": "#C8D4E3",
             "minorgridcolor": "#C8D4E3",
             "startlinecolor": "#2a3f5f"
            },
            "baxis": {
             "endlinecolor": "#2a3f5f",
             "gridcolor": "#C8D4E3",
             "linecolor": "#C8D4E3",
             "minorgridcolor": "#C8D4E3",
             "startlinecolor": "#2a3f5f"
            },
            "type": "carpet"
           }
          ],
          "choropleth": [
           {
            "colorbar": {
             "outlinewidth": 0,
             "ticks": ""
            },
            "type": "choropleth"
           }
          ],
          "contour": [
           {
            "colorbar": {
             "outlinewidth": 0,
             "ticks": ""
            },
            "colorscale": [
             [
              0,
              "#0d0887"
             ],
             [
              0.1111111111111111,
              "#46039f"
             ],
             [
              0.2222222222222222,
              "#7201a8"
             ],
             [
              0.3333333333333333,
              "#9c179e"
             ],
             [
              0.4444444444444444,
              "#bd3786"
             ],
             [
              0.5555555555555556,
              "#d8576b"
             ],
             [
              0.6666666666666666,
              "#ed7953"
             ],
             [
              0.7777777777777778,
              "#fb9f3a"
             ],
             [
              0.8888888888888888,
              "#fdca26"
             ],
             [
              1,
              "#f0f921"
             ]
            ],
            "type": "contour"
           }
          ],
          "contourcarpet": [
           {
            "colorbar": {
             "outlinewidth": 0,
             "ticks": ""
            },
            "type": "contourcarpet"
           }
          ],
          "heatmap": [
           {
            "colorbar": {
             "outlinewidth": 0,
             "ticks": ""
            },
            "colorscale": [
             [
              0,
              "#0d0887"
             ],
             [
              0.1111111111111111,
              "#46039f"
             ],
             [
              0.2222222222222222,
              "#7201a8"
             ],
             [
              0.3333333333333333,
              "#9c179e"
             ],
             [
              0.4444444444444444,
              "#bd3786"
             ],
             [
              0.5555555555555556,
              "#d8576b"
             ],
             [
              0.6666666666666666,
              "#ed7953"
             ],
             [
              0.7777777777777778,
              "#fb9f3a"
             ],
             [
              0.8888888888888888,
              "#fdca26"
             ],
             [
              1,
              "#f0f921"
             ]
            ],
            "type": "heatmap"
           }
          ],
          "heatmapgl": [
           {
            "colorbar": {
             "outlinewidth": 0,
             "ticks": ""
            },
            "colorscale": [
             [
              0,
              "#0d0887"
             ],
             [
              0.1111111111111111,
              "#46039f"
             ],
             [
              0.2222222222222222,
              "#7201a8"
             ],
             [
              0.3333333333333333,
              "#9c179e"
             ],
             [
              0.4444444444444444,
              "#bd3786"
             ],
             [
              0.5555555555555556,
              "#d8576b"
             ],
             [
              0.6666666666666666,
              "#ed7953"
             ],
             [
              0.7777777777777778,
              "#fb9f3a"
             ],
             [
              0.8888888888888888,
              "#fdca26"
             ],
             [
              1,
              "#f0f921"
             ]
            ],
            "type": "heatmapgl"
           }
          ],
          "histogram": [
           {
            "marker": {
             "pattern": {
              "fillmode": "overlay",
              "size": 10,
              "solidity": 0.2
             }
            },
            "type": "histogram"
           }
          ],
          "histogram2d": [
           {
            "colorbar": {
             "outlinewidth": 0,
             "ticks": ""
            },
            "colorscale": [
             [
              0,
              "#0d0887"
             ],
             [
              0.1111111111111111,
              "#46039f"
             ],
             [
              0.2222222222222222,
              "#7201a8"
             ],
             [
              0.3333333333333333,
              "#9c179e"
             ],
             [
              0.4444444444444444,
              "#bd3786"
             ],
             [
              0.5555555555555556,
              "#d8576b"
             ],
             [
              0.6666666666666666,
              "#ed7953"
             ],
             [
              0.7777777777777778,
              "#fb9f3a"
             ],
             [
              0.8888888888888888,
              "#fdca26"
             ],
             [
              1,
              "#f0f921"
             ]
            ],
            "type": "histogram2d"
           }
          ],
          "histogram2dcontour": [
           {
            "colorbar": {
             "outlinewidth": 0,
             "ticks": ""
            },
            "colorscale": [
             [
              0,
              "#0d0887"
             ],
             [
              0.1111111111111111,
              "#46039f"
             ],
             [
              0.2222222222222222,
              "#7201a8"
             ],
             [
              0.3333333333333333,
              "#9c179e"
             ],
             [
              0.4444444444444444,
              "#bd3786"
             ],
             [
              0.5555555555555556,
              "#d8576b"
             ],
             [
              0.6666666666666666,
              "#ed7953"
             ],
             [
              0.7777777777777778,
              "#fb9f3a"
             ],
             [
              0.8888888888888888,
              "#fdca26"
             ],
             [
              1,
              "#f0f921"
             ]
            ],
            "type": "histogram2dcontour"
           }
          ],
          "mesh3d": [
           {
            "colorbar": {
             "outlinewidth": 0,
             "ticks": ""
            },
            "type": "mesh3d"
           }
          ],
          "parcoords": [
           {
            "line": {
             "colorbar": {
              "outlinewidth": 0,
              "ticks": ""
             }
            },
            "type": "parcoords"
           }
          ],
          "pie": [
           {
            "automargin": true,
            "type": "pie"
           }
          ],
          "scatter": [
           {
            "fillpattern": {
             "fillmode": "overlay",
             "size": 10,
             "solidity": 0.2
            },
            "type": "scatter"
           }
          ],
          "scatter3d": [
           {
            "line": {
             "colorbar": {
              "outlinewidth": 0,
              "ticks": ""
             }
            },
            "marker": {
             "colorbar": {
              "outlinewidth": 0,
              "ticks": ""
             }
            },
            "type": "scatter3d"
           }
          ],
          "scattercarpet": [
           {
            "marker": {
             "colorbar": {
              "outlinewidth": 0,
              "ticks": ""
             }
            },
            "type": "scattercarpet"
           }
          ],
          "scattergeo": [
           {
            "marker": {
             "colorbar": {
              "outlinewidth": 0,
              "ticks": ""
             }
            },
            "type": "scattergeo"
           }
          ],
          "scattergl": [
           {
            "marker": {
             "colorbar": {
              "outlinewidth": 0,
              "ticks": ""
             }
            },
            "type": "scattergl"
           }
          ],
          "scattermapbox": [
           {
            "marker": {
             "colorbar": {
              "outlinewidth": 0,
              "ticks": ""
             }
            },
            "type": "scattermapbox"
           }
          ],
          "scatterpolar": [
           {
            "marker": {
             "colorbar": {
              "outlinewidth": 0,
              "ticks": ""
             }
            },
            "type": "scatterpolar"
           }
          ],
          "scatterpolargl": [
           {
            "marker": {
             "colorbar": {
              "outlinewidth": 0,
              "ticks": ""
             }
            },
            "type": "scatterpolargl"
           }
          ],
          "scatterternary": [
           {
            "marker": {
             "colorbar": {
              "outlinewidth": 0,
              "ticks": ""
             }
            },
            "type": "scatterternary"
           }
          ],
          "surface": [
           {
            "colorbar": {
             "outlinewidth": 0,
             "ticks": ""
            },
            "colorscale": [
             [
              0,
              "#0d0887"
             ],
             [
              0.1111111111111111,
              "#46039f"
             ],
             [
              0.2222222222222222,
              "#7201a8"
             ],
             [
              0.3333333333333333,
              "#9c179e"
             ],
             [
              0.4444444444444444,
              "#bd3786"
             ],
             [
              0.5555555555555556,
              "#d8576b"
             ],
             [
              0.6666666666666666,
              "#ed7953"
             ],
             [
              0.7777777777777778,
              "#fb9f3a"
             ],
             [
              0.8888888888888888,
              "#fdca26"
             ],
             [
              1,
              "#f0f921"
             ]
            ],
            "type": "surface"
           }
          ],
          "table": [
           {
            "cells": {
             "fill": {
              "color": "#EBF0F8"
             },
             "line": {
              "color": "white"
             }
            },
            "header": {
             "fill": {
              "color": "#C8D4E3"
             },
             "line": {
              "color": "white"
             }
            },
            "type": "table"
           }
          ]
         },
         "layout": {
          "annotationdefaults": {
           "arrowcolor": "#2a3f5f",
           "arrowhead": 0,
           "arrowwidth": 1
          },
          "autotypenumbers": "strict",
          "coloraxis": {
           "colorbar": {
            "outlinewidth": 0,
            "ticks": ""
           }
          },
          "colorscale": {
           "diverging": [
            [
             0,
             "#8e0152"
            ],
            [
             0.1,
             "#c51b7d"
            ],
            [
             0.2,
             "#de77ae"
            ],
            [
             0.3,
             "#f1b6da"
            ],
            [
             0.4,
             "#fde0ef"
            ],
            [
             0.5,
             "#f7f7f7"
            ],
            [
             0.6,
             "#e6f5d0"
            ],
            [
             0.7,
             "#b8e186"
            ],
            [
             0.8,
             "#7fbc41"
            ],
            [
             0.9,
             "#4d9221"
            ],
            [
             1,
             "#276419"
            ]
           ],
           "sequential": [
            [
             0,
             "#0d0887"
            ],
            [
             0.1111111111111111,
             "#46039f"
            ],
            [
             0.2222222222222222,
             "#7201a8"
            ],
            [
             0.3333333333333333,
             "#9c179e"
            ],
            [
             0.4444444444444444,
             "#bd3786"
            ],
            [
             0.5555555555555556,
             "#d8576b"
            ],
            [
             0.6666666666666666,
             "#ed7953"
            ],
            [
             0.7777777777777778,
             "#fb9f3a"
            ],
            [
             0.8888888888888888,
             "#fdca26"
            ],
            [
             1,
             "#f0f921"
            ]
           ],
           "sequentialminus": [
            [
             0,
             "#0d0887"
            ],
            [
             0.1111111111111111,
             "#46039f"
            ],
            [
             0.2222222222222222,
             "#7201a8"
            ],
            [
             0.3333333333333333,
             "#9c179e"
            ],
            [
             0.4444444444444444,
             "#bd3786"
            ],
            [
             0.5555555555555556,
             "#d8576b"
            ],
            [
             0.6666666666666666,
             "#ed7953"
            ],
            [
             0.7777777777777778,
             "#fb9f3a"
            ],
            [
             0.8888888888888888,
             "#fdca26"
            ],
            [
             1,
             "#f0f921"
            ]
           ]
          },
          "colorway": [
           "#636efa",
           "#EF553B",
           "#00cc96",
           "#ab63fa",
           "#FFA15A",
           "#19d3f3",
           "#FF6692",
           "#B6E880",
           "#FF97FF",
           "#FECB52"
          ],
          "font": {
           "color": "#2a3f5f"
          },
          "geo": {
           "bgcolor": "white",
           "lakecolor": "white",
           "landcolor": "white",
           "showlakes": true,
           "showland": true,
           "subunitcolor": "#C8D4E3"
          },
          "hoverlabel": {
           "align": "left"
          },
          "hovermode": "closest",
          "mapbox": {
           "style": "light"
          },
          "paper_bgcolor": "white",
          "plot_bgcolor": "white",
          "polar": {
           "angularaxis": {
            "gridcolor": "#EBF0F8",
            "linecolor": "#EBF0F8",
            "ticks": ""
           },
           "bgcolor": "white",
           "radialaxis": {
            "gridcolor": "#EBF0F8",
            "linecolor": "#EBF0F8",
            "ticks": ""
           }
          },
          "scene": {
           "xaxis": {
            "backgroundcolor": "white",
            "gridcolor": "#DFE8F3",
            "gridwidth": 2,
            "linecolor": "#EBF0F8",
            "showbackground": true,
            "ticks": "",
            "zerolinecolor": "#EBF0F8"
           },
           "yaxis": {
            "backgroundcolor": "white",
            "gridcolor": "#DFE8F3",
            "gridwidth": 2,
            "linecolor": "#EBF0F8",
            "showbackground": true,
            "ticks": "",
            "zerolinecolor": "#EBF0F8"
           },
           "zaxis": {
            "backgroundcolor": "white",
            "gridcolor": "#DFE8F3",
            "gridwidth": 2,
            "linecolor": "#EBF0F8",
            "showbackground": true,
            "ticks": "",
            "zerolinecolor": "#EBF0F8"
           }
          },
          "shapedefaults": {
           "line": {
            "color": "#2a3f5f"
           }
          },
          "ternary": {
           "aaxis": {
            "gridcolor": "#DFE8F3",
            "linecolor": "#A2B1C6",
            "ticks": ""
           },
           "baxis": {
            "gridcolor": "#DFE8F3",
            "linecolor": "#A2B1C6",
            "ticks": ""
           },
           "bgcolor": "white",
           "caxis": {
            "gridcolor": "#DFE8F3",
            "linecolor": "#A2B1C6",
            "ticks": ""
           }
          },
          "title": {
           "x": 0.05
          },
          "xaxis": {
           "automargin": true,
           "gridcolor": "#EBF0F8",
           "linecolor": "#EBF0F8",
           "ticks": "",
           "title": {
            "standoff": 15
           },
           "zerolinecolor": "#EBF0F8",
           "zerolinewidth": 2
          },
          "yaxis": {
           "automargin": true,
           "gridcolor": "#EBF0F8",
           "linecolor": "#EBF0F8",
           "ticks": "",
           "title": {
            "standoff": 15
           },
           "zerolinecolor": "#EBF0F8",
           "zerolinewidth": 2
          }
         }
        },
        "title": {
         "text": "Element Excess"
        },
        "xaxis": {
         "title": {
          "text": "Day"
         },
         "type": "category"
        },
        "yaxis": {
         "title": {
          "text": "Element Excess"
         }
        }
       }
      }
     },
     "metadata": {},
     "output_type": "display_data"
    }
   ],
   "source": [
    "def create_fertilizer_df(optimization_results):\n",
    "    data = {}\n",
    "    for k, result in optimization_results.items():\n",
    "        data[k] = result.x\n",
    "    df = pd.DataFrame(data).T  # Transpose to have keys as row indexes\n",
    "    return df\n",
    "\n",
    "df_fertilizer_usage = create_fertilizer_df(optimization_results)\n",
    "\n",
    "\n",
    "fig = plot_element_stacked_interactive_streamlit(df_fertilizer_usage)\n",
    "fig.show()"
   ]
  },
  {
   "cell_type": "code",
   "execution_count": null,
   "metadata": {},
   "outputs": [],
   "source": []
  },
  {
   "cell_type": "code",
   "execution_count": null,
   "metadata": {},
   "outputs": [],
   "source": []
  }
 ],
 "metadata": {
  "kernelspec": {
   "display_name": ".venv",
   "language": "python",
   "name": "python3"
  },
  "language_info": {
   "codemirror_mode": {
    "name": "ipython",
    "version": 3
   },
   "file_extension": ".py",
   "mimetype": "text/x-python",
   "name": "python",
   "nbconvert_exporter": "python",
   "pygments_lexer": "ipython3",
   "version": "3.10.12"
  }
 },
 "nbformat": 4,
 "nbformat_minor": 2
}
