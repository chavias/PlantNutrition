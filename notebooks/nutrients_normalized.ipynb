{
 "cells": [
  {
   "cell_type": "markdown",
   "metadata": {},
   "source": [
    "# Nutrition"
   ]
  },
  {
   "cell_type": "code",
   "execution_count": 122,
   "metadata": {},
   "outputs": [
    {
     "ename": "",
     "evalue": "",
     "output_type": "error",
     "traceback": [
      "\u001b[1;31mRunning cells with '.venv (Python 3.10.12)' requires the ipykernel package.\n",
      "\u001b[1;31mRun the following command to install 'ipykernel' into the Python environment. \n",
      "\u001b[1;31mCommand: '/home/mach/Projects/PlantNutrition/.venv/bin/python -m pip install ipykernel -U --force-reinstall'"
     ]
    }
   ],
   "source": [
    "import pandas as pd\n",
    "import numpy as np\n",
    "import matplotlib.pyplot as plt\n",
    "import seaborn as sns\n",
    "from scipy.optimize import minimize"
   ]
  },
  {
   "cell_type": "markdown",
   "metadata": {},
   "source": [
    "## Raw Data"
   ]
  },
  {
   "cell_type": "code",
   "execution_count": 123,
   "metadata": {},
   "outputs": [],
   "source": [
    "DATA_PATH_AVG = './data/nutrients_avg.xlsx'\n",
    "\n",
    "def process_data(data_path):\n",
    "    \n",
    "    df = pd.read_excel(DATA_PATH_AVG)\n",
    "    \n",
    "    # \n",
    "    df_no_time = df.drop(columns='Time')\n",
    "    X = df_no_time.to_numpy()\n",
    "\n",
    "    # Sort data along axis=0 and reverse to get descending order\n",
    "    data = np.sort(X, axis=0)[::-1]\n",
    "\n",
    "    # normalize data to 1\n",
    "    maxes = np.max(data, axis=0)\n",
    "\n",
    "    data = data / maxes\n",
    "    return data, maxes"
   ]
  },
  {
   "cell_type": "markdown",
   "metadata": {},
   "source": [
    "## Data Preparation"
   ]
  },
  {
   "cell_type": "code",
   "execution_count": 124,
   "metadata": {},
   "outputs": [],
   "source": [
    "# from sklearn.preprocessing import MinMaxScaler\n",
    "\n",
    "# Convert DataFrame to NumPy array\n",
    "\n",
    "# If a scaler is applied it also has to be applied to the fertilizer\n",
    "\n",
    "# scaler = MinMaxScaler()\n",
    "\n",
    "# # Fit the scaler and transform the data to scale each column independently\n",
    "# data = scaler.fit_transform(data)\n",
    "\n",
    "# # Now each column of data is scaled to the range [0, 1]\n",
    "# print(data)"
   ]
  },
  {
   "cell_type": "code",
   "execution_count": null,
   "metadata": {},
   "outputs": [],
   "source": [
    "from scipy.interpolate import interp1d\n",
    "\n",
    "def interpolate_data(data, num_points=500, kind='cubic'):\n",
    "    x_original = np.arange(data.shape[0])  # Original index positions\n",
    "    x_interp = np.linspace(0, data.shape[0] - 1, num_points)  # Interpolation index positions\n",
    "    # Initialize an array to store interpolated data\n",
    "    Y_interp = np.zeros((num_points, data.shape[1]))\n",
    "    # Interpolate each column\n",
    "    for col in range(data.shape[1]):\n",
    "        f = interp1d(x_original, data[:, col], kind='cubic')  # Use cubic interpolation for smoothness\n",
    "        Y_interp[:, col] = f(x_interp)\n",
    "\n",
    "    return x_interp, Y_interp\n",
    "\n",
    "x_interp, Y_interp = interpolate_data(data, num_points=4, kind='linear')"
   ]
  },
  {
   "cell_type": "code",
   "execution_count": null,
   "metadata": {},
   "outputs": [],
   "source": [
    "def plot_curves(x, y):\n",
    "    # Plot the derivative of the first column\n",
    "    fig, axes = plt.subplots(4,3, figsize=(12,10))\n",
    "    axes = axes.flatten()\n",
    "    for i in range(11):\n",
    "        axes[i].plot(x,y[:, i])\n",
    "        axes[i].set_ylim([0,None])\n",
    "\n",
    "plot_curves(x=x_interp, y=Y_interp)"
   ]
  },
  {
   "cell_type": "code",
   "execution_count": null,
   "metadata": {},
   "outputs": [],
   "source": [
    "from scipy.interpolate import CubicSpline\n",
    "\n",
    "def calculate_nutrient_uptake_rate(x_interp, Y_interp, num_interp_points=500):\n",
    "\n",
    "    # Initialize an array to store the derivatives\n",
    "    Y_derivative_spline = np.zeros((num_interp_points, data.shape[1]))\n",
    "\n",
    "    # Compute the cubic spline and its derivative for each column\n",
    "    for col in range(data.shape[1]):\n",
    "        cs = CubicSpline(x_interp, Y_interp[:, col])  # Cubic Spline interpolation\n",
    "        Y_derivative_spline[:, col] = cs.derivative()(x_interp)  # Evaluate the derivative\n",
    "\n",
    "    plant_uptake_rate = - Y_derivative_spline \n",
    "    return x_interp, plant_uptake_rate\n",
    "\n",
    "x_interp, plant_uptake_rate = calculate_nutrient_uptake_rate(x_interp, Y_interp, num_interp_points=4)\n",
    "\n",
    "plot_curves(x=x_interp, y=plant_uptake_rate)"
   ]
  },
  {
   "cell_type": "code",
   "execution_count": 28,
   "metadata": {},
   "outputs": [],
   "source": [
    "# def absolute_plant_uptake_from_rate(x_interp, plant_uptake_rate, start, end):\n",
    "#     start_index = np.argmin(np.abs(x_interp - start)) # find the best index\n",
    "#     end_index = np.argmin(np.abs(x_interp - end))\n",
    "#     return np.sum(plant_uptake_rate[start_index:end_index,:],axis=0)/(end_index-start_index)\n",
    "\n",
    "# absolute_uptake = absolute_plant_uptake_from_rate(x_interp, plant_uptake_rate, 0,1)\n",
    "# print(f\"{absolute_uptake = }\")"
   ]
  },
  {
   "cell_type": "code",
   "execution_count": null,
   "metadata": {},
   "outputs": [],
   "source": [
    "def absolute_plant_uptake_during_interval(x_interp, Y_interp, start, end):\n",
    "    start_index = np.argmin(np.abs(x_interp - start)) # find the best index\n",
    "    end_index = np.argmin(np.abs(x_interp - end))\n",
    "    # uptake is the negative of nutrient change in solution\n",
    "    return -(Y_interp[end_index,:] - Y_interp[start_index,:]) \n",
    "\n",
    "target = absolute_plant_uptake_during_interval(x_interp, Y_interp, 2,3)\n",
    "print(f\"{target = }\")"
   ]
  },
  {
   "cell_type": "markdown",
   "metadata": {},
   "source": [
    "## Optimize"
   ]
  },
  {
   "cell_type": "markdown",
   "metadata": {},
   "source": [
    "Consider a single time intervall $I = [t_0, T]$.\n",
    "\n",
    "Unsing the model of the plant uptake we have obtained the the target nutrient concentration should be idealy $\\vec T$.\n",
    "\n",
    "Let us optimize the minimal total amount of fertilizer to reach the target under the constraint that the plant does not experience any deficite of nutrients.\n",
    "\n",
    "$L = \\min(|\\vec{T} - (u_1 \\vec{F}_1 + u_2 \\vec{F}_2 + u_3 \\vec{F}_3|)$\n",
    "\n",
    "Constrain: $\\vec{T} - (u_1 \\vec{F}_1 + u_2 \\vec{F}_2 + u_3 \\vec{F}_3) \\ge 0$\n",
    "\n",
    "**Comments:**\n",
    "\n",
    "1. Since the concentration have different scales, it might be reasonable to scale (transfrom) them using sklearn MaxMinScaler or StandartScaler.\n",
    "Afterwards don't forget to apply the inverse transform to get correct values!"
   ]
  },
  {
   "cell_type": "code",
   "execution_count": 30,
   "metadata": {},
   "outputs": [],
   "source": [
    "def nutrients(params, c_fertilizer1, c_fertilizer2, c_fertilizer3, c_target):\n",
    "    a, b, c = params\n",
    "    value = c_target - a*c_fertilizer1 - b*c_fertilizer2 - c*c_fertilizer3\n",
    "    return value  \n",
    "\n",
    "def objective_function(params, c_fertilizer1, c_fertilizer2, c_fertilizer3, c_target):\n",
    "    a, b, c = params\n",
    "    value = np.sum(np.abs(c_target - a*c_fertilizer1 - b*c_fertilizer2 - c*c_fertilizer3))\n",
    "    return value  \n",
    "\n",
    "def constraint_function(params, c_fertilizer1, c_fertilizer2, c_fertilizer3, c_target):\n",
    "    a, b, c = params\n",
    "    return np.min(c_target - a*c_fertilizer1 - b*c_fertilizer2 - c*c_fertilizer3)\n",
    "\n",
    "def optimize(c_fertilizer1, c_fertilizer2, c_fertilizer3, c_target, constraint):\n",
    "    # Initial guess for a and b\n",
    "    initial_guess = [0, 0, 0]\n",
    "    bounds = [(0, None), (0, None), (0, None)]  # (lower bound, upper bound) for a, b and c\n",
    "    \n",
    "    # Call the optimizer\n",
    "    result = minimize(objective_function, initial_guess, \n",
    "                      args=(c_fertilizer1, c_fertilizer2, c_fertilizer3, c_target),\n",
    "                      bounds = bounds,  # (lower bound, upper bound) for a and b\n",
    "                      constraints=[constraint], \n",
    "                      method='SLSQP') \n",
    "    \n",
    "    # Extract the optimized values of a and b\n",
    "    a_opt, b_opt, c_opt = result.x\n",
    "    return a_opt, b_opt, c_opt, result.fun  # Return optimized a, b, and the minimized value\n"
   ]
  },
  {
   "cell_type": "code",
   "execution_count": null,
   "metadata": {},
   "outputs": [],
   "source": [
    "c_target = np.abs(np.random.sample(11))*10/maxes\n",
    "\n",
    "c_fertilizer1 = np.abs(np.random.sample(11))/maxes\n",
    "c_fertilizer2 = np.abs(np.random.sample(11))/maxes\n",
    "c_fertilizer3 = np.abs(np.random.sample(11))/maxes\n",
    "\n",
    "# Define the constraint\n",
    "constraint = {\n",
    "    'type': 'ineq',  # 'ineq' means the constraint function must return >= 0\n",
    "    'fun': constraint_function,\n",
    "    'args': (c_fertilizer1, c_fertilizer2, c_fertilizer3, c_target)\n",
    "}\n",
    "\n",
    "\n",
    "a_opt, b_opt, c_opt, minimized_value = optimize(c_fertilizer1, c_fertilizer2, c_fertilizer3, c_target, constraint)\n",
    "params_opt = (a_opt, b_opt, c_opt)\n",
    "nut = nutrients(params_opt, c_fertilizer1, c_fertilizer2, c_fertilizer3, c_target)\n",
    "\n",
    "print(\"------------------------------------------------------------------------------------------\")\n",
    "print(f\"{minimized_value = }\")\n",
    "print(\"------------------------------------------------------------------------------------------\")\n",
    "print(f\"{[a_opt, b_opt, c_opt] = }\")\n",
    "print(\"------------------------------------------------------------------------------------------\")\n",
    "print(f\"Nutrient excess:\")\n",
    "print(f\"{nut.round(3) = }\")"
   ]
  },
  {
   "cell_type": "markdown",
   "metadata": {},
   "source": [
    "## Iterative process"
   ]
  },
  {
   "cell_type": "markdown",
   "metadata": {},
   "source": [
    "The next step is to calculate a schedule how to fertilize the plants.\n",
    "As input we give the time intervall that we want to attent to the plants.\n",
    "As a ouput we want the amount of each fertilizer we have to add for each time.\n",
    "\n",
    "Comments:\n",
    "- additional statistic would be nice\n",
    "- some plots would be also nice"
   ]
  },
  {
   "cell_type": "code",
   "execution_count": null,
   "metadata": {},
   "outputs": [],
   "source": [
    "def calculate_fertilization_schedule(data_path, time_intervall_days, c_fertilizer1, c_fertilizer2, c_fertilizer3):\n",
    "    \n",
    "    # read and normalize data\n",
    "    data, maxes = process_data(data_path=data_path)\n",
    "    \n",
    "    # normalize fartilizer\n",
    "    norm_c_fertilizer1 = c_fertilizer1/maxes\n",
    "    norm_c_fertilizer2 = c_fertilizer2/maxes\n",
    "    norm_c_fertilizer3 = c_fertilizer3/maxes\n",
    "\n",
    "    # interpolate the data\n",
    "    x_interp, Y_interp = interpolate_data(data, num_points=4*7, kind='linear')\n",
    "    # calculate the uptake of each nutrient of the plant\n",
    "    # x_interp, plant_uptake_rate = calculate_nutrient_uptake_rate(x_interp, Y_interp, num_interp_points=500)\n",
    "    # calculate \n",
    "    time_intervall_week = time_intervall_days/7\n",
    "    num_fertilization_events = int(x_interp[-1] // time_intervall_week)\n",
    "\n",
    "    residual = 0\n",
    "    results = dict()\n",
    "\n",
    "    # build schedule\n",
    "    for i in range(num_fertilization_events):\n",
    "        \n",
    "        start = i*time_intervall_week\n",
    "        end = (i+1)*time_intervall_week\n",
    "\n",
    "        c_target_without_residuals = absolute_plant_uptake_during_interval(x_interp=x_interp, Y_interp=Y_interp, start=start ,end=end)\n",
    "\n",
    "        # calculate the target considering residual (excess) nutrients in the solution\n",
    "        c_target = np.abs(c_target_without_residuals - residual)\n",
    "\n",
    "        # Define the constraint\n",
    "        constraint = {\n",
    "            'type': 'ineq',  # 'ineq' means the constraint function must return >= 0\n",
    "            'fun': constraint_function,\n",
    "            'args': (norm_c_fertilizer1, norm_c_fertilizer2, norm_c_fertilizer3, c_target)\n",
    "        }\n",
    "\n",
    "        # optimize \n",
    "        a_opt, b_opt, c_opt, minimized_value = optimize(norm_c_fertilizer1, norm_c_fertilizer2, norm_c_fertilizer3, c_target, constraint)\n",
    "        \n",
    "        params_opt = (a_opt, b_opt, c_opt)\n",
    "        \n",
    "        # calculate the excess nutrient after time period\n",
    "        residual = nutrients(params_opt, norm_c_fertilizer1, norm_c_fertilizer2, norm_c_fertilizer3, c_target)\n",
    "\n",
    "        # store the results\n",
    "        results[f\"{int(start*7)}\"] = {'f1' : a_opt,\n",
    "                                     'f2' : b_opt,\n",
    "                                     'f3' : c_opt,\n",
    "                                     'excess_1': residual[0],\n",
    "                                     'excess_2': residual[1],\n",
    "                                     'excess_3': residual[2],\n",
    "                                     'excess_4': residual[3],\n",
    "                                     'excess_5': residual[4],\n",
    "                                     'excess_6': residual[5],\n",
    "                                     'excess_7': residual[6],\n",
    "                                     'excess_8': residual[7],\n",
    "                                     'excess_9': residual[8],\n",
    "                                     'excess_10': residual[9],\n",
    "                                     'excess_11': residual[10],\n",
    "                                    #  'excess' : (residual*maxes).round(3),\n",
    "                                    #  'excess_normalized' : (residual).round(3),\n",
    "                                     'objective_function': minimized_value}\n",
    "    df = pd.DataFrame(results).T\n",
    "    return df\n",
    "\n",
    "c_fertilizer1 = np.abs(np.random.sample(11))*0.01\n",
    "c_fertilizer2 = np.abs(np.random.sample(11))*0.01\n",
    "c_fertilizer3 = np.abs(np.random.sample(11))*0.01\n",
    "   \n",
    "\n",
    "results = calculate_fertilization_schedule(data_path=DATA_PATH_AVG, time_intervall_days=1, c_fertilizer1=c_fertilizer1, c_fertilizer2=c_fertilizer2, c_fertilizer3=c_fertilizer3)\n",
    "\n",
    "results.head()"
   ]
  },
  {
   "cell_type": "markdown",
   "metadata": {},
   "source": [
    "## Analyse results"
   ]
  },
  {
   "cell_type": "code",
   "execution_count": 129,
   "metadata": {},
   "outputs": [],
   "source": [
    "def plot_excess_stacked(df_transposed):\n",
    "    excess_labels = [f'Excess {i}' for i in range(len(df_transposed['excess'].iloc[0]))]\n",
    "    days = df_transposed.index\n",
    "    day_array = [int(day.split('_')[0])  for day in days]\n",
    "    x = np.arange(len(days))  # the label locations for days\n",
    "    width = 0.35  # The width of the bars\n",
    "\n",
    "    # Plot stacked bar chart\n",
    "    plt.figure(figsize=(10, 6))\n",
    "\n",
    "    # Initialize the bottom of the stack\n",
    "    bottom = np.zeros(len(days))\n",
    "\n",
    "    # Plot each excess group on top of the previous one (stacked)\n",
    "    for i, label in enumerate(excess_labels):\n",
    "        excess_values = [df_transposed.loc[day, 'excess'][i] for day in df_transposed.index]\n",
    "        plt.bar(x, excess_values, width=width, label=label, bottom=bottom)\n",
    "        \n",
    "        # Update the bottom to include the current excess values\n",
    "        bottom += excess_values\n",
    "\n",
    "    # Adding gridlines\n",
    "    plt.grid(axis='y', which='both', linestyle='--', linewidth=0.7, color='grey')\n",
    "\n",
    "    # Labeling\n",
    "    plt.xlabel('Days')\n",
    "    plt.ylabel('Excess Value')\n",
    "    plt.title('Stacked Excess Values for Different Days')\n",
    "\n",
    "    # Adjust x-ticks to display numeric labels (1, 2, 3, ...) instead of day_0, day_7, etc.\n",
    "    # plt.xticks(x, labels=[i for i in range(len(days))])\n",
    "    x_labels = [day+day_array[1] for day in day_array]\n",
    "    plt.xticks(x, labels=x_labels)\n",
    "\n",
    "    # Add legend and show the plot\n",
    "    plt.legend(title='Excess Groups')\n",
    "    plt.tight_layout()\n",
    "    plt.show()"
   ]
  },
  {
   "cell_type": "code",
   "execution_count": null,
   "metadata": {},
   "outputs": [],
   "source": [
    "plot_excess_stacked(results)"
   ]
  },
  {
   "cell_type": "code",
   "execution_count": null,
   "metadata": {},
   "outputs": [],
   "source": [
    "results['objective_function']"
   ]
  },
  {
   "cell_type": "code",
   "execution_count": null,
   "metadata": {},
   "outputs": [],
   "source": []
  }
 ],
 "metadata": {
  "kernelspec": {
   "display_name": ".venv",
   "language": "python",
   "name": "python3"
  },
  "language_info": {
   "codemirror_mode": {
    "name": "ipython",
    "version": 3
   },
   "file_extension": ".py",
   "mimetype": "text/x-python",
   "name": "python",
   "nbconvert_exporter": "python",
   "pygments_lexer": "ipython3",
   "version": "3.10.12"
  }
 },
 "nbformat": 4,
 "nbformat_minor": 2
}
