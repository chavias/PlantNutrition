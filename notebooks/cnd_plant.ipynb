{
 "cells": [
  {
   "cell_type": "markdown",
   "metadata": {},
   "source": [
    "# Compositional Nutrient Diagnosis"
   ]
  },
  {
   "cell_type": "markdown",
   "metadata": {},
   "source": [
    "Compositional Nutrient Diagnosis (CND) is the multivariate expansion of CVA and DRIS\n",
    "and is fully compatible with PCA. CND nutrient indices\n",
    "are composed of two separate functions, one considering differences between nutrient levels, another examining\n",
    "differences between nutrient balances (as defined by nutrient geometric means), of individual and target specimens.\n",
    "These functions indicate that nutrient insufficiency can be corrected by either adding a single nutrient or taking\n",
    "advantage of multiple nutrient interactions to improve nutrient balance as a whole."
   ]
  },
  {
   "cell_type": "code",
   "execution_count": 83,
   "metadata": {},
   "outputs": [],
   "source": [
    "import matplotlib.pyplot as plt\n",
    "import numpy as np\n",
    "import pandas as pd"
   ]
  },
  {
   "cell_type": "markdown",
   "metadata": {},
   "source": [
    "## DRIS"
   ]
  },
  {
   "cell_type": "code",
   "execution_count": 131,
   "metadata": {},
   "outputs": [
    {
     "data": {
      "text/plain": [
       "array([[ 0.        ,  1.16567561, -0.108207  ,  0.68469028,  1.56787999,\n",
       "         0.87518704,  0.51983389, -0.2322291 , -0.16603979, -0.53872644],\n",
       "       [-1.16567561,  0.        , -1.27388262, -0.48098533,  0.40220437,\n",
       "        -0.29048858, -0.64584173, -1.39790472, -1.3317154 , -1.70440205],\n",
       "       [ 0.108207  ,  1.27388262,  0.        ,  0.79289728,  1.67608699,\n",
       "         0.98339404,  0.62804089, -0.1240221 , -0.05783278, -0.43051943],\n",
       "       [-0.68469028,  0.48098533, -0.79289728,  0.        ,  0.88318971,\n",
       "         0.19049676, -0.16485639, -0.91691938, -0.85073007, -1.22341672],\n",
       "       [-1.56787999, -0.40220437, -1.67608699, -0.88318971,  0.        ,\n",
       "        -0.69269295, -1.0480461 , -1.80010909, -1.73391977, -2.10660642],\n",
       "       [-0.87518704,  0.29048858, -0.98339404, -0.19049676,  0.69269295,\n",
       "         0.        , -0.35535315, -1.10741614, -1.04122682, -1.41391347],\n",
       "       [-0.51983389,  0.64584173, -0.62804089,  0.16485639,  1.0480461 ,\n",
       "         0.35535315,  0.        , -0.75206299, -0.68587367, -1.05856032],\n",
       "       [ 0.2322291 ,  1.39790472,  0.1240221 ,  0.91691938,  1.80010909,\n",
       "         1.10741614,  0.75206299,  0.        ,  0.06618932, -0.30649733],\n",
       "       [ 0.16603979,  1.3317154 ,  0.05783278,  0.85073007,  1.73391977,\n",
       "         1.04122682,  0.68587367, -0.06618932,  0.        , -0.37268665],\n",
       "       [ 0.53872644,  1.70440205,  0.43051943,  1.22341672,  2.10660642,\n",
       "         1.41391347,  1.05856032,  0.30649733,  0.37268665,  0.        ]])"
      ]
     },
     "execution_count": 131,
     "metadata": {},
     "output_type": "execute_result"
    }
   ],
   "source": [
    "Z_dris = np.log(x / np.transpose(x))\n",
    "Z_dris"
   ]
  },
  {
   "cell_type": "markdown",
   "metadata": {},
   "source": [
    "## Utilities for CND"
   ]
  },
  {
   "cell_type": "code",
   "execution_count": 6,
   "metadata": {},
   "outputs": [
    {
     "data": {
      "text/plain": [
       "array([[0.29667549, 0.0564011 , 0.63544837, 0.92230021, 0.98857023],\n",
       "       [0.33936724, 0.7274561 , 0.97540163, 0.18606172, 0.88492621],\n",
       "       [0.64999822, 0.2542382 , 0.91042318, 0.13933518, 0.76351368],\n",
       "       [0.72396227, 0.38190234, 0.84655469, 0.66223434, 0.14185733],\n",
       "       [0.49844862, 0.51691692, 0.40981146, 0.5474084 , 0.50739282],\n",
       "       [0.42925977, 0.91847479, 0.43964169, 0.059856  , 0.75690859],\n",
       "       [0.4269626 , 0.36918995, 0.24692452, 0.0756029 , 0.5147596 ],\n",
       "       [0.11296652, 0.06716016, 0.41018572, 0.39149682, 0.02629192],\n",
       "       [0.82178123, 0.53137347, 0.20651435, 0.76992326, 0.64020397],\n",
       "       [0.02620175, 0.33113379, 0.21937433, 0.77492094, 0.71557128]])"
      ]
     },
     "execution_count": 6,
     "metadata": {},
     "output_type": "execute_result"
    }
   ],
   "source": [
    "c = np.random.sample((10,5))\n",
    "c"
   ]
  },
  {
   "cell_type": "markdown",
   "metadata": {},
   "source": [
    "### Calulation of $z_i = \\log(x_i/\\bar{x}_\\mathrm{geo})$"
   ]
  },
  {
   "cell_type": "code",
   "execution_count": 13,
   "metadata": {},
   "outputs": [
    {
     "data": {
      "text/plain": [
       "array([[7.0167477 , 5.35659747, 7.77843964, 8.15097957, 8.22036849],\n",
       "       [7.08003858, 7.8425094 , 8.13580507, 6.47903419, 8.03846002],\n",
       "       [7.86586521, 6.92716721, 8.2028051 , 6.32577798, 8.02682662],\n",
       "       [7.95938457, 7.31981023, 8.11582009, 7.87026478, 6.3294671 ],\n",
       "       [7.69186176, 7.72824342, 7.49605845, 7.7855564 , 7.70964675],\n",
       "       [7.49357048, 8.25422268, 7.51746827, 5.52344989, 8.06075072],\n",
       "       [7.95461949, 7.80923435, 7.40700579, 6.22341767, 8.14162308],\n",
       "       [7.10763401, 6.58762274, 8.39715257, 8.35051992, 5.64980418],\n",
       "       [8.0115919 , 7.57558278, 6.63048756, 7.94640853, 7.7619045 ],\n",
       "       [4.92824133, 7.46493748, 7.05319452, 8.31517599, 8.23549621]])"
      ]
     },
     "execution_count": 13,
     "metadata": {},
     "output_type": "execute_result"
    }
   ],
   "source": [
    "def calculate_z(c):\n",
    "    ''' Calculates z for CND analysis \n",
    "      Args:\n",
    "        c (array) list of the concentration of each nutrient\n",
    "      Returns:\n",
    "        z (array) list of z values of each nutrient\n",
    "    '''\n",
    "    # normalize the nurtrient for each plant to 1\n",
    "    row_sums = c.sum(axis=1)\n",
    "    x = c / row_sums[:, np.newaxis] \n",
    "    # calculate the z value for each nutrient for eveay plant\n",
    "    g = (np.prod(x))**(1/len(x)) # geometric averge \n",
    "    z = np.log(x/g)\n",
    "    return z\n",
    "\n",
    "# Here you could add some statistics and show the distribution of the concentration and the z values\n",
    "calculate_z(c)"
   ]
  },
  {
   "cell_type": "markdown",
   "metadata": {},
   "source": [
    "### Calculation of the CND index $I_{z_i}$"
   ]
  },
  {
   "cell_type": "markdown",
   "metadata": {},
   "source": [
    "The CND index is given by $I_{z_i}=(Z_i - z_i) / \\sigma_{z_i}$\n",
    "- $Z_i$ is the z-value of the **test** population for nutrient $i$\n",
    "- $z_i$ is the z-value of the **target** population for nutrient $i$\n",
    "- $\\sigma_{z_i}$ is the standard deviation of the z-value of the **target** population for nutrient $i$\n",
    "\n",
    "\n",
    "This index $I_{z_i}$ is the differenz of the z-values normalized by the standart deviation of the target population.\n",
    "Therefore, for each nutrient, the $I_{z_i}$ measures the distance between the test and target population.\n",
    "\n",
    "The normalization with $\\sigma_{z_i}$ is to have a sensible scale. If a nutrient of the target population has a large standard deviation it means that the range of 'acceptable' nutrient amount is large. As a result the $I_{z_i}$ for this nutrient is smaller.\n",
    "\n",
    "The interpretation of the the index $I_{z_i}$:\n",
    "- $I_{z_i} < 0$: relative nutrient insufficiency\n",
    "- $I_{z_i} = 0$: relative nutrient balance\n",
    "- $I_{z_i} > 0$: relative nutrient excess\n",
    "\n",
    "\n",
    "\n",
    "We can deepen the dicussion of $I_{z_i}$ by writing it as a sum and analysing each term:\n",
    "$I_{z_i} = \\frac{1}{\\sigma_{z_i}} \\biggl[\\underbrace{ = \\log\\left( \\frac{X_i}{x_i} \\right)}_{f(X_i)} + \\underbrace{ = \\log\\left( \\frac{g(X_i)}{g(x_i)} \\right)}_{f(g(X_i))} \\biggr]$\n",
    "\n",
    "- The first term $f(X_i) = \\log\\left( \\frac{X_i}{x_i} \\right)$ is only dependent on the **individual** nutrient\n",
    "- The second term $f(X_i) = \\log\\left( \\frac{X_i}{x_i} \\right)$ is only dependent on the geometric means $g$ therefore takes into acount **every** nutrient"
   ]
  },
  {
   "cell_type": "code",
   "execution_count": null,
   "metadata": {},
   "outputs": [],
   "source": [
    "def calculate_I(c_population, c_target):\n",
    "    ''' Calculates I for CND analysis \n",
    "      Args:\n",
    "        c_population (array) list of concentrations of the population\n",
    "        c_target (array) list of z values of the population\n",
    "      Returns:\n",
    "        I (array) list of I values of each nutrient\n",
    "    '''\n",
    "    z_population = calculate_z(c_population)\n",
    "    z_target = calculate_z(c_target)\n",
    "    I = (z_population - z_target)/np.std(z_target)"
   ]
  }
 ],
 "metadata": {
  "kernelspec": {
   "display_name": ".venv",
   "language": "python",
   "name": "python3"
  },
  "language_info": {
   "codemirror_mode": {
    "name": "ipython",
    "version": 3
   },
   "file_extension": ".py",
   "mimetype": "text/x-python",
   "name": "python",
   "nbconvert_exporter": "python",
   "pygments_lexer": "ipython3",
   "version": "3.10.12"
  }
 },
 "nbformat": 4,
 "nbformat_minor": 2
}
