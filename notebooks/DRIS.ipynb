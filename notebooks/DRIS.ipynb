{
 "cells": [
  {
   "cell_type": "markdown",
   "metadata": {},
   "source": [
    "# Original DRIS"
   ]
  },
  {
   "cell_type": "markdown",
   "metadata": {},
   "source": [
    "Diagnosis and Recommendation Integrated System (DRIS) implemented according to \"Diagnosis and Recommendation Integrated System (DRIS)\" by J.L Walworth and M.E. Sumner. "
   ]
  },
  {
   "cell_type": "markdown",
   "metadata": {},
   "source": [
    "Questions:\n",
    "\n",
    "- Calculate DRIS to compare two populations or to compare each sample plant with the target population?\n",
    "- Is it the mean of the ratios or the ratios of the mean? They are proportional, with the factor \"number of plants\""
   ]
  },
  {
   "cell_type": "code",
   "execution_count": 91,
   "metadata": {},
   "outputs": [],
   "source": [
    "import numpy as np\n",
    "import pandas as pd\n",
    "import matplotlib.pyplot as plt\n",
    "import seaborn as sns\n",
    "from itertools import combinations"
   ]
  },
  {
   "cell_type": "code",
   "execution_count": 92,
   "metadata": {},
   "outputs": [],
   "source": [
    "data_diagnosed_dict = {\n",
    "    'P': [12,11,10, 9],\n",
    "    'Mg': [2,2,3,3],\n",
    "    'N': [1,2,1,2],\n",
    "    'Ca': [3,4,3,3],\n",
    "    'Mn': [4,5,4,2]\n",
    "}\n",
    "\n",
    "data_optimum_dict = {\n",
    "    'p': [12,11,10],\n",
    "    'mg': [2,1,3],\n",
    "    'n': [2,1,1],\n",
    "    'ca': [4,4,3],\n",
    "    'mn': [5,4,4],\n",
    "}\n",
    "\n",
    "df_diagnosed = pd.DataFrame(data_diagnosed_dict)\n",
    "df_optimum = pd.DataFrame(data_optimum_dict)"
   ]
  },
  {
   "cell_type": "markdown",
   "metadata": {},
   "source": [
    "## Calculate $f(A/B)$ \n",
    "\n",
    "\\begin{align}\n",
    "    f(A/B) = \n",
    "    \\begin{cases}\n",
    "    \\biggl(\\frac{A/B}{a/b} - 1\\biggr)\\frac{1000}{CV} & A/B \\ge a/b\\\\\n",
    "    \\biggl(1 - \\frac{a/b}{A/B}\\biggr)\\frac{1000}{CV} & A/B < a/b\n",
    "    \\end{cases}\n",
    "\\end{align}\n",
    "\n",
    "- $A/B$ are the ratios of the means two elements (A and B) in the tissue of the pant being diagnosed.\n",
    "- $a/b$ are the ratios of the means for the optimal (high yield) population. \n",
    "- CV is the coefficient of variation of the optimal values $a$ and $b$: $CV = \\sigma/\\mu$ \n",
    "\n",
    "**Comments:**\n",
    "- Is a/b (resp. A/B) the mean of the ratios or the ration of the means? This is not clear to me!!!\n",
    "- In the poplication of Jones the value is 100 not 1000, but in subsequent publications it is 1000.\n",
    "- Is the CV (coefficient of variation) in percent or not (in the publication of jones it certainly is)"
   ]
  },
  {
   "cell_type": "markdown",
   "metadata": {},
   "source": [
    "Calculate ratios A/B and a/b "
   ]
  },
  {
   "cell_type": "code",
   "execution_count": 93,
   "metadata": {},
   "outputs": [
    {
     "data": {
      "text/html": [
       "<div>\n",
       "<style scoped>\n",
       "    .dataframe tbody tr th:only-of-type {\n",
       "        vertical-align: middle;\n",
       "    }\n",
       "\n",
       "    .dataframe tbody tr th {\n",
       "        vertical-align: top;\n",
       "    }\n",
       "\n",
       "    .dataframe thead th {\n",
       "        text-align: right;\n",
       "    }\n",
       "</style>\n",
       "<table border=\"1\" class=\"dataframe\">\n",
       "  <thead>\n",
       "    <tr style=\"text-align: right;\">\n",
       "      <th></th>\n",
       "      <th>P/Mg</th>\n",
       "      <th>P/N</th>\n",
       "      <th>P/Ca</th>\n",
       "      <th>P/Mn</th>\n",
       "      <th>Mg/N</th>\n",
       "      <th>Mg/Ca</th>\n",
       "      <th>Mg/Mn</th>\n",
       "      <th>N/Ca</th>\n",
       "      <th>N/Mn</th>\n",
       "      <th>Ca/Mn</th>\n",
       "    </tr>\n",
       "  </thead>\n",
       "  <tbody>\n",
       "    <tr>\n",
       "      <th>0</th>\n",
       "      <td>6.000000</td>\n",
       "      <td>12.0</td>\n",
       "      <td>4.000000</td>\n",
       "      <td>3.0</td>\n",
       "      <td>2.0</td>\n",
       "      <td>0.666667</td>\n",
       "      <td>0.50</td>\n",
       "      <td>0.333333</td>\n",
       "      <td>0.25</td>\n",
       "      <td>0.75</td>\n",
       "    </tr>\n",
       "    <tr>\n",
       "      <th>1</th>\n",
       "      <td>5.500000</td>\n",
       "      <td>5.5</td>\n",
       "      <td>2.750000</td>\n",
       "      <td>2.2</td>\n",
       "      <td>1.0</td>\n",
       "      <td>0.500000</td>\n",
       "      <td>0.40</td>\n",
       "      <td>0.500000</td>\n",
       "      <td>0.40</td>\n",
       "      <td>0.80</td>\n",
       "    </tr>\n",
       "    <tr>\n",
       "      <th>2</th>\n",
       "      <td>3.333333</td>\n",
       "      <td>10.0</td>\n",
       "      <td>3.333333</td>\n",
       "      <td>2.5</td>\n",
       "      <td>3.0</td>\n",
       "      <td>1.000000</td>\n",
       "      <td>0.75</td>\n",
       "      <td>0.333333</td>\n",
       "      <td>0.25</td>\n",
       "      <td>0.75</td>\n",
       "    </tr>\n",
       "    <tr>\n",
       "      <th>3</th>\n",
       "      <td>3.000000</td>\n",
       "      <td>4.5</td>\n",
       "      <td>3.000000</td>\n",
       "      <td>4.5</td>\n",
       "      <td>1.5</td>\n",
       "      <td>1.000000</td>\n",
       "      <td>1.50</td>\n",
       "      <td>0.666667</td>\n",
       "      <td>1.00</td>\n",
       "      <td>1.50</td>\n",
       "    </tr>\n",
       "  </tbody>\n",
       "</table>\n",
       "</div>"
      ],
      "text/plain": [
       "       P/Mg   P/N      P/Ca  P/Mn  Mg/N     Mg/Ca  Mg/Mn      N/Ca  N/Mn  \\\n",
       "0  6.000000  12.0  4.000000   3.0   2.0  0.666667   0.50  0.333333  0.25   \n",
       "1  5.500000   5.5  2.750000   2.2   1.0  0.500000   0.40  0.500000  0.40   \n",
       "2  3.333333  10.0  3.333333   2.5   3.0  1.000000   0.75  0.333333  0.25   \n",
       "3  3.000000   4.5  3.000000   4.5   1.5  1.000000   1.50  0.666667  1.00   \n",
       "\n",
       "   Ca/Mn  \n",
       "0   0.75  \n",
       "1   0.80  \n",
       "2   0.75  \n",
       "3   1.50  "
      ]
     },
     "execution_count": 93,
     "metadata": {},
     "output_type": "execute_result"
    }
   ],
   "source": [
    "def calculate_ratios(df):\n",
    "    '''Calculate the rations of every combination'''\n",
    "    ratios = {}\n",
    "    for col1, col2 in combinations(df.columns, 2):\n",
    "        ratio_name1 = f\"{col1}/{col2}\"\n",
    "        ratios[ratio_name1] = df[col1] / df[col2]\n",
    "    return pd.DataFrame(ratios)\n",
    "\n",
    "df_optimum_ratios = calculate_ratios(df_optimum)\n",
    "df_diagnosed_ratios = calculate_ratios(df_diagnosed)\n",
    "\n",
    "df_diagnosed_ratios.head()"
   ]
  },
  {
   "cell_type": "markdown",
   "metadata": {},
   "source": [
    "### Calculate coefficient of variation of the optimum values"
   ]
  },
  {
   "cell_type": "code",
   "execution_count": 94,
   "metadata": {},
   "outputs": [],
   "source": [
    "def calculate_CV(df_ratios):\n",
    "    cv_dict = {}\n",
    "    for ratio_name, ratio_values in df_ratios.items():\n",
    "        mean_ratio = ratio_values.mean()\n",
    "        std_ratio = ratio_values.std()\n",
    "        cv = (std_ratio / mean_ratio) * 100  # percentage or not? properbly percentage\n",
    "        cv_dict[ratio_name] = [cv]\n",
    "    return pd.DataFrame(cv_dict)\n",
    "\n",
    "df_optimum_CV = calculate_CV(df_optimum_ratios)"
   ]
  },
  {
   "cell_type": "markdown",
   "metadata": {},
   "source": [
    "### Calculate rations of the mean"
   ]
  },
  {
   "cell_type": "code",
   "execution_count": 95,
   "metadata": {},
   "outputs": [
    {
     "data": {
      "text/html": [
       "<div>\n",
       "<style scoped>\n",
       "    .dataframe tbody tr th:only-of-type {\n",
       "        vertical-align: middle;\n",
       "    }\n",
       "\n",
       "    .dataframe tbody tr th {\n",
       "        vertical-align: top;\n",
       "    }\n",
       "\n",
       "    .dataframe thead th {\n",
       "        text-align: right;\n",
       "    }\n",
       "</style>\n",
       "<table border=\"1\" class=\"dataframe\">\n",
       "  <thead>\n",
       "    <tr style=\"text-align: right;\">\n",
       "      <th></th>\n",
       "      <th>P/Mg</th>\n",
       "      <th>P/N</th>\n",
       "      <th>P/Ca</th>\n",
       "      <th>P/Mn</th>\n",
       "      <th>Mg/N</th>\n",
       "      <th>Mg/Ca</th>\n",
       "      <th>Mg/Mn</th>\n",
       "      <th>N/Ca</th>\n",
       "      <th>N/Mn</th>\n",
       "      <th>Ca/Mn</th>\n",
       "    </tr>\n",
       "  </thead>\n",
       "  <tbody>\n",
       "    <tr>\n",
       "      <th>0</th>\n",
       "      <td>4.2</td>\n",
       "      <td>7.0</td>\n",
       "      <td>3.230769</td>\n",
       "      <td>2.8</td>\n",
       "      <td>1.666667</td>\n",
       "      <td>0.769231</td>\n",
       "      <td>0.666667</td>\n",
       "      <td>0.461538</td>\n",
       "      <td>0.4</td>\n",
       "      <td>0.866667</td>\n",
       "    </tr>\n",
       "  </tbody>\n",
       "</table>\n",
       "</div>"
      ],
      "text/plain": [
       "   P/Mg  P/N      P/Ca  P/Mn      Mg/N     Mg/Ca     Mg/Mn      N/Ca  N/Mn  \\\n",
       "0   4.2  7.0  3.230769   2.8  1.666667  0.769231  0.666667  0.461538   0.4   \n",
       "\n",
       "      Ca/Mn  \n",
       "0  0.866667  "
      ]
     },
     "execution_count": 95,
     "metadata": {},
     "output_type": "execute_result"
    }
   ],
   "source": [
    "df_op = pd.DataFrame(df_optimum.mean()).T\n",
    "df_optimum_mean_ratios = calculate_ratios(df_op)\n",
    "\n",
    "df_di = pd.DataFrame(df_diagnosed.mean()).T\n",
    "df_diagnosed_mean_ratios = calculate_ratios(df_di)\n",
    "\n",
    "df_diagnosed_mean_ratios.head()"
   ]
  },
  {
   "cell_type": "code",
   "execution_count": 96,
   "metadata": {},
   "outputs": [
    {
     "data": {
      "text/html": [
       "<div>\n",
       "<style scoped>\n",
       "    .dataframe tbody tr th:only-of-type {\n",
       "        vertical-align: middle;\n",
       "    }\n",
       "\n",
       "    .dataframe tbody tr th {\n",
       "        vertical-align: top;\n",
       "    }\n",
       "\n",
       "    .dataframe thead th {\n",
       "        text-align: right;\n",
       "    }\n",
       "</style>\n",
       "<table border=\"1\" class=\"dataframe\">\n",
       "  <thead>\n",
       "    <tr style=\"text-align: right;\">\n",
       "      <th></th>\n",
       "      <th>p/mg</th>\n",
       "      <th>p/n</th>\n",
       "      <th>p/ca</th>\n",
       "      <th>p/mn</th>\n",
       "      <th>mg/n</th>\n",
       "      <th>mg/ca</th>\n",
       "      <th>mg/mn</th>\n",
       "      <th>n/ca</th>\n",
       "      <th>n/mn</th>\n",
       "      <th>ca/mn</th>\n",
       "    </tr>\n",
       "  </thead>\n",
       "  <tbody>\n",
       "    <tr>\n",
       "      <th>0</th>\n",
       "      <td>5.5</td>\n",
       "      <td>8.25</td>\n",
       "      <td>3.0</td>\n",
       "      <td>2.538462</td>\n",
       "      <td>1.5</td>\n",
       "      <td>0.545455</td>\n",
       "      <td>0.461538</td>\n",
       "      <td>0.363636</td>\n",
       "      <td>0.307692</td>\n",
       "      <td>0.846154</td>\n",
       "    </tr>\n",
       "  </tbody>\n",
       "</table>\n",
       "</div>"
      ],
      "text/plain": [
       "   p/mg   p/n  p/ca      p/mn  mg/n     mg/ca     mg/mn      n/ca      n/mn  \\\n",
       "0   5.5  8.25   3.0  2.538462   1.5  0.545455  0.461538  0.363636  0.307692   \n",
       "\n",
       "      ca/mn  \n",
       "0  0.846154  "
      ]
     },
     "execution_count": 96,
     "metadata": {},
     "output_type": "execute_result"
    }
   ],
   "source": [
    "df_optimum_mean_ratios.head()"
   ]
  },
  {
   "cell_type": "markdown",
   "metadata": {},
   "source": [
    "### Calculate nutrient function"
   ]
  },
  {
   "cell_type": "code",
   "execution_count": 97,
   "metadata": {},
   "outputs": [
    {
     "data": {
      "text/html": [
       "<div>\n",
       "<style scoped>\n",
       "    .dataframe tbody tr th:only-of-type {\n",
       "        vertical-align: middle;\n",
       "    }\n",
       "\n",
       "    .dataframe tbody tr th {\n",
       "        vertical-align: top;\n",
       "    }\n",
       "\n",
       "    .dataframe thead th {\n",
       "        text-align: right;\n",
       "    }\n",
       "</style>\n",
       "<table border=\"1\" class=\"dataframe\">\n",
       "  <thead>\n",
       "    <tr style=\"text-align: right;\">\n",
       "      <th></th>\n",
       "      <th>f(P/Mg)</th>\n",
       "      <th>f(P/N)</th>\n",
       "      <th>f(P/Ca)</th>\n",
       "      <th>f(P/Mn)</th>\n",
       "      <th>f(Mg/N)</th>\n",
       "      <th>f(Mg/Ca)</th>\n",
       "      <th>f(Mg/Mn)</th>\n",
       "      <th>f(N/Ca)</th>\n",
       "      <th>f(N/Mn)</th>\n",
       "      <th>f(Ca/Mn)</th>\n",
       "    </tr>\n",
       "  </thead>\n",
       "  <tbody>\n",
       "    <tr>\n",
       "      <th>0</th>\n",
       "      <td>-5.390159</td>\n",
       "      <td>-6.074429</td>\n",
       "      <td>7.958325</td>\n",
       "      <td>14.573487</td>\n",
       "      <td>1.603751</td>\n",
       "      <td>6.26677</td>\n",
       "      <td>8.083535</td>\n",
       "      <td>7.637626</td>\n",
       "      <td>10.392305</td>\n",
       "      <td>1.557672</td>\n",
       "    </tr>\n",
       "  </tbody>\n",
       "</table>\n",
       "</div>"
      ],
      "text/plain": [
       "    f(P/Mg)    f(P/N)   f(P/Ca)    f(P/Mn)   f(Mg/N)  f(Mg/Ca)  f(Mg/Mn)  \\\n",
       "0 -5.390159 -6.074429  7.958325  14.573487  1.603751   6.26677  8.083535   \n",
       "\n",
       "    f(N/Ca)    f(N/Mn)  f(Ca/Mn)  \n",
       "0  7.637626  10.392305  1.557672  "
      ]
     },
     "execution_count": 97,
     "metadata": {},
     "output_type": "execute_result"
    }
   ],
   "source": [
    "def f(df_diagnosed_mean_ratios, df_optimum_mean_ratios, df_optimum_CV):\n",
    "    names = df_diagnosed_mean_ratios.columns\n",
    "    diagnosed_ratios = df_diagnosed_mean_ratios.to_numpy()\n",
    "    optimum_mean_ratios = df_optimum_mean_ratios.to_numpy()\n",
    "    optimum_CV = df_optimum_CV.to_numpy()\n",
    "\n",
    "    def f_single(diagnosed_ratio, optimum_mean_ratio, CV):\n",
    "        if diagnosed_ratio == 0:\n",
    "            return float('inf')  # Return inf or some large number to handle zero division\n",
    "        if diagnosed_ratio >= optimum_mean_ratio:\n",
    "            f = ((diagnosed_ratio / optimum_mean_ratio) - 1) * 1000 / CV\n",
    "        else:\n",
    "            f = (1 - (optimum_mean_ratio / diagnosed_ratio)) * 1000 / CV\n",
    "        return [f]\n",
    "\n",
    "    f_dict = dict()\n",
    "    for i in range(len(names)):\n",
    "        f_dict[f\"f({names[i]})\"] = f_single(diagnosed_ratios[0, i], optimum_mean_ratios[0, i], optimum_CV[0, i])\n",
    "    return pd.DataFrame(f_dict)\n",
    "\n",
    "\n",
    "# Example usage\n",
    "# Assuming df_diagnosed_mean_ratios, df_optimum_mean_ratios, df_optimum_CV are defined DataFrames with similar structure\n",
    "df_f = f(df_diagnosed_mean_ratios, df_optimum_mean_ratios, df_optimum_CV)\n",
    "df_f.head()\n"
   ]
  },
  {
   "cell_type": "markdown",
   "metadata": {},
   "source": [
    "## Calculate DRIS index\n",
    "\n",
    "\n",
    "$\\mathrm{A_{index}} = \\frac{1}{z} \\bigl[f(A/B) + f(A/C) + f(A/D) + \\cdots + f(A/N)\\bigr]$"
   ]
  },
  {
   "cell_type": "code",
   "execution_count": 98,
   "metadata": {},
   "outputs": [
    {
     "data": {
      "text/plain": [
       "'I_N = 1/4 ( - f(P/N) - f(Mg/N) + f(N/Ca) + f(N/Mn))'"
      ]
     },
     "execution_count": 98,
     "metadata": {},
     "output_type": "execute_result"
    }
   ],
   "source": [
    "def create_index_string(index_element, df_diagnosed):\n",
    "    ''' Create string representing the the equation to calculate the DRIS index '''\n",
    "    elements = df_diagnosed.columns\n",
    "    result_string = f'I_{elements[index_element]} = 1/{(len(elements)-1)} ('\n",
    "    for i, element in enumerate(elements):\n",
    "        if index_element < i:\n",
    "            result_string += (f' + f({elements[index_element]}/{element})')\n",
    "        elif index_element > i:\n",
    "            result_string += (f' - f({element}/{elements[index_element]})')\n",
    "    return result_string + ')'\n",
    "\n",
    "result_string = create_index_string(2,df_diagnosed)\n",
    "result_string"
   ]
  },
  {
   "cell_type": "code",
   "execution_count": 99,
   "metadata": {},
   "outputs": [],
   "source": [
    "def calculate_index_value(index_element, df_diagnosed, df_f):\n",
    "    ''' Calculates the DRIS index '''\n",
    "    f_dict = df_f.to_dict('index')[0]\n",
    "    elements = df_diagnosed.columns\n",
    "    result = 0\n",
    "    for i, element in enumerate(elements):\n",
    "        if index_element < i:\n",
    "            result += f_dict[f'f({elements[index_element]}/{element})']\n",
    "        elif index_element > i:\n",
    "            result -= f_dict[f'f({element}/{elements[index_element]})']\n",
    "    return result/(len(elements)-1)"
   ]
  },
  {
   "cell_type": "code",
   "execution_count": 100,
   "metadata": {},
   "outputs": [
    {
     "data": {
      "text/html": [
       "<div>\n",
       "<style scoped>\n",
       "    .dataframe tbody tr th:only-of-type {\n",
       "        vertical-align: middle;\n",
       "    }\n",
       "\n",
       "    .dataframe tbody tr th {\n",
       "        vertical-align: top;\n",
       "    }\n",
       "\n",
       "    .dataframe thead th {\n",
       "        text-align: right;\n",
       "    }\n",
       "</style>\n",
       "<table border=\"1\" class=\"dataframe\">\n",
       "  <thead>\n",
       "    <tr style=\"text-align: right;\">\n",
       "      <th></th>\n",
       "      <th>P</th>\n",
       "      <th>Mg</th>\n",
       "      <th>N</th>\n",
       "      <th>Ca</th>\n",
       "      <th>Mn</th>\n",
       "    </tr>\n",
       "  </thead>\n",
       "  <tbody>\n",
       "    <tr>\n",
       "      <th>I_DRIS</th>\n",
       "      <td>2.766806</td>\n",
       "      <td>5.336054</td>\n",
       "      <td>5.625152</td>\n",
       "      <td>-5.076262</td>\n",
       "      <td>-8.65175</td>\n",
       "    </tr>\n",
       "  </tbody>\n",
       "</table>\n",
       "</div>"
      ],
      "text/plain": [
       "               P        Mg         N        Ca       Mn\n",
       "I_DRIS  2.766806  5.336054  5.625152 -5.076262 -8.65175"
      ]
     },
     "execution_count": 100,
     "metadata": {},
     "output_type": "execute_result"
    }
   ],
   "source": [
    "def calculate_all_index_values(df_diagnosed, df_f):\n",
    "    \"\"\"\n",
    "    Calculate the index values for each element in the input DataFrame.\n",
    "    \n",
    "    Parameters:\n",
    "        df_diagnosed (pd.DataFrame): DataFrame where each column represents a diagnosed nutrient.\n",
    "        df_f (pd.DataFrame): DataFrame with calculated f(A/B) or f(B/A) values for each element ratio.\n",
    "        \n",
    "    Returns:\n",
    "        pd.DataFrame: DataFrame with index values for each element, where each row corresponds to an element.\n",
    "    \"\"\"\n",
    "    elements = df_diagnosed.columns\n",
    "    results_dict = {}\n",
    "    \n",
    "    # Calculate index value for each element and store in results_dict\n",
    "    for i, element in enumerate(elements):\n",
    "        # Assuming calculate_index_value is a function that calculates the index for a single element\n",
    "        index_value = calculate_index_value(i, df_diagnosed, df_f)\n",
    "        results_dict[element] = index_value\n",
    "    \n",
    "    # Convert results_dict to a DataFrame with the specified format\n",
    "    results_df = pd.DataFrame(list(results_dict.items()), columns=[\"Element\", \"I_DRIS\"])\n",
    "    results_df.set_index(\"Element\", inplace=True)\n",
    "    results_df.index.name = None\n",
    "\n",
    "    \n",
    "    return results_df\n",
    "\n",
    "# Example usage\n",
    "# df_diagnosed and df_f should be DataFrames with appropriate data for the calculation\n",
    "DRIS_indices = calculate_all_index_values(df_diagnosed, df_f)\n",
    "DRIS_indices.T.head()\n"
   ]
  },
  {
   "cell_type": "markdown",
   "metadata": {},
   "source": [
    "## Putting it together"
   ]
  },
  {
   "cell_type": "code",
   "execution_count": 101,
   "metadata": {},
   "outputs": [
    {
     "data": {
      "text/html": [
       "<div>\n",
       "<style scoped>\n",
       "    .dataframe tbody tr th:only-of-type {\n",
       "        vertical-align: middle;\n",
       "    }\n",
       "\n",
       "    .dataframe tbody tr th {\n",
       "        vertical-align: top;\n",
       "    }\n",
       "\n",
       "    .dataframe thead th {\n",
       "        text-align: right;\n",
       "    }\n",
       "</style>\n",
       "<table border=\"1\" class=\"dataframe\">\n",
       "  <thead>\n",
       "    <tr style=\"text-align: right;\">\n",
       "      <th></th>\n",
       "      <th>P</th>\n",
       "      <th>Mg</th>\n",
       "      <th>N</th>\n",
       "      <th>Ca</th>\n",
       "      <th>Mn</th>\n",
       "    </tr>\n",
       "  </thead>\n",
       "  <tbody>\n",
       "    <tr>\n",
       "      <th>I_DRIS</th>\n",
       "      <td>2.766806</td>\n",
       "      <td>5.336054</td>\n",
       "      <td>5.625152</td>\n",
       "      <td>-5.076262</td>\n",
       "      <td>-8.65175</td>\n",
       "    </tr>\n",
       "    <tr>\n",
       "      <th>Standard Deviation optimum</th>\n",
       "      <td>1.000000</td>\n",
       "      <td>1.000000</td>\n",
       "      <td>0.577350</td>\n",
       "      <td>0.577350</td>\n",
       "      <td>0.57735</td>\n",
       "    </tr>\n",
       "  </tbody>\n",
       "</table>\n",
       "</div>"
      ],
      "text/plain": [
       "                                   P        Mg         N        Ca       Mn\n",
       "I_DRIS                      2.766806  5.336054  5.625152 -5.076262 -8.65175\n",
       "Standard Deviation optimum  1.000000  1.000000  0.577350  0.577350  0.57735"
      ]
     },
     "execution_count": 101,
     "metadata": {},
     "output_type": "execute_result"
    }
   ],
   "source": [
    "def calculate_DRIS_index(df_diagnosed, df_optimum):\n",
    "    # calculate ratios\n",
    "    df_optimum_ratios = calculate_ratios(df_optimum)\n",
    "    # df_diagnosed_ratios = calculate_ratios(df_diagnosed)\n",
    "    # calculate CV\n",
    "    df_optimum_CV = calculate_CV(df_optimum_ratios)\n",
    "    # calculate mean _ratios\n",
    "    df_op = pd.DataFrame(df_optimum.mean()).T\n",
    "    df_optimum_mean_ratios = calculate_ratios(df_op)\n",
    "    df_di = pd.DataFrame(df_diagnosed.mean()).T\n",
    "    df_diagnosed_mean_ratios = calculate_ratios(df_di)\n",
    "    # calculate f\n",
    "    df_f = f(df_diagnosed_mean_ratios, df_optimum_mean_ratios, df_optimum_CV)\n",
    "    # calculate indices\n",
    "    DRIS_indices = calculate_all_index_values(df_diagnosed, df_f)\n",
    "    return DRIS_indices\n",
    "\n",
    "DRIS = calculate_DRIS_index(df_diagnosed, df_optimum)\n",
    "DRIS.T.head()\n",
    "\n",
    "optimum_stds = df_optimum.std()  # Compute standard deviations\n",
    "\n",
    "# Convert Series to DataFrame and set index\n",
    "optimum_stds_df = pd.DataFrame(optimum_stds, columns=[\"Standard Deviation optimum\"])\n",
    "optimum_stds_df.index = DRIS.T.columns\n",
    "\n",
    "\n",
    "df_nutrients = pd.concat([DRIS.T, optimum_stds_df.T])\n",
    "\n",
    "df_nutrients.head()"
   ]
  },
  {
   "cell_type": "markdown",
   "metadata": {},
   "source": [
    "## Nurtional Balance Index"
   ]
  },
  {
   "cell_type": "code",
   "execution_count": 102,
   "metadata": {},
   "outputs": [
    {
     "name": "stdout",
     "output_type": "stream",
     "text": [
      "NBI = 27.456024105751258\n",
      "NBI_m = 5.4912048211502515\n"
     ]
    }
   ],
   "source": [
    "NBI = df_nutrients.loc['I_DRIS'].abs().sum()\n",
    "print(f\"NBI = {NBI}\")\n",
    "NBI_m = NBI/len(df_nutrients.columns)\n",
    "print(f\"NBI_m = {NBI_m}\")\n"
   ]
  },
  {
   "cell_type": "markdown",
   "metadata": {},
   "source": [
    "## Range"
   ]
  },
  {
   "cell_type": "code",
   "execution_count": 103,
   "metadata": {},
   "outputs": [
    {
     "data": {
      "text/html": [
       "<div>\n",
       "<style scoped>\n",
       "    .dataframe tbody tr th:only-of-type {\n",
       "        vertical-align: middle;\n",
       "    }\n",
       "\n",
       "    .dataframe tbody tr th {\n",
       "        vertical-align: top;\n",
       "    }\n",
       "\n",
       "    .dataframe thead th {\n",
       "        text-align: right;\n",
       "    }\n",
       "</style>\n",
       "<table border=\"1\" class=\"dataframe\">\n",
       "  <thead>\n",
       "    <tr style=\"text-align: right;\">\n",
       "      <th></th>\n",
       "      <th>P</th>\n",
       "      <th>Mg</th>\n",
       "      <th>N</th>\n",
       "      <th>Ca</th>\n",
       "      <th>Mn</th>\n",
       "    </tr>\n",
       "  </thead>\n",
       "  <tbody>\n",
       "    <tr>\n",
       "      <th>I_DRIS</th>\n",
       "      <td>2.766806</td>\n",
       "      <td>5.336054</td>\n",
       "      <td>5.625152</td>\n",
       "      <td>-5.076262</td>\n",
       "      <td>-8.65175</td>\n",
       "    </tr>\n",
       "    <tr>\n",
       "      <th>Standard Deviation optimum</th>\n",
       "      <td>1.0</td>\n",
       "      <td>1.0</td>\n",
       "      <td>0.57735</td>\n",
       "      <td>0.57735</td>\n",
       "      <td>0.57735</td>\n",
       "    </tr>\n",
       "    <tr>\n",
       "      <th>Interpretation DRIS</th>\n",
       "      <td>excess</td>\n",
       "      <td>excess</td>\n",
       "      <td>excess</td>\n",
       "      <td>deficiency</td>\n",
       "      <td>deficiency</td>\n",
       "    </tr>\n",
       "  </tbody>\n",
       "</table>\n",
       "</div>"
      ],
      "text/plain": [
       "                                   P        Mg         N          Ca  \\\n",
       "I_DRIS                      2.766806  5.336054  5.625152   -5.076262   \n",
       "Standard Deviation optimum       1.0       1.0   0.57735     0.57735   \n",
       "Interpretation DRIS           excess    excess    excess  deficiency   \n",
       "\n",
       "                                    Mn  \n",
       "I_DRIS                        -8.65175  \n",
       "Standard Deviation optimum     0.57735  \n",
       "Interpretation DRIS         deficiency  "
      ]
     },
     "execution_count": 103,
     "metadata": {},
     "output_type": "execute_result"
    }
   ],
   "source": [
    "def operation(column):\n",
    "    I = column.iloc[0]\n",
    "    sd = column.iloc[1]\n",
    "    if I < -4/3*sd:\n",
    "        return \"deficiency\"\n",
    "    elif I < -2/3*sd:\n",
    "        return \"tendency to deficiency\"\n",
    "    elif I < 2/3*sd:\n",
    "        return \"sufficient\"\n",
    "    elif I < 4/3*sd:\n",
    "        return \"tendency to excess\"\n",
    "    else:\n",
    "        return \"excess\"\n",
    "    \n",
    "df_nutrients.loc['Interpretation DRIS'] = df_nutrients.apply(operation, axis=0)\n",
    "df_nutrients"
   ]
  },
  {
   "cell_type": "code",
   "execution_count": null,
   "metadata": {},
   "outputs": [],
   "source": []
  }
 ],
 "metadata": {
  "kernelspec": {
   "display_name": ".venv",
   "language": "python",
   "name": "python3"
  },
  "language_info": {
   "codemirror_mode": {
    "name": "ipython",
    "version": 3
   },
   "file_extension": ".py",
   "mimetype": "text/x-python",
   "name": "python",
   "nbconvert_exporter": "python",
   "pygments_lexer": "ipython3",
   "version": "3.10.12"
  }
 },
 "nbformat": 4,
 "nbformat_minor": 2
}
