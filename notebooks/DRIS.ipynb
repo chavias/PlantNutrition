{
 "cells": [
  {
   "cell_type": "markdown",
   "metadata": {},
   "source": [
    "# Original DRIS"
   ]
  },
  {
   "cell_type": "markdown",
   "metadata": {},
   "source": [
    "Diagnosis and Recommendation Integrated System (DRIS) implemented according to \"Diagnosis and Recommendation Integrated System (DRIS)\" by J.L Walworth and M.E. Sumner. "
   ]
  },
  {
   "cell_type": "markdown",
   "metadata": {},
   "source": [
    "Questions:\n",
    "\n",
    "- Calculate DRIS to compare two populations or to compare each sample plant with the target population?\n",
    "- Is it the mean of the ratios or the ratios of the mean, the difference would be the factor number of plants"
   ]
  },
  {
   "cell_type": "code",
   "execution_count": 193,
   "metadata": {},
   "outputs": [],
   "source": [
    "import numpy as np\n",
    "import pandas as pd\n",
    "import matplotlib.pyplot as plt\n",
    "import seaborn as sns\n",
    "from itertools import combinations"
   ]
  },
  {
   "cell_type": "code",
   "execution_count": 194,
   "metadata": {},
   "outputs": [],
   "source": [
    "data_diagnosed_dict = {\n",
    "    'P': [12,11,10, 9],\n",
    "    'Mg': [2,2,3,3],\n",
    "    'N': [1,2,1,2],\n",
    "    'Ca': [3,4,3,3],\n",
    "    'Mn': [4,5,4,2]\n",
    "}\n",
    "\n",
    "data_optimum_dict = {\n",
    "    'p': [12,11,10],\n",
    "    'mg': [2,1,3],\n",
    "    'n': [2,1,1],\n",
    "    'ca': [4,4,3],\n",
    "    'mn': [5,4,4],\n",
    "}\n",
    "\n",
    "df_diagnosed = pd.DataFrame(data_diagnosed_dict)\n",
    "df_optimum = pd.DataFrame(data_optimum_dict)"
   ]
  },
  {
   "cell_type": "markdown",
   "metadata": {},
   "source": [
    "## Calculate $f(A/B)$ \n",
    "\n",
    "\\begin{align}\n",
    "    f(A/B) = \n",
    "    \\begin{cases}\n",
    "    \\biggl(\\frac{A/B}{a/b} - 1\\biggr)\\frac{1000}{CV} & A/B \\ge a/b\\\\\n",
    "    \\biggl(1 - \\frac{a/b}{A/B}\\biggr)\\frac{1000}{CV} & A/B < a/b\n",
    "    \\end{cases}\n",
    "\\end{align}\n",
    "\n",
    "- $A/B$ are the ratios of the means two elements (A and B) in the tissue of the pant being diagnosed.\n",
    "- $a/b$ are the ratios of the means for the optimal (high yield) population. \n",
    "- CV is the coefficient of variation of the optimal values $a$ and $b$: $CV = \\sigma/\\mu$ \n",
    "\n",
    "**Comments:**\n",
    "- Is a/b (resp. A/B) the mean of the ratios or the ration of the means? This is not clear to me!!!\n",
    "- In the poplication of Jones the value is 100 not 1000, but in subsequent publications it is 1000.\n",
    "- Is the CV (coefficient of variation) in percent or not (in the publication of jones it certainly is)"
   ]
  },
  {
   "cell_type": "markdown",
   "metadata": {},
   "source": [
    "Calculate ratios A/B and a/b "
   ]
  },
  {
   "cell_type": "code",
   "execution_count": null,
   "metadata": {},
   "outputs": [
    {
     "data": {
      "text/html": [
       "<div>\n",
       "<style scoped>\n",
       "    .dataframe tbody tr th:only-of-type {\n",
       "        vertical-align: middle;\n",
       "    }\n",
       "\n",
       "    .dataframe tbody tr th {\n",
       "        vertical-align: top;\n",
       "    }\n",
       "\n",
       "    .dataframe thead th {\n",
       "        text-align: right;\n",
       "    }\n",
       "</style>\n",
       "<table border=\"1\" class=\"dataframe\">\n",
       "  <thead>\n",
       "    <tr style=\"text-align: right;\">\n",
       "      <th></th>\n",
       "      <th>P/Mg</th>\n",
       "      <th>P/N</th>\n",
       "      <th>P/Ca</th>\n",
       "      <th>P/Mn</th>\n",
       "      <th>Mg/N</th>\n",
       "      <th>Mg/Ca</th>\n",
       "      <th>Mg/Mn</th>\n",
       "      <th>N/Ca</th>\n",
       "      <th>N/Mn</th>\n",
       "      <th>Ca/Mn</th>\n",
       "    </tr>\n",
       "  </thead>\n",
       "  <tbody>\n",
       "    <tr>\n",
       "      <th>0</th>\n",
       "      <td>1.791759</td>\n",
       "      <td>2.484907</td>\n",
       "      <td>1.386294</td>\n",
       "      <td>1.098612</td>\n",
       "      <td>0.693147</td>\n",
       "      <td>-0.405465</td>\n",
       "      <td>-0.693147</td>\n",
       "      <td>-1.098612</td>\n",
       "      <td>-1.386294</td>\n",
       "      <td>-0.287682</td>\n",
       "    </tr>\n",
       "    <tr>\n",
       "      <th>1</th>\n",
       "      <td>1.704748</td>\n",
       "      <td>1.704748</td>\n",
       "      <td>1.011601</td>\n",
       "      <td>0.788457</td>\n",
       "      <td>0.000000</td>\n",
       "      <td>-0.693147</td>\n",
       "      <td>-0.916291</td>\n",
       "      <td>-0.693147</td>\n",
       "      <td>-0.916291</td>\n",
       "      <td>-0.223144</td>\n",
       "    </tr>\n",
       "    <tr>\n",
       "      <th>2</th>\n",
       "      <td>1.203973</td>\n",
       "      <td>2.302585</td>\n",
       "      <td>1.203973</td>\n",
       "      <td>0.916291</td>\n",
       "      <td>1.098612</td>\n",
       "      <td>0.000000</td>\n",
       "      <td>-0.287682</td>\n",
       "      <td>-1.098612</td>\n",
       "      <td>-1.386294</td>\n",
       "      <td>-0.287682</td>\n",
       "    </tr>\n",
       "    <tr>\n",
       "      <th>3</th>\n",
       "      <td>1.098612</td>\n",
       "      <td>1.504077</td>\n",
       "      <td>1.098612</td>\n",
       "      <td>1.504077</td>\n",
       "      <td>0.405465</td>\n",
       "      <td>0.000000</td>\n",
       "      <td>0.405465</td>\n",
       "      <td>-0.405465</td>\n",
       "      <td>0.000000</td>\n",
       "      <td>0.405465</td>\n",
       "    </tr>\n",
       "  </tbody>\n",
       "</table>\n",
       "</div>"
      ],
      "text/plain": [
       "       P/Mg       P/N      P/Ca      P/Mn      Mg/N     Mg/Ca     Mg/Mn  \\\n",
       "0  1.791759  2.484907  1.386294  1.098612  0.693147 -0.405465 -0.693147   \n",
       "1  1.704748  1.704748  1.011601  0.788457  0.000000 -0.693147 -0.916291   \n",
       "2  1.203973  2.302585  1.203973  0.916291  1.098612  0.000000 -0.287682   \n",
       "3  1.098612  1.504077  1.098612  1.504077  0.405465  0.000000  0.405465   \n",
       "\n",
       "       N/Ca      N/Mn     Ca/Mn  \n",
       "0 -1.098612 -1.386294 -0.287682  \n",
       "1 -0.693147 -0.916291 -0.223144  \n",
       "2 -1.098612 -1.386294 -0.287682  \n",
       "3 -0.405465  0.000000  0.405465  "
      ]
     },
     "execution_count": 195,
     "metadata": {},
     "output_type": "execute_result"
    }
   ],
   "source": [
    "def calculate_ratios(df):\n",
    "    '''Calculate the rations of every combination'''\n",
    "    ratios = {}\n",
    "    for col1, col2 in combinations(df.columns, 2):\n",
    "        ratio_name1 = f\"{col1}/{col2}\"\n",
    "        ratios[ratio_name1] = df[col1] / df[col2]\n",
    "    return pd.DataFrame(ratios)\n",
    "\n",
    "df_optimum_ratios = calculate_ratios(df_optimum)\n",
    "df_diagnosed_ratios = calculate_ratios(df_diagnosed)\n",
    "\n",
    "df_diagnosed_ratios.head()"
   ]
  },
  {
   "cell_type": "markdown",
   "metadata": {},
   "source": [
    "### Calculate coefficient of variation of the optimum values"
   ]
  },
  {
   "cell_type": "code",
   "execution_count": 196,
   "metadata": {},
   "outputs": [],
   "source": [
    "def calculate_CV(df_ratios):\n",
    "    cv_dict = {}\n",
    "    for ratio_name, ratio_values in df_ratios.items():\n",
    "        mean_ratio = ratio_values.mean()\n",
    "        std_ratio = ratio_values.std()\n",
    "        cv = (std_ratio / mean_ratio) * 100  # percentage or not? properbly percentage\n",
    "        cv_dict[ratio_name] = [cv]\n",
    "    return pd.DataFrame(cv_dict)\n",
    "\n",
    "df_optimum_CV = calculate_CV(df_optimum_ratios)"
   ]
  },
  {
   "cell_type": "markdown",
   "metadata": {},
   "source": [
    "### Calculate rations of the mean"
   ]
  },
  {
   "cell_type": "code",
   "execution_count": 197,
   "metadata": {},
   "outputs": [
    {
     "data": {
      "text/html": [
       "<div>\n",
       "<style scoped>\n",
       "    .dataframe tbody tr th:only-of-type {\n",
       "        vertical-align: middle;\n",
       "    }\n",
       "\n",
       "    .dataframe tbody tr th {\n",
       "        vertical-align: top;\n",
       "    }\n",
       "\n",
       "    .dataframe thead th {\n",
       "        text-align: right;\n",
       "    }\n",
       "</style>\n",
       "<table border=\"1\" class=\"dataframe\">\n",
       "  <thead>\n",
       "    <tr style=\"text-align: right;\">\n",
       "      <th></th>\n",
       "      <th>P/Mg</th>\n",
       "      <th>P/N</th>\n",
       "      <th>P/Ca</th>\n",
       "      <th>P/Mn</th>\n",
       "      <th>Mg/N</th>\n",
       "      <th>Mg/Ca</th>\n",
       "      <th>Mg/Mn</th>\n",
       "      <th>N/Ca</th>\n",
       "      <th>N/Mn</th>\n",
       "      <th>Ca/Mn</th>\n",
       "    </tr>\n",
       "  </thead>\n",
       "  <tbody>\n",
       "    <tr>\n",
       "      <th>0</th>\n",
       "      <td>1.435085</td>\n",
       "      <td>1.94591</td>\n",
       "      <td>1.17272</td>\n",
       "      <td>1.029619</td>\n",
       "      <td>0.510826</td>\n",
       "      <td>-0.262364</td>\n",
       "      <td>-0.405465</td>\n",
       "      <td>-0.77319</td>\n",
       "      <td>-0.916291</td>\n",
       "      <td>-0.143101</td>\n",
       "    </tr>\n",
       "  </tbody>\n",
       "</table>\n",
       "</div>"
      ],
      "text/plain": [
       "       P/Mg      P/N     P/Ca      P/Mn      Mg/N     Mg/Ca     Mg/Mn  \\\n",
       "0  1.435085  1.94591  1.17272  1.029619  0.510826 -0.262364 -0.405465   \n",
       "\n",
       "      N/Ca      N/Mn     Ca/Mn  \n",
       "0 -0.77319 -0.916291 -0.143101  "
      ]
     },
     "execution_count": 197,
     "metadata": {},
     "output_type": "execute_result"
    }
   ],
   "source": [
    "# check the order!!!!!!!!!!!!!!!!!!!!!!!!!!!!!!!!!!!!!!!!\n",
    "df_op = pd.DataFrame(df_optimum.mean()).T\n",
    "df_optimum_mean_ratios = calculate_ratios(df_op)\n",
    "\n",
    "df_di = pd.DataFrame(df_diagnosed.mean()).T\n",
    "df_diagnosed_mean_ratios = calculate_ratios(df_di)\n",
    "\n",
    "df_diagnosed_mean_ratios.head()"
   ]
  },
  {
   "cell_type": "code",
   "execution_count": 198,
   "metadata": {},
   "outputs": [
    {
     "data": {
      "text/html": [
       "<div>\n",
       "<style scoped>\n",
       "    .dataframe tbody tr th:only-of-type {\n",
       "        vertical-align: middle;\n",
       "    }\n",
       "\n",
       "    .dataframe tbody tr th {\n",
       "        vertical-align: top;\n",
       "    }\n",
       "\n",
       "    .dataframe thead th {\n",
       "        text-align: right;\n",
       "    }\n",
       "</style>\n",
       "<table border=\"1\" class=\"dataframe\">\n",
       "  <thead>\n",
       "    <tr style=\"text-align: right;\">\n",
       "      <th></th>\n",
       "      <th>p/mg</th>\n",
       "      <th>p/n</th>\n",
       "      <th>p/ca</th>\n",
       "      <th>p/mn</th>\n",
       "      <th>mg/n</th>\n",
       "      <th>mg/ca</th>\n",
       "      <th>mg/mn</th>\n",
       "      <th>n/ca</th>\n",
       "      <th>n/mn</th>\n",
       "      <th>ca/mn</th>\n",
       "    </tr>\n",
       "  </thead>\n",
       "  <tbody>\n",
       "    <tr>\n",
       "      <th>0</th>\n",
       "      <td>1.704748</td>\n",
       "      <td>2.110213</td>\n",
       "      <td>1.098612</td>\n",
       "      <td>0.931558</td>\n",
       "      <td>0.405465</td>\n",
       "      <td>-0.606136</td>\n",
       "      <td>-0.77319</td>\n",
       "      <td>-1.011601</td>\n",
       "      <td>-1.178655</td>\n",
       "      <td>-0.167054</td>\n",
       "    </tr>\n",
       "  </tbody>\n",
       "</table>\n",
       "</div>"
      ],
      "text/plain": [
       "       p/mg       p/n      p/ca      p/mn      mg/n     mg/ca    mg/mn  \\\n",
       "0  1.704748  2.110213  1.098612  0.931558  0.405465 -0.606136 -0.77319   \n",
       "\n",
       "       n/ca      n/mn     ca/mn  \n",
       "0 -1.011601 -1.178655 -0.167054  "
      ]
     },
     "execution_count": 198,
     "metadata": {},
     "output_type": "execute_result"
    }
   ],
   "source": [
    "df_optimum_mean_ratios.head()"
   ]
  },
  {
   "cell_type": "markdown",
   "metadata": {},
   "source": [
    "### Calculate nutrient function"
   ]
  },
  {
   "cell_type": "code",
   "execution_count": 199,
   "metadata": {},
   "outputs": [
    {
     "data": {
      "text/html": [
       "<div>\n",
       "<style scoped>\n",
       "    .dataframe tbody tr th:only-of-type {\n",
       "        vertical-align: middle;\n",
       "    }\n",
       "\n",
       "    .dataframe tbody tr th {\n",
       "        vertical-align: top;\n",
       "    }\n",
       "\n",
       "    .dataframe thead th {\n",
       "        text-align: right;\n",
       "    }\n",
       "</style>\n",
       "<table border=\"1\" class=\"dataframe\">\n",
       "  <thead>\n",
       "    <tr style=\"text-align: right;\">\n",
       "      <th></th>\n",
       "      <th>f(P/Mg)</th>\n",
       "      <th>f(P/N)</th>\n",
       "      <th>f(P/Ca)</th>\n",
       "      <th>f(P/Mn)</th>\n",
       "      <th>f(Mg/N)</th>\n",
       "      <th>f(Mg/Ca)</th>\n",
       "      <th>f(Mg/Mn)</th>\n",
       "      <th>f(N/Ca)</th>\n",
       "      <th>f(N/Mn)</th>\n",
       "      <th>f(Ca/Mn)</th>\n",
       "    </tr>\n",
       "  </thead>\n",
       "  <tbody>\n",
       "    <tr>\n",
       "      <th>0</th>\n",
       "      <td>-5.65902</td>\n",
       "      <td>-5.606043</td>\n",
       "      <td>7.73583</td>\n",
       "      <td>14.080464</td>\n",
       "      <td>1.50025</td>\n",
       "      <td>5.671527</td>\n",
       "      <td>7.449758</td>\n",
       "      <td>7.169381</td>\n",
       "      <td>10.086735</td>\n",
       "      <td>1.617407</td>\n",
       "    </tr>\n",
       "  </tbody>\n",
       "</table>\n",
       "</div>"
      ],
      "text/plain": [
       "   f(P/Mg)    f(P/N)  f(P/Ca)    f(P/Mn)  f(Mg/N)  f(Mg/Ca)  f(Mg/Mn)  \\\n",
       "0 -5.65902 -5.606043  7.73583  14.080464  1.50025  5.671527  7.449758   \n",
       "\n",
       "    f(N/Ca)    f(N/Mn)  f(Ca/Mn)  \n",
       "0  7.169381  10.086735  1.617407  "
      ]
     },
     "execution_count": 199,
     "metadata": {},
     "output_type": "execute_result"
    }
   ],
   "source": [
    "def f(df_diagnosed_mean_ratios, df_optimum_mean_ratios, df_optimum_CV):\n",
    "    names = df_diagnosed_mean_ratios.columns\n",
    "    diagnosed_ratios = df_diagnosed_mean_ratios.to_numpy()\n",
    "    optimum_mean_ratios = df_optimum_mean_ratios.to_numpy()\n",
    "    optimum_CV = df_optimum_CV.to_numpy()\n",
    "\n",
    "    def f_single(diagnosed_ratio, optimum_mean_ratio, CV):\n",
    "        if diagnosed_ratio == 0:\n",
    "            return float('inf')  # Return inf or some large number to handle zero division\n",
    "        if diagnosed_ratio >= optimum_mean_ratio:\n",
    "            f = ((diagnosed_ratio / optimum_mean_ratio) - 1) * 1000 / CV\n",
    "        else:\n",
    "            f = (1 - (optimum_mean_ratio / diagnosed_ratio)) * 1000 / CV\n",
    "        return [f]\n",
    "\n",
    "    f_dict = dict()\n",
    "    for i in range(len(names)):\n",
    "        f_dict[f\"f({names[i]})\"] = f_single(diagnosed_ratios[0, i], optimum_mean_ratios[0, i], optimum_CV[0, i])\n",
    "    return pd.DataFrame(f_dict)\n",
    "\n",
    "\n",
    "# Example usage\n",
    "# Assuming df_diagnosed_mean_ratios, df_optimum_mean_ratios, df_optimum_CV are defined DataFrames with similar structure\n",
    "df_f = f(df_diagnosed_mean_ratios, df_optimum_mean_ratios, df_optimum_CV)\n",
    "df_f.head()\n"
   ]
  },
  {
   "cell_type": "markdown",
   "metadata": {},
   "source": [
    "## Calculate DRIS index\n",
    "\n",
    "\n",
    "$\\mathrm{A_{index}} = \\frac{1}{z} \\bigl[f(A/B) + f(A/C) + f(A/D) + \\cdots + f(A/N)\\bigr]$"
   ]
  },
  {
   "cell_type": "code",
   "execution_count": 200,
   "metadata": {},
   "outputs": [
    {
     "data": {
      "text/plain": [
       "'I_N = 1/4 ( - f(P/N) - f(Mg/N) + f(N/Ca) + f(N/Mn))'"
      ]
     },
     "execution_count": 200,
     "metadata": {},
     "output_type": "execute_result"
    }
   ],
   "source": [
    "def create_index_string(index_element, df_diagnosed):\n",
    "    ''' Create string representing the the equation to calculate the DRIS index '''\n",
    "    elements = df_diagnosed.columns\n",
    "    result_string = f'I_{elements[index_element]} = 1/{(len(elements)-1)} ('\n",
    "    for i, element in enumerate(elements):\n",
    "        if index_element < i:\n",
    "            result_string += (f' + f({elements[index_element]}/{element})')\n",
    "        elif index_element > i:\n",
    "            result_string += (f' - f({element}/{elements[index_element]})')\n",
    "    return result_string + ')'\n",
    "\n",
    "result_string = create_index_string(2,df_diagnosed)\n",
    "result_string"
   ]
  },
  {
   "cell_type": "code",
   "execution_count": 201,
   "metadata": {},
   "outputs": [],
   "source": [
    "def calculate_index_value(index_element, df_diagnosed, df_f):\n",
    "    ''' Calculates the DRIS index '''\n",
    "    f_dict = df_f.to_dict('index')[0]\n",
    "    elements = df_diagnosed.columns\n",
    "    result = 0\n",
    "    for i, element in enumerate(elements):\n",
    "        if index_element < i:\n",
    "            result += f_dict[f'f({elements[index_element]}/{element})']\n",
    "        elif index_element > i:\n",
    "            result -= f_dict[f'f({element}/{elements[index_element]})']\n",
    "    return result/(len(elements)-1)"
   ]
  },
  {
   "cell_type": "code",
   "execution_count": 202,
   "metadata": {},
   "outputs": [
    {
     "data": {
      "text/html": [
       "<div>\n",
       "<style scoped>\n",
       "    .dataframe tbody tr th:only-of-type {\n",
       "        vertical-align: middle;\n",
       "    }\n",
       "\n",
       "    .dataframe tbody tr th {\n",
       "        vertical-align: top;\n",
       "    }\n",
       "\n",
       "    .dataframe thead th {\n",
       "        text-align: right;\n",
       "    }\n",
       "</style>\n",
       "<table border=\"1\" class=\"dataframe\">\n",
       "  <thead>\n",
       "    <tr style=\"text-align: right;\">\n",
       "      <th></th>\n",
       "      <th>I_DRIS</th>\n",
       "    </tr>\n",
       "    <tr>\n",
       "      <th>Element</th>\n",
       "      <th></th>\n",
       "    </tr>\n",
       "  </thead>\n",
       "  <tbody>\n",
       "    <tr>\n",
       "      <th>P</th>\n",
       "      <td>2.637808</td>\n",
       "    </tr>\n",
       "    <tr>\n",
       "      <th>Mg</th>\n",
       "      <td>5.070139</td>\n",
       "    </tr>\n",
       "    <tr>\n",
       "      <th>N</th>\n",
       "      <td>5.340477</td>\n",
       "    </tr>\n",
       "    <tr>\n",
       "      <th>Ca</th>\n",
       "      <td>-4.739833</td>\n",
       "    </tr>\n",
       "    <tr>\n",
       "      <th>Mn</th>\n",
       "      <td>-8.308591</td>\n",
       "    </tr>\n",
       "  </tbody>\n",
       "</table>\n",
       "</div>"
      ],
      "text/plain": [
       "           I_DRIS\n",
       "Element          \n",
       "P        2.637808\n",
       "Mg       5.070139\n",
       "N        5.340477\n",
       "Ca      -4.739833\n",
       "Mn      -8.308591"
      ]
     },
     "execution_count": 202,
     "metadata": {},
     "output_type": "execute_result"
    }
   ],
   "source": [
    "import pandas as pd\n",
    "\n",
    "def calculate_all_index_values(df_diagnosed, df_f):\n",
    "    \"\"\"\n",
    "    Calculate the index values for each element in the input DataFrame.\n",
    "    \n",
    "    Parameters:\n",
    "        df_diagnosed (pd.DataFrame): DataFrame where each column represents a diagnosed nutrient.\n",
    "        df_f (pd.DataFrame): DataFrame with calculated f(A/B) or f(B/A) values for each element ratio.\n",
    "        \n",
    "    Returns:\n",
    "        pd.DataFrame: DataFrame with index values for each element, where each row corresponds to an element.\n",
    "    \"\"\"\n",
    "    elements = df_diagnosed.columns\n",
    "    results_dict = {}\n",
    "    \n",
    "    # Calculate index value for each element and store in results_dict\n",
    "    for i, element in enumerate(elements):\n",
    "        # Assuming calculate_index_value is a function that calculates the index for a single element\n",
    "        index_value = calculate_index_value(i, df_diagnosed, df_f)\n",
    "        results_dict[element] = index_value\n",
    "    \n",
    "    # Convert results_dict to a DataFrame with the specified format\n",
    "    results_df = pd.DataFrame(list(results_dict.items()), columns=[\"Element\", \"I_DRIS\"])\n",
    "    results_df.set_index(\"Element\", inplace=True)\n",
    "    \n",
    "    return results_df\n",
    "\n",
    "# Example usage\n",
    "# df_diagnosed and df_f should be DataFrames with appropriate data for the calculation\n",
    "DRIS_indices = calculate_all_index_values(df_diagnosed, df_f)\n",
    "DRIS_indices.head()\n"
   ]
  },
  {
   "cell_type": "markdown",
   "metadata": {},
   "source": [
    "## Putting it together"
   ]
  },
  {
   "cell_type": "code",
   "execution_count": 203,
   "metadata": {},
   "outputs": [
    {
     "data": {
      "text/html": [
       "<div>\n",
       "<style scoped>\n",
       "    .dataframe tbody tr th:only-of-type {\n",
       "        vertical-align: middle;\n",
       "    }\n",
       "\n",
       "    .dataframe tbody tr th {\n",
       "        vertical-align: top;\n",
       "    }\n",
       "\n",
       "    .dataframe thead th {\n",
       "        text-align: right;\n",
       "    }\n",
       "</style>\n",
       "<table border=\"1\" class=\"dataframe\">\n",
       "  <thead>\n",
       "    <tr style=\"text-align: right;\">\n",
       "      <th></th>\n",
       "      <th>I_DRIS</th>\n",
       "    </tr>\n",
       "    <tr>\n",
       "      <th>Element</th>\n",
       "      <th></th>\n",
       "    </tr>\n",
       "  </thead>\n",
       "  <tbody>\n",
       "    <tr>\n",
       "      <th>P</th>\n",
       "      <td>2.637808</td>\n",
       "    </tr>\n",
       "    <tr>\n",
       "      <th>Mg</th>\n",
       "      <td>5.070139</td>\n",
       "    </tr>\n",
       "    <tr>\n",
       "      <th>N</th>\n",
       "      <td>5.340477</td>\n",
       "    </tr>\n",
       "    <tr>\n",
       "      <th>Ca</th>\n",
       "      <td>-4.739833</td>\n",
       "    </tr>\n",
       "    <tr>\n",
       "      <th>Mn</th>\n",
       "      <td>-8.308591</td>\n",
       "    </tr>\n",
       "  </tbody>\n",
       "</table>\n",
       "</div>"
      ],
      "text/plain": [
       "           I_DRIS\n",
       "Element          \n",
       "P        2.637808\n",
       "Mg       5.070139\n",
       "N        5.340477\n",
       "Ca      -4.739833\n",
       "Mn      -8.308591"
      ]
     },
     "execution_count": 203,
     "metadata": {},
     "output_type": "execute_result"
    }
   ],
   "source": [
    "def calculate_DRIS_index(df_diagnosed, df_optimum):\n",
    "    # calculate ratios\n",
    "    df_optimum_ratios = calculate_ratios(df_optimum)\n",
    "    # df_diagnosed_ratios = calculate_ratios(df_diagnosed)\n",
    "    # calculate CV\n",
    "    df_optimum_CV = calculate_CV(df_optimum_ratios)\n",
    "    # calculate mean _ratios\n",
    "    df_op = pd.DataFrame(df_optimum.mean()).T\n",
    "    df_optimum_mean_ratios = calculate_ratios(df_op)\n",
    "    df_di = pd.DataFrame(df_diagnosed.mean()).T\n",
    "    df_diagnosed_mean_ratios = calculate_ratios(df_di)\n",
    "    # calculate f\n",
    "    df_f = f(df_diagnosed_mean_ratios, df_optimum_mean_ratios, df_optimum_CV)\n",
    "    # calculate indices\n",
    "    DRIS_indices = calculate_all_index_values(df_diagnosed, df_f)\n",
    "    return DRIS_indices\n",
    "\n",
    "DRIS = calculate_DRIS_index(df_diagnosed, df_optimum)\n",
    "DRIS.head()\n"
   ]
  },
  {
   "cell_type": "code",
   "execution_count": 204,
   "metadata": {},
   "outputs": [
    {
     "data": {
      "text/html": [
       "<div>\n",
       "<style scoped>\n",
       "    .dataframe tbody tr th:only-of-type {\n",
       "        vertical-align: middle;\n",
       "    }\n",
       "\n",
       "    .dataframe tbody tr th {\n",
       "        vertical-align: top;\n",
       "    }\n",
       "\n",
       "    .dataframe thead th {\n",
       "        text-align: right;\n",
       "    }\n",
       "</style>\n",
       "<table border=\"1\" class=\"dataframe\">\n",
       "  <thead>\n",
       "    <tr style=\"text-align: right;\">\n",
       "      <th></th>\n",
       "      <th>I_DRIS</th>\n",
       "    </tr>\n",
       "    <tr>\n",
       "      <th>Element</th>\n",
       "      <th></th>\n",
       "    </tr>\n",
       "  </thead>\n",
       "  <tbody>\n",
       "    <tr>\n",
       "      <th>P</th>\n",
       "      <td>3.745126</td>\n",
       "    </tr>\n",
       "    <tr>\n",
       "      <th>Mg</th>\n",
       "      <td>6.263545</td>\n",
       "    </tr>\n",
       "    <tr>\n",
       "      <th>N</th>\n",
       "      <td>5.170348</td>\n",
       "    </tr>\n",
       "    <tr>\n",
       "      <th>Ca</th>\n",
       "      <td>-3.833406</td>\n",
       "    </tr>\n",
       "    <tr>\n",
       "      <th>Mn</th>\n",
       "      <td>-11.345613</td>\n",
       "    </tr>\n",
       "  </tbody>\n",
       "</table>\n",
       "</div>"
      ],
      "text/plain": [
       "            I_DRIS\n",
       "Element           \n",
       "P         3.745126\n",
       "Mg        6.263545\n",
       "N         5.170348\n",
       "Ca       -3.833406\n",
       "Mn      -11.345613"
      ]
     },
     "execution_count": 204,
     "metadata": {},
     "output_type": "execute_result"
    }
   ],
   "source": [
    "def calculate_DRIS_index_mean_of_ratios(df_diagnosed, df_optimum):\n",
    "    # calculate ratios\n",
    "    df_optimum_ratios = calculate_ratios(df_optimum)\n",
    "    # df_diagnosed_ratios = calculate_ratios(df_diagnosed)\n",
    "    # calculate CV\n",
    "    df_optimum_CV = calculate_CV(df_optimum_ratios)\n",
    "    # calculate mean _ratios\n",
    "    df_optimum_ratios = calculate_ratios(df_optimum)\n",
    "    df_optimum_mean_ratios = pd.DataFrame(df_optimum_ratios.mean()).T\n",
    "    \n",
    "    df_diagnosed_ratios = calculate_ratios(df_diagnosed)\n",
    "    df_diagnosed_mean_ratios = pd.DataFrame(df_diagnosed_ratios.mean()).T\n",
    "    # calculate f\n",
    "    df_f = f(df_diagnosed_mean_ratios, df_optimum_mean_ratios, df_optimum_CV)\n",
    "    # calculate indices\n",
    "    DRIS_indices = calculate_all_index_values(df_diagnosed, df_f)\n",
    "    return DRIS_indices\n",
    "\n",
    "DRIS = calculate_DRIS_index_mean_of_ratios(df_diagnosed, df_optimum)\n",
    "DRIS.head()"
   ]
  },
  {
   "cell_type": "markdown",
   "metadata": {},
   "source": [
    "## Nurtional Balance Index average (NBIa)"
   ]
  },
  {
   "cell_type": "code",
   "execution_count": 205,
   "metadata": {},
   "outputs": [
    {
     "data": {
      "text/plain": [
       "np.float64(3.7451260818181815)"
      ]
     },
     "execution_count": 205,
     "metadata": {},
     "output_type": "execute_result"
    }
   ],
   "source": [
    "def calculate_NBIa(df_dris):\n",
    "    \"\"\" This value is for the whole population \"\"\"\n",
    "    n = len(df_dris.values[0])\n",
    "    return np.sum(np.abs(df_dris.values[0]))/n\n",
    "\n",
    "def calculate_NBI(df_dris):\n",
    "    \"\"\" This value is for the whole population \"\"\"\n",
    "    return np.sum(np.abs(df_dris.values))\n",
    "\n",
    "calculate_NBIa(DRIS)"
   ]
  },
  {
   "cell_type": "markdown",
   "metadata": {},
   "source": [
    "## Interpretation"
   ]
  },
  {
   "cell_type": "code",
   "execution_count": 206,
   "metadata": {},
   "outputs": [
    {
     "name": "stdout",
     "output_type": "stream",
     "text": [
      "NBIa =3.75\n",
      "I_DRIS Sufficient\n"
     ]
    }
   ],
   "source": [
    "def interpret(df_dris):\n",
    "    NBIa = calculate_NBIa(df_dris)\n",
    "    print(f\"NBIa ={np.round(NBIa,2)}\")\n",
    "    for i, dris_index in enumerate(df_dris.values[0]):\n",
    "        if dris_index < NBIa and dris_index < 0 and dris_index and dris_index == min(df_dris.values[0]):\n",
    "            print(f\"{df_dris.columns[i]} Deficiency\")\n",
    "        elif dris_index < NBIa and dris_index < 0:\n",
    "            print(f\"{df_dris.columns[i]} Deficiency-prone\")\n",
    "        elif np.round(dris_index,0) == np.round(NBIa,0):\n",
    "            print(f\"{df_dris.columns[i]} Sufficient\")\n",
    "        elif dris_index > NBIa and dris_index > 0 and dris_index == max(df_dris.values[0]):\n",
    "            print(f\"{df_dris.columns[i]} Excess\")\n",
    "        elif dris_index > NBIa and dris_index > 0:\n",
    "            print(f\"{df_dris.columns[i]} Excess-prone\")\n",
    "        elif dris_index > 0 and dris_index < NBIa:\n",
    "            print(f\"{df_dris.columns[i]} dris_index > 0 but dris_index < NBIa\")\n",
    "        else:\n",
    "            print(f\"{df_dris.columns[i]} dris_index < 0 but dris_index > NBIa\")\n",
    "            \n",
    "\n",
    "interpret(DRIS)\n",
    "\n"
   ]
  },
  {
   "cell_type": "code",
   "execution_count": null,
   "metadata": {},
   "outputs": [],
   "source": []
  }
 ],
 "metadata": {
  "kernelspec": {
   "display_name": ".venv",
   "language": "python",
   "name": "python3"
  },
  "language_info": {
   "codemirror_mode": {
    "name": "ipython",
    "version": 3
   },
   "file_extension": ".py",
   "mimetype": "text/x-python",
   "name": "python",
   "nbconvert_exporter": "python",
   "pygments_lexer": "ipython3",
   "version": "3.10.12"
  }
 },
 "nbformat": 4,
 "nbformat_minor": 2
}
