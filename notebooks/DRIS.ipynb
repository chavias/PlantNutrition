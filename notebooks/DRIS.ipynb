{
 "cells": [
  {
   "cell_type": "markdown",
   "metadata": {},
   "source": [
    "# Calculating DRIS index"
   ]
  },
  {
   "cell_type": "code",
   "execution_count": 262,
   "metadata": {},
   "outputs": [],
   "source": [
    "import numpy as np\n",
    "import pandas as pd\n",
    "import matplotlib.pyplot as plt\n",
    "import seaborn as sns\n",
    "from itertools import combinations"
   ]
  },
  {
   "cell_type": "markdown",
   "metadata": {},
   "source": [
    "## Data Processing"
   ]
  },
  {
   "cell_type": "markdown",
   "metadata": {},
   "source": [
    "### Dummy Data"
   ]
  },
  {
   "cell_type": "code",
   "execution_count": 263,
   "metadata": {},
   "outputs": [],
   "source": [
    "data_diagnosed_dict = {\n",
    "    'A': [12],\n",
    "    'Mg': [2],\n",
    "    'C': [1],\n",
    "    'D': [3],\n",
    "    'E': [4]\n",
    "}\n",
    "\n",
    "data_optimum_dict = {\n",
    "    'a': [12,11,10],\n",
    "    'mg': [1,2,3],\n",
    "    'c': [1,4,2],\n",
    "    'd': [1,1,2],\n",
    "    'e': [2,3,4],\n",
    "}\n",
    "\n",
    "df_diagnosed = pd.DataFrame(data_diagnosed_dict)\n",
    "df_optimum = pd.DataFrame(data_optimum_dict)"
   ]
  },
  {
   "cell_type": "markdown",
   "metadata": {},
   "source": [
    "### Calculate ratios"
   ]
  },
  {
   "cell_type": "code",
   "execution_count": 264,
   "metadata": {},
   "outputs": [
    {
     "data": {
      "text/html": [
       "<div>\n",
       "<style scoped>\n",
       "    .dataframe tbody tr th:only-of-type {\n",
       "        vertical-align: middle;\n",
       "    }\n",
       "\n",
       "    .dataframe tbody tr th {\n",
       "        vertical-align: top;\n",
       "    }\n",
       "\n",
       "    .dataframe thead th {\n",
       "        text-align: right;\n",
       "    }\n",
       "</style>\n",
       "<table border=\"1\" class=\"dataframe\">\n",
       "  <thead>\n",
       "    <tr style=\"text-align: right;\">\n",
       "      <th></th>\n",
       "      <th>A/Mg</th>\n",
       "      <th>A/C</th>\n",
       "      <th>A/D</th>\n",
       "      <th>A/E</th>\n",
       "      <th>Mg/C</th>\n",
       "      <th>Mg/D</th>\n",
       "      <th>Mg/E</th>\n",
       "      <th>C/D</th>\n",
       "      <th>C/E</th>\n",
       "      <th>D/E</th>\n",
       "    </tr>\n",
       "  </thead>\n",
       "  <tbody>\n",
       "    <tr>\n",
       "      <th>0</th>\n",
       "      <td>6.0</td>\n",
       "      <td>12.0</td>\n",
       "      <td>4.0</td>\n",
       "      <td>3.0</td>\n",
       "      <td>2.0</td>\n",
       "      <td>0.666667</td>\n",
       "      <td>0.5</td>\n",
       "      <td>0.333333</td>\n",
       "      <td>0.25</td>\n",
       "      <td>0.75</td>\n",
       "    </tr>\n",
       "  </tbody>\n",
       "</table>\n",
       "</div>"
      ],
      "text/plain": [
       "   A/Mg   A/C  A/D  A/E  Mg/C      Mg/D  Mg/E       C/D   C/E   D/E\n",
       "0   6.0  12.0  4.0  3.0   2.0  0.666667   0.5  0.333333  0.25  0.75"
      ]
     },
     "execution_count": 264,
     "metadata": {},
     "output_type": "execute_result"
    }
   ],
   "source": [
    "def calculate_ratios(df):\n",
    "    # Step 2: Calculate the ratios\n",
    "    ratios = {}\n",
    "    for col1, col2 in combinations(df.columns, 2):\n",
    "        ratio_name1 = f\"{col1}/{col2}\"\n",
    "        # ratio_name2 = f\"{col2}/{col1}\"\n",
    "        ratios[ratio_name1] = df[col1] / df[col2]\n",
    "        # ratios[ratio_name2] = df[col2] / df[col1]\n",
    "\n",
    "    return pd.DataFrame(ratios)\n",
    "\n",
    "df_optimum_ratios = calculate_ratios(df_optimum)\n",
    "df_diagnosed_ratios = calculate_ratios(df_diagnosed)\n",
    "df_diagnosed_ratios.head()\n"
   ]
  },
  {
   "cell_type": "markdown",
   "metadata": {},
   "source": [
    "### Calculate coefficient of variation of optimum values"
   ]
  },
  {
   "cell_type": "code",
   "execution_count": 265,
   "metadata": {},
   "outputs": [
    {
     "data": {
      "text/html": [
       "<div>\n",
       "<style scoped>\n",
       "    .dataframe tbody tr th:only-of-type {\n",
       "        vertical-align: middle;\n",
       "    }\n",
       "\n",
       "    .dataframe tbody tr th {\n",
       "        vertical-align: top;\n",
       "    }\n",
       "\n",
       "    .dataframe thead th {\n",
       "        text-align: right;\n",
       "    }\n",
       "</style>\n",
       "<table border=\"1\" class=\"dataframe\">\n",
       "  <thead>\n",
       "    <tr style=\"text-align: right;\">\n",
       "      <th></th>\n",
       "      <th>a/mg</th>\n",
       "      <th>a/c</th>\n",
       "      <th>a/d</th>\n",
       "      <th>a/e</th>\n",
       "      <th>mg/c</th>\n",
       "      <th>mg/d</th>\n",
       "      <th>mg/e</th>\n",
       "      <th>c/d</th>\n",
       "      <th>c/e</th>\n",
       "      <th>d/e</th>\n",
       "    </tr>\n",
       "  </thead>\n",
       "  <tbody>\n",
       "    <tr>\n",
       "      <th>0</th>\n",
       "      <td>64.947979</td>\n",
       "      <td>73.275725</td>\n",
       "      <td>40.563631</td>\n",
       "      <td>43.942507</td>\n",
       "      <td>50.0</td>\n",
       "      <td>33.333333</td>\n",
       "      <td>19.924242</td>\n",
       "      <td>86.60254</td>\n",
       "      <td>61.858957</td>\n",
       "      <td>21.650635</td>\n",
       "    </tr>\n",
       "  </tbody>\n",
       "</table>\n",
       "</div>"
      ],
      "text/plain": [
       "        a/mg        a/c        a/d        a/e  mg/c       mg/d       mg/e  \\\n",
       "0  64.947979  73.275725  40.563631  43.942507  50.0  33.333333  19.924242   \n",
       "\n",
       "        c/d        c/e        d/e  \n",
       "0  86.60254  61.858957  21.650635  "
      ]
     },
     "execution_count": 265,
     "metadata": {},
     "output_type": "execute_result"
    }
   ],
   "source": [
    "def calculate_CV(df_ratios):\n",
    "    cv_dict = {}\n",
    "    for ratio_name, ratio_values in df_ratios.items():\n",
    "        mean_ratio = ratio_values.mean()\n",
    "        std_ratio = ratio_values.std()\n",
    "        cv = (std_ratio / mean_ratio) * 100  # percentage\n",
    "        cv_dict[ratio_name] = [cv]\n",
    "    return pd.DataFrame(cv_dict)\n",
    "\n",
    "df_optimum_CV = calculate_CV(df_optimum_ratios)\n",
    "df_optimum_CV.head()"
   ]
  },
  {
   "cell_type": "markdown",
   "metadata": {},
   "source": [
    "### Calculate rations of the mean of the optimal values"
   ]
  },
  {
   "cell_type": "code",
   "execution_count": 266,
   "metadata": {},
   "outputs": [
    {
     "data": {
      "text/html": [
       "<div>\n",
       "<style scoped>\n",
       "    .dataframe tbody tr th:only-of-type {\n",
       "        vertical-align: middle;\n",
       "    }\n",
       "\n",
       "    .dataframe tbody tr th {\n",
       "        vertical-align: top;\n",
       "    }\n",
       "\n",
       "    .dataframe thead th {\n",
       "        text-align: right;\n",
       "    }\n",
       "</style>\n",
       "<table border=\"1\" class=\"dataframe\">\n",
       "  <thead>\n",
       "    <tr style=\"text-align: right;\">\n",
       "      <th></th>\n",
       "      <th>a/mg</th>\n",
       "      <th>a/c</th>\n",
       "      <th>a/d</th>\n",
       "      <th>a/e</th>\n",
       "      <th>mg/c</th>\n",
       "      <th>mg/d</th>\n",
       "      <th>mg/e</th>\n",
       "      <th>c/d</th>\n",
       "      <th>c/e</th>\n",
       "      <th>d/e</th>\n",
       "    </tr>\n",
       "  </thead>\n",
       "  <tbody>\n",
       "    <tr>\n",
       "      <th>0</th>\n",
       "      <td>5.5</td>\n",
       "      <td>4.714286</td>\n",
       "      <td>8.25</td>\n",
       "      <td>3.666667</td>\n",
       "      <td>0.857143</td>\n",
       "      <td>1.5</td>\n",
       "      <td>0.666667</td>\n",
       "      <td>1.75</td>\n",
       "      <td>0.777778</td>\n",
       "      <td>0.444444</td>\n",
       "    </tr>\n",
       "  </tbody>\n",
       "</table>\n",
       "</div>"
      ],
      "text/plain": [
       "   a/mg       a/c   a/d       a/e      mg/c  mg/d      mg/e   c/d       c/e  \\\n",
       "0   5.5  4.714286  8.25  3.666667  0.857143   1.5  0.666667  1.75  0.777778   \n",
       "\n",
       "        d/e  \n",
       "0  0.444444  "
      ]
     },
     "execution_count": 266,
     "metadata": {},
     "output_type": "execute_result"
    }
   ],
   "source": [
    "df = pd.DataFrame(df_optimum.mean()).T\n",
    "df_optimum_mean_ratios = calculate_ratios(df)\n",
    "df_optimum_mean_ratios.head()"
   ]
  },
  {
   "cell_type": "markdown",
   "metadata": {},
   "source": [
    "## The function f(A/B) \n",
    "\n",
    "\\begin{align}\n",
    "    f(A/B) = \n",
    "    \\begin{cases}\n",
    "    &\\biggl(\\frac{A/B}{a/b} - 1\\biggr)\\frac{1000}{CV} \\quad A/B \\ge a/b\\\\\n",
    "    &\\biggl(1 - \\frac{a/b}{A/B}\\biggr)\\frac{1000}{CV} \\quad A/B < a/b\n",
    "    \\end{cases}\n",
    "\\end{align}\n",
    "\n",
    "- $A/B$ is the ratio of two elements (A and B) in the tissue of the pant being diagnosed.\n",
    "- $a/b$ is the ration of the optimal values \n",
    "- CV is the coefficient of variation of the optimal values $a$ and $b$: $CV = \\sigma/\\mu$ "
   ]
  },
  {
   "cell_type": "code",
   "execution_count": 267,
   "metadata": {},
   "outputs": [
    {
     "data": {
      "text/html": [
       "<div>\n",
       "<style scoped>\n",
       "    .dataframe tbody tr th:only-of-type {\n",
       "        vertical-align: middle;\n",
       "    }\n",
       "\n",
       "    .dataframe tbody tr th {\n",
       "        vertical-align: top;\n",
       "    }\n",
       "\n",
       "    .dataframe thead th {\n",
       "        text-align: right;\n",
       "    }\n",
       "</style>\n",
       "<table border=\"1\" class=\"dataframe\">\n",
       "  <thead>\n",
       "    <tr style=\"text-align: right;\">\n",
       "      <th></th>\n",
       "      <th>f(A/Mg)</th>\n",
       "      <th>f(A/C)</th>\n",
       "      <th>f(A/D)</th>\n",
       "      <th>f(A/E)</th>\n",
       "      <th>f(Mg/C)</th>\n",
       "      <th>f(Mg/D)</th>\n",
       "      <th>f(Mg/E)</th>\n",
       "      <th>f(C/D)</th>\n",
       "      <th>f(C/E)</th>\n",
       "      <th>f(D/E)</th>\n",
       "    </tr>\n",
       "  </thead>\n",
       "  <tbody>\n",
       "    <tr>\n",
       "      <th>0</th>\n",
       "      <td>1.399722</td>\n",
       "      <td>21.090949</td>\n",
       "      <td>-26.193414</td>\n",
       "      <td>-5.057113</td>\n",
       "      <td>26.666667</td>\n",
       "      <td>-37.5</td>\n",
       "      <td>-16.730038</td>\n",
       "      <td>-49.074773</td>\n",
       "      <td>-34.127816</td>\n",
       "      <td>31.754265</td>\n",
       "    </tr>\n",
       "  </tbody>\n",
       "</table>\n",
       "</div>"
      ],
      "text/plain": [
       "    f(A/Mg)     f(A/C)     f(A/D)    f(A/E)    f(Mg/C)  f(Mg/D)    f(Mg/E)  \\\n",
       "0  1.399722  21.090949 -26.193414 -5.057113  26.666667    -37.5 -16.730038   \n",
       "\n",
       "      f(C/D)     f(C/E)     f(D/E)  \n",
       "0 -49.074773 -34.127816  31.754265  "
      ]
     },
     "execution_count": 267,
     "metadata": {},
     "output_type": "execute_result"
    }
   ],
   "source": [
    "def f(df_diagnosed_ratios, df_optimum_mean_ratios, df_optimum_CV):\n",
    "    names = df_diagnosed_ratios.columns\n",
    "    diagnosed_ratios = df_diagnosed_ratios.to_numpy()\n",
    "    optimum_mean_ratios = df_optimum_mean_ratios.to_numpy()\n",
    "    optimum_CV = df_optimum_CV.to_numpy()\n",
    "\n",
    "    def f_single(diagnosed_ratio, optimum_mean_ratio, CV):\n",
    "        if diagnosed_ratio == 0:\n",
    "            return float('inf')  # Return inf or some large number to handle zero division\n",
    "        if diagnosed_ratio >= optimum_mean_ratio:\n",
    "            f = ((diagnosed_ratio / optimum_mean_ratio) - 1) * 1000 / CV\n",
    "        else:\n",
    "            f = (1 - (optimum_mean_ratio / diagnosed_ratio)) * 1000 / CV\n",
    "        return [f]\n",
    "\n",
    "    f_dict = dict()\n",
    "    for i in range(len(names)):\n",
    "        f_dict[f\"f({names[i]})\"] = f_single(diagnosed_ratios[0, i], optimum_mean_ratios[0, i], optimum_CV[0, i])\n",
    "    return pd.DataFrame(f_dict)\n",
    "\n",
    "\n",
    "# Example usage\n",
    "# Assuming df_diagnosed_ratios, df_optimum_mean_ratios, df_optimum_CV are defined DataFrames with similar structure\n",
    "df_f = f(df_diagnosed_ratios, df_optimum_mean_ratios, df_optimum_CV)\n",
    "df_f.head()\n"
   ]
  },
  {
   "cell_type": "markdown",
   "metadata": {},
   "source": [
    "## Calculate DRIS index\n",
    "\n",
    "\n",
    "$\\mathrm{A_{index}} = \\frac{1}{z} f(A/B) + f(A/C) + f(A/D) + \\cdots + f(A/N)$"
   ]
  },
  {
   "cell_type": "code",
   "execution_count": 268,
   "metadata": {},
   "outputs": [
    {
     "name": "stdout",
     "output_type": "stream",
     "text": [
      "None\n"
     ]
    }
   ],
   "source": [
    "import re\n",
    "\n",
    "names = df_f.columns.to_numpy()\n",
    "\n",
    "def create_index(index_letter, names):\n",
    "    # extracted_pairs = []\n",
    "    for name in names:\n",
    "        match = re.search(r'\\((\\w)/(\\w)\\)', name)\n",
    "        if match:\n",
    "            first_letter = match.group(1)\n",
    "            second_letter = match.group(2)\n",
    "            # extracted_pairs.append((first_letter, second_letter))\n",
    "\n",
    "result = create_index('A', names)\n",
    "\n",
    "print(result)"
   ]
  },
  {
   "cell_type": "code",
   "execution_count": 269,
   "metadata": {},
   "outputs": [
    {
     "data": {
      "text/plain": [
       "'I_C = - f(A/C) - f(Mg/C) + f(C/D) + f(C/E)'"
      ]
     },
     "execution_count": 269,
     "metadata": {},
     "output_type": "execute_result"
    }
   ],
   "source": [
    "def create_index_string(index_element, df_diagnosed):\n",
    "    elements = df_diagnosed.columns\n",
    "    result_string = f'I_{elements[index_element]} ='\n",
    "    for i, element in enumerate(elements):\n",
    "        if index_element < i:\n",
    "            result_string += (f' + f({elements[index_element]}/{element})')\n",
    "        elif index_element > i:\n",
    "            result_string += (f' - f({element}/{elements[index_element]})')\n",
    "    return result_string\n",
    "\n",
    "result_string = create_index_string(2,df_diagnosed)\n",
    "result_string"
   ]
  },
  {
   "cell_type": "code",
   "execution_count": 270,
   "metadata": {},
   "outputs": [
    {
     "data": {
      "text/plain": [
       "-8.759857235898371"
      ]
     },
     "execution_count": 270,
     "metadata": {},
     "output_type": "execute_result"
    }
   ],
   "source": [
    "def calculate_index_value(index_element, df_diagnosed, df_f):\n",
    "    f_dict = df_f.to_dict('index')[0]\n",
    "    elements = df_diagnosed.columns\n",
    "    result = 0\n",
    "    for i, element in enumerate(elements):\n",
    "        if index_element < i:\n",
    "            result += f_dict[f'f({elements[index_element]}/{element})']\n",
    "        elif index_element > i:\n",
    "            result -= f_dict[f'f({element}/{elements[index_element]})']\n",
    "    return result\n",
    "\n",
    "calculate_index_value(0,df_diagnosed, df_f)\n"
   ]
  },
  {
   "cell_type": "code",
   "execution_count": 271,
   "metadata": {},
   "outputs": [
    {
     "data": {
      "text/html": [
       "<div>\n",
       "<style scoped>\n",
       "    .dataframe tbody tr th:only-of-type {\n",
       "        vertical-align: middle;\n",
       "    }\n",
       "\n",
       "    .dataframe tbody tr th {\n",
       "        vertical-align: top;\n",
       "    }\n",
       "\n",
       "    .dataframe thead th {\n",
       "        text-align: right;\n",
       "    }\n",
       "</style>\n",
       "<table border=\"1\" class=\"dataframe\">\n",
       "  <thead>\n",
       "    <tr style=\"text-align: right;\">\n",
       "      <th></th>\n",
       "      <th>I_A</th>\n",
       "      <th>I_Mg</th>\n",
       "      <th>I_C</th>\n",
       "      <th>I_D</th>\n",
       "      <th>I_E</th>\n",
       "    </tr>\n",
       "  </thead>\n",
       "  <tbody>\n",
       "    <tr>\n",
       "      <th>0</th>\n",
       "      <td>-8.759857</td>\n",
       "      <td>-28.963093</td>\n",
       "      <td>-130.960204</td>\n",
       "      <td>144.522452</td>\n",
       "      <td>24.160702</td>\n",
       "    </tr>\n",
       "  </tbody>\n",
       "</table>\n",
       "</div>"
      ],
      "text/plain": [
       "        I_A       I_Mg         I_C         I_D        I_E\n",
       "0 -8.759857 -28.963093 -130.960204  144.522452  24.160702"
      ]
     },
     "execution_count": 271,
     "metadata": {},
     "output_type": "execute_result"
    }
   ],
   "source": [
    "def calculate_all_index_values(df_diagnosed, df_f):\n",
    "    elements = df_diagnosed.columns\n",
    "    results_dict = dict()\n",
    "    for i in range(len(elements)):\n",
    "        results_dict[f'I_{elements[i]}'] = [calculate_index_value(i, df_diagnosed, df_f)]\n",
    "    return pd.DataFrame(results_dict)\n",
    "\n",
    "DRIS_indices = calculate_all_index_values(df_diagnosed, df_f)\n",
    "\n",
    "DRIS_indices"
   ]
  },
  {
   "cell_type": "code",
   "execution_count": 272,
   "metadata": {},
   "outputs": [],
   "source": [
    "# save results to CSV \n",
    "# DRIS_indices.to_csv('dris.csv', index=False)\n",
    "DRIS_indices.to_excel('dris.xlsx', index=False)"
   ]
  },
  {
   "cell_type": "code",
   "execution_count": null,
   "metadata": {},
   "outputs": [],
   "source": []
  }
 ],
 "metadata": {
  "kernelspec": {
   "display_name": ".venv",
   "language": "python",
   "name": "python3"
  },
  "language_info": {
   "codemirror_mode": {
    "name": "ipython",
    "version": 3
   },
   "file_extension": ".py",
   "mimetype": "text/x-python",
   "name": "python",
   "nbconvert_exporter": "python",
   "pygments_lexer": "ipython3",
   "version": "3.10.12"
  }
 },
 "nbformat": 4,
 "nbformat_minor": 2
}
