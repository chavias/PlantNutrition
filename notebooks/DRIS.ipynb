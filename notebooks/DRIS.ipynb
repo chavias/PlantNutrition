{
 "cells": [
  {
   "cell_type": "markdown",
   "metadata": {},
   "source": [
    "# Calculating DRIS index"
   ]
  },
  {
   "cell_type": "code",
   "execution_count": 43,
   "metadata": {},
   "outputs": [],
   "source": [
    "import numpy as np\n",
    "import pandas as pd\n",
    "import matplotlib.pyplot as plt\n",
    "import seaborn as sns\n",
    "from itertools import combinations"
   ]
  },
  {
   "cell_type": "markdown",
   "metadata": {},
   "source": [
    "## Data Processing"
   ]
  },
  {
   "cell_type": "markdown",
   "metadata": {},
   "source": [
    "### Dummy Data"
   ]
  },
  {
   "cell_type": "code",
   "execution_count": 44,
   "metadata": {},
   "outputs": [
    {
     "data": {
      "text/html": [
       "<div>\n",
       "<style scoped>\n",
       "    .dataframe tbody tr th:only-of-type {\n",
       "        vertical-align: middle;\n",
       "    }\n",
       "\n",
       "    .dataframe tbody tr th {\n",
       "        vertical-align: top;\n",
       "    }\n",
       "\n",
       "    .dataframe thead th {\n",
       "        text-align: right;\n",
       "    }\n",
       "</style>\n",
       "<table border=\"1\" class=\"dataframe\">\n",
       "  <thead>\n",
       "    <tr style=\"text-align: right;\">\n",
       "      <th></th>\n",
       "      <th>P</th>\n",
       "      <th>Mg</th>\n",
       "      <th>N</th>\n",
       "      <th>Ca</th>\n",
       "      <th>Mn</th>\n",
       "    </tr>\n",
       "  </thead>\n",
       "  <tbody>\n",
       "    <tr>\n",
       "      <th>0</th>\n",
       "      <td>12</td>\n",
       "      <td>2</td>\n",
       "      <td>1</td>\n",
       "      <td>3</td>\n",
       "      <td>4</td>\n",
       "    </tr>\n",
       "    <tr>\n",
       "      <th>1</th>\n",
       "      <td>11</td>\n",
       "      <td>2</td>\n",
       "      <td>2</td>\n",
       "      <td>4</td>\n",
       "      <td>5</td>\n",
       "    </tr>\n",
       "    <tr>\n",
       "      <th>2</th>\n",
       "      <td>10</td>\n",
       "      <td>3</td>\n",
       "      <td>1</td>\n",
       "      <td>3</td>\n",
       "      <td>4</td>\n",
       "    </tr>\n",
       "    <tr>\n",
       "      <th>3</th>\n",
       "      <td>9</td>\n",
       "      <td>3</td>\n",
       "      <td>2</td>\n",
       "      <td>3</td>\n",
       "      <td>2</td>\n",
       "    </tr>\n",
       "  </tbody>\n",
       "</table>\n",
       "</div>"
      ],
      "text/plain": [
       "    P  Mg  N  Ca  Mn\n",
       "0  12   2  1   3   4\n",
       "1  11   2  2   4   5\n",
       "2  10   3  1   3   4\n",
       "3   9   3  2   3   2"
      ]
     },
     "execution_count": 44,
     "metadata": {},
     "output_type": "execute_result"
    }
   ],
   "source": [
    "data_diagnosed_dict = {\n",
    "    'P': [12,11,10, 9],\n",
    "    'Mg': [2,2,3,3],\n",
    "    'N': [1,2,1,2],\n",
    "    'Ca': [3,4,3,3],\n",
    "    'Mn': [4,5,4,2]\n",
    "}\n",
    "\n",
    "data_optimum_dict = {\n",
    "    'p': [12,11,10],\n",
    "    'mg': [2,1,3],\n",
    "    'n': [2,1,1],\n",
    "    'ca': [4,4,3],\n",
    "    'mn': [5,4,4],\n",
    "}\n",
    "\n",
    "df_diagnosed = pd.DataFrame(data_diagnosed_dict)\n",
    "df_optimum = pd.DataFrame(data_optimum_dict)\n",
    "\n",
    "df_diagnosed.head()"
   ]
  },
  {
   "cell_type": "markdown",
   "metadata": {},
   "source": [
    "### Calculate ratios"
   ]
  },
  {
   "cell_type": "code",
   "execution_count": 45,
   "metadata": {},
   "outputs": [
    {
     "data": {
      "text/html": [
       "<div>\n",
       "<style scoped>\n",
       "    .dataframe tbody tr th:only-of-type {\n",
       "        vertical-align: middle;\n",
       "    }\n",
       "\n",
       "    .dataframe tbody tr th {\n",
       "        vertical-align: top;\n",
       "    }\n",
       "\n",
       "    .dataframe thead th {\n",
       "        text-align: right;\n",
       "    }\n",
       "</style>\n",
       "<table border=\"1\" class=\"dataframe\">\n",
       "  <thead>\n",
       "    <tr style=\"text-align: right;\">\n",
       "      <th></th>\n",
       "      <th>P/Mg</th>\n",
       "      <th>P/N</th>\n",
       "      <th>P/Ca</th>\n",
       "      <th>P/Mn</th>\n",
       "      <th>Mg/N</th>\n",
       "      <th>Mg/Ca</th>\n",
       "      <th>Mg/Mn</th>\n",
       "      <th>N/Ca</th>\n",
       "      <th>N/Mn</th>\n",
       "      <th>Ca/Mn</th>\n",
       "    </tr>\n",
       "  </thead>\n",
       "  <tbody>\n",
       "    <tr>\n",
       "      <th>0</th>\n",
       "      <td>6.000000</td>\n",
       "      <td>12.0</td>\n",
       "      <td>4.000000</td>\n",
       "      <td>3.0</td>\n",
       "      <td>2.0</td>\n",
       "      <td>0.666667</td>\n",
       "      <td>0.50</td>\n",
       "      <td>0.333333</td>\n",
       "      <td>0.25</td>\n",
       "      <td>0.75</td>\n",
       "    </tr>\n",
       "    <tr>\n",
       "      <th>1</th>\n",
       "      <td>5.500000</td>\n",
       "      <td>5.5</td>\n",
       "      <td>2.750000</td>\n",
       "      <td>2.2</td>\n",
       "      <td>1.0</td>\n",
       "      <td>0.500000</td>\n",
       "      <td>0.40</td>\n",
       "      <td>0.500000</td>\n",
       "      <td>0.40</td>\n",
       "      <td>0.80</td>\n",
       "    </tr>\n",
       "    <tr>\n",
       "      <th>2</th>\n",
       "      <td>3.333333</td>\n",
       "      <td>10.0</td>\n",
       "      <td>3.333333</td>\n",
       "      <td>2.5</td>\n",
       "      <td>3.0</td>\n",
       "      <td>1.000000</td>\n",
       "      <td>0.75</td>\n",
       "      <td>0.333333</td>\n",
       "      <td>0.25</td>\n",
       "      <td>0.75</td>\n",
       "    </tr>\n",
       "    <tr>\n",
       "      <th>3</th>\n",
       "      <td>3.000000</td>\n",
       "      <td>4.5</td>\n",
       "      <td>3.000000</td>\n",
       "      <td>4.5</td>\n",
       "      <td>1.5</td>\n",
       "      <td>1.000000</td>\n",
       "      <td>1.50</td>\n",
       "      <td>0.666667</td>\n",
       "      <td>1.00</td>\n",
       "      <td>1.50</td>\n",
       "    </tr>\n",
       "  </tbody>\n",
       "</table>\n",
       "</div>"
      ],
      "text/plain": [
       "       P/Mg   P/N      P/Ca  P/Mn  Mg/N     Mg/Ca  Mg/Mn      N/Ca  N/Mn  \\\n",
       "0  6.000000  12.0  4.000000   3.0   2.0  0.666667   0.50  0.333333  0.25   \n",
       "1  5.500000   5.5  2.750000   2.2   1.0  0.500000   0.40  0.500000  0.40   \n",
       "2  3.333333  10.0  3.333333   2.5   3.0  1.000000   0.75  0.333333  0.25   \n",
       "3  3.000000   4.5  3.000000   4.5   1.5  1.000000   1.50  0.666667  1.00   \n",
       "\n",
       "   Ca/Mn  \n",
       "0   0.75  \n",
       "1   0.80  \n",
       "2   0.75  \n",
       "3   1.50  "
      ]
     },
     "execution_count": 45,
     "metadata": {},
     "output_type": "execute_result"
    }
   ],
   "source": [
    "def calculate_ratios(df):\n",
    "    # Step 2: Calculate the ratios\n",
    "    ratios = {}\n",
    "    for col1, col2 in combinations(df.columns, 2):\n",
    "        ratio_name1 = f\"{col1}/{col2}\"\n",
    "        # ratio_name2 = f\"{col2}/{col1}\"\n",
    "        ratios[ratio_name1] = df[col1] / df[col2]\n",
    "        # ratios[ratio_name2] = df[col2] / df[col1]\n",
    "    return pd.DataFrame(ratios)\n",
    "\n",
    "\n",
    "df_optimum_ratios = calculate_ratios(df_optimum)\n",
    "df_diagnosed_ratios = calculate_ratios(df_diagnosed)\n",
    "\n",
    "df_diagnosed_ratios.head()"
   ]
  },
  {
   "cell_type": "markdown",
   "metadata": {},
   "source": [
    "### Calculate coefficient of variation of the optimum values"
   ]
  },
  {
   "cell_type": "code",
   "execution_count": 54,
   "metadata": {},
   "outputs": [
    {
     "data": {
      "text/html": [
       "<div>\n",
       "<style scoped>\n",
       "    .dataframe tbody tr th:only-of-type {\n",
       "        vertical-align: middle;\n",
       "    }\n",
       "\n",
       "    .dataframe tbody tr th {\n",
       "        vertical-align: top;\n",
       "    }\n",
       "\n",
       "    .dataframe thead th {\n",
       "        text-align: right;\n",
       "    }\n",
       "</style>\n",
       "<table border=\"1\" class=\"dataframe\">\n",
       "  <thead>\n",
       "    <tr style=\"text-align: right;\">\n",
       "      <th></th>\n",
       "      <th>p/mg</th>\n",
       "      <th>p/n</th>\n",
       "      <th>p/ca</th>\n",
       "      <th>p/mn</th>\n",
       "      <th>mg/n</th>\n",
       "      <th>mg/ca</th>\n",
       "      <th>mg/mn</th>\n",
       "      <th>n/ca</th>\n",
       "      <th>n/mn</th>\n",
       "      <th>ca/mn</th>\n",
       "    </tr>\n",
       "  </thead>\n",
       "  <tbody>\n",
       "    <tr>\n",
       "      <th>0</th>\n",
       "      <td>57.423868</td>\n",
       "      <td>29.397237</td>\n",
       "      <td>9.665737</td>\n",
       "      <td>7.069708</td>\n",
       "      <td>69.282032</td>\n",
       "      <td>65.465367</td>\n",
       "      <td>54.981444</td>\n",
       "      <td>35.250582</td>\n",
       "      <td>28.867513</td>\n",
       "      <td>15.563243</td>\n",
       "    </tr>\n",
       "  </tbody>\n",
       "</table>\n",
       "</div>"
      ],
      "text/plain": [
       "        p/mg        p/n      p/ca      p/mn       mg/n      mg/ca      mg/mn  \\\n",
       "0  57.423868  29.397237  9.665737  7.069708  69.282032  65.465367  54.981444   \n",
       "\n",
       "        n/ca       n/mn      ca/mn  \n",
       "0  35.250582  28.867513  15.563243  "
      ]
     },
     "execution_count": 54,
     "metadata": {},
     "output_type": "execute_result"
    }
   ],
   "source": [
    "def calculate_CV(df_ratios):\n",
    "    cv_dict = {}\n",
    "    for ratio_name, ratio_values in df_ratios.items():\n",
    "        mean_ratio = ratio_values.mean()\n",
    "        std_ratio = ratio_values.std()\n",
    "        cv = (std_ratio / mean_ratio) * 100  # percentage or not \n",
    "        cv_dict[ratio_name] = [cv]\n",
    "    return pd.DataFrame(cv_dict)\n",
    "\n",
    "df_optimum_CV = calculate_CV(df_optimum_ratios)"
   ]
  },
  {
   "cell_type": "markdown",
   "metadata": {},
   "source": [
    "### Calculate rations of the mean"
   ]
  },
  {
   "cell_type": "code",
   "execution_count": 62,
   "metadata": {},
   "outputs": [
    {
     "data": {
      "text/html": [
       "<div>\n",
       "<style scoped>\n",
       "    .dataframe tbody tr th:only-of-type {\n",
       "        vertical-align: middle;\n",
       "    }\n",
       "\n",
       "    .dataframe tbody tr th {\n",
       "        vertical-align: top;\n",
       "    }\n",
       "\n",
       "    .dataframe thead th {\n",
       "        text-align: right;\n",
       "    }\n",
       "</style>\n",
       "<table border=\"1\" class=\"dataframe\">\n",
       "  <thead>\n",
       "    <tr style=\"text-align: right;\">\n",
       "      <th></th>\n",
       "      <th>P/Mg</th>\n",
       "      <th>P/N</th>\n",
       "      <th>P/Ca</th>\n",
       "      <th>P/Mn</th>\n",
       "      <th>Mg/N</th>\n",
       "      <th>Mg/Ca</th>\n",
       "      <th>Mg/Mn</th>\n",
       "      <th>N/Ca</th>\n",
       "      <th>N/Mn</th>\n",
       "      <th>Ca/Mn</th>\n",
       "    </tr>\n",
       "  </thead>\n",
       "  <tbody>\n",
       "    <tr>\n",
       "      <th>0</th>\n",
       "      <td>4.2</td>\n",
       "      <td>7.0</td>\n",
       "      <td>3.230769</td>\n",
       "      <td>2.8</td>\n",
       "      <td>1.666667</td>\n",
       "      <td>0.769231</td>\n",
       "      <td>0.666667</td>\n",
       "      <td>0.461538</td>\n",
       "      <td>0.4</td>\n",
       "      <td>0.866667</td>\n",
       "    </tr>\n",
       "  </tbody>\n",
       "</table>\n",
       "</div>"
      ],
      "text/plain": [
       "   P/Mg  P/N      P/Ca  P/Mn      Mg/N     Mg/Ca     Mg/Mn      N/Ca  N/Mn  \\\n",
       "0   4.2  7.0  3.230769   2.8  1.666667  0.769231  0.666667  0.461538   0.4   \n",
       "\n",
       "      Ca/Mn  \n",
       "0  0.866667  "
      ]
     },
     "execution_count": 62,
     "metadata": {},
     "output_type": "execute_result"
    }
   ],
   "source": [
    "df_op = pd.DataFrame(df_optimum.mean()).T\n",
    "df_optimum_mean_ratios = calculate_ratios(df_op)\n",
    "\n",
    "df_di = pd.DataFrame(df_diagnosed.mean()).T\n",
    "df_diagnosed_mean_ratios = calculate_ratios(df_di)\n",
    "\n",
    "df_diagnosed_mean_ratios.head()"
   ]
  },
  {
   "cell_type": "code",
   "execution_count": 63,
   "metadata": {},
   "outputs": [
    {
     "data": {
      "text/html": [
       "<div>\n",
       "<style scoped>\n",
       "    .dataframe tbody tr th:only-of-type {\n",
       "        vertical-align: middle;\n",
       "    }\n",
       "\n",
       "    .dataframe tbody tr th {\n",
       "        vertical-align: top;\n",
       "    }\n",
       "\n",
       "    .dataframe thead th {\n",
       "        text-align: right;\n",
       "    }\n",
       "</style>\n",
       "<table border=\"1\" class=\"dataframe\">\n",
       "  <thead>\n",
       "    <tr style=\"text-align: right;\">\n",
       "      <th></th>\n",
       "      <th>p/mg</th>\n",
       "      <th>p/n</th>\n",
       "      <th>p/ca</th>\n",
       "      <th>p/mn</th>\n",
       "      <th>mg/n</th>\n",
       "      <th>mg/ca</th>\n",
       "      <th>mg/mn</th>\n",
       "      <th>n/ca</th>\n",
       "      <th>n/mn</th>\n",
       "      <th>ca/mn</th>\n",
       "    </tr>\n",
       "  </thead>\n",
       "  <tbody>\n",
       "    <tr>\n",
       "      <th>0</th>\n",
       "      <td>5.5</td>\n",
       "      <td>8.25</td>\n",
       "      <td>3.0</td>\n",
       "      <td>2.538462</td>\n",
       "      <td>1.5</td>\n",
       "      <td>0.545455</td>\n",
       "      <td>0.461538</td>\n",
       "      <td>0.363636</td>\n",
       "      <td>0.307692</td>\n",
       "      <td>0.846154</td>\n",
       "    </tr>\n",
       "  </tbody>\n",
       "</table>\n",
       "</div>"
      ],
      "text/plain": [
       "   p/mg   p/n  p/ca      p/mn  mg/n     mg/ca     mg/mn      n/ca      n/mn  \\\n",
       "0   5.5  8.25   3.0  2.538462   1.5  0.545455  0.461538  0.363636  0.307692   \n",
       "\n",
       "      ca/mn  \n",
       "0  0.846154  "
      ]
     },
     "execution_count": 63,
     "metadata": {},
     "output_type": "execute_result"
    }
   ],
   "source": [
    "df_optimum_mean_ratios.head()"
   ]
  },
  {
   "cell_type": "markdown",
   "metadata": {},
   "source": [
    "## Calculate f(A/B) \n",
    "\n",
    "\\begin{align}\n",
    "    f(A/B) = \n",
    "    \\begin{cases}\n",
    "    &\\biggl(\\frac{A/B}{a/b} - 1\\biggr)\\frac{1000}{CV} \\quad A/B \\ge a/b\\\\\n",
    "    &\\biggl(1 - \\frac{a/b}{A/B}\\biggr)\\frac{1000}{CV} \\quad A/B < a/b\n",
    "    \\end{cases}\n",
    "\\end{align}\n",
    "\n",
    "- $A/B$ is the ratio of two elements (A and B) in the tissue of the pant being diagnosed.\n",
    "- $a/b$ is the ration of the optimal values \n",
    "- CV is the coefficient of variation of the optimal values $a$ and $b$: $CV = \\sigma/\\mu$ "
   ]
  },
  {
   "cell_type": "code",
   "execution_count": 48,
   "metadata": {},
   "outputs": [
    {
     "data": {
      "text/html": [
       "<div>\n",
       "<style scoped>\n",
       "    .dataframe tbody tr th:only-of-type {\n",
       "        vertical-align: middle;\n",
       "    }\n",
       "\n",
       "    .dataframe tbody tr th {\n",
       "        vertical-align: top;\n",
       "    }\n",
       "\n",
       "    .dataframe thead th {\n",
       "        text-align: right;\n",
       "    }\n",
       "</style>\n",
       "<table border=\"1\" class=\"dataframe\">\n",
       "  <thead>\n",
       "    <tr style=\"text-align: right;\">\n",
       "      <th></th>\n",
       "      <th>f(P/Mg)</th>\n",
       "      <th>f(P/N)</th>\n",
       "      <th>f(P/Ca)</th>\n",
       "      <th>f(P/Mn)</th>\n",
       "      <th>f(Mg/N)</th>\n",
       "      <th>f(Mg/Ca)</th>\n",
       "      <th>f(Mg/Mn)</th>\n",
       "      <th>f(N/Ca)</th>\n",
       "      <th>f(N/Mn)</th>\n",
       "      <th>f(Ca/Mn)</th>\n",
       "    </tr>\n",
       "  </thead>\n",
       "  <tbody>\n",
       "    <tr>\n",
       "      <th>0</th>\n",
       "      <td>-5.390159</td>\n",
       "      <td>-6.074429</td>\n",
       "      <td>7.958325</td>\n",
       "      <td>14.573487</td>\n",
       "      <td>1.603751</td>\n",
       "      <td>6.26677</td>\n",
       "      <td>8.083535</td>\n",
       "      <td>7.637626</td>\n",
       "      <td>10.392305</td>\n",
       "      <td>1.557672</td>\n",
       "    </tr>\n",
       "  </tbody>\n",
       "</table>\n",
       "</div>"
      ],
      "text/plain": [
       "    f(P/Mg)    f(P/N)   f(P/Ca)    f(P/Mn)   f(Mg/N)  f(Mg/Ca)  f(Mg/Mn)  \\\n",
       "0 -5.390159 -6.074429  7.958325  14.573487  1.603751   6.26677  8.083535   \n",
       "\n",
       "    f(N/Ca)    f(N/Mn)  f(Ca/Mn)  \n",
       "0  7.637626  10.392305  1.557672  "
      ]
     },
     "execution_count": 48,
     "metadata": {},
     "output_type": "execute_result"
    }
   ],
   "source": [
    "def f(df_diagnosed_mean_ratios, df_optimum_mean_ratios, df_optimum_CV):\n",
    "    names = df_diagnosed_mean_ratios.columns\n",
    "    diagnosed_ratios = df_diagnosed_mean_ratios.to_numpy()\n",
    "    optimum_mean_ratios = df_optimum_mean_ratios.to_numpy()\n",
    "    optimum_CV = df_optimum_CV.to_numpy()\n",
    "\n",
    "    def f_single(diagnosed_ratio, optimum_mean_ratio, CV):\n",
    "        if diagnosed_ratio == 0:\n",
    "            return float('inf')  # Return inf or some large number to handle zero division\n",
    "        if diagnosed_ratio >= optimum_mean_ratio:\n",
    "            f = ((diagnosed_ratio / optimum_mean_ratio) - 1) * 1000 / CV\n",
    "        else:\n",
    "            f = (1 - (optimum_mean_ratio / diagnosed_ratio)) * 1000 / CV\n",
    "        return [f]\n",
    "\n",
    "    f_dict = dict()\n",
    "    for i in range(len(names)):\n",
    "        f_dict[f\"f({names[i]})\"] = f_single(diagnosed_ratios[0, i], optimum_mean_ratios[0, i], optimum_CV[0, i])\n",
    "    return pd.DataFrame(f_dict)\n",
    "\n",
    "\n",
    "# Example usage\n",
    "# Assuming df_diagnosed_mean_ratios, df_optimum_mean_ratios, df_optimum_CV are defined DataFrames with similar structure\n",
    "df_f = f(df_diagnosed_mean_ratios, df_optimum_mean_ratios, df_optimum_CV)\n",
    "df_f.head()\n"
   ]
  },
  {
   "cell_type": "markdown",
   "metadata": {},
   "source": [
    "## Calculate DRIS index\n",
    "\n",
    "\n",
    "$\\mathrm{A_{index}} = \\frac{1}{z} \\bigl[f(A/B) + f(A/C) + f(A/D) + \\cdots + f(A/N)\\bigr]$"
   ]
  },
  {
   "cell_type": "code",
   "execution_count": 67,
   "metadata": {},
   "outputs": [
    {
     "data": {
      "text/plain": [
       "'I_N = - f(P/N) - f(Mg/N) + f(N/Ca) + f(N/Mn)'"
      ]
     },
     "execution_count": 67,
     "metadata": {},
     "output_type": "execute_result"
    }
   ],
   "source": [
    "def create_index_string(index_element, df_diagnosed):\n",
    "    ''' Create string representing the the equation to calculate the DRIS index '''\n",
    "    elements = df_diagnosed.columns\n",
    "    result_string = f'I_{elements[index_element]} ='\n",
    "    for i, element in enumerate(elements):\n",
    "        if index_element < i:\n",
    "            result_string += (f' + f({elements[index_element]}/{element})')\n",
    "        elif index_element > i:\n",
    "            result_string += (f' - f({element}/{elements[index_element]})')\n",
    "    return result_string\n",
    "\n",
    "result_string = create_index_string(2,df_diagnosed)\n",
    "result_string"
   ]
  },
  {
   "cell_type": "code",
   "execution_count": 68,
   "metadata": {},
   "outputs": [],
   "source": [
    "def calculate_index_value(index_element, df_diagnosed, df_f):\n",
    "    ''' Calculates the DRIS index '''\n",
    "    f_dict = df_f.to_dict('index')[0]\n",
    "    elements = df_diagnosed.columns\n",
    "    result = 0\n",
    "    for i, element in enumerate(elements):\n",
    "        if index_element < i:\n",
    "            result += f_dict[f'f({elements[index_element]}/{element})']\n",
    "        elif index_element > i:\n",
    "            result -= f_dict[f'f({element}/{elements[index_element]})']\n",
    "    return result"
   ]
  },
  {
   "cell_type": "code",
   "execution_count": 69,
   "metadata": {},
   "outputs": [
    {
     "data": {
      "text/html": [
       "<div>\n",
       "<style scoped>\n",
       "    .dataframe tbody tr th:only-of-type {\n",
       "        vertical-align: middle;\n",
       "    }\n",
       "\n",
       "    .dataframe tbody tr th {\n",
       "        vertical-align: top;\n",
       "    }\n",
       "\n",
       "    .dataframe thead th {\n",
       "        text-align: right;\n",
       "    }\n",
       "</style>\n",
       "<table border=\"1\" class=\"dataframe\">\n",
       "  <thead>\n",
       "    <tr style=\"text-align: right;\">\n",
       "      <th></th>\n",
       "      <th>I_P</th>\n",
       "      <th>I_Mg</th>\n",
       "      <th>I_N</th>\n",
       "      <th>I_Ca</th>\n",
       "      <th>I_Mn</th>\n",
       "    </tr>\n",
       "  </thead>\n",
       "  <tbody>\n",
       "    <tr>\n",
       "      <th>0</th>\n",
       "      <td>11.067223</td>\n",
       "      <td>21.344216</td>\n",
       "      <td>22.500609</td>\n",
       "      <td>-20.305049</td>\n",
       "      <td>-34.606999</td>\n",
       "    </tr>\n",
       "  </tbody>\n",
       "</table>\n",
       "</div>"
      ],
      "text/plain": [
       "         I_P       I_Mg        I_N       I_Ca       I_Mn\n",
       "0  11.067223  21.344216  22.500609 -20.305049 -34.606999"
      ]
     },
     "execution_count": 69,
     "metadata": {},
     "output_type": "execute_result"
    }
   ],
   "source": [
    "def calculate_all_index_values(df_diagnosed, df_f):\n",
    "    elements = df_diagnosed.columns\n",
    "    results_dict = dict()\n",
    "    for i in range(len(elements)):\n",
    "        results_dict[f'I_{elements[i]}'] = [calculate_index_value(i, df_diagnosed, df_f)]\n",
    "    return pd.DataFrame(results_dict)\n",
    "\n",
    "DRIS_indices = calculate_all_index_values(df_diagnosed, df_f)\n",
    "\n",
    "DRIS_indices.head()"
   ]
  },
  {
   "cell_type": "markdown",
   "metadata": {},
   "source": [
    "## Putting it together"
   ]
  },
  {
   "cell_type": "code",
   "execution_count": 53,
   "metadata": {},
   "outputs": [
    {
     "data": {
      "text/html": [
       "<div>\n",
       "<style scoped>\n",
       "    .dataframe tbody tr th:only-of-type {\n",
       "        vertical-align: middle;\n",
       "    }\n",
       "\n",
       "    .dataframe tbody tr th {\n",
       "        vertical-align: top;\n",
       "    }\n",
       "\n",
       "    .dataframe thead th {\n",
       "        text-align: right;\n",
       "    }\n",
       "</style>\n",
       "<table border=\"1\" class=\"dataframe\">\n",
       "  <thead>\n",
       "    <tr style=\"text-align: right;\">\n",
       "      <th></th>\n",
       "      <th>I_P</th>\n",
       "      <th>I_Mg</th>\n",
       "      <th>I_N</th>\n",
       "      <th>I_Ca</th>\n",
       "      <th>I_Mn</th>\n",
       "    </tr>\n",
       "  </thead>\n",
       "  <tbody>\n",
       "    <tr>\n",
       "      <th>0</th>\n",
       "      <td>11.067223</td>\n",
       "      <td>21.344216</td>\n",
       "      <td>22.500609</td>\n",
       "      <td>-20.305049</td>\n",
       "      <td>-34.606999</td>\n",
       "    </tr>\n",
       "  </tbody>\n",
       "</table>\n",
       "</div>"
      ],
      "text/plain": [
       "         I_P       I_Mg        I_N       I_Ca       I_Mn\n",
       "0  11.067223  21.344216  22.500609 -20.305049 -34.606999"
      ]
     },
     "execution_count": 53,
     "metadata": {},
     "output_type": "execute_result"
    }
   ],
   "source": [
    "def calculate_DRIS_index(df_diagnosed, df_optimum):\n",
    "    # calculate ratios\n",
    "    df_optimum_ratios = calculate_ratios(df_optimum)\n",
    "    # df_diagnosed_ratios = calculate_ratios(df_diagnosed)\n",
    "    # calculate CV\n",
    "    df_optimum_CV = calculate_CV(df_optimum_ratios)\n",
    "    # calculate mean _ratios\n",
    "    df_op = pd.DataFrame(df_optimum.mean()).T\n",
    "    df_optimum_mean_ratios = calculate_ratios(df_op)\n",
    "    df_di = pd.DataFrame(df_diagnosed.mean()).T\n",
    "    df_diagnosed_mean_ratios = calculate_ratios(df_di)\n",
    "    # calculate f\n",
    "    df_f = f(df_diagnosed_mean_ratios, df_optimum_mean_ratios, df_optimum_CV)\n",
    "    # calculate indices\n",
    "    DRIS_indices = calculate_all_index_values(df_diagnosed, df_f)\n",
    "    return DRIS_indices\n",
    "\n",
    "DRIS = calculate_DRIS_index(df_diagnosed, df_optimum)\n",
    "DRIS.head()\n"
   ]
  },
  {
   "cell_type": "markdown",
   "metadata": {},
   "source": [
    "## Nurtional Balance Index average (NBIa)"
   ]
  },
  {
   "cell_type": "code",
   "execution_count": 101,
   "metadata": {},
   "outputs": [
    {
     "data": {
      "text/plain": [
       "np.float64(21.964819284601006)"
      ]
     },
     "execution_count": 101,
     "metadata": {},
     "output_type": "execute_result"
    }
   ],
   "source": [
    "def calculate_NBIa(df_dris):\n",
    "    \"\"\" This value is for the whole population \"\"\"\n",
    "    n = len(df_dris.values[0])\n",
    "    return np.sum(np.abs(df_dris.values[0]))/n\n",
    "\n",
    "def calculate_NBI(df_dris):\n",
    "    \"\"\" This value is for the whole population \"\"\"\n",
    "    return np.sum(np.abs(df_dris.values))\n",
    "\n",
    "calculate_NBIa(DRIS)"
   ]
  },
  {
   "cell_type": "markdown",
   "metadata": {},
   "source": [
    "## Interpretation"
   ]
  },
  {
   "cell_type": "code",
   "execution_count": 115,
   "metadata": {},
   "outputs": [
    {
     "name": "stdout",
     "output_type": "stream",
     "text": [
      "NBIa =21.96\n",
      "I_P dris_index > 0 but dris_index < NBIa\n",
      "I_Mg dris_index > 0 but dris_index < NBIa\n",
      "I_N Excess\n",
      "I_Ca Deficiency-prone\n",
      "I_Mn Deficiency\n"
     ]
    }
   ],
   "source": [
    "def interpret(df_dris):\n",
    "    NBIa = calculate_NBIa(df_dris)\n",
    "    print(f\"NBIa ={np.round(NBIa,2)}\")\n",
    "    for i, dris_index in enumerate(df_dris.values[0]):\n",
    "        if dris_index < NBIa and dris_index < 0 and dris_index and dris_index == min(df_dris.values[0]):\n",
    "            print(f\"{df_dris.columns[i]} Deficiency\")\n",
    "        elif dris_index < NBIa and dris_index < 0:\n",
    "            print(f\"{df_dris.columns[i]} Deficiency-prone\")\n",
    "        elif np.round(dris_index,0) == np.round(NBIa,0):\n",
    "            print(f\"{df_dris.columns[i]} Sufficient\")\n",
    "        elif dris_index > NBIa and dris_index > 0 and dris_index == max(df_dris.values[0]):\n",
    "            print(f\"{df_dris.columns[i]} Excess\")\n",
    "        elif dris_index > NBIa and dris_index > 0:\n",
    "            print(f\"{df_dris.columns[i]} Excess-prone\")\n",
    "        elif dris_index > 0 and dris_index < NBIa:\n",
    "            print(f\"{df_dris.columns[i]} dris_index > 0 but dris_index < NBIa\")\n",
    "        else:\n",
    "            print(f\"{df_dris.columns[i]} dris_index < 0 but dris_index > NBIa\")\n",
    "            \n",
    "\n",
    "interpret(DRIS)\n",
    "\n"
   ]
  },
  {
   "cell_type": "code",
   "execution_count": null,
   "metadata": {},
   "outputs": [],
   "source": []
  }
 ],
 "metadata": {
  "kernelspec": {
   "display_name": ".venv",
   "language": "python",
   "name": "python3"
  },
  "language_info": {
   "codemirror_mode": {
    "name": "ipython",
    "version": 3
   },
   "file_extension": ".py",
   "mimetype": "text/x-python",
   "name": "python",
   "nbconvert_exporter": "python",
   "pygments_lexer": "ipython3",
   "version": "3.10.12"
  }
 },
 "nbformat": 4,
 "nbformat_minor": 2
}
