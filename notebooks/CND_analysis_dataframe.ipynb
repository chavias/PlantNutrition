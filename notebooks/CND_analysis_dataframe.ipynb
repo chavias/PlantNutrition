{
 "cells": [
  {
   "cell_type": "markdown",
   "metadata": {},
   "source": [
    "# Compositional Nutrient Diagnosis"
   ]
  },
  {
   "cell_type": "markdown",
   "metadata": {},
   "source": [
    "Compositional Nutrient Diagnosis (CND) is the multivariate expansion of CVA and DRIS\n",
    "and is fully compatible with PCA. CND nutrient indices\n",
    "are composed of two separate functions, one considering differences between nutrient levels, another examining\n",
    "differences between nutrient balances (as defined by nutrient geometric means), of individual and target specimens.\n",
    "These functions indicate that nutrient insufficiency can be corrected by either adding a single nutrient or taking\n",
    "advantage of multiple nutrient interactions to improve nutrient balance as a whole."
   ]
  },
  {
   "cell_type": "code",
   "execution_count": 1,
   "metadata": {},
   "outputs": [],
   "source": [
    "import matplotlib.pyplot as plt\n",
    "import numpy as np\n",
    "import pandas as pd\n",
    "import seaborn as sns\n",
    "from scipy.optimize import minimize"
   ]
  },
  {
   "cell_type": "markdown",
   "metadata": {},
   "source": [
    "## Input concentrations of the nutrients"
   ]
  },
  {
   "cell_type": "code",
   "execution_count": 2,
   "metadata": {},
   "outputs": [],
   "source": [
    "data_diagnosed_dict = {\n",
    "    'P': [12,11,10, 9],\n",
    "    'Mg': [2,2,3,3],\n",
    "    'N': [1,2,1,2],\n",
    "    'Ca': [3,4,3,3],\n",
    "    'Mn': [4,5,4,2]\n",
    "}\n",
    "\n",
    "data_optimum_dict = {\n",
    "    'p': [12,11,10],\n",
    "    'mg': [2,1,3],\n",
    "    'n': [2,1,1],\n",
    "    'ca': [4,4,3],\n",
    "    'mn': [5,4,4],\n",
    "}\n",
    "\n",
    "df_diagnosed = pd.DataFrame(data_diagnosed_dict)\n",
    "df_optimum = pd.DataFrame(data_optimum_dict)"
   ]
  },
  {
   "cell_type": "markdown",
   "metadata": {},
   "source": [
    "## The z-values $z_i$"
   ]
  },
  {
   "cell_type": "markdown",
   "metadata": {},
   "source": [
    "The z-values are defined as $z_i = \\log(x_i/g(x))$\n",
    "\n",
    "- $g(x)$ is the geometric mean"
   ]
  },
  {
   "cell_type": "code",
   "execution_count": 3,
   "metadata": {},
   "outputs": [
    {
     "data": {
      "text/html": [
       "<div>\n",
       "<style scoped>\n",
       "    .dataframe tbody tr th:only-of-type {\n",
       "        vertical-align: middle;\n",
       "    }\n",
       "\n",
       "    .dataframe tbody tr th {\n",
       "        vertical-align: top;\n",
       "    }\n",
       "\n",
       "    .dataframe thead th {\n",
       "        text-align: right;\n",
       "    }\n",
       "</style>\n",
       "<table border=\"1\" class=\"dataframe\">\n",
       "  <thead>\n",
       "    <tr style=\"text-align: right;\">\n",
       "      <th></th>\n",
       "      <th>z_P</th>\n",
       "      <th>z_Mg</th>\n",
       "      <th>z_N</th>\n",
       "      <th>z_Ca</th>\n",
       "      <th>z_Mn</th>\n",
       "    </tr>\n",
       "  </thead>\n",
       "  <tbody>\n",
       "    <tr>\n",
       "      <th>0</th>\n",
       "      <td>1.352315</td>\n",
       "      <td>-0.439445</td>\n",
       "      <td>-1.132592</td>\n",
       "      <td>-0.033980</td>\n",
       "      <td>0.253702</td>\n",
       "    </tr>\n",
       "    <tr>\n",
       "      <th>1</th>\n",
       "      <td>1.041911</td>\n",
       "      <td>-0.662837</td>\n",
       "      <td>-0.662837</td>\n",
       "      <td>0.030310</td>\n",
       "      <td>0.253454</td>\n",
       "    </tr>\n",
       "    <tr>\n",
       "      <th>2</th>\n",
       "      <td>1.125364</td>\n",
       "      <td>-0.078609</td>\n",
       "      <td>-1.177221</td>\n",
       "      <td>-0.078609</td>\n",
       "      <td>0.209074</td>\n",
       "    </tr>\n",
       "    <tr>\n",
       "      <th>3</th>\n",
       "      <td>1.041076</td>\n",
       "      <td>-0.057536</td>\n",
       "      <td>-0.463002</td>\n",
       "      <td>-0.057536</td>\n",
       "      <td>-0.463002</td>\n",
       "    </tr>\n",
       "  </tbody>\n",
       "</table>\n",
       "</div>"
      ],
      "text/plain": [
       "        z_P      z_Mg       z_N      z_Ca      z_Mn\n",
       "0  1.352315 -0.439445 -1.132592 -0.033980  0.253702\n",
       "1  1.041911 -0.662837 -0.662837  0.030310  0.253454\n",
       "2  1.125364 -0.078609 -1.177221 -0.078609  0.209074\n",
       "3  1.041076 -0.057536 -0.463002 -0.057536 -0.463002"
      ]
     },
     "execution_count": 3,
     "metadata": {},
     "output_type": "execute_result"
    }
   ],
   "source": [
    "def calculate_z(df):\n",
    "    ''' Calculates z for CND analysis on a DataFrame input.\n",
    "      Args:\n",
    "        df (pd.DataFrame): DataFrame with columns representing nutrient concentrations for each plant.\n",
    "      Returns:\n",
    "        pd.DataFrame: DataFrame containing z values with column names prefixed by \"z_\".\n",
    "    '''\n",
    "    # Normalize each row so that the sum of nutrients is 1\n",
    "    row_sums = df.sum(axis=1)\n",
    "    x = df.div(row_sums, axis=0)\n",
    "\n",
    "    # Calculate the geometric mean for each row\n",
    "    g = x.prod(axis=1)**(1/x.shape[1])\n",
    "\n",
    "    # Compute z values\n",
    "    z = np.log(x.div(g, axis=0))\n",
    "\n",
    "    # Rename columns to reflect that they are z values\n",
    "    z.columns = [f'z_{col}' for col in df.columns]\n",
    "\n",
    "    return z\n",
    "\n",
    "z_population = calculate_z(df_diagnosed)\n",
    "z_population.head()\n",
    "# add some statistics and show the distribution of the concentration and the z values"
   ]
  },
  {
   "cell_type": "markdown",
   "metadata": {},
   "source": [
    "## The CND index $I_{z_i}$"
   ]
  },
  {
   "cell_type": "markdown",
   "metadata": {},
   "source": [
    "The CND index is given by $I_{z_i}=(Z_i - z_i) / \\sigma_{z_i}$\n",
    "- $Z_i$ is the z-value of the **test** population for nutrient $i$\n",
    "- $z_i$ is the z-value of the **target** population for nutrient $i$\n",
    "- $\\sigma_{z_i}$ is the standard deviation of the z-value of the **target** population for nutrient $i$\n",
    "\n",
    "\n",
    "This index $I_{z_i}$ is the differenz of the z-values normalized by the standart deviation of the target population.\n",
    "Therefore, for each nutrient, $I_{z_i}$ measures the distance between the test and target population.\n",
    "\n",
    "The normalization with $\\sigma_{z_i}$ is to have a sensible scale. If a nutrient of the target population has a large standard deviation it means that the range of 'acceptable' nutrient amount is large. As a result the $I_{z_i}$ for this nutrient is scaled down (smaller) for this nutrient.\n",
    "\n",
    "The interpretation of the the index $I_{z_i}$:\n",
    "- $I_{z_i} < 0$: relative nutrient insufficiency\n",
    "- $I_{z_i} = 0$: relative nutrient balance\n",
    "- $I_{z_i} > 0$: relative nutrient excess\n",
    "\n",
    "\n",
    "We can deepen the dicussion of $I_{z_i}$ by writing it as a sum and analysing each term:\n",
    "\n",
    "$I_{z_i} = \\frac{1}{\\sigma_{z_i}} \\biggl[\\underbrace{\\log\\left( \\frac{X_i}{x_i} \\right)}_{ f(X_i)} + \\underbrace{ \\log\\left( \\frac{g(X_i)}{g(x_i)} \\right)}_{ f(g(X_i))} \\biggr]$\n",
    "\n",
    "- The first term $f(X_i) = \\log\\left( \\frac{X_i}{x_i} \\right)$ is only dependent on the **individual** nutrient\n",
    "- The second term $f(X_i) = \\log\\left( \\frac{g(X_i)}{g(x_i)} \\right)$ is only dependent on the geometric means $g$ therefore takes into acount **every** nutrient"
   ]
  },
  {
   "cell_type": "code",
   "execution_count": 4,
   "metadata": {},
   "outputs": [
    {
     "data": {
      "text/html": [
       "<div>\n",
       "<style scoped>\n",
       "    .dataframe tbody tr th:only-of-type {\n",
       "        vertical-align: middle;\n",
       "    }\n",
       "\n",
       "    .dataframe tbody tr th {\n",
       "        vertical-align: top;\n",
       "    }\n",
       "\n",
       "    .dataframe thead th {\n",
       "        text-align: right;\n",
       "    }\n",
       "</style>\n",
       "<table border=\"1\" class=\"dataframe\">\n",
       "  <thead>\n",
       "    <tr style=\"text-align: right;\">\n",
       "      <th></th>\n",
       "      <th>I_P</th>\n",
       "      <th>I_Mg</th>\n",
       "      <th>I_N</th>\n",
       "      <th>I_Ca</th>\n",
       "      <th>I_Mn</th>\n",
       "    </tr>\n",
       "  </thead>\n",
       "  <tbody>\n",
       "    <tr>\n",
       "      <th>0</th>\n",
       "      <td>-0.423486</td>\n",
       "      <td>0.596274</td>\n",
       "      <td>0.410194</td>\n",
       "      <td>-0.574762</td>\n",
       "      <td>-2.662266</td>\n",
       "    </tr>\n",
       "  </tbody>\n",
       "</table>\n",
       "</div>"
      ],
      "text/plain": [
       "        I_P      I_Mg       I_N      I_Ca      I_Mn\n",
       "0 -0.423486  0.596274  0.410194 -0.574762 -2.662266"
      ]
     },
     "execution_count": 4,
     "metadata": {},
     "output_type": "execute_result"
    }
   ],
   "source": [
    "def calculate_I(df_diagnosed, df_optimum):\n",
    "    ''' \n",
    "    Calculates I for CND analysis using DataFrame inputs, based on the mean z values.\n",
    "      Args:\n",
    "        df_diagnosed (pd.DataFrame): DataFrame with nutrient concentrations of the diagnosed population.\n",
    "        df_optimum (pd.DataFrame): DataFrame with nutrient concentrations of the optimum (target) population.\n",
    "      Returns:\n",
    "        pd.DataFrame: DataFrame containing I values with column names prefixed by \"I_\".\n",
    "    '''\n",
    "    # Calculate z values for diagnosed and optimum using the calculate_z function\n",
    "    z_diagnosed = calculate_z(df_diagnosed)\n",
    "    z_optimum = calculate_z(df_optimum)\n",
    "\n",
    "    # Calculate mean z values for each nutrient\n",
    "    mean_z_diagnosed = z_diagnosed.mean(axis=0)\n",
    "    mean_z_optimum = z_optimum.mean(axis=0)\n",
    "\n",
    "    # Calculate standard deviations for each nutrient across optimum rows\n",
    "    stds = z_optimum.std(axis=0)\n",
    "\n",
    "    # Calculate I values for each nutrient using the mean z values\n",
    "    I_values = (mean_z_diagnosed.values - mean_z_optimum.values) / stds.values\n",
    "\n",
    "    # Convert the I values to a DataFrame and rename columns to reflect they are I values\n",
    "    I_values_df = pd.DataFrame([I_values], columns=[f'I_{col}' for col in df_diagnosed.columns])\n",
    "\n",
    "    return I_values_df\n",
    "\n",
    "Is = calculate_I(df_diagnosed, df_optimum)\n",
    "\n",
    "Is.head()"
   ]
  },
  {
   "cell_type": "markdown",
   "metadata": {},
   "source": [
    "## Visualization of the I index"
   ]
  },
  {
   "cell_type": "code",
   "execution_count": 6,
   "metadata": {},
   "outputs": [
    {
     "data": {
      "text/plain": [
       "<Axes: >"
      ]
     },
     "execution_count": 6,
     "metadata": {},
     "output_type": "execute_result"
    },
    {
     "data": {
      "image/png": "[encoded data removed]",
      "text/plain": [
       "<Figure size 640x480 with 1 Axes>"
      ]
     },
     "metadata": {},
     "output_type": "display_data"
    }
   ],
   "source": [
    "def plot_bar_for_each_row(data):\n",
    "    # Ensure the input is a DataFrame\n",
    "    if not isinstance(data, pd.DataFrame):\n",
    "        raise ValueError(\"Input must be a Pandas DataFrame\")\n",
    "    \n",
    "    # Replace NaN or Inf values with 0 for plotting purposes\n",
    "    data = data.replace([np.inf, -np.inf], np.nan).fillna(0)\n",
    "    \n",
    "    num_rows, num_cols = data.shape\n",
    "    column_names = data.columns\n",
    "\n",
    "    # Adjust grid size based on data\n",
    "    rows = (num_rows // num_cols) + (1 if num_rows % num_cols else 0)\n",
    "    \n",
    "    # Create subplots with a grid layout\n",
    "    fig, axes = plt.subplots(rows, num_cols, figsize=(16, 8))\n",
    "    axes = np.atleast_1d(axes).flatten()\n",
    "    \n",
    "    # Determine y-axis limits\n",
    "    y_min = data.min().min()\n",
    "    y_max = data.max().max()\n",
    "    y_shift = 1\n",
    "\n",
    "    # Plot each row as a separate bar plot\n",
    "    for i, (index, row) in enumerate(data.iterrows()):\n",
    "        axes[i].bar(column_names, row)\n",
    "        axes[i].set_title(f'Plant {index + 1}')\n",
    "        axes[i].set_xlabel('Nutrient')\n",
    "        axes[i].set_ylabel('$I_z$')\n",
    "        axes[i].set_ylim([y_min - y_shift, y_max + y_shift])\n",
    "\n",
    "    # Hide unused subplots if any\n",
    "    for j in range(i + 1, len(axes)):\n",
    "        axes[j].set_visible(False)\n",
    "    \n",
    "    plt.tight_layout()\n",
    "    plt.show()\n",
    "\n",
    "Is.plot.bar()\n",
    "\n"
   ]
  },
  {
   "cell_type": "code",
   "execution_count": 537,
   "metadata": {},
   "outputs": [],
   "source": [
    "std_nutrient = np.std(Is, axis=0)\n",
    "variance_nutrient = np.var(Is, axis=0)"
   ]
  },
  {
   "cell_type": "markdown",
   "metadata": {},
   "source": [
    "Interesing plots could be:\n",
    "\n",
    "1. Distribution of Is per nutrient\n",
    "2. Varience per nutrient as barplot\n",
    "3. "
   ]
  },
  {
   "cell_type": "code",
   "execution_count": 538,
   "metadata": {},
   "outputs": [
    {
     "data": {
      "text/plain": [
       "Text(0.5, 1.0, 'Standard deviation per nutrient')"
      ]
     },
     "execution_count": 538,
     "metadata": {},
     "output_type": "execute_result"
    },
    {
     "data": {
      "image/png": "[encoded data removed]",
      "text/plain": [
       "<Figure size 800x400 with 2 Axes>"
      ]
     },
     "metadata": {},
     "output_type": "display_data"
    }
   ],
   "source": [
    "fig, ax = plt.subplots(1,2, figsize=(8,4))\n",
    "sns.barplot(data=variance_nutrient, ax=ax[0])\n",
    "ax[0].set_title('Variance per nutrient')\n",
    "sns.barplot(data=std_nutrient, ax=ax[1])\n",
    "ax[1].set_title('Standard deviation per nutrient')"
   ]
  },
  {
   "cell_type": "markdown",
   "metadata": {},
   "source": [
    "## Optimizing relative fertilizer mixture"
   ]
  },
  {
   "cell_type": "markdown",
   "metadata": {},
   "source": [
    "In the following we optimize the relative amount of fertilizer to get the minimal relative nutrient deficiency/excess based on the I-index.\n",
    "Note, that the I value does not report about absolute concentration of nutrients. Therefore we can only obtain the relative amount.\n",
    "The absolute amount of the fertilizer mixture can be obtained from a subsequent optimization, where the difference of absolute nutrient concentrations is optimized."
   ]
  },
  {
   "cell_type": "code",
   "execution_count": 539,
   "metadata": {},
   "outputs": [],
   "source": [
    "\"\"\"\n",
    "In the following only a  the fertilizer mixture for plant 1 is optimized. \n",
    "This step has to be repeated for each plant.\n",
    "\"\"\"\n",
    "\n",
    "def objective_function(params, c_population, c_fertilizer1, c_fertilizer2, c_target):\n",
    "    a, b = params\n",
    "    # Calculate the value to be minimized\n",
    "    value = np.sum(np.abs(calculate_I(\n",
    "        c_population=(c_population[0, :] + a * c_fertilizer1 + b * c_fertilizer2),\n",
    "        c_target=c_target[0, :]\n",
    "    )))\n",
    "    return value  # We want to minimize this value\n",
    "\n",
    "def optimize_a_b(c_population, c_fertilizer1, c_fertilizer2, c_target):\n",
    "    # Initial guess for a and b\n",
    "    initial_guess = [0, 0]\n",
    "    bounds = [(0, None), (0, None)]  # (lower bound, upper bound) for a and b\n",
    "    \n",
    "    # Call the optimizer\n",
    "    result = minimize(objective_function, initial_guess, \n",
    "                      args=(c_population, c_fertilizer1, c_fertilizer2, c_target),\n",
    "                      bounds = bounds,  # (lower bound, upper bound) for a and b\n",
    "                      method='L-BFGS-B')  # BFGS is a commonly used optimization method\n",
    "    \n",
    "    # Extract the optimized values of a and b\n",
    "    a_opt, b_opt = result.x\n",
    "    return a_opt, b_opt, result.fun  # Return optimized a, b, and the minimized value\n"
   ]
  },
  {
   "cell_type": "code",
   "execution_count": 540,
   "metadata": {},
   "outputs": [
    {
     "name": "stdout",
     "output_type": "stream",
     "text": [
      "minimized_value=5.974567690656485\n",
      "[a_opt, b_opt]=[4.2128625386594685, 0.0]\n",
      "value=array([ 5.38862642e-10, -2.07709548e+00, -5.61614850e-01,  2.98728384e+00,\n",
      "       -3.48573512e-01])\n",
      "np.abs(value)=array([5.38862642e-10, 2.07709548e+00, 5.61614850e-01, 2.98728384e+00,\n",
      "       3.48573512e-01])\n",
      "np.sum(np.abs(value))=5.974567690656485\n"
     ]
    }
   ],
   "source": [
    "c_fertilizer1 = np.abs(np.random.sample(5))\n",
    "c_fertilizer2 = np.abs(np.random.sample(5))\n",
    "a_opt, b_opt, minimized_value = optimize_a_b(c_population, c_fertilizer1, c_fertilizer2, c_target)\n",
    "\n",
    "print(f\"{minimized_value=}\")\n",
    "value = calculate_I(c_population=(c_population[0,:]+a_opt*c_fertilizer1+b_opt*c_fertilizer2),c_target=c_target[0,:])\n",
    "print(f\"{[a_opt, b_opt]=}\")\n",
    "print(f\"{value=}\")\n",
    "print(f\"{np.abs(value)=}\")\n",
    "print(f\"{np.sum(np.abs(value))=}\")"
   ]
  },
  {
   "cell_type": "markdown",
   "metadata": {},
   "source": [
    "### Constraint optimization"
   ]
  },
  {
   "cell_type": "code",
   "execution_count": 541,
   "metadata": {},
   "outputs": [
    {
     "name": "stdout",
     "output_type": "stream",
     "text": [
      "Optimization failed: Positive directional derivative for linesearch\n"
     ]
    }
   ],
   "source": [
    "\"\"\"\n",
    "Currently not converging \n",
    "\"\"\"\n",
    "\n",
    "\n",
    "# Define the objective function (optional, can just return 0 since we only care about constraints)\n",
    "def objective_function(params, c_population, c_fertilizer1, c_fertilizer2, c_target):\n",
    "    # The objective can be something to minimize, like sum of absolute differences.\n",
    "    # However, in this case, we primarily care about constraints.\n",
    "    return 0  # We don't need to minimize anything, we just want the values to be within the range\n",
    "\n",
    "# Define the constraint function (ensures values are within the specified range)\n",
    "def constraint_function(params, c_population, c_fertilizer1, c_fertilizer2, c_target, lower_bounds, upper_bounds):\n",
    "    a, b = params\n",
    "    # Compute the values from calculate_I\n",
    "    values = calculate_I(\n",
    "        c_population=(c_population[0, :] + a * c_fertilizer1 + b * c_fertilizer2),\n",
    "        c_target=c_target[0, :]\n",
    "    )\n",
    "    \n",
    "    # Create constraint inequalities: lower_bounds <= values <= upper_bounds\n",
    "    return np.concatenate([values - lower_bounds, upper_bounds - values])\n",
    "\n",
    "def optimize_a_b_with_constraints(c_population, c_fertilizer1, c_fertilizer2, c_target, lower_bounds, upper_bounds):\n",
    "    # Initial guess for a and b\n",
    "    initial_guess = [0, 0]\n",
    "    \n",
    "    # Define the bounds as constraints for scipy minimize\n",
    "    constraints = {\n",
    "        'type': 'ineq',  # Inequality: ensures values are within bounds\n",
    "        'fun': constraint_function,\n",
    "        'args': (c_population, c_fertilizer1, c_fertilizer2, c_target, lower_bounds, upper_bounds)\n",
    "    }\n",
    "    \n",
    "    # Call the optimizer\n",
    "    result = minimize(objective_function, initial_guess, \n",
    "                      args=(c_population, c_fertilizer1, c_fertilizer2, c_target),\n",
    "                      constraints=constraints, method='SLSQP')  # SLSQP supports constrained optimization\n",
    "    \n",
    "    # Extract the optimized values of a and b\n",
    "    if result.success:\n",
    "        a_opt, b_opt = result.x\n",
    "        return a_opt, b_opt, result.fun  # Return optimized a, b, and minimized value (if applicable)\n",
    "    else:\n",
    "        print(\"Optimization failed:\", result.message)\n",
    "        return None, None, None  # Return None if the optimization fails\n",
    "\n",
    "# Example usage (replace these with actual values):\n",
    "lower_bounds = np.array([0.1, 0.2, 0.3, 0.4, 1])  # Example lower bounds for each of the 4 values\n",
    "upper_bounds = np.array([1.0, 1.5, 2.0, 2.5, 2])  # Example upper bounds for each of the 4 values\n",
    "\n",
    "a_opt, b_opt, minimized_value = optimize_a_b_with_constraints(c_population, c_fertilizer1, c_fertilizer2, c_target, lower_bounds, upper_bounds)\n"
   ]
  },
  {
   "cell_type": "code",
   "execution_count": 542,
   "metadata": {},
   "outputs": [],
   "source": [
    "# value = calculate_I(c_population=(c_population[0,:]+a_opt*c_fertilizer1+b_opt*c_fertilizer2),c_target=c_target[0,:])\n",
    "# print(f\"{value=}\")\n",
    "# print(f\"{np.sum(np.abs(value))=}\")"
   ]
  },
  {
   "cell_type": "markdown",
   "metadata": {},
   "source": [
    "## Optimizing the absolute amount of fertilizer"
   ]
  },
  {
   "cell_type": "markdown",
   "metadata": {},
   "source": [
    "In the followin we optimize the amount we have to add of this fertilizer mixture."
   ]
  },
  {
   "cell_type": "markdown",
   "metadata": {},
   "source": []
  }
 ],
 "metadata": {
  "kernelspec": {
   "display_name": ".venv",
   "language": "python",
   "name": "python3"
  },
  "language_info": {
   "codemirror_mode": {
    "name": "ipython",
    "version": 3
   },
   "file_extension": ".py",
   "mimetype": "text/x-python",
   "name": "python",
   "nbconvert_exporter": "python",
   "pygments_lexer": "ipython3",
   "version": "3.10.12"
  }
 },
 "nbformat": 4,
 "nbformat_minor": 2
}
