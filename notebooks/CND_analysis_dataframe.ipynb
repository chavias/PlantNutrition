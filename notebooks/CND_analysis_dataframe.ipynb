{
 "cells": [
  {
   "cell_type": "markdown",
   "metadata": {},
   "source": [
    "# Compositional Nutrient Diagnosis"
   ]
  },
  {
   "cell_type": "markdown",
   "metadata": {},
   "source": [
    "Compositional Nutrient Diagnosis (CND) is the multivariate expansion of CVA and DRIS\n",
    "and is fully compatible with PCA. CND nutrient indices\n",
    "are composed of two separate functions, one considering differences between nutrient levels, another examining\n",
    "differences between nutrient balances (as defined by nutrient geometric means), of individual and target specimens.\n",
    "These functions indicate that nutrient insufficiency can be corrected by either adding a single nutrient or taking\n",
    "advantage of multiple nutrient interactions to improve nutrient balance as a whole."
   ]
  },
  {
   "cell_type": "code",
   "execution_count": 27,
   "metadata": {},
   "outputs": [],
   "source": [
    "import matplotlib.pyplot as plt\n",
    "import numpy as np\n",
    "import pandas as pd"
   ]
  },
  {
   "cell_type": "markdown",
   "metadata": {},
   "source": [
    "## Input concentrations of the nutrients"
   ]
  },
  {
   "cell_type": "code",
   "execution_count": 28,
   "metadata": {},
   "outputs": [],
   "source": [
    "data_diagnosed_dict = {\n",
    "    'P': [12,11,10, 9],\n",
    "    'Mg': [2,2,3,3],\n",
    "    'N': [1,2,1,2],\n",
    "    'Ca': [3,4,3,3],\n",
    "    'Mn': [4,5,4,2]\n",
    "}\n",
    "\n",
    "data_optimum_dict = {\n",
    "    'p': [12,11,10],\n",
    "    'mg': [2,1,3],\n",
    "    'n': [2,1,1],\n",
    "    'ca': [4,4,3],\n",
    "    'mn': [5,4,4],\n",
    "}\n",
    "\n",
    "df_diagnosed = pd.DataFrame(data_diagnosed_dict)\n",
    "df_optimum = pd.DataFrame(data_optimum_dict)"
   ]
  },
  {
   "cell_type": "markdown",
   "metadata": {},
   "source": [
    "## The z-values $z_i$"
   ]
  },
  {
   "cell_type": "markdown",
   "metadata": {},
   "source": [
    "The z-values are defined as $z_i = \\log(x_i/g(x))$\n",
    "\n",
    "- $g(x)$ is the geometric mean"
   ]
  },
  {
   "cell_type": "code",
   "execution_count": 29,
   "metadata": {},
   "outputs": [
    {
     "data": {
      "text/html": [
       "<div>\n",
       "<style scoped>\n",
       "    .dataframe tbody tr th:only-of-type {\n",
       "        vertical-align: middle;\n",
       "    }\n",
       "\n",
       "    .dataframe tbody tr th {\n",
       "        vertical-align: top;\n",
       "    }\n",
       "\n",
       "    .dataframe thead th {\n",
       "        text-align: right;\n",
       "    }\n",
       "</style>\n",
       "<table border=\"1\" class=\"dataframe\">\n",
       "  <thead>\n",
       "    <tr style=\"text-align: right;\">\n",
       "      <th></th>\n",
       "      <th>z_P</th>\n",
       "      <th>z_Mg</th>\n",
       "      <th>z_N</th>\n",
       "      <th>z_Ca</th>\n",
       "      <th>z_Mn</th>\n",
       "    </tr>\n",
       "  </thead>\n",
       "  <tbody>\n",
       "    <tr>\n",
       "      <th>0</th>\n",
       "      <td>1.352315</td>\n",
       "      <td>-0.439445</td>\n",
       "      <td>-1.132592</td>\n",
       "      <td>-0.033980</td>\n",
       "      <td>0.253702</td>\n",
       "    </tr>\n",
       "    <tr>\n",
       "      <th>1</th>\n",
       "      <td>1.041911</td>\n",
       "      <td>-0.662837</td>\n",
       "      <td>-0.662837</td>\n",
       "      <td>0.030310</td>\n",
       "      <td>0.253454</td>\n",
       "    </tr>\n",
       "    <tr>\n",
       "      <th>2</th>\n",
       "      <td>1.125364</td>\n",
       "      <td>-0.078609</td>\n",
       "      <td>-1.177221</td>\n",
       "      <td>-0.078609</td>\n",
       "      <td>0.209074</td>\n",
       "    </tr>\n",
       "    <tr>\n",
       "      <th>3</th>\n",
       "      <td>1.041076</td>\n",
       "      <td>-0.057536</td>\n",
       "      <td>-0.463002</td>\n",
       "      <td>-0.057536</td>\n",
       "      <td>-0.463002</td>\n",
       "    </tr>\n",
       "  </tbody>\n",
       "</table>\n",
       "</div>"
      ],
      "text/plain": [
       "        z_P      z_Mg       z_N      z_Ca      z_Mn\n",
       "0  1.352315 -0.439445 -1.132592 -0.033980  0.253702\n",
       "1  1.041911 -0.662837 -0.662837  0.030310  0.253454\n",
       "2  1.125364 -0.078609 -1.177221 -0.078609  0.209074\n",
       "3  1.041076 -0.057536 -0.463002 -0.057536 -0.463002"
      ]
     },
     "execution_count": 29,
     "metadata": {},
     "output_type": "execute_result"
    }
   ],
   "source": [
    "def calculate_z(df):\n",
    "    ''' Calculates z for CND analysis on a DataFrame input.\n",
    "      Args:\n",
    "        df (pd.DataFrame): DataFrame with columns representing nutrient concentrations for each plant.\n",
    "      Returns:\n",
    "        pd.DataFrame: DataFrame containing z values with column names prefixed by \"z_\".\n",
    "    '''\n",
    "    # Normalize each row so that the sum of nutrients is 1\n",
    "    row_sums = df.sum(axis=1)\n",
    "    x = df.div(row_sums, axis=0)\n",
    "\n",
    "    # Calculate the geometric mean for each row\n",
    "    g = x.prod(axis=1)**(1/x.shape[1])\n",
    "\n",
    "    # Compute z values\n",
    "    z = np.log(x.div(g, axis=0))\n",
    "\n",
    "    # Rename columns to reflect that they are z values\n",
    "    z.columns = [f'z_{col}' for col in df.columns]\n",
    "\n",
    "    return z\n",
    "\n",
    "z_population = calculate_z(df_diagnosed)\n",
    "z_population.head()"
   ]
  },
  {
   "cell_type": "markdown",
   "metadata": {},
   "source": [
    "## The CND index $I_{z_i}$"
   ]
  },
  {
   "cell_type": "markdown",
   "metadata": {},
   "source": [
    "The CND index is given by $I_{z_i}=(Z_i - z_i) / \\sigma_{z_i}$\n",
    "- $Z_i$ is the z-value of the **test** population for nutrient $i$\n",
    "- $z_i$ is the z-value of the **target** population for nutrient $i$\n",
    "- $\\sigma_{z_i}$ is the standard deviation of the z-value of the **target** population for nutrient $i$\n",
    "\n",
    "\n",
    "This index $I_{z_i}$ is the differenz of the z-values normalized by the standart deviation of the target population.\n",
    "Therefore, for each nutrient, $I_{z_i}$ measures the distance between the test and target population.\n",
    "\n",
    "The normalization with $\\sigma_{z_i}$ is to have a sensible scale. If a nutrient of the target population has a large standard deviation it means that the range of 'acceptable' nutrient amount is large. As a result the $I_{z_i}$ for this nutrient is scaled down (smaller) for this nutrient.\n",
    "\n",
    "The interpretation of the the index $I_{z_i}$:\n",
    "- $I_{z_i} < 0$: relative nutrient insufficiency\n",
    "- $I_{z_i} = 0$: relative nutrient balance\n",
    "- $I_{z_i} > 0$: relative nutrient excess\n",
    "\n",
    "\n",
    "We can deepen the dicussion of $I_{z_i}$ by writing it as a sum and analysing each term:\n",
    "\n",
    "$I_{z_i} = \\frac{1}{\\sigma_{z_i}} \\biggl[\\underbrace{\\log\\left( \\frac{X_i}{x_i} \\right)}_{ f(X_i)} + \\underbrace{ \\log\\left( \\frac{g(X_i)}{g(x_i)} \\right)}_{ f(g(X_i))} \\biggr]$\n",
    "\n",
    "- The first term $f(X_i) = \\log\\left( \\frac{X_i}{x_i} \\right)$ is only dependent on the **individual** nutrient\n",
    "- The second term $f(X_i) = \\log\\left( \\frac{g(X_i)}{g(x_i)} \\right)$ is only dependent on the geometric means $g$ therefore takes into acount **every** nutrient"
   ]
  },
  {
   "cell_type": "code",
   "execution_count": 30,
   "metadata": {},
   "outputs": [
    {
     "data": {
      "text/html": [
       "<div>\n",
       "<style scoped>\n",
       "    .dataframe tbody tr th:only-of-type {\n",
       "        vertical-align: middle;\n",
       "    }\n",
       "\n",
       "    .dataframe tbody tr th {\n",
       "        vertical-align: top;\n",
       "    }\n",
       "\n",
       "    .dataframe thead th {\n",
       "        text-align: right;\n",
       "    }\n",
       "</style>\n",
       "<table border=\"1\" class=\"dataframe\">\n",
       "  <thead>\n",
       "    <tr style=\"text-align: right;\">\n",
       "      <th></th>\n",
       "      <th>P</th>\n",
       "      <th>Mg</th>\n",
       "      <th>N</th>\n",
       "      <th>Ca</th>\n",
       "      <th>Mn</th>\n",
       "    </tr>\n",
       "  </thead>\n",
       "  <tbody>\n",
       "    <tr>\n",
       "      <th>CND</th>\n",
       "      <td>-0.423486</td>\n",
       "      <td>0.596274</td>\n",
       "      <td>0.410194</td>\n",
       "      <td>-0.574762</td>\n",
       "      <td>-2.662266</td>\n",
       "    </tr>\n",
       "    <tr>\n",
       "      <th>Standard Deviation optimum</th>\n",
       "      <td>1.000000</td>\n",
       "      <td>1.000000</td>\n",
       "      <td>0.577350</td>\n",
       "      <td>0.577350</td>\n",
       "      <td>0.577350</td>\n",
       "    </tr>\n",
       "  </tbody>\n",
       "</table>\n",
       "</div>"
      ],
      "text/plain": [
       "                                   P        Mg         N        Ca        Mn\n",
       "CND                        -0.423486  0.596274  0.410194 -0.574762 -2.662266\n",
       "Standard Deviation optimum  1.000000  1.000000  0.577350  0.577350  0.577350"
      ]
     },
     "execution_count": 30,
     "metadata": {},
     "output_type": "execute_result"
    }
   ],
   "source": [
    "def calculate_I(df_diagnosed, df_optimum):\n",
    "    ''' \n",
    "    Calculates I for CND analysis using DataFrame inputs, based on the mean z values.\n",
    "      Args:\n",
    "        df_diagnosed (pd.DataFrame): DataFrame with nutrient concentrations of the diagnosed population.\n",
    "        df_optimum (pd.DataFrame): DataFrame with nutrient concentrations of the optimum (target) population.\n",
    "      Returns:\n",
    "        pd.DataFrame: DataFrame containing I values with column names prefixed by \"I_\".\n",
    "    '''\n",
    "    # Calculate z values for diagnosed and optimum using the calculate_z function\n",
    "    z_diagnosed = calculate_z(df_diagnosed)\n",
    "    z_optimum = calculate_z(df_optimum)\n",
    "\n",
    "    # Calculate mean z values for each nutrient\n",
    "    mean_z_diagnosed = z_diagnosed.mean(axis=0)           # mean of the log values is taken\n",
    "    mean_z_optimum = z_optimum.mean(axis=0)\n",
    "\n",
    "    # Calculate standard deviations for each nutrient across optimum rows\n",
    "    stds = z_optimum.std(axis=0)\n",
    "    \n",
    "    # Calculate I values for each nutrient using the mean z values\n",
    "    I_values = (mean_z_diagnosed.values - mean_z_optimum.values) / stds.values\n",
    "\n",
    "    # Convert the I values to a DataFrame and rename columns to reflect they are I values\n",
    "    I_values_df = pd.DataFrame([I_values], columns=[f'{col}' for col in df_diagnosed.columns])\n",
    "\n",
    "    return I_values_df\n",
    "\n",
    "Is = calculate_I(df_diagnosed, df_optimum)\n",
    "Is.index = ['CND']\n",
    "\n",
    "optimum_stds = df_optimum.std()  # Compute standard deviations\n",
    "\n",
    "# Convert Series to DataFrame and set index\n",
    "optimum_stds_df = pd.DataFrame(optimum_stds, columns=[\"Standard Deviation optimum\"])\n",
    "optimum_stds_df.index = Is.columns\n",
    "\n",
    "\n",
    "df_nutrients = pd.concat([Is, optimum_stds_df.T])\n",
    "\n",
    "df_nutrients.head()"
   ]
  },
  {
   "cell_type": "markdown",
   "metadata": {},
   "source": [
    "## Ranges for DRIS and CND"
   ]
  },
  {
   "cell_type": "code",
   "execution_count": 31,
   "metadata": {},
   "outputs": [
    {
     "data": {
      "text/html": [
       "<div>\n",
       "<style scoped>\n",
       "    .dataframe tbody tr th:only-of-type {\n",
       "        vertical-align: middle;\n",
       "    }\n",
       "\n",
       "    .dataframe tbody tr th {\n",
       "        vertical-align: top;\n",
       "    }\n",
       "\n",
       "    .dataframe thead th {\n",
       "        text-align: right;\n",
       "    }\n",
       "</style>\n",
       "<table border=\"1\" class=\"dataframe\">\n",
       "  <thead>\n",
       "    <tr style=\"text-align: right;\">\n",
       "      <th></th>\n",
       "      <th>P</th>\n",
       "      <th>Mg</th>\n",
       "      <th>N</th>\n",
       "      <th>Ca</th>\n",
       "      <th>Mn</th>\n",
       "    </tr>\n",
       "  </thead>\n",
       "  <tbody>\n",
       "    <tr>\n",
       "      <th>CND</th>\n",
       "      <td>-0.423486</td>\n",
       "      <td>0.596274</td>\n",
       "      <td>0.410194</td>\n",
       "      <td>-0.574762</td>\n",
       "      <td>-2.662266</td>\n",
       "    </tr>\n",
       "    <tr>\n",
       "      <th>Standard Deviation optimum</th>\n",
       "      <td>1.0</td>\n",
       "      <td>1.0</td>\n",
       "      <td>0.57735</td>\n",
       "      <td>0.57735</td>\n",
       "      <td>0.57735</td>\n",
       "    </tr>\n",
       "    <tr>\n",
       "      <th>Interpretation CND</th>\n",
       "      <td>sufficient</td>\n",
       "      <td>sufficient</td>\n",
       "      <td>tendency to excess</td>\n",
       "      <td>tendency to deficiency</td>\n",
       "      <td>deficiency</td>\n",
       "    </tr>\n",
       "  </tbody>\n",
       "</table>\n",
       "</div>"
      ],
      "text/plain": [
       "                                     P          Mg                   N  \\\n",
       "CND                          -0.423486    0.596274            0.410194   \n",
       "Standard Deviation optimum         1.0         1.0             0.57735   \n",
       "Interpretation CND          sufficient  sufficient  tendency to excess   \n",
       "\n",
       "                                                Ca          Mn  \n",
       "CND                                      -0.574762   -2.662266  \n",
       "Standard Deviation optimum                 0.57735     0.57735  \n",
       "Interpretation CND          tendency to deficiency  deficiency  "
      ]
     },
     "execution_count": 31,
     "metadata": {},
     "output_type": "execute_result"
    }
   ],
   "source": [
    "def operation(column):\n",
    "    I = column.iloc[0]\n",
    "    sd = column.iloc[1]\n",
    "    if I < -4/3*sd:\n",
    "        return \"deficiency\"\n",
    "    elif I < -2/3*sd:\n",
    "        return \"tendency to deficiency\"\n",
    "    elif I < 2/3*sd:\n",
    "        return \"sufficient\"\n",
    "    elif I < 4/3*sd:\n",
    "        return \"tendency to excess\"\n",
    "    else:\n",
    "        return \"excess\"\n",
    "    \n",
    "df_nutrients.loc['Interpretation CND'] = df_nutrients.apply(operation, axis=0)\n",
    "df_nutrients"
   ]
  },
  {
   "cell_type": "markdown",
   "metadata": {},
   "source": []
  },
  {
   "cell_type": "code",
   "execution_count": null,
   "metadata": {},
   "outputs": [],
   "source": []
  }
 ],
 "metadata": {
  "kernelspec": {
   "display_name": ".venv",
   "language": "python",
   "name": "python3"
  },
  "language_info": {
   "codemirror_mode": {
    "name": "ipython",
    "version": 3
   },
   "file_extension": ".py",
   "mimetype": "text/x-python",
   "name": "python",
   "nbconvert_exporter": "python",
   "pygments_lexer": "ipython3",
   "version": "3.10.12"
  }
 },
 "nbformat": 4,
 "nbformat_minor": 2
}
